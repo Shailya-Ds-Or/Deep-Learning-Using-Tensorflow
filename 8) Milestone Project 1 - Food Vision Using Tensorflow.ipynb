{
 "cells": [
  {
   "cell_type": "code",
   "execution_count": 1,
   "id": "f69b606f",
   "metadata": {},
   "outputs": [],
   "source": [
    "import os\n",
    "os.environ[\"TF_USE_LEGACY_KERAS\"] = \"1\""
   ]
  },
  {
   "cell_type": "markdown",
   "id": "a5123370",
   "metadata": {},
   "source": [
    "# 07 Milestone Project 1: 🍔👁 Food Vision Big\n",
    "\n",
    "In the previous notebook we built Food Vision mini: a transfer learning model which beat the original results of the [Food101 paper](https://data.vision.ee.ethz.ch/cvl/datasets_extra/food-101/) with only 10% of the data.\n",
    "\n",
    "We're going to be building Food Vision Big using all of the data from the Food101 dataset.\n",
    "\n",
    "All 75,750 training images and 25,250 testing images.\n",
    "\n",
    "This time **we've got the goal of beating [DeepFood](https://www.researchgate.net/publication/304163308_DeepFood_Deep_Learning-Based_Food_Image_Recognition_for_Computer-Aided_Dietary_Assessment)**, a 2016 paper which used a Convolutional Neural Network trained for 2-3 days to achieve 77.4% top-1 accuracy.\n",
    "\n",
    "> 🔑 **Note:** **Top-1 accuracy** means \"accuracy for the top softmax activation value output by the model\" (because softmax ouputs a value for every class, but top-1 means only the highest one is evaluated). **Top-5 accuracy** means \"accuracy for the top 5 softmax activation values output by the model\", in other words, did the true label appear in the top 5 activation values? Top-5 accuracy scores are usually noticeably higher than top-1.\n",
    "\n",
    "|  | 🍔👁 Food Vision Big™ | 🍔👁 Food Vision mini |\n",
    "|-----|-----|-----|\n",
    "| Dataset source | TensorFlow Datasets | Preprocessed download from Kaggle | \n",
    "| Train data | 75,750 images | 7,575 images | \n",
    "| Test data | 25,250 images | 25,250 images | \n",
    "| Mixed precision | Yes | No |\n",
    "| Data loading | Performanant tf.data API | TensorFlow pre-built function |  \n",
    "| Target results | 77.4% top-1 accuracy (beat [DeepFood paper](https://arxiv.org/abs/1606.05675)) | 50.76% top-1 accuracy (beat [Food101 paper](https://data.vision.ee.ethz.ch/cvl/datasets_extra/food-101/static/bossard_eccv14_food-101.pdf)) | \n",
    "\n",
    "*Table comparing difference between Food Vision Big (this notebook) versus Food Vision mini (previous notebook).*\n",
    "\n",
    "Alongside attempting to beat the DeepFood paper, we're going to learn about two methods to significantly improve the speed of our model training:\n",
    "1. Prefetching\n",
    "2. Mixed precision training\n",
    "\n",
    "## What we're going to cover\n",
    "\n",
    "* Using TensorFlow Datasets to download and explore data\n",
    "* Creating preprocessing function for our data\n",
    "* Batching & preparing datasets for modelling (**making our datasets run fast**)\n",
    "* Creating modelling callbacks\n",
    "* Setting up **mixed precision training**\n",
    "* Building a feature extraction model\n",
    "* Fine-tuning the feature extraction model\n",
    "* Viewing training results on TensorBoard.\n"
   ]
  },
  {
   "cell_type": "code",
   "execution_count": null,
   "id": "d03ad518",
   "metadata": {},
   "outputs": [],
   "source": []
  },
  {
   "cell_type": "code",
   "execution_count": 2,
   "id": "4d6c6be4",
   "metadata": {},
   "outputs": [],
   "source": [
    "# Getting Helper Functions:\n",
    "import wget\n",
    "\n",
    "url = \"https://raw.githubusercontent.com/mrdbourke/tensorflow-deep-learning/main/extras/helper_functions.py\"\n",
    "file = wget.download(url)"
   ]
  },
  {
   "cell_type": "code",
   "execution_count": 3,
   "id": "a221872c",
   "metadata": {},
   "outputs": [
    {
     "name": "stdout",
     "output_type": "stream",
     "text": [
      "WARNING:tensorflow:From C:\\Users\\shail\\AppData\\Roaming\\Python\\Python311\\site-packages\\tf_keras\\src\\losses.py:2976: The name tf.losses.sparse_softmax_cross_entropy is deprecated. Please use tf.compat.v1.losses.sparse_softmax_cross_entropy instead.\n",
      "\n"
     ]
    }
   ],
   "source": [
    "from helper_functions import create_tensorboard_callback, compare_historys, plot_loss_curves"
   ]
  },
  {
   "cell_type": "code",
   "execution_count": null,
   "id": "d403380f",
   "metadata": {},
   "outputs": [],
   "source": []
  },
  {
   "cell_type": "markdown",
   "id": "1db5186d",
   "metadata": {},
   "source": [
    "## Use TensorFlow Datasets to Download Data\n",
    "\n",
    "In previous notebooks, we've downloaded our food images (from the [Food101 dataset](https://www.kaggle.com/dansbecker/food-101/home)) from Google Storage.\n",
    "\n",
    "And this is a typical workflow you'd use if you're working on your own datasets.\n",
    "\n",
    "However, there's another way to get datasets ready to use with TensorFlow.\n",
    "\n",
    "For many of the most popular datasets in the machine learning world (often referred to and used as benchmarks), you can access them through [TensorFlow Datasets (TFDS)](https://www.tensorflow.org/datasets/overview).\n",
    "\n",
    "What is **TensorFlow Datasets**?\n",
    "\n",
    "A place for prepared and ready-to-use machine learning datasets.\n",
    "\n",
    "Why use TensorFlow Datasets?\n",
    "\n",
    "* Load data already in Tensors\n",
    "* Practice on well established datasets\n",
    "* Experiment with differet data loading techniques (like we're going to use in this notebook)\n",
    "* Experiment with new TensorFlow features quickly (such as mixed precision training)\n",
    "\n",
    "Why *not* use TensorFlow Datasets?\n",
    "\n",
    "* The datasets are static (they don't change, like your real-world datasets would)\n",
    "* Might not be suited for your particular problem (but great for experimenting)\n",
    "\n",
    "To begin using TensorFlow Datasets we can import it under the alias `tfds`."
   ]
  },
  {
   "cell_type": "code",
   "execution_count": 4,
   "id": "cbf64645",
   "metadata": {},
   "outputs": [
    {
     "name": "stdout",
     "output_type": "stream",
     "text": [
      "Requirement already satisfied: tensorflow_datasets in c:\\users\\shail\\appdata\\roaming\\python\\python311\\site-packages (4.9.4)\n",
      "Requirement already satisfied: absl-py in c:\\users\\shail\\appdata\\roaming\\python\\python311\\site-packages (from tensorflow_datasets) (2.1.0)\n",
      "Requirement already satisfied: click in c:\\users\\shail\\anaconda3\\lib\\site-packages (from tensorflow_datasets) (8.0.4)\n",
      "Requirement already satisfied: dm-tree in c:\\users\\shail\\appdata\\roaming\\python\\python311\\site-packages (from tensorflow_datasets) (0.1.8)\n",
      "Requirement already satisfied: etils[enp,epath,etree]>=0.9.0 in c:\\users\\shail\\appdata\\roaming\\python\\python311\\site-packages (from tensorflow_datasets) (1.8.0)\n",
      "Requirement already satisfied: numpy in c:\\users\\shail\\anaconda3\\lib\\site-packages (from tensorflow_datasets) (1.24.3)\n",
      "Requirement already satisfied: promise in c:\\users\\shail\\appdata\\roaming\\python\\python311\\site-packages (from tensorflow_datasets) (2.3)\n",
      "Requirement already satisfied: protobuf>=3.20 in c:\\users\\shail\\appdata\\roaming\\python\\python311\\site-packages (from tensorflow_datasets) (4.25.3)\n",
      "Requirement already satisfied: psutil in c:\\users\\shail\\anaconda3\\lib\\site-packages (from tensorflow_datasets) (5.9.0)\n",
      "Requirement already satisfied: requests>=2.19.0 in c:\\users\\shail\\anaconda3\\lib\\site-packages (from tensorflow_datasets) (2.31.0)\n",
      "Requirement already satisfied: tensorflow-metadata in c:\\users\\shail\\appdata\\roaming\\python\\python311\\site-packages (from tensorflow_datasets) (1.15.0)\n",
      "Requirement already satisfied: termcolor in c:\\users\\shail\\appdata\\roaming\\python\\python311\\site-packages (from tensorflow_datasets) (2.4.0)\n",
      "Requirement already satisfied: toml in c:\\users\\shail\\anaconda3\\lib\\site-packages (from tensorflow_datasets) (0.10.2)\n",
      "Requirement already satisfied: tqdm in c:\\users\\shail\\anaconda3\\lib\\site-packages (from tensorflow_datasets) (4.65.0)\n",
      "Requirement already satisfied: wrapt in c:\\users\\shail\\anaconda3\\lib\\site-packages (from tensorflow_datasets) (1.14.1)\n",
      "Requirement already satisfied: fsspec in c:\\users\\shail\\anaconda3\\lib\\site-packages (from etils[enp,epath,etree]>=0.9.0->tensorflow_datasets) (2023.3.0)\n",
      "Requirement already satisfied: importlib_resources in c:\\users\\shail\\appdata\\roaming\\python\\python311\\site-packages (from etils[enp,epath,etree]>=0.9.0->tensorflow_datasets) (6.4.0)\n",
      "Requirement already satisfied: typing_extensions in c:\\users\\shail\\anaconda3\\lib\\site-packages (from etils[enp,epath,etree]>=0.9.0->tensorflow_datasets) (4.7.1)\n",
      "Requirement already satisfied: zipp in c:\\users\\shail\\anaconda3\\lib\\site-packages (from etils[enp,epath,etree]>=0.9.0->tensorflow_datasets) (3.11.0)\n",
      "Requirement already satisfied: charset-normalizer<4,>=2 in c:\\users\\shail\\anaconda3\\lib\\site-packages (from requests>=2.19.0->tensorflow_datasets) (2.0.4)\n",
      "Requirement already satisfied: idna<4,>=2.5 in c:\\users\\shail\\anaconda3\\lib\\site-packages (from requests>=2.19.0->tensorflow_datasets) (3.4)\n",
      "Requirement already satisfied: urllib3<3,>=1.21.1 in c:\\users\\shail\\anaconda3\\lib\\site-packages (from requests>=2.19.0->tensorflow_datasets) (1.26.16)\n",
      "Requirement already satisfied: certifi>=2017.4.17 in c:\\users\\shail\\anaconda3\\lib\\site-packages (from requests>=2.19.0->tensorflow_datasets) (2024.2.2)\n",
      "Requirement already satisfied: colorama in c:\\users\\shail\\anaconda3\\lib\\site-packages (from click->tensorflow_datasets) (0.4.6)\n",
      "Requirement already satisfied: six in c:\\users\\shail\\anaconda3\\lib\\site-packages (from promise->tensorflow_datasets) (1.16.0)\n",
      "Requirement already satisfied: googleapis-common-protos<2,>=1.56.4 in c:\\users\\shail\\appdata\\roaming\\python\\python311\\site-packages (from tensorflow-metadata->tensorflow_datasets) (1.63.0)\n"
     ]
    }
   ],
   "source": [
    "# Get Tensorflow Datasets:\n",
    "!pip install tensorflow_datasets --user"
   ]
  },
  {
   "cell_type": "code",
   "execution_count": 5,
   "id": "582dda97",
   "metadata": {},
   "outputs": [],
   "source": [
    "import tensorflow_datasets as tfds"
   ]
  },
  {
   "cell_type": "code",
   "execution_count": null,
   "id": "d9ede75c",
   "metadata": {},
   "outputs": [],
   "source": []
  },
  {
   "cell_type": "markdown",
   "id": "1e4d9b75",
   "metadata": {},
   "source": [
    "To find all of the available datasets in TensorFlow Datasets, you can use the `list_builders()` method.\n",
    "\n",
    "After doing so, we can check to see if the one we're after (`\"food101\"`) is present."
   ]
  },
  {
   "cell_type": "code",
   "execution_count": 6,
   "id": "aaf9ff0b",
   "metadata": {},
   "outputs": [],
   "source": [
    "datasets_list = tfds.list_builders()"
   ]
  },
  {
   "cell_type": "code",
   "execution_count": 7,
   "id": "38017bb9",
   "metadata": {},
   "outputs": [
    {
     "data": {
      "text/plain": [
       "['abstract_reasoning',\n",
       " 'accentdb',\n",
       " 'aeslc',\n",
       " 'aflw2k3d',\n",
       " 'ag_news_subset',\n",
       " 'ai2_arc',\n",
       " 'ai2_arc_with_ir',\n",
       " 'amazon_us_reviews',\n",
       " 'anli',\n",
       " 'answer_equivalence']"
      ]
     },
     "execution_count": 7,
     "metadata": {},
     "output_type": "execute_result"
    }
   ],
   "source": [
    "datasets_list[:10]"
   ]
  },
  {
   "cell_type": "code",
   "execution_count": 8,
   "id": "e4b32185",
   "metadata": {},
   "outputs": [
    {
     "data": {
      "text/plain": [
       "True"
      ]
     },
     "execution_count": 8,
     "metadata": {},
     "output_type": "execute_result"
    }
   ],
   "source": [
    "\"food101\" in datasets_list"
   ]
  },
  {
   "cell_type": "code",
   "execution_count": null,
   "id": "0773e3f8",
   "metadata": {},
   "outputs": [],
   "source": []
  },
  {
   "cell_type": "markdown",
   "id": "ed2cef50",
   "metadata": {},
   "source": [
    "To get access to the Food101 dataset from the TFDS, we can use the [`tfds.load()`](https://www.tensorflow.org/datasets/api_docs/python/tfds/load) method.\n",
    "\n",
    "In particular, we'll have to pass it a few parameters to let it know what we're after:\n",
    "* `name` (str) : the target dataset (e.g. `\"food101\"`)\n",
    "* `split` (list, optional) : what splits of the dataset we're after (e.g. `[\"train\", \"validation\"]`)\n",
    "  * the `split` parameter is quite tricky. See [the documentation for more](https://github.com/tensorflow/datasets/blob/master/docs/splits.md).\n",
    "* `shuffle_files` (bool) : whether or not to shuffle the files on download, defaults to `False` \n",
    "* `as_supervised` (bool) : `True` to download data samples in tuple format (`(data, label)`) or `False` for dictionary format \n",
    "* `with_info` (bool) : `True` to download dataset metadata (labels, number of samples, etc)\n",
    "\n",
    "> 🔑 **Note:** Calling the `tfds.load()` method will start to download a target dataset to disk if the `download=True` parameter is set (default). This dataset could be 100GB+, so make sure you have space."
   ]
  },
  {
   "cell_type": "code",
   "execution_count": 9,
   "id": "3307cf17",
   "metadata": {},
   "outputs": [],
   "source": [
    "# Load in Data:\n",
    "\n",
    "(train_data, test_data), ds_info = tfds.load(name= \"food101\", # target dataset to get from TFDS\n",
    "                                            split= [\"train\",\"validation\"], # what splits of data should we get? note: not all datasets have train, valid, test\n",
    "                                            as_supervised= True, # download data in tuple format (sample, label), e.g. (image, label)\n",
    "                                            shuffle_files= True, # shuffle files on download?\n",
    "                                            with_info= True) # include dataset metadata? if so, tfds.load() returns tuple (data, ds_info)"
   ]
  },
  {
   "cell_type": "markdown",
   "id": "76db8ac0",
   "metadata": {},
   "source": [
    "After a few minutes of downloading, we've now got access to entire Food101 dataset (in tensor format) ready for modelling.\n",
    "\n",
    "Now let's get a little information from our dataset, starting with the class names.\n",
    "\n",
    "Getting class names from a TensorFlow Datasets dataset requires downloading the \"`dataset_info`\" variable (by using the `as_supervised=True` parameter in the `tfds.load()` method, **note:** this will only work for supervised datasets in TFDS).\n",
    "\n",
    "We can access the class names of a particular dataset using the `dataset_info.features` attribute and accessing `names` attribute of the the `\"label\"` key."
   ]
  },
  {
   "cell_type": "code",
   "execution_count": null,
   "id": "ef2001b2",
   "metadata": {},
   "outputs": [],
   "source": []
  },
  {
   "cell_type": "code",
   "execution_count": 10,
   "id": "1cddfda6",
   "metadata": {},
   "outputs": [
    {
     "data": {
      "text/plain": [
       "FeaturesDict({\n",
       "    'image': Image(shape=(None, None, 3), dtype=uint8),\n",
       "    'label': ClassLabel(shape=(), dtype=int64, num_classes=101),\n",
       "})"
      ]
     },
     "execution_count": 10,
     "metadata": {},
     "output_type": "execute_result"
    }
   ],
   "source": [
    "# Features of \"food101\":\n",
    "ds_info.features"
   ]
  },
  {
   "cell_type": "code",
   "execution_count": 11,
   "id": "58df19c4",
   "metadata": {},
   "outputs": [
    {
     "data": {
      "text/plain": [
       "tensorflow_datasets.core.dataset_info.DatasetInfo"
      ]
     },
     "execution_count": 11,
     "metadata": {},
     "output_type": "execute_result"
    }
   ],
   "source": [
    "type(ds_info)"
   ]
  },
  {
   "cell_type": "code",
   "execution_count": 12,
   "id": "b7a844ea",
   "metadata": {},
   "outputs": [],
   "source": [
    "# Get Class Names:\n",
    "class_names = ds_info.features[\"label\"].names"
   ]
  },
  {
   "cell_type": "code",
   "execution_count": 13,
   "id": "2500cd4c",
   "metadata": {},
   "outputs": [
    {
     "data": {
      "text/plain": [
       "['apple_pie',\n",
       " 'baby_back_ribs',\n",
       " 'baklava',\n",
       " 'beef_carpaccio',\n",
       " 'beef_tartare',\n",
       " 'beet_salad',\n",
       " 'beignets',\n",
       " 'bibimbap',\n",
       " 'bread_pudding',\n",
       " 'breakfast_burrito']"
      ]
     },
     "execution_count": 13,
     "metadata": {},
     "output_type": "execute_result"
    }
   ],
   "source": [
    "class_names[:10]"
   ]
  },
  {
   "cell_type": "code",
   "execution_count": null,
   "id": "a262e1fe",
   "metadata": {},
   "outputs": [],
   "source": []
  },
  {
   "cell_type": "markdown",
   "id": "efb2c0da",
   "metadata": {},
   "source": [
    "### Exploring the Food101 data from TensorFlow Datasets\n",
    "\n",
    "Now we've downloaded the Food101 dataset from TensorFlow Datasets, let's explore it.\n",
    "\n",
    "Let's find out a few details about our dataset:\n",
    "* The shape of our input data (image tensors)\n",
    "* The datatype of our input data\n",
    "* What the labels of our input data look like (e.g. one-hot encoded versus label-encoded)\n",
    "* Do the labels match up with the class names?\n",
    "\n",
    "To do, let's take one sample off the training data (using the [`.take()` method](https://www.tensorflow.org/api_docs/python/tf/data/Dataset#take)) and explore it. "
   ]
  },
  {
   "cell_type": "code",
   "execution_count": 14,
   "id": "420549dd",
   "metadata": {},
   "outputs": [],
   "source": [
    "# Take One Sample from Training Data:\n",
    "train_one_sample = train_data.take(1)"
   ]
  },
  {
   "cell_type": "markdown",
   "id": "2e29fec7",
   "metadata": {},
   "source": [
    "Because we used the `as_supervised=True` parameter in our `tfds.load()` method above, data samples come in the tuple format structure `(data, label)` or in our case `(image_tensor, label)`."
   ]
  },
  {
   "cell_type": "code",
   "execution_count": 15,
   "id": "4c8cfd2a",
   "metadata": {},
   "outputs": [
    {
     "data": {
      "text/plain": [
       "<_TakeDataset element_spec=(TensorSpec(shape=(None, None, 3), dtype=tf.uint8, name=None), TensorSpec(shape=(), dtype=tf.int64, name=None))>"
      ]
     },
     "execution_count": 15,
     "metadata": {},
     "output_type": "execute_result"
    }
   ],
   "source": [
    "# What Does One Sample from Training Data Look Like?\n",
    "train_one_sample"
   ]
  },
  {
   "cell_type": "markdown",
   "id": "c27c215e",
   "metadata": {},
   "source": [
    "Let's loop through our single training sample and get some info from the `image_tensor` and `label`."
   ]
  },
  {
   "cell_type": "code",
   "execution_count": 16,
   "id": "d9b17bfc",
   "metadata": {},
   "outputs": [
    {
     "name": "stdout",
     "output_type": "stream",
     "text": [
      "\n",
      "    Image Shape: (512, 512, 3)\n",
      "    Image DataType: <dtype: 'uint8'>\n",
      "    Target Class from Food101 (Tensor form): 23\n",
      "    Class Name (Str form): churros\n",
      "    \n"
     ]
    }
   ],
   "source": [
    "# Outpuut info about One Training Sample:\n",
    "for image, label in train_one_sample:\n",
    "    print(f\"\"\"\n",
    "    Image Shape: {image.shape}\n",
    "    Image DataType: {image.dtype}\n",
    "    Target Class from Food101 (Tensor form): {label}\n",
    "    Class Name (Str form): {class_names[label.numpy()]}\n",
    "    \"\"\")"
   ]
  },
  {
   "cell_type": "markdown",
   "id": "19f0034a",
   "metadata": {},
   "source": [
    "Because we set the `shuffle_files=True` parameter in our `tfds.load()` method above, running the cell above a few times will give a different result each time.\n",
    "\n",
    "Checking these you might notice some of the images have different shapes, for example `(512, 342, 3)` and `(512, 512, 3)` (height, width, color_channels).\n",
    "\n",
    "Let's see what one of the image tensors from TFDS's Food101 dataset looks like."
   ]
  },
  {
   "cell_type": "code",
   "execution_count": 17,
   "id": "4ea658d1",
   "metadata": {},
   "outputs": [
    {
     "data": {
      "text/plain": [
       "<tf.Tensor: shape=(512, 512, 3), dtype=uint8, numpy=\n",
       "array([[[189, 165, 121],\n",
       "        [185, 161, 117],\n",
       "        [181, 157, 113],\n",
       "        ...,\n",
       "        [111,  72,  33],\n",
       "        [103,  64,  25],\n",
       "        [ 94,  55,  16]],\n",
       "\n",
       "       [[186, 162, 118],\n",
       "        [183, 159, 115],\n",
       "        [180, 156, 112],\n",
       "        ...,\n",
       "        [122,  83,  40],\n",
       "        [113,  74,  31],\n",
       "        [105,  66,  23]],\n",
       "\n",
       "       [[180, 156, 112],\n",
       "        [178, 154, 110],\n",
       "        [177, 153, 109],\n",
       "        ...,\n",
       "        [132,  94,  45],\n",
       "        [124,  87,  35],\n",
       "        [120,  83,  31]],\n",
       "\n",
       "       ...,\n",
       "\n",
       "       [[207, 204, 159],\n",
       "        [205, 201, 154],\n",
       "        [204, 196, 147],\n",
       "        ...,\n",
       "        [231, 225, 191],\n",
       "        [231, 225, 189],\n",
       "        [231, 226, 188]],\n",
       "\n",
       "       [[207, 204, 159],\n",
       "        [205, 201, 154],\n",
       "        [204, 196, 147],\n",
       "        ...,\n",
       "        [230, 224, 190],\n",
       "        [230, 224, 188],\n",
       "        [229, 223, 187]],\n",
       "\n",
       "       [[206, 203, 158],\n",
       "        [204, 200, 153],\n",
       "        [203, 195, 146],\n",
       "        ...,\n",
       "        [229, 223, 189],\n",
       "        [228, 222, 186],\n",
       "        [228, 222, 186]]], dtype=uint8)>"
      ]
     },
     "execution_count": 17,
     "metadata": {},
     "output_type": "execute_result"
    }
   ],
   "source": [
    "# What Does an Image Tensor from TFDS' FOOD101 looks like:\n",
    "image"
   ]
  },
  {
   "cell_type": "code",
   "execution_count": 18,
   "id": "c454ba91",
   "metadata": {},
   "outputs": [],
   "source": [
    "import tensorflow as tf"
   ]
  },
  {
   "cell_type": "code",
   "execution_count": 19,
   "id": "a4b6f44f",
   "metadata": {},
   "outputs": [
    {
     "data": {
      "text/plain": [
       "(<tf.Tensor: shape=(), dtype=uint8, numpy=0>,\n",
       " <tf.Tensor: shape=(), dtype=uint8, numpy=255>)"
      ]
     },
     "execution_count": 19,
     "metadata": {},
     "output_type": "execute_result"
    }
   ],
   "source": [
    "# What are the min and max values?\n",
    "tf.reduce_min(image), tf.reduce_max(image)"
   ]
  },
  {
   "cell_type": "markdown",
   "id": "ef329476",
   "metadata": {},
   "source": [
    "Alright looks like our image tensors have values of between 0 & 255 (standard red, green, blue colour values) and the values are of data type `unit8`.\n",
    "\n",
    "We might have to preprocess these before passing them to a neural network. But we'll handle this later.\n",
    "\n",
    "In the meantime, let's see if we can plot an image sample."
   ]
  },
  {
   "cell_type": "code",
   "execution_count": null,
   "id": "ef11e497",
   "metadata": {},
   "outputs": [],
   "source": []
  },
  {
   "cell_type": "markdown",
   "id": "3fe9903f",
   "metadata": {},
   "source": [
    "### Plot an image from TensorFlow Datasets\n",
    "\n",
    "Let's plot one of the image samples using [`matplotlib.pyplot.imshow()`](https://matplotlib.org/stable/api/_as_gen/matplotlib.pyplot.imshow.html) and set the title to target class name."
   ]
  },
  {
   "cell_type": "code",
   "execution_count": 20,
   "id": "8115ff9d",
   "metadata": {},
   "outputs": [
    {
     "data": {
      "image/png": "[encoded data removed]",
      "text/plain": [
       "<Figure size 640x480 with 1 Axes>"
      ]
     },
     "metadata": {},
     "output_type": "display_data"
    }
   ],
   "source": [
    "# Plot The Image from Training Data:\n",
    "import matplotlib.pyplot as plt\n",
    "plt.imshow(image)\n",
    "plt.title(class_names[label.numpy()])\n",
    "plt.axis(False)\n",
    "plt.show()"
   ]
  },
  {
   "cell_type": "code",
   "execution_count": null,
   "id": "f5eb96bb",
   "metadata": {},
   "outputs": [],
   "source": []
  },
  {
   "cell_type": "markdown",
   "id": "b658b3ef",
   "metadata": {},
   "source": [
    "## Create preprocessing functions for our data\n",
    "\n",
    "In previous notebooks, when our images were in folder format we used the method [`tf.keras.utils.image_dataset_from_directory()`](https://www.tensorflow.org/api_docs/python/tf/keras/utils/image_dataset_from_directory) to load them in.\n",
    "\n",
    "Doing this meant our data was loaded into a format ready to be used with our models.\n",
    "\n",
    "However, since we've downloaded the data from TensorFlow Datasets, there are a couple of preprocessing steps we have to take before it's ready to model. \n",
    "\n",
    "More specifically, our data is currently:\n",
    "\n",
    "* In `uint8` data type\n",
    "* Comprised of all differnet sized tensors (different sized images)\n",
    "* Not scaled (the pixel values are between 0 & 255)\n",
    "\n",
    "Whereas, models like data to be:\n",
    "\n",
    "* In `float32` data type\n",
    "* Have all of the same size tensors (batches require all tensors have the same shape, e.g. `(224, 224, 3)`)\n",
    "* Scaled (values between 0 & 1), also called normalized\n",
    "\n",
    "To take care of these, we'll create a `preprocess_img()` function which:\n",
    "\n",
    "* Resizes an input image tensor to a specified size using [`tf.image.resize()`](https://www.tensorflow.org/api_docs/python/tf/image/resize)\n",
    "* Converts an input image tensor's current datatype to `tf.float32` using [`tf.cast()`](https://www.tensorflow.org/api_docs/python/tf/cast)\n",
    "\n",
    "Pretrained EfficientNetBX models in [`tf.keras.applications.efficientnet`](https://www.tensorflow.org/api_docs/python/tf/keras/applications/efficientnet) (what we're going to be using) have rescaling built-in. But for many other model architectures you'll want to rescale your data (e.g. get its values between 0 & 1). This could be incorporated inside your \"`preprocess_img()`\" function (like the one below) or within your model as a [`tf.keras.layers.Rescaling`](https://www.tensorflow.org/api_docs/python/tf/keras/layers/Rescaling) layer."
   ]
  },
  {
   "cell_type": "code",
   "execution_count": 21,
   "id": "91a76f51",
   "metadata": {},
   "outputs": [],
   "source": [
    "# Function to Pre-Process Images:\n",
    "def preprocess_image(image, label, image_shape= 224):\n",
    "    \"\"\"\n",
    "    Converts image datatype from 'uint8' -> 'float32' and reshapes image to\n",
    "    [image_shape, image_shape, color_channels]\n",
    "    \"\"\"\n",
    "    image = tf.image.resize(images= image, size= [image_shape, image_shape]) # reshape to image_shape\n",
    "    return tf.cast(image, dtype= tf.float32), label # return (float32_image, label) tuple"
   ]
  },
  {
   "cell_type": "markdown",
   "id": "539284c5",
   "metadata": {},
   "source": [
    "Our `preprocess_img()` function above takes image and label as input (even though it does nothing to the label) because our dataset is currently in the tuple structure `(image, label)`.\n",
    "\n",
    "Let's try our function out on a target image."
   ]
  },
  {
   "cell_type": "code",
   "execution_count": 22,
   "id": "9fd81a69",
   "metadata": {},
   "outputs": [
    {
     "name": "stdout",
     "output_type": "stream",
     "text": [
      "Image Before Pre-Processing\n",
      ": [[[189 165 121]\n",
      "  [185 161 117]\n",
      "  [181 157 113]\n",
      "  ...\n",
      "  [111  72  33]\n",
      "  [103  64  25]\n",
      "  [ 94  55  16]]\n",
      "\n",
      " [[186 162 118]\n",
      "  [183 159 115]\n",
      "  [180 156 112]\n",
      "  ...\n",
      "  [122  83  40]\n",
      "  [113  74  31]\n",
      "  [105  66  23]]]... \n",
      "Shape: (512, 512, 3)... \n",
      "DataType: <dtype: 'uint8'>\n",
      "\n",
      "Image After Pre-Processing\n",
      ": [[[184.91327  160.91327  116.91326 ]\n",
      "  [180.35715  156.35715  112.35714 ]\n",
      "  [183.71428  160.71428  118.71429 ]\n",
      "  ...\n",
      "  [147.5915   108.66289   69.08129 ]\n",
      "  [123.576454  84.576454  44.198887]\n",
      "  [106.44359   67.44359   25.872158]]\n",
      "\n",
      " [[174.66837  150.66837  106.668365]\n",
      "  [175.14285  151.14285  107.14286 ]\n",
      "  [177.80103  153.22958  112.015305]\n",
      "  ...\n",
      "  [155.61722  119.545784  68.443695]\n",
      "  [145.1989   108.19381   53.423363]\n",
      "  [134.37747   98.30605   40.73462 ]]]... \n",
      "Shape: (224, 224, 3)... \n",
      "DataType: <dtype: 'float32'>\n"
     ]
    }
   ],
   "source": [
    "# Pre-Process a Single Image:\n",
    "preprocessed_image = preprocess_image(image, label)[0]\n",
    "print(f\"Image Before Pre-Processing\\n: {image[:2]}... \\nShape: {image.shape}... \\nDataType: {image.dtype}\\n\")\n",
    "print(f\"Image After Pre-Processing\\n: {preprocessed_image[:2]}... \\nShape: {preprocessed_image.shape}... \\nDataType: {preprocessed_image.dtype}\")"
   ]
  },
  {
   "cell_type": "code",
   "execution_count": null,
   "id": "457350f6",
   "metadata": {},
   "outputs": [],
   "source": []
  },
  {
   "cell_type": "markdown",
   "id": "4eb1cd82",
   "metadata": {},
   "source": [
    "## Batch & prepare datasets\n",
    "\n",
    "Before we can model our data, we have to turn it into batches.\n",
    "\n",
    "Why?\n",
    "\n",
    "Because computing on batches is memory efficient.\n",
    "\n",
    "We turn our data from 101,000 image tensors and labels (train and test combined) into batches of 32 image and label pairs, thus enabling it to fit into the memory of our GPU.\n",
    "\n",
    "To do this in effective way, we're going to be leveraging a number of methods from the [`tf.data` API](https://www.tensorflow.org/api_docs/python/tf/data).\n",
    "\n",
    "For loading data in the most performant way possible, see the TensorFlow docuemntation on [Better performance with the tf.data API](https://www.tensorflow.org/guide/data_performance).\n",
    "\n",
    "Specifically, we're going to be using:\n",
    "\n",
    "* [`map()`](https://www.tensorflow.org/api_docs/python/tf/data/Dataset#map) - maps a predefined function to a target dataset (e.g. `preprocess_img()` to our image tensors)\n",
    "* [`shuffle()`](https://www.tensorflow.org/api_docs/python/tf/data/Dataset#shuffle) - randomly shuffles the elements of a target dataset up `buffer_size` (ideally, the `buffer_size` is equal to the size of the dataset, however, this may have implications on memory)\n",
    "* [`batch()`](https://www.tensorflow.org/api_docs/python/tf/data/Dataset#batch) - turns elements of a target dataset into batches (size defined by parameter `batch_size`)\n",
    "* [`prefetch()`](https://www.tensorflow.org/api_docs/python/tf/data/Dataset#prefetch) - prepares subsequent batches of data whilst other batches of data are being computed on (improves data loading speed but costs memory)\n",
    "* Extra: [`cache()`](https://www.tensorflow.org/api_docs/python/tf/data/Dataset#cache) - caches (saves them for later) elements in a target dataset, saving loading time (will only work if your dataset is small enough to fit in memory, standard Colab instances only have 12GB of memory) \n",
    "\n",
    "Things to note:\n",
    "- Can't batch tensors of different shapes (e.g. different image sizes, need to reshape images first, hence our `preprocess_img()` function)\n",
    "- `shuffle()` keeps a buffer of the number you pass it images shuffled, ideally this number would be all of the samples in your training set, however, if your training set is large, this buffer might not fit in memory (a fairly large number like 1000 or 10000 is usually suffice for shuffling)\n",
    "- For methods with the `num_parallel_calls` parameter available (such as `map()`), setting it to`num_parallel_calls=tf.data.AUTOTUNE` will parallelize preprocessing and significantly improve speed\n",
    "- Can't use `cache()` unless your dataset can fit in memory\n",
    "\n",
    "Woah, the above is alot. But once we've coded below, it'll start to make sense.\n",
    "\n",
    "We're going to through things in the following order:\n",
    "\n",
    "```\n",
    "Original dataset (e.g. train_data) -> map() -> shuffle() -> batch() -> prefetch() -> PrefetchDataset\n",
    "```\n",
    "\n",
    "This is like saying, \n",
    "\n",
    "\"Hey, map this preprocessing function across our training dataset, then shuffle a number of elements before batching them together and make sure you prepare new batches (prefetch) whilst the model is looking through the current batch\".\n",
    "\n",
    "![](https://raw.githubusercontent.com/mrdbourke/tensorflow-deep-learning/main/images/07-prefetching-from-hands-on-ml.png)\n",
    "\n",
    "*What happens when you use prefetching (faster) versus what happens when you don't use prefetching (slower). **Source:** Page 422 of [Hands-On Machine Learning with Scikit-Learn, Keras & TensorFlow Book by Aurélien Géron](https://www.oreilly.com/library/view/hands-on-machine-learning/9781492032632/)."
   ]
  },
  {
   "cell_type": "code",
   "execution_count": null,
   "id": "897405a6",
   "metadata": {},
   "outputs": [],
   "source": []
  },
  {
   "cell_type": "code",
   "execution_count": 23,
   "id": "d28c38f5",
   "metadata": {},
   "outputs": [],
   "source": [
    "# Map Pre-Processing Function to Training Data (and Paralellize):\n",
    "train_data = train_data.map(map_func= preprocess_image, num_parallel_calls= tf.data.AUTOTUNE)\n",
    "\n",
    "# Shuffle Training Data and Turn it into Batches and Pre-Fetch it (Load it Faster):\n",
    "train_data = train_data.shuffle(buffer_size= 1000).batch(batch_size= 32).prefetch(buffer_size= tf.data.AUTOTUNE)\n",
    "\n",
    "# Map Pre-Processing Function to Test Data:\n",
    "test_data = test_data.map(map_func= preprocess_image, num_parallel_calls= tf.data.AUTOTUNE)\n",
    "\n",
    "# Turn Test Data into Batches (No Need to Shuffle):\n",
    "test_data = test_data.batch(batch_size= 32).prefetch(buffer_size= tf.data.AUTOTUNE)"
   ]
  },
  {
   "cell_type": "code",
   "execution_count": 24,
   "id": "aedff2a5",
   "metadata": {},
   "outputs": [
    {
     "data": {
      "text/plain": [
       "(<_PrefetchDataset element_spec=(TensorSpec(shape=(None, 224, 224, 3), dtype=tf.float32, name=None), TensorSpec(shape=(None,), dtype=tf.int64, name=None))>,\n",
       " <_PrefetchDataset element_spec=(TensorSpec(shape=(None, 224, 224, 3), dtype=tf.float32, name=None), TensorSpec(shape=(None,), dtype=tf.int64, name=None))>)"
      ]
     },
     "execution_count": 24,
     "metadata": {},
     "output_type": "execute_result"
    }
   ],
   "source": [
    "train_data, test_data"
   ]
  },
  {
   "cell_type": "markdown",
   "id": "e886aa17",
   "metadata": {},
   "source": [
    "## Create modelling callbacks\n",
    "\n",
    "Since we're going to be training on a large amount of data and training could take a long time, it's a good idea to set up some modelling callbacks so we be sure of things like our model's training logs being tracked and our model being checkpointed (saved) after various training milestones.\n",
    "\n",
    "To do each of these we'll use the following callbacks:\n",
    "* [`tf.keras.callbacks.TensorBoard()`](https://www.tensorflow.org/api_docs/python/tf/keras/callbacks/TensorBoard) - allows us to keep track of our model's training history so we can inspect it later (**note:** we've created this callback before have imported it from `helper_functions.py` as `create_tensorboard_callback()`)\n",
    "* [`tf.keras.callbacks.ModelCheckpoint()`](https://www.tensorflow.org/api_docs/python/tf/keras/callbacks/ModelCheckpoint) - saves our model's progress at various intervals so we can load it and resuse it later without having to retrain it\n",
    "* Checkpointing is also helpful so we can start fine-tuning our model at a particular epoch and revert back to a previous state if fine-tuning offers no benefits"
   ]
  },
  {
   "cell_type": "code",
   "execution_count": 26,
   "id": "e9051d9b",
   "metadata": {},
   "outputs": [],
   "source": [
    "# Creating TensorBoard Callback (Using Function already Created in Helper Functions):\n",
    "from helper_functions import create_tensorboard_callback\n",
    "\n",
    "# Creating Model Checkpoint Callback to Save Model's Progress:\n",
    "checkpoint_path = \"model_checkpoints\\\\cp.ckpt\"\n",
    "model_checkpoint = tf.keras.callbacks.ModelCheckpoint(filepath= checkpoint_path,\n",
    "                                                     monitor= \"val_acc\",\n",
    "                                                     save_best_only= True,\n",
    "                                                     save_weights_only= True,\n",
    "                                                     verbose= 0)"
   ]
  },
  {
   "cell_type": "code",
   "execution_count": null,
   "id": "dc51b362",
   "metadata": {},
   "outputs": [],
   "source": []
  },
  {
   "cell_type": "markdown",
   "id": "1bd58c9b",
   "metadata": {},
   "source": [
    "## Setup mixed precision training\n",
    "\n",
    "Normally, tensors in TensorFlow default to the float32 datatype (unless otherwise specified).\n",
    "\n",
    "In computer science, float32 is also known as [single-precision floating-point format](https://en.wikipedia.org/wiki/Single-precision_floating-point_format). The 32 means it usually occupies 32 bits in computer memory.\n",
    "\n",
    "Your GPU has a limited memory, therefore it can only handle a number of float32 tensors at the same time.\n",
    "\n",
    "This is where mixed precision training comes in.\n",
    "\n",
    "Mixed precision training involves using a mix of float16 and float32 tensors to make better use of your GPU's memory.\n",
    "\n",
    "Can you guess what float16 means?\n",
    "\n",
    "Well, if you thought since float32 meant single-precision floating-point, you might've guessed float16 means [half-precision floating-point format](https://en.wikipedia.org/wiki/Half-precision_floating-point_format). And if you did, you're right! And if not, no trouble, now you know.\n",
    "\n",
    "For tensors in float16 format, each element occupies 16 bits in computer memory.\n",
    "\n",
    "So, where does this leave us?\n",
    "\n",
    "As mentioned before, when using mixed precision training, your model will make use of float32 and float16 data types to use less memory where possible and in turn run faster (using less memory per tensor means more tensors can be computed on simultaneously).\n",
    "\n",
    "As a result, using mixed precision training can improve your performance on modern GPUs (those with a compute capability score of 7.0+) by up to 3x.\n",
    "\n",
    "For a more detailed explanation, I encourage you to read through the [TensorFlow mixed precision guide](https://www.tensorflow.org/guide/mixed_precision) (I'd highly recommend at least checking out the summary).\n",
    "\n",
    "![](https://raw.githubusercontent.com/mrdbourke/tensorflow-deep-learning/main/images/07-mixed-precision-speedup-equals-3x-gpu.png)\n",
    "*Because mixed precision training uses a combination of float32 and float16 data types, you may see up to a 3x speedup on modern GPUs.*\n",
    "\n",
    "If your GPU doesn't have a score of over 7.0+ (e.g. P100 in Google Colab), mixed precision won't work (see: [\"Supported Hardware\"](https://www.tensorflow.org/guide/mixed_precision#supported_hardware) in the mixed precision guide for more).\n",
    "\n",
    "If you'd like to learn more about precision in computer science (the detail to which a numerical quantity is expressed by a computer), see the [Wikipedia page](https://en.wikipedia.org/wiki/Precision_(computer_science)) (and accompanying resources). \n",
    "\n",
    "\n",
    "The beautiful thing is, the [`tensorflow.keras.mixed_precision`](https://www.tensorflow.org/api_docs/python/tf/keras/mixed_precision/) API has made it very easy for us to get started.\n",
    "\n",
    "First, we'll import the API and then use the [`set_global_policy()`](https://www.tensorflow.org/api_docs/python/tf/keras/mixed_precision/set_global_policy) method to set the *dtype policy* to `\"mixed_float16\"`."
   ]
  },
  {
   "cell_type": "code",
   "execution_count": null,
   "id": "4b02c2d1",
   "metadata": {},
   "outputs": [],
   "source": []
  },
  {
   "cell_type": "code",
   "execution_count": 27,
   "id": "4c206ffe",
   "metadata": {},
   "outputs": [
    {
     "name": "stdout",
     "output_type": "stream",
     "text": [
      "WARNING:tensorflow:Mixed precision compatibility check (mixed_float16): WARNING\n",
      "The dtype policy mixed_float16 may run slowly because this machine does not have a GPU. Only Nvidia GPUs with compute capability of at least 7.0 run quickly with mixed_float16.\n",
      "If you will use compatible GPU(s) not attached to this host, e.g. by running a multi-worker model, you can ignore this warning. This message will only be logged once\n"
     ]
    },
    {
     "name": "stderr",
     "output_type": "stream",
     "text": [
      "WARNING:tensorflow:Mixed precision compatibility check (mixed_float16): WARNING\n",
      "The dtype policy mixed_float16 may run slowly because this machine does not have a GPU. Only Nvidia GPUs with compute capability of at least 7.0 run quickly with mixed_float16.\n",
      "If you will use compatible GPU(s) not attached to this host, e.g. by running a multi-worker model, you can ignore this warning. This message will only be logged once\n"
     ]
    }
   ],
   "source": [
    "# Turn on Mixed Precision Training:\n",
    "from tensorflow.keras import mixed_precision\n",
    "mixed_precision.set_global_policy(policy= \"mixed_float16\") # set global policy to mixed precision "
   ]
  },
  {
   "cell_type": "code",
   "execution_count": 28,
   "id": "29c99c93",
   "metadata": {},
   "outputs": [
    {
     "data": {
      "text/plain": [
       "<Policy \"mixed_float16\">"
      ]
     },
     "execution_count": 28,
     "metadata": {},
     "output_type": "execute_result"
    }
   ],
   "source": [
    "mixed_precision.global_policy()"
   ]
  },
  {
   "cell_type": "code",
   "execution_count": null,
   "id": "a8eebebd",
   "metadata": {},
   "outputs": [],
   "source": []
  },
  {
   "cell_type": "markdown",
   "id": "67b3ec3d",
   "metadata": {},
   "source": [
    "## Build feature extraction model\n",
    "\n",
    "Let's build a model.\n",
    "\n",
    "Because our dataset is quite large, we're going to move towards fine-tuning an existing pretrained model (EfficienetNetB0).\n",
    "\n",
    "But before we get into fine-tuning, let's set up a feature-extraction model.\n",
    "\n",
    "Recall, the typical order for using transfer learning is:\n",
    "\n",
    "1. Build a feature extraction model (replace the top few layers of a pretrained model) \n",
    "2. Train for a few epochs with lower layers frozen\n",
    "3. Fine-tune if necessary with multiple layers unfrozen\n",
    "\n",
    "![](https://raw.githubusercontent.com/mrdbourke/tensorflow-deep-learning/main/images/07-feature-extraction-then-fine-tune.png)\n",
    "*Before fine-tuning, it's best practice to train a feature extraction model with custom top layers.*\n",
    "\n",
    "To build the feature extraction model, we'll:\n",
    "* Use `EfficientNetB0` from [`tf.keras.applications`](https://www.tensorflow.org/api_docs/python/tf/keras/applications) pre-trained on ImageNet as our base model\n",
    "  * We'll download this without the top layers using `include_top=False` parameter so we can create our own output layers\n",
    "* Freeze the base model layers so we can use the pre-learned patterns the base model has found on ImageNet\n",
    "* Put together the input, base model, pooling and output layers in a [Functional model](https://keras.io/guides/functional_api/)\n",
    "* Compile the Functional model using the Adam optimizer and [sparse categorical crossentropy](https://www.tensorflow.org/api_docs/python/tf/keras/losses/SparseCategoricalCrossentropy) as the loss function (since our labels **aren't** one-hot encoded)\n",
    "* Fit the model for 3 epochs using the TensorBoard and ModelCheckpoint callbacks\n",
    "\n",
    " Since we're using mixed precision training, our model needs a separate output layer with a hard-coded `dtype=float32`, for example, `layers.Activation(\"softmax\", dtype=tf.float32)`. This ensures the outputs of our model are returned back to the float32 data type which is more numerically stable than the float16 datatype (important for loss calculations). See the [\"Building the model\"](https://www.tensorflow.org/guide/mixed_precision#building_the_model) section in the TensorFlow mixed precision guide for more.\n",
    "\n",
    "![](https://raw.githubusercontent.com/mrdbourke/tensorflow-deep-learning/main/images/07-mixed-precision-code-before-and-after.png)\n",
    "*Turning mixed precision on in TensorFlow with 3 lines of code.*"
   ]
  },
  {
   "cell_type": "code",
   "execution_count": 29,
   "id": "e2502a11",
   "metadata": {},
   "outputs": [],
   "source": [
    "import tensorflow as tf\n",
    "from tensorflow.keras import Model\n",
    "from tensorflow.keras.layers import Dense, Activation, GlobalAveragePooling2D, Input, Rescaling\n",
    "from tensorflow.keras.losses import SparseCategoricalCrossentropy\n",
    "from tensorflow.keras.optimizers import Adam"
   ]
  },
  {
   "cell_type": "code",
   "execution_count": 30,
   "id": "b12e62da",
   "metadata": {},
   "outputs": [
    {
     "name": "stdout",
     "output_type": "stream",
     "text": [
      "WARNING:tensorflow:From C:\\Users\\shail\\AppData\\Roaming\\Python\\Python311\\site-packages\\tf_keras\\src\\backend.py:1400: The name tf.executing_eagerly_outside_functions is deprecated. Please use tf.compat.v1.executing_eagerly_outside_functions instead.\n",
      "\n"
     ]
    },
    {
     "name": "stderr",
     "output_type": "stream",
     "text": [
      "WARNING:tensorflow:From C:\\Users\\shail\\AppData\\Roaming\\Python\\Python311\\site-packages\\tf_keras\\src\\backend.py:1400: The name tf.executing_eagerly_outside_functions is deprecated. Please use tf.compat.v1.executing_eagerly_outside_functions instead.\n",
      "\n"
     ]
    },
    {
     "name": "stdout",
     "output_type": "stream",
     "text": [
      "WARNING:tensorflow:From C:\\Users\\shail\\AppData\\Roaming\\Python\\Python311\\site-packages\\tf_keras\\src\\layers\\normalization\\batch_normalization.py:979: The name tf.nn.fused_batch_norm is deprecated. Please use tf.compat.v1.nn.fused_batch_norm instead.\n",
      "\n"
     ]
    },
    {
     "name": "stderr",
     "output_type": "stream",
     "text": [
      "WARNING:tensorflow:From C:\\Users\\shail\\AppData\\Roaming\\Python\\Python311\\site-packages\\tf_keras\\src\\layers\\normalization\\batch_normalization.py:979: The name tf.nn.fused_batch_norm is deprecated. Please use tf.compat.v1.nn.fused_batch_norm instead.\n",
      "\n"
     ]
    }
   ],
   "source": [
    "# Building Feature Extraction Model:\n",
    "\n",
    "# Creating The Base Model:\n",
    "input_shape= (224,224,3)\n",
    "base_model = tf.keras.applications.efficientnet_v2.EfficientNetV2B0(include_top= False)\n",
    "base_model.trainable= False\n",
    "\n",
    "# Creating Functional Model:\n",
    "inputs = Input(shape= input_shape, name= \"Input_Layer\")\n",
    "# Note: EfficientNetBX models have rescaling built-in but if your model didn't you could have a layer like below\n",
    "# x = layers.Rescaling(1./255)(inputs)\n",
    "x = base_model(inputs, training= False) # set base_model to inference mode only\n",
    "x = GlobalAveragePooling2D(name= \"Global_Average_Pooling_Layer\")(x)\n",
    "x = Dense(len(class_names))(x) # want one output neuron per class \n",
    "outputs = Activation(activation= \"softmax\", dtype= tf.float32, name= \"Softmax_Float32\")(x)\n",
    "model = Model(inputs, outputs)\n",
    "\n",
    "# Compile The Model:\n",
    "model.compile(optimizer= Adam(),\n",
    "             loss= SparseCategoricalCrossentropy(),\n",
    "             metrics= [\"accuracy\"])"
   ]
  },
  {
   "cell_type": "code",
   "execution_count": 31,
   "id": "1b88a2fa",
   "metadata": {},
   "outputs": [
    {
     "name": "stdout",
     "output_type": "stream",
     "text": [
      "Model: \"model\"\n",
      "_________________________________________________________________\n",
      " Layer (type)                Output Shape              Param #   \n",
      "=================================================================\n",
      " Input_Layer (InputLayer)    [(None, 224, 224, 3)]     0         \n",
      "                                                                 \n",
      " efficientnetv2-b0 (Functio  (None, None, None, 1280   5919312   \n",
      " nal)                        )                                   \n",
      "                                                                 \n",
      " Global_Average_Pooling_Lay  (None, 1280)              0         \n",
      " er (GlobalAveragePooling2D                                      \n",
      " )                                                               \n",
      "                                                                 \n",
      " dense (Dense)               (None, 101)               129381    \n",
      "                                                                 \n",
      " Softmax_Float32 (Activatio  (None, 101)               0         \n",
      " n)                                                              \n",
      "                                                                 \n",
      "=================================================================\n",
      "Total params: 6048693 (23.07 MB)\n",
      "Trainable params: 129381 (505.39 KB)\n",
      "Non-trainable params: 5919312 (22.58 MB)\n",
      "_________________________________________________________________\n"
     ]
    }
   ],
   "source": [
    "model.summary()"
   ]
  },
  {
   "cell_type": "code",
   "execution_count": null,
   "id": "3784c56d",
   "metadata": {},
   "outputs": [],
   "source": []
  },
  {
   "cell_type": "markdown",
   "id": "bdb50c45",
   "metadata": {},
   "source": [
    "## Checking layer dtype policies (are we using mixed precision?)\n",
    "\n",
    "The mixed precision API will automatically change our layers' dtype policy's to whatever the global dtype policy is (in our case it's `\"mixed_float16\"`).\n",
    "\n",
    "We can check this by iterating through our model's layers and printing layer attributes such as `dtype` and `dtype_policy`."
   ]
  },
  {
   "cell_type": "code",
   "execution_count": 32,
   "id": "5bfd6dc1",
   "metadata": {},
   "outputs": [
    {
     "name": "stdout",
     "output_type": "stream",
     "text": [
      "Input_Layer True float32 <Policy \"float32\">\n",
      "efficientnetv2-b0 False float32 <Policy \"mixed_float16\">\n",
      "Global_Average_Pooling_Layer True float32 <Policy \"mixed_float16\">\n",
      "dense True float32 <Policy \"mixed_float16\">\n",
      "Softmax_Float32 True float32 <Policy \"float32\">\n"
     ]
    }
   ],
   "source": [
    "# Checking Layer Dtype Policies:\n",
    "for layer in model.layers:\n",
    "    print(layer.name, layer.trainable, layer.dtype, layer.dtype_policy)"
   ]
  },
  {
   "cell_type": "markdown",
   "id": "687fbfe7",
   "metadata": {},
   "source": [
    "Going through the above we see:\n",
    "* `layer.name` (str) : a layer's human-readable name, can be defined by the `name` parameter on construction\n",
    "* `layer.trainable` (bool) : whether or not a layer is trainable (all of our layers are trainable except the efficientnetb0 layer since we set it's `trainable` attribute to `False`\n",
    "* `layer.dtype` : the data type a layer stores its variables in\n",
    "* `layer.dtype_policy` : the data type a layer computes in\n",
    "\n",
    "A layer can have a dtype of `float32` and a dtype policy of `\"mixed_float16\"` because it stores its variables (weights & biases) in `float32` (more numerically stable), however it computes in `float16` (faster).\n",
    "\n",
    "We can also check the same details for our model's base model."
   ]
  },
  {
   "cell_type": "code",
   "execution_count": 33,
   "id": "e9438983",
   "metadata": {},
   "outputs": [
    {
     "name": "stdout",
     "output_type": "stream",
     "text": [
      "input_1 False float32 <Policy \"float32\">\n",
      "rescaling False float32 <Policy \"mixed_float16\">\n",
      "normalization False float32 <Policy \"mixed_float16\">\n",
      "stem_conv False float32 <Policy \"mixed_float16\">\n",
      "stem_bn False float32 <Policy \"mixed_float16\">\n",
      "stem_activation False float32 <Policy \"mixed_float16\">\n",
      "block1a_project_conv False float32 <Policy \"mixed_float16\">\n",
      "block1a_project_bn False float32 <Policy \"mixed_float16\">\n",
      "block1a_project_activation False float32 <Policy \"mixed_float16\">\n",
      "block2a_expand_conv False float32 <Policy \"mixed_float16\">\n",
      "block2a_expand_bn False float32 <Policy \"mixed_float16\">\n",
      "block2a_expand_activation False float32 <Policy \"mixed_float16\">\n",
      "block2a_project_conv False float32 <Policy \"mixed_float16\">\n",
      "block2a_project_bn False float32 <Policy \"mixed_float16\">\n",
      "block2b_expand_conv False float32 <Policy \"mixed_float16\">\n"
     ]
    }
   ],
   "source": [
    "# Check the layers in the base model and see what dtype policy they're using\n",
    "for layer in model.layers[1].layers[:15]: # only check the first 15 layers to save output space\n",
    "    print(layer.name, layer.trainable, layer.dtype, layer.dtype_policy)"
   ]
  },
  {
   "cell_type": "code",
   "execution_count": null,
   "id": "71d06d05",
   "metadata": {},
   "outputs": [],
   "source": []
  },
  {
   "cell_type": "markdown",
   "id": "9f84d8c3",
   "metadata": {},
   "source": [
    "## Fit the feature extraction model\n",
    "\n",
    "Three epochs should be enough for our top layers to adjust their weights enough to our food image data.\n",
    "\n",
    "To save time per epoch, we'll also only validate on 15% of the test data."
   ]
  },
  {
   "cell_type": "code",
   "execution_count": 35,
   "id": "a964c20d",
   "metadata": {},
   "outputs": [
    {
     "name": "stdout",
     "output_type": "stream",
     "text": [
      "Saving TensorBoard log files to: training_logs_MileStone1/efficientnetb0_101_classes_all_data_feature_extract/20240515-125055\n",
      "Epoch 1/3\n",
      "2368/2368 [==============================] - 1517s 636ms/step - loss: 1.7434 - accuracy: 0.5779 - val_loss: 1.1395 - val_accuracy: 0.7018\n",
      "Epoch 2/3\n",
      "2368/2368 [==============================] - 1449s 612ms/step - loss: 1.2106 - accuracy: 0.6876 - val_loss: 1.0326 - val_accuracy: 0.7238\n",
      "Epoch 3/3\n",
      "2368/2368 [==============================] - 1474s 623ms/step - loss: 1.0633 - accuracy: 0.7219 - val_loss: 0.9914 - val_accuracy: 0.7354\n"
     ]
    }
   ],
   "source": [
    "# Turn off all warnings except for errors\n",
    "tf.get_logger().setLevel('ERROR')\n",
    "\n",
    "# Fitting The Feature Extraction Model:\n",
    "\n",
    "history_101_food_classes_feature_extraction = model.fit(train_data,\n",
    "                                                       validation_data= test_data,\n",
    "                                                       epochs= 3,\n",
    "                                                       validation_steps= int(0.15 * len(test_data)),\n",
    "    callbacks= [create_tensorboard_callback(dir_name= \"training_logs_MileStone1\", \n",
    "                            experiment_name= \"efficientnetb0_101_classes_all_data_feature_extract\"),\n",
    "               model_checkpoint])"
   ]
  },
  {
   "cell_type": "code",
   "execution_count": null,
   "id": "a893e378",
   "metadata": {},
   "outputs": [],
   "source": []
  },
  {
   "cell_type": "code",
   "execution_count": 36,
   "id": "74ec8e02",
   "metadata": {},
   "outputs": [
    {
     "name": "stdout",
     "output_type": "stream",
     "text": [
      "790/790 [==============================] - 468s 592ms/step - loss: 0.9951 - accuracy: 0.7304\n"
     ]
    },
    {
     "data": {
      "text/plain": [
       "[0.9950719475746155, 0.7303762435913086]"
      ]
     },
     "execution_count": 36,
     "metadata": {},
     "output_type": "execute_result"
    }
   ],
   "source": [
    "# Evaluating Model on Whole Test Data:\n",
    "results_feature_extraction_model = model.evaluate(test_data)\n",
    "results_feature_extraction_model"
   ]
  },
  {
   "cell_type": "code",
   "execution_count": null,
   "id": "66f06bdc",
   "metadata": {},
   "outputs": [],
   "source": []
  },
  {
   "cell_type": "markdown",
   "id": "c78ad004",
   "metadata": {},
   "source": [
    "## Preparing our model's layers for fine-tuning\n",
    "\n",
    "Our feature-extraction model is showing some great promise after three epochs. But since we've got so much data, it's probably worthwhile that we see what results we can get with fine-tuning (fine-tuning usually works best when you've got quite a large amount of data).\n",
    "\n",
    "Remember our goal of beating the [DeepFood paper](https://arxiv.org/pdf/1606.05675.pdf)?\n",
    "\n",
    "They were able to achieve 77.4% top-1 accuracy on Food101 over 2-3 days of training.\n",
    "\n",
    "\n",
    "It's worth remembering a traditional workflow for fine-tuning is to freeze a pre-trained base model and then train only the output layers for a few iterations so their weights can be updated inline with your custom data (feature extraction). And then unfreeze a number or all of the layers in the base model and continue training until the model stops improving."
   ]
  },
  {
   "cell_type": "code",
   "execution_count": 45,
   "id": "24b1ef04",
   "metadata": {},
   "outputs": [
    {
     "name": "stdout",
     "output_type": "stream",
     "text": [
      "Model: \"model\"\n",
      "_________________________________________________________________\n",
      " Layer (type)                Output Shape              Param #   \n",
      "=================================================================\n",
      " Input_Layer (InputLayer)    [(None, 224, 224, 3)]     0         \n",
      "                                                                 \n",
      " efficientnetv2-b0 (Functio  (None, None, None, 1280   5919312   \n",
      " nal)                        )                                   \n",
      "                                                                 \n",
      " Global_Average_Pooling_Lay  (None, 1280)              0         \n",
      " er (GlobalAveragePooling2D                                      \n",
      " )                                                               \n",
      "                                                                 \n",
      " dense (Dense)               (None, 101)               129381    \n",
      "                                                                 \n",
      " Softmax_Float32 (Activatio  (None, 101)               0         \n",
      " n)                                                              \n",
      "                                                                 \n",
      "=================================================================\n",
      "Total params: 6048693 (23.07 MB)\n",
      "Trainable params: 129381 (505.39 KB)\n",
      "Non-trainable params: 5919312 (22.58 MB)\n",
      "_________________________________________________________________\n"
     ]
    }
   ],
   "source": [
    "model.summary()"
   ]
  },
  {
   "cell_type": "code",
   "execution_count": null,
   "id": "3aa32169",
   "metadata": {},
   "outputs": [],
   "source": []
  },
  {
   "cell_type": "code",
   "execution_count": 46,
   "id": "e4505871",
   "metadata": {},
   "outputs": [
    {
     "name": "stdout",
     "output_type": "stream",
     "text": [
      "Input_Layer True float32 <Policy \"float32\">\n",
      "efficientnetv2-b0 False float32 <Policy \"mixed_float16\">\n",
      "Global_Average_Pooling_Layer True float32 <Policy \"mixed_float16\">\n",
      "dense True float32 <Policy \"mixed_float16\">\n",
      "Softmax_Float32 True float32 <Policy \"float32\">\n"
     ]
    }
   ],
   "source": [
    "# How many Frozen Layers are there in The Model:\n",
    "\n",
    "for layer in model.layers:\n",
    "    print(layer.name, layer.trainable, layer.dtype, layer.dtype_policy)"
   ]
  },
  {
   "cell_type": "markdown",
   "id": "7083fe32",
   "metadata": {},
   "source": [
    "It seems like each layer in our loaded model is trainable. But what if we got a little deeper and inspected each of the layers in our base model?\n",
    "\n",
    "*Which layer in the loaded model is our base model?*\n",
    "\n",
    "We created it with five layers (layers below are 0-indexed):\n",
    "0. The input layer\n",
    "1. The pre-trained base model layer ([`tf.keras.applications.efficientnet.EfficientNetB0`](https://www.tensorflow.org/api_docs/python/tf/keras/applications/efficientnet/EfficientNetB0))\n",
    "2. The pooling layer\n",
    "3. The fully-connected (dense) layer\n",
    "4. The output softmax activation (with float32 dtype)\n",
    "\n",
    "Therefore to inspect our base model layer, we can access the `layers` attribute of the layer at index 1 in our model."
   ]
  },
  {
   "cell_type": "code",
   "execution_count": 48,
   "id": "75fea9ef",
   "metadata": {},
   "outputs": [
    {
     "name": "stdout",
     "output_type": "stream",
     "text": [
      "input_1 False float32 <Policy \"float32\">\n",
      "rescaling False float32 <Policy \"mixed_float16\">\n",
      "normalization False float32 <Policy \"mixed_float16\">\n",
      "stem_conv False float32 <Policy \"mixed_float16\">\n",
      "stem_bn False float32 <Policy \"mixed_float16\">\n",
      "stem_activation False float32 <Policy \"mixed_float16\">\n",
      "block1a_project_conv False float32 <Policy \"mixed_float16\">\n",
      "block1a_project_bn False float32 <Policy \"mixed_float16\">\n",
      "block1a_project_activation False float32 <Policy \"mixed_float16\">\n",
      "block2a_expand_conv False float32 <Policy \"mixed_float16\">\n",
      "block2a_expand_bn False float32 <Policy \"mixed_float16\">\n",
      "block2a_expand_activation False float32 <Policy \"mixed_float16\">\n",
      "block2a_project_conv False float32 <Policy \"mixed_float16\">\n",
      "block2a_project_bn False float32 <Policy \"mixed_float16\">\n",
      "block2b_expand_conv False float32 <Policy \"mixed_float16\">\n",
      "block2b_expand_bn False float32 <Policy \"mixed_float16\">\n",
      "block2b_expand_activation False float32 <Policy \"mixed_float16\">\n",
      "block2b_project_conv False float32 <Policy \"mixed_float16\">\n",
      "block2b_project_bn False float32 <Policy \"mixed_float16\">\n",
      "block2b_drop False float32 <Policy \"mixed_float16\">\n",
      "block2b_add False float32 <Policy \"mixed_float16\">\n",
      "block3a_expand_conv False float32 <Policy \"mixed_float16\">\n",
      "block3a_expand_bn False float32 <Policy \"mixed_float16\">\n",
      "block3a_expand_activation False float32 <Policy \"mixed_float16\">\n",
      "block3a_project_conv False float32 <Policy \"mixed_float16\">\n",
      "block3a_project_bn False float32 <Policy \"mixed_float16\">\n",
      "block3b_expand_conv False float32 <Policy \"mixed_float16\">\n",
      "block3b_expand_bn False float32 <Policy \"mixed_float16\">\n",
      "block3b_expand_activation False float32 <Policy \"mixed_float16\">\n",
      "block3b_project_conv False float32 <Policy \"mixed_float16\">\n",
      "block3b_project_bn False float32 <Policy \"mixed_float16\">\n",
      "block3b_drop False float32 <Policy \"mixed_float16\">\n",
      "block3b_add False float32 <Policy \"mixed_float16\">\n",
      "block4a_expand_conv False float32 <Policy \"mixed_float16\">\n",
      "block4a_expand_bn False float32 <Policy \"mixed_float16\">\n",
      "block4a_expand_activation False float32 <Policy \"mixed_float16\">\n",
      "block4a_dwconv2 False float32 <Policy \"mixed_float16\">\n",
      "block4a_bn False float32 <Policy \"mixed_float16\">\n",
      "block4a_activation False float32 <Policy \"mixed_float16\">\n",
      "block4a_se_squeeze False float32 <Policy \"mixed_float16\">\n",
      "block4a_se_reshape False float32 <Policy \"mixed_float16\">\n",
      "block4a_se_reduce False float32 <Policy \"mixed_float16\">\n",
      "block4a_se_expand False float32 <Policy \"mixed_float16\">\n",
      "block4a_se_excite False float32 <Policy \"mixed_float16\">\n",
      "block4a_project_conv False float32 <Policy \"mixed_float16\">\n",
      "block4a_project_bn False float32 <Policy \"mixed_float16\">\n",
      "block4b_expand_conv False float32 <Policy \"mixed_float16\">\n",
      "block4b_expand_bn False float32 <Policy \"mixed_float16\">\n",
      "block4b_expand_activation False float32 <Policy \"mixed_float16\">\n",
      "block4b_dwconv2 False float32 <Policy \"mixed_float16\">\n",
      "block4b_bn False float32 <Policy \"mixed_float16\">\n",
      "block4b_activation False float32 <Policy \"mixed_float16\">\n",
      "block4b_se_squeeze False float32 <Policy \"mixed_float16\">\n",
      "block4b_se_reshape False float32 <Policy \"mixed_float16\">\n",
      "block4b_se_reduce False float32 <Policy \"mixed_float16\">\n",
      "block4b_se_expand False float32 <Policy \"mixed_float16\">\n",
      "block4b_se_excite False float32 <Policy \"mixed_float16\">\n",
      "block4b_project_conv False float32 <Policy \"mixed_float16\">\n",
      "block4b_project_bn False float32 <Policy \"mixed_float16\">\n",
      "block4b_drop False float32 <Policy \"mixed_float16\">\n",
      "block4b_add False float32 <Policy \"mixed_float16\">\n",
      "block4c_expand_conv False float32 <Policy \"mixed_float16\">\n",
      "block4c_expand_bn False float32 <Policy \"mixed_float16\">\n",
      "block4c_expand_activation False float32 <Policy \"mixed_float16\">\n",
      "block4c_dwconv2 False float32 <Policy \"mixed_float16\">\n",
      "block4c_bn False float32 <Policy \"mixed_float16\">\n",
      "block4c_activation False float32 <Policy \"mixed_float16\">\n",
      "block4c_se_squeeze False float32 <Policy \"mixed_float16\">\n",
      "block4c_se_reshape False float32 <Policy \"mixed_float16\">\n",
      "block4c_se_reduce False float32 <Policy \"mixed_float16\">\n",
      "block4c_se_expand False float32 <Policy \"mixed_float16\">\n",
      "block4c_se_excite False float32 <Policy \"mixed_float16\">\n",
      "block4c_project_conv False float32 <Policy \"mixed_float16\">\n",
      "block4c_project_bn False float32 <Policy \"mixed_float16\">\n",
      "block4c_drop False float32 <Policy \"mixed_float16\">\n",
      "block4c_add False float32 <Policy \"mixed_float16\">\n",
      "block5a_expand_conv False float32 <Policy \"mixed_float16\">\n",
      "block5a_expand_bn False float32 <Policy \"mixed_float16\">\n",
      "block5a_expand_activation False float32 <Policy \"mixed_float16\">\n",
      "block5a_dwconv2 False float32 <Policy \"mixed_float16\">\n",
      "block5a_bn False float32 <Policy \"mixed_float16\">\n",
      "block5a_activation False float32 <Policy \"mixed_float16\">\n",
      "block5a_se_squeeze False float32 <Policy \"mixed_float16\">\n",
      "block5a_se_reshape False float32 <Policy \"mixed_float16\">\n",
      "block5a_se_reduce False float32 <Policy \"mixed_float16\">\n",
      "block5a_se_expand False float32 <Policy \"mixed_float16\">\n",
      "block5a_se_excite False float32 <Policy \"mixed_float16\">\n",
      "block5a_project_conv False float32 <Policy \"mixed_float16\">\n",
      "block5a_project_bn False float32 <Policy \"mixed_float16\">\n",
      "block5b_expand_conv False float32 <Policy \"mixed_float16\">\n",
      "block5b_expand_bn False float32 <Policy \"mixed_float16\">\n",
      "block5b_expand_activation False float32 <Policy \"mixed_float16\">\n",
      "block5b_dwconv2 False float32 <Policy \"mixed_float16\">\n",
      "block5b_bn False float32 <Policy \"mixed_float16\">\n",
      "block5b_activation False float32 <Policy \"mixed_float16\">\n",
      "block5b_se_squeeze False float32 <Policy \"mixed_float16\">\n",
      "block5b_se_reshape False float32 <Policy \"mixed_float16\">\n",
      "block5b_se_reduce False float32 <Policy \"mixed_float16\">\n",
      "block5b_se_expand False float32 <Policy \"mixed_float16\">\n",
      "block5b_se_excite False float32 <Policy \"mixed_float16\">\n",
      "block5b_project_conv False float32 <Policy \"mixed_float16\">\n",
      "block5b_project_bn False float32 <Policy \"mixed_float16\">\n",
      "block5b_drop False float32 <Policy \"mixed_float16\">\n",
      "block5b_add False float32 <Policy \"mixed_float16\">\n",
      "block5c_expand_conv False float32 <Policy \"mixed_float16\">\n",
      "block5c_expand_bn False float32 <Policy \"mixed_float16\">\n",
      "block5c_expand_activation False float32 <Policy \"mixed_float16\">\n",
      "block5c_dwconv2 False float32 <Policy \"mixed_float16\">\n",
      "block5c_bn False float32 <Policy \"mixed_float16\">\n",
      "block5c_activation False float32 <Policy \"mixed_float16\">\n",
      "block5c_se_squeeze False float32 <Policy \"mixed_float16\">\n",
      "block5c_se_reshape False float32 <Policy \"mixed_float16\">\n",
      "block5c_se_reduce False float32 <Policy \"mixed_float16\">\n",
      "block5c_se_expand False float32 <Policy \"mixed_float16\">\n",
      "block5c_se_excite False float32 <Policy \"mixed_float16\">\n",
      "block5c_project_conv False float32 <Policy \"mixed_float16\">\n",
      "block5c_project_bn False float32 <Policy \"mixed_float16\">\n",
      "block5c_drop False float32 <Policy \"mixed_float16\">\n",
      "block5c_add False float32 <Policy \"mixed_float16\">\n",
      "block5d_expand_conv False float32 <Policy \"mixed_float16\">\n",
      "block5d_expand_bn False float32 <Policy \"mixed_float16\">\n",
      "block5d_expand_activation False float32 <Policy \"mixed_float16\">\n",
      "block5d_dwconv2 False float32 <Policy \"mixed_float16\">\n",
      "block5d_bn False float32 <Policy \"mixed_float16\">\n",
      "block5d_activation False float32 <Policy \"mixed_float16\">\n",
      "block5d_se_squeeze False float32 <Policy \"mixed_float16\">\n",
      "block5d_se_reshape False float32 <Policy \"mixed_float16\">\n",
      "block5d_se_reduce False float32 <Policy \"mixed_float16\">\n",
      "block5d_se_expand False float32 <Policy \"mixed_float16\">\n",
      "block5d_se_excite False float32 <Policy \"mixed_float16\">\n",
      "block5d_project_conv False float32 <Policy \"mixed_float16\">\n",
      "block5d_project_bn False float32 <Policy \"mixed_float16\">\n",
      "block5d_drop False float32 <Policy \"mixed_float16\">\n",
      "block5d_add False float32 <Policy \"mixed_float16\">\n",
      "block5e_expand_conv False float32 <Policy \"mixed_float16\">\n",
      "block5e_expand_bn False float32 <Policy \"mixed_float16\">\n",
      "block5e_expand_activation False float32 <Policy \"mixed_float16\">\n",
      "block5e_dwconv2 False float32 <Policy \"mixed_float16\">\n",
      "block5e_bn False float32 <Policy \"mixed_float16\">\n",
      "block5e_activation False float32 <Policy \"mixed_float16\">\n",
      "block5e_se_squeeze False float32 <Policy \"mixed_float16\">\n",
      "block5e_se_reshape False float32 <Policy \"mixed_float16\">\n",
      "block5e_se_reduce False float32 <Policy \"mixed_float16\">\n",
      "block5e_se_expand False float32 <Policy \"mixed_float16\">\n",
      "block5e_se_excite False float32 <Policy \"mixed_float16\">\n",
      "block5e_project_conv False float32 <Policy \"mixed_float16\">\n",
      "block5e_project_bn False float32 <Policy \"mixed_float16\">\n",
      "block5e_drop False float32 <Policy \"mixed_float16\">\n",
      "block5e_add False float32 <Policy \"mixed_float16\">\n",
      "block6a_expand_conv False float32 <Policy \"mixed_float16\">\n",
      "block6a_expand_bn False float32 <Policy \"mixed_float16\">\n",
      "block6a_expand_activation False float32 <Policy \"mixed_float16\">\n",
      "block6a_dwconv2 False float32 <Policy \"mixed_float16\">\n",
      "block6a_bn False float32 <Policy \"mixed_float16\">\n",
      "block6a_activation False float32 <Policy \"mixed_float16\">\n",
      "block6a_se_squeeze False float32 <Policy \"mixed_float16\">\n",
      "block6a_se_reshape False float32 <Policy \"mixed_float16\">\n",
      "block6a_se_reduce False float32 <Policy \"mixed_float16\">\n",
      "block6a_se_expand False float32 <Policy \"mixed_float16\">\n",
      "block6a_se_excite False float32 <Policy \"mixed_float16\">\n",
      "block6a_project_conv False float32 <Policy \"mixed_float16\">\n",
      "block6a_project_bn False float32 <Policy \"mixed_float16\">\n",
      "block6b_expand_conv False float32 <Policy \"mixed_float16\">\n",
      "block6b_expand_bn False float32 <Policy \"mixed_float16\">\n",
      "block6b_expand_activation False float32 <Policy \"mixed_float16\">\n",
      "block6b_dwconv2 False float32 <Policy \"mixed_float16\">\n",
      "block6b_bn False float32 <Policy \"mixed_float16\">\n",
      "block6b_activation False float32 <Policy \"mixed_float16\">\n",
      "block6b_se_squeeze False float32 <Policy \"mixed_float16\">\n",
      "block6b_se_reshape False float32 <Policy \"mixed_float16\">\n",
      "block6b_se_reduce False float32 <Policy \"mixed_float16\">\n",
      "block6b_se_expand False float32 <Policy \"mixed_float16\">\n",
      "block6b_se_excite False float32 <Policy \"mixed_float16\">\n",
      "block6b_project_conv False float32 <Policy \"mixed_float16\">\n",
      "block6b_project_bn False float32 <Policy \"mixed_float16\">\n",
      "block6b_drop False float32 <Policy \"mixed_float16\">\n",
      "block6b_add False float32 <Policy \"mixed_float16\">\n",
      "block6c_expand_conv False float32 <Policy \"mixed_float16\">\n",
      "block6c_expand_bn False float32 <Policy \"mixed_float16\">\n",
      "block6c_expand_activation False float32 <Policy \"mixed_float16\">\n",
      "block6c_dwconv2 False float32 <Policy \"mixed_float16\">\n",
      "block6c_bn False float32 <Policy \"mixed_float16\">\n",
      "block6c_activation False float32 <Policy \"mixed_float16\">\n",
      "block6c_se_squeeze False float32 <Policy \"mixed_float16\">\n",
      "block6c_se_reshape False float32 <Policy \"mixed_float16\">\n",
      "block6c_se_reduce False float32 <Policy \"mixed_float16\">\n",
      "block6c_se_expand False float32 <Policy \"mixed_float16\">\n",
      "block6c_se_excite False float32 <Policy \"mixed_float16\">\n",
      "block6c_project_conv False float32 <Policy \"mixed_float16\">\n",
      "block6c_project_bn False float32 <Policy \"mixed_float16\">\n",
      "block6c_drop False float32 <Policy \"mixed_float16\">\n",
      "block6c_add False float32 <Policy \"mixed_float16\">\n",
      "block6d_expand_conv False float32 <Policy \"mixed_float16\">\n",
      "block6d_expand_bn False float32 <Policy \"mixed_float16\">\n",
      "block6d_expand_activation False float32 <Policy \"mixed_float16\">\n",
      "block6d_dwconv2 False float32 <Policy \"mixed_float16\">\n",
      "block6d_bn False float32 <Policy \"mixed_float16\">\n",
      "block6d_activation False float32 <Policy \"mixed_float16\">\n",
      "block6d_se_squeeze False float32 <Policy \"mixed_float16\">\n",
      "block6d_se_reshape False float32 <Policy \"mixed_float16\">\n",
      "block6d_se_reduce False float32 <Policy \"mixed_float16\">\n",
      "block6d_se_expand False float32 <Policy \"mixed_float16\">\n",
      "block6d_se_excite False float32 <Policy \"mixed_float16\">\n",
      "block6d_project_conv False float32 <Policy \"mixed_float16\">\n",
      "block6d_project_bn False float32 <Policy \"mixed_float16\">\n",
      "block6d_drop False float32 <Policy \"mixed_float16\">\n",
      "block6d_add False float32 <Policy \"mixed_float16\">\n",
      "block6e_expand_conv False float32 <Policy \"mixed_float16\">\n",
      "block6e_expand_bn False float32 <Policy \"mixed_float16\">\n",
      "block6e_expand_activation False float32 <Policy \"mixed_float16\">\n",
      "block6e_dwconv2 False float32 <Policy \"mixed_float16\">\n",
      "block6e_bn False float32 <Policy \"mixed_float16\">\n",
      "block6e_activation False float32 <Policy \"mixed_float16\">\n",
      "block6e_se_squeeze False float32 <Policy \"mixed_float16\">\n",
      "block6e_se_reshape False float32 <Policy \"mixed_float16\">\n",
      "block6e_se_reduce False float32 <Policy \"mixed_float16\">\n",
      "block6e_se_expand False float32 <Policy \"mixed_float16\">\n",
      "block6e_se_excite False float32 <Policy \"mixed_float16\">\n",
      "block6e_project_conv False float32 <Policy \"mixed_float16\">\n",
      "block6e_project_bn False float32 <Policy \"mixed_float16\">\n",
      "block6e_drop False float32 <Policy \"mixed_float16\">\n",
      "block6e_add False float32 <Policy \"mixed_float16\">\n",
      "block6f_expand_conv False float32 <Policy \"mixed_float16\">\n",
      "block6f_expand_bn False float32 <Policy \"mixed_float16\">\n",
      "block6f_expand_activation False float32 <Policy \"mixed_float16\">\n",
      "block6f_dwconv2 False float32 <Policy \"mixed_float16\">\n",
      "block6f_bn False float32 <Policy \"mixed_float16\">\n",
      "block6f_activation False float32 <Policy \"mixed_float16\">\n",
      "block6f_se_squeeze False float32 <Policy \"mixed_float16\">\n",
      "block6f_se_reshape False float32 <Policy \"mixed_float16\">\n",
      "block6f_se_reduce False float32 <Policy \"mixed_float16\">\n",
      "block6f_se_expand False float32 <Policy \"mixed_float16\">\n",
      "block6f_se_excite False float32 <Policy \"mixed_float16\">\n",
      "block6f_project_conv False float32 <Policy \"mixed_float16\">\n",
      "block6f_project_bn False float32 <Policy \"mixed_float16\">\n",
      "block6f_drop False float32 <Policy \"mixed_float16\">\n",
      "block6f_add False float32 <Policy \"mixed_float16\">\n",
      "block6g_expand_conv False float32 <Policy \"mixed_float16\">\n",
      "block6g_expand_bn False float32 <Policy \"mixed_float16\">\n",
      "block6g_expand_activation False float32 <Policy \"mixed_float16\">\n",
      "block6g_dwconv2 False float32 <Policy \"mixed_float16\">\n",
      "block6g_bn False float32 <Policy \"mixed_float16\">\n",
      "block6g_activation False float32 <Policy \"mixed_float16\">\n",
      "block6g_se_squeeze False float32 <Policy \"mixed_float16\">\n",
      "block6g_se_reshape False float32 <Policy \"mixed_float16\">\n",
      "block6g_se_reduce False float32 <Policy \"mixed_float16\">\n",
      "block6g_se_expand False float32 <Policy \"mixed_float16\">\n",
      "block6g_se_excite False float32 <Policy \"mixed_float16\">\n",
      "block6g_project_conv False float32 <Policy \"mixed_float16\">\n",
      "block6g_project_bn False float32 <Policy \"mixed_float16\">\n",
      "block6g_drop False float32 <Policy \"mixed_float16\">\n",
      "block6g_add False float32 <Policy \"mixed_float16\">\n",
      "block6h_expand_conv False float32 <Policy \"mixed_float16\">\n",
      "block6h_expand_bn False float32 <Policy \"mixed_float16\">\n",
      "block6h_expand_activation False float32 <Policy \"mixed_float16\">\n",
      "block6h_dwconv2 False float32 <Policy \"mixed_float16\">\n",
      "block6h_bn False float32 <Policy \"mixed_float16\">\n",
      "block6h_activation False float32 <Policy \"mixed_float16\">\n",
      "block6h_se_squeeze False float32 <Policy \"mixed_float16\">\n",
      "block6h_se_reshape False float32 <Policy \"mixed_float16\">\n",
      "block6h_se_reduce False float32 <Policy \"mixed_float16\">\n",
      "block6h_se_expand False float32 <Policy \"mixed_float16\">\n",
      "block6h_se_excite False float32 <Policy \"mixed_float16\">\n",
      "block6h_project_conv False float32 <Policy \"mixed_float16\">\n",
      "block6h_project_bn False float32 <Policy \"mixed_float16\">\n",
      "block6h_drop False float32 <Policy \"mixed_float16\">\n",
      "block6h_add False float32 <Policy \"mixed_float16\">\n",
      "top_conv False float32 <Policy \"mixed_float16\">\n",
      "top_bn False float32 <Policy \"mixed_float16\">\n",
      "top_activation False float32 <Policy \"mixed_float16\">\n"
     ]
    }
   ],
   "source": [
    "# Checking for Frozen Layers in Base Model:\n",
    "for layer in model.layers[1].layers:\n",
    "    print(layer.name, layer.trainable, layer.dtype, layer.dtype_policy)"
   ]
  },
  {
   "cell_type": "code",
   "execution_count": null,
   "id": "af209051",
   "metadata": {},
   "outputs": [],
   "source": []
  },
  {
   "cell_type": "code",
   "execution_count": 49,
   "id": "858855ca",
   "metadata": {},
   "outputs": [],
   "source": [
    "# Making All The Layers of Our Base Model Trainable (Unfrozen):\n",
    "\n",
    "for layer in model.layers[1].layers:\n",
    "    layer.trainable= True # set all layers to trainable"
   ]
  },
  {
   "cell_type": "code",
   "execution_count": 50,
   "id": "0bc24e93",
   "metadata": {},
   "outputs": [
    {
     "name": "stdout",
     "output_type": "stream",
     "text": [
      "input_1 True float32 <Policy \"float32\">\n",
      "rescaling True float32 <Policy \"mixed_float16\">\n",
      "normalization True float32 <Policy \"mixed_float16\">\n",
      "stem_conv True float32 <Policy \"mixed_float16\">\n",
      "stem_bn True float32 <Policy \"mixed_float16\">\n",
      "stem_activation True float32 <Policy \"mixed_float16\">\n",
      "block1a_project_conv True float32 <Policy \"mixed_float16\">\n",
      "block1a_project_bn True float32 <Policy \"mixed_float16\">\n",
      "block1a_project_activation True float32 <Policy \"mixed_float16\">\n",
      "block2a_expand_conv True float32 <Policy \"mixed_float16\">\n",
      "block2a_expand_bn True float32 <Policy \"mixed_float16\">\n",
      "block2a_expand_activation True float32 <Policy \"mixed_float16\">\n",
      "block2a_project_conv True float32 <Policy \"mixed_float16\">\n",
      "block2a_project_bn True float32 <Policy \"mixed_float16\">\n",
      "block2b_expand_conv True float32 <Policy \"mixed_float16\">\n",
      "block2b_expand_bn True float32 <Policy \"mixed_float16\">\n",
      "block2b_expand_activation True float32 <Policy \"mixed_float16\">\n",
      "block2b_project_conv True float32 <Policy \"mixed_float16\">\n",
      "block2b_project_bn True float32 <Policy \"mixed_float16\">\n",
      "block2b_drop True float32 <Policy \"mixed_float16\">\n",
      "block2b_add True float32 <Policy \"mixed_float16\">\n",
      "block3a_expand_conv True float32 <Policy \"mixed_float16\">\n",
      "block3a_expand_bn True float32 <Policy \"mixed_float16\">\n",
      "block3a_expand_activation True float32 <Policy \"mixed_float16\">\n",
      "block3a_project_conv True float32 <Policy \"mixed_float16\">\n",
      "block3a_project_bn True float32 <Policy \"mixed_float16\">\n",
      "block3b_expand_conv True float32 <Policy \"mixed_float16\">\n",
      "block3b_expand_bn True float32 <Policy \"mixed_float16\">\n",
      "block3b_expand_activation True float32 <Policy \"mixed_float16\">\n",
      "block3b_project_conv True float32 <Policy \"mixed_float16\">\n",
      "block3b_project_bn True float32 <Policy \"mixed_float16\">\n",
      "block3b_drop True float32 <Policy \"mixed_float16\">\n",
      "block3b_add True float32 <Policy \"mixed_float16\">\n",
      "block4a_expand_conv True float32 <Policy \"mixed_float16\">\n",
      "block4a_expand_bn True float32 <Policy \"mixed_float16\">\n",
      "block4a_expand_activation True float32 <Policy \"mixed_float16\">\n",
      "block4a_dwconv2 True float32 <Policy \"mixed_float16\">\n",
      "block4a_bn True float32 <Policy \"mixed_float16\">\n",
      "block4a_activation True float32 <Policy \"mixed_float16\">\n",
      "block4a_se_squeeze True float32 <Policy \"mixed_float16\">\n",
      "block4a_se_reshape True float32 <Policy \"mixed_float16\">\n",
      "block4a_se_reduce True float32 <Policy \"mixed_float16\">\n",
      "block4a_se_expand True float32 <Policy \"mixed_float16\">\n",
      "block4a_se_excite True float32 <Policy \"mixed_float16\">\n",
      "block4a_project_conv True float32 <Policy \"mixed_float16\">\n",
      "block4a_project_bn True float32 <Policy \"mixed_float16\">\n",
      "block4b_expand_conv True float32 <Policy \"mixed_float16\">\n",
      "block4b_expand_bn True float32 <Policy \"mixed_float16\">\n",
      "block4b_expand_activation True float32 <Policy \"mixed_float16\">\n",
      "block4b_dwconv2 True float32 <Policy \"mixed_float16\">\n",
      "block4b_bn True float32 <Policy \"mixed_float16\">\n",
      "block4b_activation True float32 <Policy \"mixed_float16\">\n",
      "block4b_se_squeeze True float32 <Policy \"mixed_float16\">\n",
      "block4b_se_reshape True float32 <Policy \"mixed_float16\">\n",
      "block4b_se_reduce True float32 <Policy \"mixed_float16\">\n",
      "block4b_se_expand True float32 <Policy \"mixed_float16\">\n",
      "block4b_se_excite True float32 <Policy \"mixed_float16\">\n",
      "block4b_project_conv True float32 <Policy \"mixed_float16\">\n",
      "block4b_project_bn True float32 <Policy \"mixed_float16\">\n",
      "block4b_drop True float32 <Policy \"mixed_float16\">\n",
      "block4b_add True float32 <Policy \"mixed_float16\">\n",
      "block4c_expand_conv True float32 <Policy \"mixed_float16\">\n",
      "block4c_expand_bn True float32 <Policy \"mixed_float16\">\n",
      "block4c_expand_activation True float32 <Policy \"mixed_float16\">\n",
      "block4c_dwconv2 True float32 <Policy \"mixed_float16\">\n",
      "block4c_bn True float32 <Policy \"mixed_float16\">\n",
      "block4c_activation True float32 <Policy \"mixed_float16\">\n",
      "block4c_se_squeeze True float32 <Policy \"mixed_float16\">\n",
      "block4c_se_reshape True float32 <Policy \"mixed_float16\">\n",
      "block4c_se_reduce True float32 <Policy \"mixed_float16\">\n",
      "block4c_se_expand True float32 <Policy \"mixed_float16\">\n",
      "block4c_se_excite True float32 <Policy \"mixed_float16\">\n",
      "block4c_project_conv True float32 <Policy \"mixed_float16\">\n",
      "block4c_project_bn True float32 <Policy \"mixed_float16\">\n",
      "block4c_drop True float32 <Policy \"mixed_float16\">\n",
      "block4c_add True float32 <Policy \"mixed_float16\">\n",
      "block5a_expand_conv True float32 <Policy \"mixed_float16\">\n",
      "block5a_expand_bn True float32 <Policy \"mixed_float16\">\n",
      "block5a_expand_activation True float32 <Policy \"mixed_float16\">\n",
      "block5a_dwconv2 True float32 <Policy \"mixed_float16\">\n",
      "block5a_bn True float32 <Policy \"mixed_float16\">\n",
      "block5a_activation True float32 <Policy \"mixed_float16\">\n",
      "block5a_se_squeeze True float32 <Policy \"mixed_float16\">\n",
      "block5a_se_reshape True float32 <Policy \"mixed_float16\">\n",
      "block5a_se_reduce True float32 <Policy \"mixed_float16\">\n",
      "block5a_se_expand True float32 <Policy \"mixed_float16\">\n",
      "block5a_se_excite True float32 <Policy \"mixed_float16\">\n",
      "block5a_project_conv True float32 <Policy \"mixed_float16\">\n",
      "block5a_project_bn True float32 <Policy \"mixed_float16\">\n",
      "block5b_expand_conv True float32 <Policy \"mixed_float16\">\n",
      "block5b_expand_bn True float32 <Policy \"mixed_float16\">\n",
      "block5b_expand_activation True float32 <Policy \"mixed_float16\">\n",
      "block5b_dwconv2 True float32 <Policy \"mixed_float16\">\n",
      "block5b_bn True float32 <Policy \"mixed_float16\">\n",
      "block5b_activation True float32 <Policy \"mixed_float16\">\n",
      "block5b_se_squeeze True float32 <Policy \"mixed_float16\">\n",
      "block5b_se_reshape True float32 <Policy \"mixed_float16\">\n",
      "block5b_se_reduce True float32 <Policy \"mixed_float16\">\n",
      "block5b_se_expand True float32 <Policy \"mixed_float16\">\n",
      "block5b_se_excite True float32 <Policy \"mixed_float16\">\n",
      "block5b_project_conv True float32 <Policy \"mixed_float16\">\n",
      "block5b_project_bn True float32 <Policy \"mixed_float16\">\n",
      "block5b_drop True float32 <Policy \"mixed_float16\">\n",
      "block5b_add True float32 <Policy \"mixed_float16\">\n",
      "block5c_expand_conv True float32 <Policy \"mixed_float16\">\n",
      "block5c_expand_bn True float32 <Policy \"mixed_float16\">\n",
      "block5c_expand_activation True float32 <Policy \"mixed_float16\">\n",
      "block5c_dwconv2 True float32 <Policy \"mixed_float16\">\n",
      "block5c_bn True float32 <Policy \"mixed_float16\">\n",
      "block5c_activation True float32 <Policy \"mixed_float16\">\n",
      "block5c_se_squeeze True float32 <Policy \"mixed_float16\">\n",
      "block5c_se_reshape True float32 <Policy \"mixed_float16\">\n",
      "block5c_se_reduce True float32 <Policy \"mixed_float16\">\n",
      "block5c_se_expand True float32 <Policy \"mixed_float16\">\n",
      "block5c_se_excite True float32 <Policy \"mixed_float16\">\n",
      "block5c_project_conv True float32 <Policy \"mixed_float16\">\n",
      "block5c_project_bn True float32 <Policy \"mixed_float16\">\n",
      "block5c_drop True float32 <Policy \"mixed_float16\">\n",
      "block5c_add True float32 <Policy \"mixed_float16\">\n",
      "block5d_expand_conv True float32 <Policy \"mixed_float16\">\n",
      "block5d_expand_bn True float32 <Policy \"mixed_float16\">\n",
      "block5d_expand_activation True float32 <Policy \"mixed_float16\">\n",
      "block5d_dwconv2 True float32 <Policy \"mixed_float16\">\n",
      "block5d_bn True float32 <Policy \"mixed_float16\">\n",
      "block5d_activation True float32 <Policy \"mixed_float16\">\n",
      "block5d_se_squeeze True float32 <Policy \"mixed_float16\">\n",
      "block5d_se_reshape True float32 <Policy \"mixed_float16\">\n",
      "block5d_se_reduce True float32 <Policy \"mixed_float16\">\n",
      "block5d_se_expand True float32 <Policy \"mixed_float16\">\n",
      "block5d_se_excite True float32 <Policy \"mixed_float16\">\n",
      "block5d_project_conv True float32 <Policy \"mixed_float16\">\n",
      "block5d_project_bn True float32 <Policy \"mixed_float16\">\n",
      "block5d_drop True float32 <Policy \"mixed_float16\">\n",
      "block5d_add True float32 <Policy \"mixed_float16\">\n",
      "block5e_expand_conv True float32 <Policy \"mixed_float16\">\n",
      "block5e_expand_bn True float32 <Policy \"mixed_float16\">\n",
      "block5e_expand_activation True float32 <Policy \"mixed_float16\">\n",
      "block5e_dwconv2 True float32 <Policy \"mixed_float16\">\n",
      "block5e_bn True float32 <Policy \"mixed_float16\">\n",
      "block5e_activation True float32 <Policy \"mixed_float16\">\n",
      "block5e_se_squeeze True float32 <Policy \"mixed_float16\">\n",
      "block5e_se_reshape True float32 <Policy \"mixed_float16\">\n",
      "block5e_se_reduce True float32 <Policy \"mixed_float16\">\n",
      "block5e_se_expand True float32 <Policy \"mixed_float16\">\n",
      "block5e_se_excite True float32 <Policy \"mixed_float16\">\n",
      "block5e_project_conv True float32 <Policy \"mixed_float16\">\n",
      "block5e_project_bn True float32 <Policy \"mixed_float16\">\n",
      "block5e_drop True float32 <Policy \"mixed_float16\">\n",
      "block5e_add True float32 <Policy \"mixed_float16\">\n",
      "block6a_expand_conv True float32 <Policy \"mixed_float16\">\n",
      "block6a_expand_bn True float32 <Policy \"mixed_float16\">\n",
      "block6a_expand_activation True float32 <Policy \"mixed_float16\">\n",
      "block6a_dwconv2 True float32 <Policy \"mixed_float16\">\n",
      "block6a_bn True float32 <Policy \"mixed_float16\">\n",
      "block6a_activation True float32 <Policy \"mixed_float16\">\n",
      "block6a_se_squeeze True float32 <Policy \"mixed_float16\">\n",
      "block6a_se_reshape True float32 <Policy \"mixed_float16\">\n",
      "block6a_se_reduce True float32 <Policy \"mixed_float16\">\n",
      "block6a_se_expand True float32 <Policy \"mixed_float16\">\n",
      "block6a_se_excite True float32 <Policy \"mixed_float16\">\n",
      "block6a_project_conv True float32 <Policy \"mixed_float16\">\n",
      "block6a_project_bn True float32 <Policy \"mixed_float16\">\n",
      "block6b_expand_conv True float32 <Policy \"mixed_float16\">\n",
      "block6b_expand_bn True float32 <Policy \"mixed_float16\">\n",
      "block6b_expand_activation True float32 <Policy \"mixed_float16\">\n",
      "block6b_dwconv2 True float32 <Policy \"mixed_float16\">\n",
      "block6b_bn True float32 <Policy \"mixed_float16\">\n",
      "block6b_activation True float32 <Policy \"mixed_float16\">\n",
      "block6b_se_squeeze True float32 <Policy \"mixed_float16\">\n",
      "block6b_se_reshape True float32 <Policy \"mixed_float16\">\n",
      "block6b_se_reduce True float32 <Policy \"mixed_float16\">\n",
      "block6b_se_expand True float32 <Policy \"mixed_float16\">\n",
      "block6b_se_excite True float32 <Policy \"mixed_float16\">\n",
      "block6b_project_conv True float32 <Policy \"mixed_float16\">\n",
      "block6b_project_bn True float32 <Policy \"mixed_float16\">\n",
      "block6b_drop True float32 <Policy \"mixed_float16\">\n",
      "block6b_add True float32 <Policy \"mixed_float16\">\n",
      "block6c_expand_conv True float32 <Policy \"mixed_float16\">\n",
      "block6c_expand_bn True float32 <Policy \"mixed_float16\">\n",
      "block6c_expand_activation True float32 <Policy \"mixed_float16\">\n",
      "block6c_dwconv2 True float32 <Policy \"mixed_float16\">\n",
      "block6c_bn True float32 <Policy \"mixed_float16\">\n",
      "block6c_activation True float32 <Policy \"mixed_float16\">\n",
      "block6c_se_squeeze True float32 <Policy \"mixed_float16\">\n",
      "block6c_se_reshape True float32 <Policy \"mixed_float16\">\n",
      "block6c_se_reduce True float32 <Policy \"mixed_float16\">\n",
      "block6c_se_expand True float32 <Policy \"mixed_float16\">\n",
      "block6c_se_excite True float32 <Policy \"mixed_float16\">\n",
      "block6c_project_conv True float32 <Policy \"mixed_float16\">\n",
      "block6c_project_bn True float32 <Policy \"mixed_float16\">\n",
      "block6c_drop True float32 <Policy \"mixed_float16\">\n",
      "block6c_add True float32 <Policy \"mixed_float16\">\n",
      "block6d_expand_conv True float32 <Policy \"mixed_float16\">\n",
      "block6d_expand_bn True float32 <Policy \"mixed_float16\">\n",
      "block6d_expand_activation True float32 <Policy \"mixed_float16\">\n",
      "block6d_dwconv2 True float32 <Policy \"mixed_float16\">\n",
      "block6d_bn True float32 <Policy \"mixed_float16\">\n",
      "block6d_activation True float32 <Policy \"mixed_float16\">\n",
      "block6d_se_squeeze True float32 <Policy \"mixed_float16\">\n",
      "block6d_se_reshape True float32 <Policy \"mixed_float16\">\n",
      "block6d_se_reduce True float32 <Policy \"mixed_float16\">\n",
      "block6d_se_expand True float32 <Policy \"mixed_float16\">\n",
      "block6d_se_excite True float32 <Policy \"mixed_float16\">\n",
      "block6d_project_conv True float32 <Policy \"mixed_float16\">\n",
      "block6d_project_bn True float32 <Policy \"mixed_float16\">\n",
      "block6d_drop True float32 <Policy \"mixed_float16\">\n",
      "block6d_add True float32 <Policy \"mixed_float16\">\n",
      "block6e_expand_conv True float32 <Policy \"mixed_float16\">\n",
      "block6e_expand_bn True float32 <Policy \"mixed_float16\">\n",
      "block6e_expand_activation True float32 <Policy \"mixed_float16\">\n",
      "block6e_dwconv2 True float32 <Policy \"mixed_float16\">\n",
      "block6e_bn True float32 <Policy \"mixed_float16\">\n",
      "block6e_activation True float32 <Policy \"mixed_float16\">\n",
      "block6e_se_squeeze True float32 <Policy \"mixed_float16\">\n",
      "block6e_se_reshape True float32 <Policy \"mixed_float16\">\n",
      "block6e_se_reduce True float32 <Policy \"mixed_float16\">\n",
      "block6e_se_expand True float32 <Policy \"mixed_float16\">\n",
      "block6e_se_excite True float32 <Policy \"mixed_float16\">\n",
      "block6e_project_conv True float32 <Policy \"mixed_float16\">\n",
      "block6e_project_bn True float32 <Policy \"mixed_float16\">\n",
      "block6e_drop True float32 <Policy \"mixed_float16\">\n",
      "block6e_add True float32 <Policy \"mixed_float16\">\n",
      "block6f_expand_conv True float32 <Policy \"mixed_float16\">\n",
      "block6f_expand_bn True float32 <Policy \"mixed_float16\">\n",
      "block6f_expand_activation True float32 <Policy \"mixed_float16\">\n",
      "block6f_dwconv2 True float32 <Policy \"mixed_float16\">\n",
      "block6f_bn True float32 <Policy \"mixed_float16\">\n",
      "block6f_activation True float32 <Policy \"mixed_float16\">\n",
      "block6f_se_squeeze True float32 <Policy \"mixed_float16\">\n",
      "block6f_se_reshape True float32 <Policy \"mixed_float16\">\n",
      "block6f_se_reduce True float32 <Policy \"mixed_float16\">\n",
      "block6f_se_expand True float32 <Policy \"mixed_float16\">\n",
      "block6f_se_excite True float32 <Policy \"mixed_float16\">\n",
      "block6f_project_conv True float32 <Policy \"mixed_float16\">\n",
      "block6f_project_bn True float32 <Policy \"mixed_float16\">\n",
      "block6f_drop True float32 <Policy \"mixed_float16\">\n",
      "block6f_add True float32 <Policy \"mixed_float16\">\n",
      "block6g_expand_conv True float32 <Policy \"mixed_float16\">\n",
      "block6g_expand_bn True float32 <Policy \"mixed_float16\">\n",
      "block6g_expand_activation True float32 <Policy \"mixed_float16\">\n",
      "block6g_dwconv2 True float32 <Policy \"mixed_float16\">\n",
      "block6g_bn True float32 <Policy \"mixed_float16\">\n",
      "block6g_activation True float32 <Policy \"mixed_float16\">\n",
      "block6g_se_squeeze True float32 <Policy \"mixed_float16\">\n",
      "block6g_se_reshape True float32 <Policy \"mixed_float16\">\n",
      "block6g_se_reduce True float32 <Policy \"mixed_float16\">\n",
      "block6g_se_expand True float32 <Policy \"mixed_float16\">\n",
      "block6g_se_excite True float32 <Policy \"mixed_float16\">\n",
      "block6g_project_conv True float32 <Policy \"mixed_float16\">\n",
      "block6g_project_bn True float32 <Policy \"mixed_float16\">\n",
      "block6g_drop True float32 <Policy \"mixed_float16\">\n",
      "block6g_add True float32 <Policy \"mixed_float16\">\n",
      "block6h_expand_conv True float32 <Policy \"mixed_float16\">\n",
      "block6h_expand_bn True float32 <Policy \"mixed_float16\">\n",
      "block6h_expand_activation True float32 <Policy \"mixed_float16\">\n",
      "block6h_dwconv2 True float32 <Policy \"mixed_float16\">\n",
      "block6h_bn True float32 <Policy \"mixed_float16\">\n",
      "block6h_activation True float32 <Policy \"mixed_float16\">\n",
      "block6h_se_squeeze True float32 <Policy \"mixed_float16\">\n",
      "block6h_se_reshape True float32 <Policy \"mixed_float16\">\n",
      "block6h_se_reduce True float32 <Policy \"mixed_float16\">\n",
      "block6h_se_expand True float32 <Policy \"mixed_float16\">\n",
      "block6h_se_excite True float32 <Policy \"mixed_float16\">\n",
      "block6h_project_conv True float32 <Policy \"mixed_float16\">\n",
      "block6h_project_bn True float32 <Policy \"mixed_float16\">\n",
      "block6h_drop True float32 <Policy \"mixed_float16\">\n",
      "block6h_add True float32 <Policy \"mixed_float16\">\n",
      "top_conv True float32 <Policy \"mixed_float16\">\n",
      "top_bn True float32 <Policy \"mixed_float16\">\n",
      "top_activation True float32 <Policy \"mixed_float16\">\n"
     ]
    }
   ],
   "source": [
    "# Checking for Frozen Layers in Base Model:\n",
    "for layer in model.layers[1].layers:\n",
    "    print(layer.name, layer.trainable, layer.dtype, layer.dtype_policy)"
   ]
  },
  {
   "cell_type": "markdown",
   "id": "f2cd0989",
   "metadata": {},
   "source": [
    "It looks like each layer in our base model is trainable (unfrozen) and every layer which should be using the dtype policy `\"mixed_policy16\"` is using it.\n",
    "\n",
    "Since we've got so much data (750 images x 101 training classes = 75750 training images), let's keep all of our base model's layers unfrozen.\n",
    "\n",
    "If you've got a small amount of data (less than 100 images per class), you may want to only unfreeze and fine-tune a small number of layers in the base model at a time. Otherwise, you risk overfitting."
   ]
  },
  {
   "cell_type": "code",
   "execution_count": null,
   "id": "82c44dc5",
   "metadata": {},
   "outputs": [],
   "source": []
  },
  {
   "cell_type": "markdown",
   "id": "00a5bcb9",
   "metadata": {},
   "source": [
    "## A couple more callbacks\n",
    "\n",
    "We're about to start fine-tuning a deep learning model with over 200 layers using over 100,000 (75k+ training, 25K+ testing) images, which means our model's training time is probably going to be much longer than before.\n",
    "\n",
    "Question: *How long does training take?*\n",
    "\n",
    "It could be a couple of hours or in the case of the [DeepFood paper](https://arxiv.org/pdf/1606.05675.pdf) (the baseline we're trying to beat), their best performing model took 2-3 days of training time.\n",
    "\n",
    "You will really only know how long it'll take once you start training.\n",
    "\n",
    "Question: *When do you stop training?*\n",
    "\n",
    "Ideally, when your model stops improving. But again, due to the nature of deep learning, it can be hard to know when exactly a model will stop improving.\n",
    "\n",
    "Luckily, there's a solution: the [`EarlyStopping` callback](https://www.tensorflow.org/api_docs/python/tf/keras/callbacks/EarlyStopping).\n",
    "\n",
    "The `EarlyStopping` callback monitors a specified model performance metric (e.g. `val_loss`) and when it stops improving for a specified number of epochs, automatically stops training. \n",
    "\n",
    "Using the `EarlyStopping` callback combined with the `ModelCheckpoint` callback saving the best performing model automatically, we could keep our model training for an unlimited number of epochs until it stops improving.\n",
    "\n",
    "Let's set both of these up to monitor our model's `val_loss`."
   ]
  },
  {
   "cell_type": "code",
   "execution_count": 51,
   "id": "f9c9ea71",
   "metadata": {},
   "outputs": [],
   "source": [
    "# Setup EarlyStopping callback to stop training if model's val_loss doesn't improve for 3 epochs\n",
    "early_stop = tf.keras.callbacks.EarlyStopping(monitor= \"val_loss\", # watch the val loss metric\n",
    "                                             patience= 3) # if val loss does not decrease for 3 epochs in a row, stop training\n",
    "\n",
    "# Create ModelCheckpoint callback to save best model during fine-tuning\n",
    "checkpoint_path = \"fine_tune_checkpoints\\\\\"\n",
    "model_checkpoint = tf.keras.callbacks.ModelCheckpoint(filepath= checkpoint_path,\n",
    "                                                     save_best_only= True,\n",
    "                                                     monitor= \"val_loss\")"
   ]
  },
  {
   "cell_type": "code",
   "execution_count": null,
   "id": "626bcf18",
   "metadata": {},
   "outputs": [],
   "source": []
  },
  {
   "cell_type": "markdown",
   "id": "78e4adc3",
   "metadata": {},
   "source": [
    "We're almost ready to start fine-tuning our model but there's one more callback we're going to implement: [`ReduceLROnPlateau`](https://www.tensorflow.org/api_docs/python/tf/keras/callbacks/ReduceLROnPlateau).\n",
    "\n",
    "Remember how the learning rate is the most important model hyperparameter you can tune? (if not, treat this as a reminder).\n",
    "\n",
    "Well, the `ReduceLROnPlateau` callback helps to tune the learning rate for you.\n",
    "\n",
    "Like the `ModelCheckpoint` and `EarlyStopping` callbacks, the `ReduceLROnPlateau` callback montiors a specified metric and when that metric stops improving, it reduces the learning rate by a specified factor (e.g. divides the learning rate by 10).\n",
    "\n",
    "> 🤔 **Question:** *Why lower the learning rate?*\n",
    "\n",
    "Imagine having a coin at the back of the couch and you're trying to grab with your fingers. \n",
    "\n",
    "Now think of the learning rate as the size of the movements your hand makes towards the coin. \n",
    "\n",
    "The closer you get, the smaller you want your hand movements to be, otherwise the coin will be lost.\n",
    "\n",
    "Our model's ideal performance is the equivalent of grabbing the coin. So as training goes on and our model gets closer and closer to it's ideal performance (also called **convergence**), we want the amount it learns to be less and less.\n",
    "\n",
    "To do this we'll create an instance of the `ReduceLROnPlateau` callback to monitor the validation loss just like the `EarlyStopping` callback. \n",
    "\n",
    "Once the validation loss stops improving for two or more epochs, we'll reduce the learning rate by a factor of 5 (e.g. `0.001` to `0.0002`).\n",
    "\n",
    "And to make sure the learning rate doesn't get too low (and potentially result in our model learning nothing), we'll set the minimum learning rate to `1e-7`."
   ]
  },
  {
   "cell_type": "code",
   "execution_count": 52,
   "id": "df8735d1",
   "metadata": {},
   "outputs": [],
   "source": [
    "# Creating learning rate reduction callback\n",
    "reduce_lr = tf.keras.callbacks.ReduceLROnPlateau(monitor= \"val_loss\",\n",
    "                                                 factor= 0.2, # multiply the learning rate by 0.2 (reduce by 5x)\n",
    "                                                 patience= 2,\n",
    "                                                 verbose= 1, # print out when learning rate goes down\n",
    "                                                 min_lr= 1e-7)"
   ]
  },
  {
   "cell_type": "markdown",
   "id": "c03dc57d",
   "metadata": {},
   "source": [
    "Now before we start training, we've got to recompile our model.\n",
    "\n",
    "We'll use sparse categorical crossentropy as the loss and since we're fine-tuning, we'll use a 10x lower learning rate than the Adam optimizers default (`1e-4` instead of `1e-3`)."
   ]
  },
  {
   "cell_type": "code",
   "execution_count": 53,
   "id": "f7e59985",
   "metadata": {},
   "outputs": [],
   "source": [
    "# Compile The Model:\n",
    "model.compile(optimizer= Adam(0.0001), # 10x lower learning rate than the default\n",
    "             loss= SparseCategoricalCrossentropy(), # sparse_categorical_crossentropy for labels that are *not* one-hot\n",
    "             metrics= [\"accuracy\"])"
   ]
  },
  {
   "cell_type": "code",
   "execution_count": null,
   "id": "27f6d22d",
   "metadata": {},
   "outputs": [],
   "source": []
  },
  {
   "cell_type": "markdown",
   "id": "a2608c47",
   "metadata": {},
   "source": [
    "Now let's fit it on all of the data. \n",
    "\n",
    "We'll set it up to run for up to 50 epochs. \n",
    "\n",
    "Since we're going to be using the `EarlyStopping` callback, it might stop before reaching 50 epochs.\n",
    "\n",
    "Running the cell below will set the model up to fine-tune all of the pre-trained weights in the base model on all of the Food101 data. Doing so with **unoptimized** data pipelines and **without** mixed precision training will take a fairly long time per epoch depending on what type of GPU you're using (about 15-20 minutes on Colab GPUs). But don't worry, **the code we've written above will ensure it runs much faster** (more like 4-5 minutes per epoch)."
   ]
  },
  {
   "cell_type": "code",
   "execution_count": 56,
   "id": "c195a992",
   "metadata": {},
   "outputs": [
    {
     "name": "stdout",
     "output_type": "stream",
     "text": [
      "Saving TensorBoard log files to: training_logs_MileStone1/efficientnetb0_101_classes_all_data_fine_tune/20240515-150119\n",
      "Epoch 3/50\n",
      "2368/2368 [==============================] - 1777s 750ms/step - loss: 0.8983 - accuracy: 0.7709 - val_loss: 0.9554 - val_accuracy: 0.7460 - lr: 1.0000e-04\n",
      "Epoch 4/50\n",
      "2368/2368 [==============================] - 1524s 643ms/step - loss: 0.8863 - accuracy: 0.7745 - val_loss: 0.9588 - val_accuracy: 0.7476 - lr: 1.0000e-04\n",
      "Epoch 5/50\n",
      "2368/2368 [==============================] - ETA: 0s - loss: 0.8768 - accuracy: 0.7773\n",
      "Epoch 5: ReduceLROnPlateau reducing learning rate to 1.9999999494757503e-05.\n",
      "2368/2368 [==============================] - 1607s 679ms/step - loss: 0.8768 - accuracy: 0.7773 - val_loss: 0.9586 - val_accuracy: 0.7474 - lr: 1.0000e-04\n",
      "Epoch 6/50\n",
      "2368/2368 [==============================] - 1556s 657ms/step - loss: 0.8610 - accuracy: 0.7828 - val_loss: 0.9550 - val_accuracy: 0.7474 - lr: 2.0000e-05\n",
      "Epoch 7/50\n",
      "2368/2368 [==============================] - 1544s 652ms/step - loss: 0.8588 - accuracy: 0.7833 - val_loss: 0.9553 - val_accuracy: 0.7479 - lr: 2.0000e-05\n",
      "Epoch 8/50\n",
      "2368/2368 [==============================] - 1576s 666ms/step - loss: 0.8570 - accuracy: 0.7839 - val_loss: 0.9508 - val_accuracy: 0.7481 - lr: 2.0000e-05\n",
      "Epoch 9/50\n",
      "2368/2368 [==============================] - 1564s 660ms/step - loss: 0.8554 - accuracy: 0.7843 - val_loss: 0.9526 - val_accuracy: 0.7495 - lr: 2.0000e-05\n",
      "Epoch 10/50\n",
      "2368/2368 [==============================] - ETA: 0s - loss: 0.8537 - accuracy: 0.7849\n",
      "Epoch 10: ReduceLROnPlateau reducing learning rate to 3.999999898951501e-06.\n",
      "2368/2368 [==============================] - 1604s 677ms/step - loss: 0.8537 - accuracy: 0.7849 - val_loss: 0.9554 - val_accuracy: 0.7484 - lr: 2.0000e-05\n",
      "Epoch 11/50\n",
      "2368/2368 [==============================] - 1681s 710ms/step - loss: 0.8503 - accuracy: 0.7857 - val_loss: 0.9497 - val_accuracy: 0.7511 - lr: 4.0000e-06\n",
      "Epoch 12/50\n",
      "2368/2368 [==============================] - 1395s 589ms/step - loss: 0.8499 - accuracy: 0.7859 - val_loss: 0.9534 - val_accuracy: 0.7497 - lr: 4.0000e-06\n",
      "Epoch 13/50\n",
      "2368/2368 [==============================] - ETA: 0s - loss: 0.8496 - accuracy: 0.7861\n",
      "Epoch 13: ReduceLROnPlateau reducing learning rate to 7.999999979801942e-07.\n",
      "2368/2368 [==============================] - 1250s 528ms/step - loss: 0.8496 - accuracy: 0.7861 - val_loss: 0.9520 - val_accuracy: 0.7492 - lr: 4.0000e-06\n",
      "Epoch 14/50\n",
      "2368/2368 [==============================] - 1279s 540ms/step - loss: 0.8489 - accuracy: 0.7863 - val_loss: 0.9469 - val_accuracy: 0.7505 - lr: 8.0000e-07\n",
      "Epoch 15/50\n",
      "2368/2368 [==============================] - 1217s 514ms/step - loss: 0.8488 - accuracy: 0.7863 - val_loss: 0.9487 - val_accuracy: 0.7503 - lr: 8.0000e-07\n",
      "Epoch 16/50\n",
      "2368/2368 [==============================] - 1282s 541ms/step - loss: 0.8487 - accuracy: 0.7863 - val_loss: 0.9467 - val_accuracy: 0.7503 - lr: 8.0000e-07\n",
      "Epoch 17/50\n",
      "2368/2368 [==============================] - 1253s 529ms/step - loss: 0.8487 - accuracy: 0.7864 - val_loss: 0.9481 - val_accuracy: 0.7511 - lr: 8.0000e-07\n",
      "Epoch 18/50\n",
      "2368/2368 [==============================] - ETA: 0s - loss: 0.8486 - accuracy: 0.7863\n",
      "Epoch 18: ReduceLROnPlateau reducing learning rate to 1.600000018697756e-07.\n",
      "2368/2368 [==============================] - 1294s 547ms/step - loss: 0.8486 - accuracy: 0.7863 - val_loss: 0.9517 - val_accuracy: 0.7495 - lr: 8.0000e-07\n",
      "Epoch 19/50\n",
      "2368/2368 [==============================] - 1280s 541ms/step - loss: 0.8485 - accuracy: 0.7864 - val_loss: 0.9538 - val_accuracy: 0.7481 - lr: 1.6000e-07\n"
     ]
    }
   ],
   "source": [
    "# Fitting And Fine Tuning The Model:\n",
    "history_101_food_classes_fine_tune = model.fit(train_data,\n",
    "                                              validation_data= test_data,\n",
    "                                              epochs= 50,\n",
    "                                              initial_epoch= history_101_food_classes_feature_extraction.epoch[-1],\n",
    "                                              validation_steps= int(0.15 * len(test_data)),\n",
    "    callbacks= [create_tensorboard_callback(dir_name= \"training_logs_MileStone1\", \n",
    "                    experiment_name= \"efficientnetb0_101_classes_all_data_fine_tune\"), # track the model training logs\n",
    "               model_checkpoint, # save only the best model during training\n",
    "                early_stop, # stop model after X epochs of no improvements\n",
    "               reduce_lr]) # reduce the learning rate after X epochs of no improvements"
   ]
  },
  {
   "cell_type": "code",
   "execution_count": null,
   "id": "617eb322",
   "metadata": {},
   "outputs": [],
   "source": []
  },
  {
   "cell_type": "code",
   "execution_count": 57,
   "id": "44f1a5f9",
   "metadata": {},
   "outputs": [
    {
     "name": "stdout",
     "output_type": "stream",
     "text": [
      "790/790 [==============================] - 409s 518ms/step - loss: 0.9477 - accuracy: 0.7448\n"
     ]
    },
    {
     "data": {
      "text/plain": [
       "[0.9477353692054749, 0.7447524666786194]"
      ]
     },
     "execution_count": 57,
     "metadata": {},
     "output_type": "execute_result"
    }
   ],
   "source": [
    "# Evaluating Model on Whole test Data:\n",
    "results_fine_tune = model.evaluate(test_data)\n",
    "results_fine_tune"
   ]
  },
  {
   "cell_type": "code",
   "execution_count": 58,
   "id": "e7bc3d6e",
   "metadata": {},
   "outputs": [
    {
     "data": {
      "image/png": "[encoded data removed]",
      "text/plain": [
       "<Figure size 800x800 with 2 Axes>"
      ]
     },
     "metadata": {},
     "output_type": "display_data"
    }
   ],
   "source": [
    "# Comparing Model Histories for Feature Extraction and After Fine Tuning:\n",
    "compare_historys(original_history= history_101_food_classes_feature_extraction,\n",
    "                 new_history= history_101_food_classes_fine_tune,\n",
    "                 initial_epochs= 3)"
   ]
  }
 ],
 "metadata": {
  "kernelspec": {
   "display_name": "Python 3 (ipykernel)",
   "language": "python",
   "name": "python3"
  },
  "language_info": {
   "codemirror_mode": {
    "name": "ipython",
    "version": 3
   },
   "file_extension": ".py",
   "mimetype": "text/x-python",
   "name": "python",
   "nbconvert_exporter": "python",
   "pygments_lexer": "ipython3",
   "version": "3.11.4"
  }
 },
 "nbformat": 4,
 "nbformat_minor": 5
}

{
 "cells": [
  {
   "cell_type": "code",
   "execution_count": 1,
   "id": "792cf9fb",
   "metadata": {},
   "outputs": [],
   "source": [
    "import os\n",
    "\n",
    "os.environ[\"TF_USE_LEGACY_KERAS\"] = \"1\""
   ]
  },
  {
   "cell_type": "markdown",
   "id": "8f00d688",
   "metadata": {},
   "source": [
    "# Natural Language Processing with TensorFlow\n",
    "\n",
    "![](https://raw.githubusercontent.com/mrdbourke/tensorflow-deep-learning/main/images/08-example-nlp-problems.png)\n",
    "*A handful of example natural language processing (NLP) and natural language understanding (NLU) problems. These are also often referred to as sequence problems (going from one sequence to another).*\n",
    "\n",
    "The main goal of [natural language processing (NLP)](https://becominghuman.ai/a-simple-introduction-to-natural-language-processing-ea66a1747b32) is to derive information from natural language.\n",
    "\n",
    "Natural language is a broad term but you can consider it to cover any of the following:\n",
    "* Text (such as that contained in an email, blog post, book, Tweet)\n",
    "* Speech (a conversation you have with a doctor, voice commands you give to a smart speaker)\n",
    "\n",
    "Under the umbrellas of text and speech there are many different things you might want to do.\n",
    "\n",
    "If you're building an email application, you might want to scan incoming emails to see if they're spam or not spam (classification).\n",
    "\n",
    "If you're trying to analyse customer feedback complaints, you might want to discover which section of your business they're for.\n",
    "\n",
    "> 🔑 **Note:** Both of these types of data are often referred to as *sequences* (a sentence is a sequence of words). So a common term you'll come across in NLP problems is called *seq2seq*, in other words, finding information in one sequence to produce another sequence (e.g. converting a speech command to a sequence of text-based steps).\n",
    "\n",
    "To get hands-on with NLP in TensorFlow, we're going to practice the steps we've used previously but this time with text data:\n",
    "\n",
    "```\n",
    "Text -> turn into numbers -> build a model -> train the model to find patterns -> use patterns (make predictions)\n",
    "```\n",
    "\n",
    "> 📖 **Resource:** For a great overview of NLP and the different problems within it, read the article [*A Simple Introduction to Natural Language Processing*](https://becominghuman.ai/a-simple-introduction-to-natural-language-processing-ea66a1747b32).\n",
    "\n",
    "## What we're going to cover\n",
    "\n",
    "Let's get specific hey?\n",
    "\n",
    "* Downloading a text dataset\n",
    "* Visualizing text data\n",
    "* Converting text into numbers using tokenization\n",
    "* Turning our tokenized text into an embedding\n",
    "* Modelling a text dataset\n",
    "  * Starting with a baseline (TF-IDF)\n",
    "  * Building several deep learning text models\n",
    "    * Dense, LSTM, GRU, Conv1D, Transfer learning\n",
    "* Comparing the performance of each our models\n",
    "* Combining our models into an ensemble\n",
    "* Saving and loading a trained model\n",
    "* Find the most wrong predictions\n"
   ]
  },
  {
   "cell_type": "code",
   "execution_count": null,
   "id": "6512af5c",
   "metadata": {},
   "outputs": [],
   "source": []
  },
  {
   "cell_type": "markdown",
   "id": "f26e4d89",
   "metadata": {},
   "source": [
    "## Get helper functions\n",
    "\n",
    "In past modules, we've created a bunch of helper functions to do small tasks required for our notebooks.\n",
    "\n",
    "Rather than rewrite all of these, we can import a script and load them in from there.\n",
    "\n",
    "The script containing our helper functions can be [found on GitHub](https://github.com/mrdbourke/tensorflow-deep-learning/blob/main/extras/helper_functions.py)."
   ]
  },
  {
   "cell_type": "code",
   "execution_count": 2,
   "id": "b0ed274d",
   "metadata": {},
   "outputs": [],
   "source": [
    "# Downloading Helper Functions Script:\n",
    "import wget\n",
    "url = \"https://raw.githubusercontent.com/mrdbourke/tensorflow-deep-learning/main/extras/helper_functions.py\"\n",
    "file = wget.download(url)"
   ]
  },
  {
   "cell_type": "code",
   "execution_count": 3,
   "id": "4585c617",
   "metadata": {},
   "outputs": [
    {
     "name": "stdout",
     "output_type": "stream",
     "text": [
      "WARNING:tensorflow:From C:\\Users\\shail\\AppData\\Roaming\\Python\\Python311\\site-packages\\tf_keras\\src\\losses.py:2976: The name tf.losses.sparse_softmax_cross_entropy is deprecated. Please use tf.compat.v1.losses.sparse_softmax_cross_entropy instead.\n",
      "\n"
     ]
    }
   ],
   "source": [
    "# Importing Some Helper Functions from Downloaded Script:\n",
    "from helper_functions import unzip_data, plot_loss_curves, compare_historys, create_tensorboard_callback"
   ]
  },
  {
   "cell_type": "code",
   "execution_count": null,
   "id": "8eba6aed",
   "metadata": {},
   "outputs": [],
   "source": []
  },
  {
   "cell_type": "markdown",
   "id": "1aba4e0b",
   "metadata": {},
   "source": [
    "## Download a text dataset\n",
    "\n",
    "Let's start by download a text dataset. We'll be using the [Real or Not?](https://www.kaggle.com/c/nlp-getting-started/data) dataset from Kaggle which contains text-based Tweets about natural disasters. \n",
    "\n",
    "The Real Tweets are actually about disasters, for example:\n",
    "\n",
    "```\n",
    "Jetstar and Virgin forced to cancel Bali flights again because of ash from Mount Raung volcano\n",
    "```\n",
    "\n",
    "The Not Real Tweets are Tweets not about disasters (they can be on anything), for example:\n",
    "\n",
    "```\n",
    "'Education is the most powerful weapon which you can use to change the world.' Nelson #Mandela #quote\n",
    "```\n",
    "\n",
    "For convenience, the dataset has been [downloaded from Kaggle](https://www.kaggle.com/c/nlp-getting-started/data) (doing this requires a Kaggle account) and uploaded as a downloadable zip file. \n",
    "\n",
    "Note: The original downloaded data has not been altered to how you would download it from Kaggle."
   ]
  },
  {
   "cell_type": "code",
   "execution_count": 4,
   "id": "b81e9fd7",
   "metadata": {},
   "outputs": [],
   "source": [
    "# Downloading Text Data:\n",
    "url = \"https://storage.googleapis.com/ztm_tf_course/nlp_getting_started.zip\"\n",
    "file = wget.download(url)\n",
    "\n",
    "# Unzipping The Data:\n",
    "unzip_data(\"nlp_getting_started.zip\")"
   ]
  },
  {
   "cell_type": "markdown",
   "id": "14c4cb5d",
   "metadata": {},
   "source": [
    "Unzipping `nlp_getting_started.zip` gives the following 3 `.csv` files:\n",
    "* `sample_submission.csv` - an example of the file you'd submit to the Kaggle competition of your model's predictions.\n",
    "* `train.csv` - training samples of real and not real diaster Tweets.\n",
    "* `test.csv` - testing samples of real and not real diaster Tweets."
   ]
  },
  {
   "cell_type": "code",
   "execution_count": null,
   "id": "25516a80",
   "metadata": {},
   "outputs": [],
   "source": []
  },
  {
   "cell_type": "markdown",
   "id": "6334844e",
   "metadata": {},
   "source": [
    "## Visualizing a text dataset\n",
    "\n",
    "Once you've acquired a new dataset to work with, what should you do first?\n",
    "\n",
    "Explore it? Inspect it? Verify it? Become one with it?\n",
    "\n",
    "All correct.\n",
    "\n",
    "Right now, our text data samples are in the form of `.csv` files. For an easy way to make them visual, let's turn them into pandas DataFrame's.\n",
    "\n",
    "> 📖 **Reading:** You might come across text datasets in many different formats. Aside from CSV files (what we're working with), you'll probably encounter `.txt` files and `.json` files too. For working with these type of files, I'd recommend reading the two following articles by RealPython:\n",
    "* [How to Read and Write Files in Python](https://realpython.com/read-write-files-python/)\n",
    "* [Working with JSON Data in Python](https://realpython.com/python-json/)"
   ]
  },
  {
   "cell_type": "code",
   "execution_count": 5,
   "id": "06e6fd65",
   "metadata": {},
   "outputs": [],
   "source": [
    "# Turning .csv Data into Pandas DataFrame:\n",
    "\n",
    "import pandas as pd\n",
    "\n",
    "train_df = pd.read_csv(\"train.csv\")\n",
    "test_df = pd.read_csv(\"test.csv\")"
   ]
  },
  {
   "cell_type": "code",
   "execution_count": 6,
   "id": "f8d44117",
   "metadata": {},
   "outputs": [
    {
     "data": {
      "text/html": [
       "<div>\n",
       "<style scoped>\n",
       "    .dataframe tbody tr th:only-of-type {\n",
       "        vertical-align: middle;\n",
       "    }\n",
       "\n",
       "    .dataframe tbody tr th {\n",
       "        vertical-align: top;\n",
       "    }\n",
       "\n",
       "    .dataframe thead th {\n",
       "        text-align: right;\n",
       "    }\n",
       "</style>\n",
       "<table border=\"1\" class=\"dataframe\">\n",
       "  <thead>\n",
       "    <tr style=\"text-align: right;\">\n",
       "      <th></th>\n",
       "      <th>id</th>\n",
       "      <th>keyword</th>\n",
       "      <th>location</th>\n",
       "      <th>text</th>\n",
       "      <th>target</th>\n",
       "    </tr>\n",
       "  </thead>\n",
       "  <tbody>\n",
       "    <tr>\n",
       "      <th>0</th>\n",
       "      <td>1</td>\n",
       "      <td>NaN</td>\n",
       "      <td>NaN</td>\n",
       "      <td>Our Deeds are the Reason of this #earthquake M...</td>\n",
       "      <td>1</td>\n",
       "    </tr>\n",
       "    <tr>\n",
       "      <th>1</th>\n",
       "      <td>4</td>\n",
       "      <td>NaN</td>\n",
       "      <td>NaN</td>\n",
       "      <td>Forest fire near La Ronge Sask. Canada</td>\n",
       "      <td>1</td>\n",
       "    </tr>\n",
       "    <tr>\n",
       "      <th>2</th>\n",
       "      <td>5</td>\n",
       "      <td>NaN</td>\n",
       "      <td>NaN</td>\n",
       "      <td>All residents asked to 'shelter in place' are ...</td>\n",
       "      <td>1</td>\n",
       "    </tr>\n",
       "    <tr>\n",
       "      <th>3</th>\n",
       "      <td>6</td>\n",
       "      <td>NaN</td>\n",
       "      <td>NaN</td>\n",
       "      <td>13,000 people receive #wildfires evacuation or...</td>\n",
       "      <td>1</td>\n",
       "    </tr>\n",
       "    <tr>\n",
       "      <th>4</th>\n",
       "      <td>7</td>\n",
       "      <td>NaN</td>\n",
       "      <td>NaN</td>\n",
       "      <td>Just got sent this photo from Ruby #Alaska as ...</td>\n",
       "      <td>1</td>\n",
       "    </tr>\n",
       "  </tbody>\n",
       "</table>\n",
       "</div>"
      ],
      "text/plain": [
       "   id keyword location                                               text  \\\n",
       "0   1     NaN      NaN  Our Deeds are the Reason of this #earthquake M...   \n",
       "1   4     NaN      NaN             Forest fire near La Ronge Sask. Canada   \n",
       "2   5     NaN      NaN  All residents asked to 'shelter in place' are ...   \n",
       "3   6     NaN      NaN  13,000 people receive #wildfires evacuation or...   \n",
       "4   7     NaN      NaN  Just got sent this photo from Ruby #Alaska as ...   \n",
       "\n",
       "   target  \n",
       "0       1  \n",
       "1       1  \n",
       "2       1  \n",
       "3       1  \n",
       "4       1  "
      ]
     },
     "execution_count": 6,
     "metadata": {},
     "output_type": "execute_result"
    }
   ],
   "source": [
    "train_df.head()"
   ]
  },
  {
   "cell_type": "code",
   "execution_count": null,
   "id": "3f436ddb",
   "metadata": {},
   "outputs": [],
   "source": []
  },
  {
   "cell_type": "code",
   "execution_count": 7,
   "id": "60476372",
   "metadata": {},
   "outputs": [],
   "source": [
    "# Shuffling Training Data:\n",
    "train_df_shuffled = train_df.sample(frac=1, random_state= 42)"
   ]
  },
  {
   "cell_type": "code",
   "execution_count": 8,
   "id": "a19ad912",
   "metadata": {},
   "outputs": [
    {
     "data": {
      "text/html": [
       "<div>\n",
       "<style scoped>\n",
       "    .dataframe tbody tr th:only-of-type {\n",
       "        vertical-align: middle;\n",
       "    }\n",
       "\n",
       "    .dataframe tbody tr th {\n",
       "        vertical-align: top;\n",
       "    }\n",
       "\n",
       "    .dataframe thead th {\n",
       "        text-align: right;\n",
       "    }\n",
       "</style>\n",
       "<table border=\"1\" class=\"dataframe\">\n",
       "  <thead>\n",
       "    <tr style=\"text-align: right;\">\n",
       "      <th></th>\n",
       "      <th>id</th>\n",
       "      <th>keyword</th>\n",
       "      <th>location</th>\n",
       "      <th>text</th>\n",
       "      <th>target</th>\n",
       "    </tr>\n",
       "  </thead>\n",
       "  <tbody>\n",
       "    <tr>\n",
       "      <th>2644</th>\n",
       "      <td>3796</td>\n",
       "      <td>destruction</td>\n",
       "      <td>NaN</td>\n",
       "      <td>So you have a new weapon that can cause un-ima...</td>\n",
       "      <td>1</td>\n",
       "    </tr>\n",
       "    <tr>\n",
       "      <th>2227</th>\n",
       "      <td>3185</td>\n",
       "      <td>deluge</td>\n",
       "      <td>NaN</td>\n",
       "      <td>The f$&amp;amp;@ing things I do for #GISHWHES Just...</td>\n",
       "      <td>0</td>\n",
       "    </tr>\n",
       "    <tr>\n",
       "      <th>5448</th>\n",
       "      <td>7769</td>\n",
       "      <td>police</td>\n",
       "      <td>UK</td>\n",
       "      <td>DT @georgegalloway: RT @Galloway4Mayor: ÛÏThe...</td>\n",
       "      <td>1</td>\n",
       "    </tr>\n",
       "    <tr>\n",
       "      <th>132</th>\n",
       "      <td>191</td>\n",
       "      <td>aftershock</td>\n",
       "      <td>NaN</td>\n",
       "      <td>Aftershock back to school kick off was great. ...</td>\n",
       "      <td>0</td>\n",
       "    </tr>\n",
       "    <tr>\n",
       "      <th>6845</th>\n",
       "      <td>9810</td>\n",
       "      <td>trauma</td>\n",
       "      <td>Montgomery County, MD</td>\n",
       "      <td>in response to trauma Children of Addicts deve...</td>\n",
       "      <td>0</td>\n",
       "    </tr>\n",
       "  </tbody>\n",
       "</table>\n",
       "</div>"
      ],
      "text/plain": [
       "        id      keyword               location  \\\n",
       "2644  3796  destruction                    NaN   \n",
       "2227  3185       deluge                    NaN   \n",
       "5448  7769       police                     UK   \n",
       "132    191   aftershock                    NaN   \n",
       "6845  9810       trauma  Montgomery County, MD   \n",
       "\n",
       "                                                   text  target  \n",
       "2644  So you have a new weapon that can cause un-ima...       1  \n",
       "2227  The f$&amp;@ing things I do for #GISHWHES Just...       0  \n",
       "5448  DT @georgegalloway: RT @Galloway4Mayor: ÛÏThe...       1  \n",
       "132   Aftershock back to school kick off was great. ...       0  \n",
       "6845  in response to trauma Children of Addicts deve...       0  "
      ]
     },
     "execution_count": 8,
     "metadata": {},
     "output_type": "execute_result"
    }
   ],
   "source": [
    "train_df_shuffled.head()"
   ]
  },
  {
   "cell_type": "markdown",
   "id": "3e039595",
   "metadata": {},
   "source": [
    "Notice how the training data has a `\"target\"` column.\n",
    "\n",
    "We're going to be writing code to find patterns (e.g. different combinations of words) in the `\"text\"` column of the training dataset to predict the value of the `\"target\"` column.\n",
    "\n",
    "The test dataset doesn't have a `\"target\"` column.\n",
    "\n",
    "```\n",
    "Inputs (text column) -> Machine Learning Algorithm -> Outputs (target column)\n",
    "```\n",
    "\n",
    "![](https://raw.githubusercontent.com/mrdbourke/tensorflow-deep-learning/main/images/08-text-classification-inputs-and-outputs.png)\n",
    "*Example text classification inputs and outputs for the problem of classifying whether a Tweet is about a disaster or not.*"
   ]
  },
  {
   "cell_type": "code",
   "execution_count": null,
   "id": "fda7283d",
   "metadata": {},
   "outputs": [],
   "source": []
  },
  {
   "cell_type": "code",
   "execution_count": 9,
   "id": "aa772de3",
   "metadata": {},
   "outputs": [
    {
     "data": {
      "text/html": [
       "<div>\n",
       "<style scoped>\n",
       "    .dataframe tbody tr th:only-of-type {\n",
       "        vertical-align: middle;\n",
       "    }\n",
       "\n",
       "    .dataframe tbody tr th {\n",
       "        vertical-align: top;\n",
       "    }\n",
       "\n",
       "    .dataframe thead th {\n",
       "        text-align: right;\n",
       "    }\n",
       "</style>\n",
       "<table border=\"1\" class=\"dataframe\">\n",
       "  <thead>\n",
       "    <tr style=\"text-align: right;\">\n",
       "      <th></th>\n",
       "      <th>id</th>\n",
       "      <th>keyword</th>\n",
       "      <th>location</th>\n",
       "      <th>text</th>\n",
       "    </tr>\n",
       "  </thead>\n",
       "  <tbody>\n",
       "    <tr>\n",
       "      <th>0</th>\n",
       "      <td>0</td>\n",
       "      <td>NaN</td>\n",
       "      <td>NaN</td>\n",
       "      <td>Just happened a terrible car crash</td>\n",
       "    </tr>\n",
       "    <tr>\n",
       "      <th>1</th>\n",
       "      <td>2</td>\n",
       "      <td>NaN</td>\n",
       "      <td>NaN</td>\n",
       "      <td>Heard about #earthquake is different cities, s...</td>\n",
       "    </tr>\n",
       "    <tr>\n",
       "      <th>2</th>\n",
       "      <td>3</td>\n",
       "      <td>NaN</td>\n",
       "      <td>NaN</td>\n",
       "      <td>there is a forest fire at spot pond, geese are...</td>\n",
       "    </tr>\n",
       "    <tr>\n",
       "      <th>3</th>\n",
       "      <td>9</td>\n",
       "      <td>NaN</td>\n",
       "      <td>NaN</td>\n",
       "      <td>Apocalypse lighting. #Spokane #wildfires</td>\n",
       "    </tr>\n",
       "    <tr>\n",
       "      <th>4</th>\n",
       "      <td>11</td>\n",
       "      <td>NaN</td>\n",
       "      <td>NaN</td>\n",
       "      <td>Typhoon Soudelor kills 28 in China and Taiwan</td>\n",
       "    </tr>\n",
       "  </tbody>\n",
       "</table>\n",
       "</div>"
      ],
      "text/plain": [
       "   id keyword location                                               text\n",
       "0   0     NaN      NaN                 Just happened a terrible car crash\n",
       "1   2     NaN      NaN  Heard about #earthquake is different cities, s...\n",
       "2   3     NaN      NaN  there is a forest fire at spot pond, geese are...\n",
       "3   9     NaN      NaN           Apocalypse lighting. #Spokane #wildfires\n",
       "4  11     NaN      NaN      Typhoon Soudelor kills 28 in China and Taiwan"
      ]
     },
     "execution_count": 9,
     "metadata": {},
     "output_type": "execute_result"
    }
   ],
   "source": [
    "# Testing Data:\n",
    "test_df.head()"
   ]
  },
  {
   "cell_type": "code",
   "execution_count": null,
   "id": "dfbca52d",
   "metadata": {},
   "outputs": [],
   "source": []
  },
  {
   "cell_type": "code",
   "execution_count": 10,
   "id": "b1e62dcb",
   "metadata": {},
   "outputs": [
    {
     "data": {
      "text/plain": [
       "0    4342\n",
       "1    3271\n",
       "Name: target, dtype: int64"
      ]
     },
     "execution_count": 10,
     "metadata": {},
     "output_type": "execute_result"
    }
   ],
   "source": [
    "# How Many Examples of Each Class are in Training Data:\n",
    "train_df_shuffled[\"target\"].value_counts()"
   ]
  },
  {
   "cell_type": "markdown",
   "id": "37e75c16",
   "metadata": {},
   "source": [
    "Since we have two target values, we're dealing with a **binary classification** problem.\n",
    "\n",
    "It's fairly balanced too, about 60% negative class (`target = 0`) and 40% positive class (`target = 1`).\n",
    "\n",
    "Where, \n",
    "\n",
    "* `1` = a real disaster Tweet\n",
    "* `0` = not a real disaster Tweet"
   ]
  },
  {
   "cell_type": "code",
   "execution_count": 11,
   "id": "1c5188fd",
   "metadata": {},
   "outputs": [
    {
     "name": "stdout",
     "output_type": "stream",
     "text": [
      "Training Data Samples: 7613\n",
      "Test Data Samples: 3263\n",
      "Total Number of Samples: 10876\n"
     ]
    }
   ],
   "source": [
    "# Total Number of Samples in Data:\n",
    "print(f\"Training Data Samples: {len(train_df_shuffled)}\")\n",
    "print(f\"Test Data Samples: {len(test_df)}\")\n",
    "print(f\"Total Number of Samples: {len(train_df_shuffled) + len(test_df)}\")"
   ]
  },
  {
   "cell_type": "code",
   "execution_count": null,
   "id": "103963f5",
   "metadata": {},
   "outputs": [],
   "source": []
  },
  {
   "cell_type": "markdown",
   "id": "e12406b8",
   "metadata": {},
   "source": [
    "Alright, seems like we've got a decent amount of training and test data. If anything, we've got an abundance of testing examples, usually a split of 90/10 (90% training, 10% testing) or 80/20 is suffice.\n",
    "\n",
    "Okay, time to visualize, let's write some code to visualize random text samples.\n",
    "\n",
    "Question: Why visualize random samples? You could visualize samples in order but this could lead to only seeing a certain subset of data. Better to visualize a substantial quantity (100+) of random samples to get an idea of the different kinds of data you're working with. In machine learning, never underestimate the power of randomness."
   ]
  },
  {
   "cell_type": "code",
   "execution_count": 12,
   "id": "dc81e468",
   "metadata": {},
   "outputs": [
    {
     "name": "stdout",
     "output_type": "stream",
     "text": [
      "Target: 0 (Not Real Disaster)\n",
      "Text:\n",
      " 'When you attack women's health you attack America's health.' Hillary Clinton shows how to #StandwithPP http://t.co/HXdG254dHO\n",
      "\n",
      "Target: 0 (Not Real Disaster)\n",
      "Text:\n",
      " Fatality  https://t.co/407V1y4HHg\n",
      "\n",
      "Target: 0 (Not Real Disaster)\n",
      "Text:\n",
      " I JUST SCREAMED SIDJSJDJEKDJSKDJD . I CANT STAND YOU ?? https://t.co/0Vcsafx9bY\n",
      "\n",
      "Target: 0 (Not Real Disaster)\n",
      "Text:\n",
      " Court back in session. Testimony continues with med. examiner discussing gunshot wounds #KerrickTrial\n",
      "\n",
      "Target: 1 (Real Disaster)\n",
      "Text:\n",
      " #NJTurnpike å_ #NJTurnpike Reopens Hours After Truck Fire In? http://t.co/oABJZtbVyZ http://t.co/GPBXRrDc07\n",
      "\n",
      "Target: 1 (Real Disaster)\n",
      "Text:\n",
      " The cryptic words that guided pilots on the Hiroshima bombing mission http://t.co/nSS5L64cvR #canada\n",
      "\n",
      "Target: 1 (Real Disaster)\n",
      "Text:\n",
      " EU states squabble over immigration. UK-France Eurotunnel deluged with migrants. One dead as 'thousands storm' tunnel http://t.co/vf6CKLmCSX\n",
      "\n",
      "Target: 1 (Real Disaster)\n",
      "Text:\n",
      " CLEARED: Crash in Hamilton on I-75 south at MM 459.\n",
      "\n",
      "Target: 0 (Not Real Disaster)\n",
      "Text:\n",
      " Spot Flood Combo 53inch 300W Curved Cree LED Work Light Bar 4X4 Offroad Fog Lamp - Full reÛ_ http://t.co/fDSaoOiskJ http://t.co/2uVmq4vAfQ\n",
      "\n",
      "Target: 0 (Not Real Disaster)\n",
      "Text:\n",
      " @Mayhem_114 are you reading right to left\n",
      "\n"
     ]
    }
   ],
   "source": [
    "# Visualizing 10 random Training Samples:\n",
    "\n",
    "import random\n",
    "random_index = random.randint(0, len(train_df)-10) # create random indexes not higher than the total number of samples\n",
    "for row in train_df_shuffled[[\"text\", \"target\"]][random_index:random_index+10].itertuples():\n",
    "    _,text,target = row\n",
    "    print(f\"Target: {target}\", \"(Real Disaster)\" if target > 0 else \"(Not Real Disaster)\")\n",
    "    print(f\"Text:\\n {text}\\n\")"
   ]
  },
  {
   "cell_type": "code",
   "execution_count": null,
   "id": "523b434d",
   "metadata": {},
   "outputs": [],
   "source": []
  },
  {
   "cell_type": "markdown",
   "id": "ae2fcc12",
   "metadata": {},
   "source": [
    "### Split data into training and validation sets\n",
    "\n",
    "Since the test set has no labels and we need a way to evalaute our trained models, we'll split off some of the training data and create a validation set.\n",
    "\n",
    "When our model trains (tries patterns in the Tweet samples), it'll only see data from the training set and we can see how it performs on unseen data using the validation set.\n",
    "\n",
    "We'll convert our splits from pandas Series datatypes to lists of strings (for the text) and lists of ints (for the labels) for ease of use later.\n",
    "\n",
    "To split our training dataset and create a validation dataset, we'll use Scikit-Learn's [`train_test_split()`](https://scikit-learn.org/stable/modules/generated/sklearn.model_selection.train_test_split.html) method and dedicate 10% of the training samples to the validation set."
   ]
  },
  {
   "cell_type": "code",
   "execution_count": 13,
   "id": "e880a4d3",
   "metadata": {},
   "outputs": [],
   "source": [
    "from sklearn.model_selection import train_test_split"
   ]
  },
  {
   "cell_type": "code",
   "execution_count": 14,
   "id": "856754f4",
   "metadata": {},
   "outputs": [],
   "source": [
    "# Use Train Test Split to split Training Data into Training and Validation Sets:\n",
    "\n",
    "train_sentences, val_sentences, train_labels, val_labels = train_test_split(train_df_shuffled[\"text\"].to_numpy(),\n",
    "                                                                           train_df_shuffled[\"target\"].to_numpy(),\n",
    "                                                                           test_size= 0.1,\n",
    "                                                                           random_state= 42)"
   ]
  },
  {
   "cell_type": "code",
   "execution_count": 15,
   "id": "0db9b3c6",
   "metadata": {},
   "outputs": [
    {
     "data": {
      "text/plain": [
       "(6851, 6851, 762, 762)"
      ]
     },
     "execution_count": 15,
     "metadata": {},
     "output_type": "execute_result"
    }
   ],
   "source": [
    "# Check Lenghts:\n",
    "len(train_sentences), len(train_labels), len(val_sentences), len(val_labels)"
   ]
  },
  {
   "cell_type": "code",
   "execution_count": 16,
   "id": "618c3849",
   "metadata": {},
   "outputs": [
    {
     "data": {
      "text/plain": [
       "(array(['@mogacola @zamtriossu i screamed after hitting tweet',\n",
       "        'Imagine getting flattened by Kurt Zouma',\n",
       "        '@Gurmeetramrahim #MSGDoing111WelfareWorks Green S welfare force ke appx 65000 members har time disaster victim ki help ke liye tyar hai....',\n",
       "        \"@shakjn @C7 @Magnums im shaking in fear he's gonna hack the planet\",\n",
       "        'Somehow find you and I collide http://t.co/Ee8RpOahPk',\n",
       "        '@EvaHanderek @MarleyKnysh great times until the bus driver held us hostage in the mall parking lot lmfao',\n",
       "        'destroy the free fandom honestly',\n",
       "        'Weapons stolen from National Guard Armory in New Albany still missing #Gunsense http://t.co/lKNU8902JE',\n",
       "        '@wfaaweather Pete when will the heat wave pass? Is it really going to be mid month? Frisco Boy Scouts have a canoe trip in Okla.',\n",
       "        'Patient-reported outcomes in long-term survivors of metastatic colorectal cancer - British Journal of Surgery http://t.co/5Yl4DC1Tqt'],\n",
       "       dtype=object),\n",
       " array([0, 0, 1, 0, 0, 1, 1, 0, 1, 1], dtype=int64))"
      ]
     },
     "execution_count": 16,
     "metadata": {},
     "output_type": "execute_result"
    }
   ],
   "source": [
    "# Checking First 10 Examples in training sentences and it's labels:\n",
    "train_sentences[:10], train_labels[:10]"
   ]
  },
  {
   "cell_type": "code",
   "execution_count": null,
   "id": "389d0046",
   "metadata": {},
   "outputs": [],
   "source": []
  },
  {
   "cell_type": "markdown",
   "id": "5c82576e",
   "metadata": {},
   "source": [
    "## Converting text into numbers\n",
    "\n",
    "We've got a training set and a validation set containing Tweets and labels.\n",
    "\n",
    "Our labels are in numerical form (`0` and `1`) but our Tweets are in string form.\n",
    "\n",
    "Question: What do you think we have to do before we can use a machine learning algorithm with our text data? \n",
    "\n",
    "If you answered something along the lines of \"turn it into numbers\", you're correct. A machine learning algorithm requires its inputs to be in numerical form.\n",
    "\n",
    "In NLP, there are two main concepts for turning text into numbers:\n",
    "* **Tokenization** - A straight mapping from word or character or sub-word to a numerical value. There are three main levels of tokenization:\n",
    "  1. Using **word-level tokenization** with the sentence \"I love TensorFlow\" might result in \"I\" being `0`, \"love\" being `1` and \"TensorFlow\" being `2`. In this case, every word in a sequence considered a single **token**.\n",
    "  2. **Character-level tokenization**, such as converting the letters A-Z to values `1-26`. In this case, every character in a sequence considered a single **token**.\n",
    "  3. **Sub-word tokenization** is in between word-level and character-level tokenization. It involves breaking invidual words into smaller parts and then converting those smaller parts into numbers. For example, \"my favourite food is pineapple pizza\" might become \"my, fav, avour, rite, fo, oo, od, is, pin, ine, app, le, piz, za\". After doing this, these sub-words would then be mapped to a numerical value. In this case, every word could be considered multiple **tokens**.\n",
    "* **Embeddings** - An embedding is a representation of natural language which can be learned. Representation comes in the form of a **feature vector**. For example, the word \"dance\" could be represented by the 5-dimensional vector `[-0.8547, 0.4559, -0.3332, 0.9877, 0.1112]`. It's important to note here, the size of the feature vector is tuneable. There are two ways to use embeddings: \n",
    "  1. **Create your own embedding** - Once your text has been turned into numbers (required for an embedding), you can put them through an embedding layer (such as [`tf.keras.layers.Embedding`](https://www.tensorflow.org/api_docs/python/tf/keras/layers/Embedding)) and an embedding representation will be learned during model training.\n",
    "  2. **Reuse a pre-learned embedding** - Many pre-trained embeddings exist online. These pre-trained embeddings have often been learned on large corpuses of text (such as all of Wikipedia) and thus have a good underlying representation of natural language. You can use a pre-trained embedding to initialize your model and fine-tune it to your own specific task.\n",
    "\n",
    "![](https://raw.githubusercontent.com/mrdbourke/tensorflow-deep-learning/main/images/08-tokenization-vs-embedding.png)\n",
    "*Example of **tokenization** (straight mapping from word to number) and **embedding** (richer representation of relationships between tokens).*\n",
    "\n",
    "Question: What level of tokenzation should I use? What embedding should should I choose?\n",
    "\n",
    "It depends on your problem. You could try character-level tokenization/embeddings and word-level tokenization/embeddings and see which perform best. You might even want to try stacking them (e.g. combining the outputs of your embedding layers using [`tf.keras.layers.concatenate`](https://www.tensorflow.org/api_docs/python/tf/keras/layers/concatenate)). \n",
    "\n",
    "If you're looking for pre-trained word embeddings, [Word2vec embeddings](http://jalammar.github.io/illustrated-word2vec/), [GloVe embeddings](https://nlp.stanford.edu/projects/glove/) and many of the options available on [TensorFlow Hub](https://tfhub.dev/s?module-type=text-embedding) are great places to start.\n",
    "\n",
    "Note: Much like searching for a pre-trained computer vision model, you can search for pre-trained word embeddings to use for your problem. Try searching for something like \"use pre-trained word embeddings in TensorFlow\"."
   ]
  },
  {
   "cell_type": "code",
   "execution_count": null,
   "id": "64d5c113",
   "metadata": {},
   "outputs": [],
   "source": []
  },
  {
   "cell_type": "markdown",
   "id": "ac3ea797",
   "metadata": {},
   "source": [
    "### Text vectorization (tokenization)\n",
    "\n",
    "\n",
    "We'll practice tokenzation (mapping our words to numbers) first.\n",
    "\n",
    "To tokenize our words, we'll use the helpful preprocessing layer [`tf.keras.layers.TextVectorization`](https://www.tensorflow.org/api_docs/python/tf/keras/layers/TextVectorization).\n",
    "\n",
    "The `TextVectorization` layer takes the following parameters:\n",
    "* `max_tokens` - The maximum number of words in your vocabulary (e.g. 20000 or the number of unique words in your text), includes a value for OOV (out of vocabulary) tokens. \n",
    "* `standardize` - Method for standardizing text. Default is `\"lower_and_strip_punctuation\"` which lowers text and removes all punctuation marks.\n",
    "* `split` - How to split text, default is `\"whitespace\"` which splits on spaces.\n",
    "* `ngrams` - How many words to contain per token split, for example, `ngrams=2` splits tokens into continuous sequences of 2.\n",
    "* `output_mode` -  How to output tokens, can be `\"int\"` (integer mapping), `\"binary\"` (one-hot encoding), `\"count\"` or `\"tf-idf\"`. See documentation for more.\n",
    "* `output_sequence_length` - Length of tokenized sequence to output. For example, if `output_sequence_length=150`, all tokenized sequences will be 150 tokens long.\n",
    "* `pad_to_max_tokens` - Defaults to `False`, if `True`, the output feature axis will be padded to `max_tokens` even if the number of unique tokens in the vocabulary is less than `max_tokens`. Only valid in certain modes, see docs for more.\n"
   ]
  },
  {
   "cell_type": "code",
   "execution_count": 17,
   "id": "0f5108f1",
   "metadata": {},
   "outputs": [],
   "source": [
    "import tensorflow as tf\n",
    "from tensorflow.keras.layers import TextVectorization"
   ]
  },
  {
   "cell_type": "code",
   "execution_count": 18,
   "id": "83a56d1c",
   "metadata": {},
   "outputs": [
    {
     "name": "stdout",
     "output_type": "stream",
     "text": [
      "WARNING:tensorflow:From C:\\Users\\shail\\AppData\\Roaming\\Python\\Python311\\site-packages\\tf_keras\\src\\backend.py:873: The name tf.get_default_graph is deprecated. Please use tf.compat.v1.get_default_graph instead.\n",
      "\n"
     ]
    }
   ],
   "source": [
    "# Using Default Parameters for TextVectorization:\n",
    "\n",
    "text_vectorizer = TextVectorization(max_tokens= None, # how many words in the vocabulary (all of the different words in your text)\n",
    "                                   standardize= \"lower_and_strip_punctuation\", # how to process text\n",
    "                                   split= \"whitespace\", # how to split tokens\n",
    "                                   ngrams= None,  # create groups of n-words?\n",
    "                                   output_mode= \"int\", # how to map tokens to numbers\n",
    "                                   output_sequence_length= None) # how long should the output sequence of tokens be?\n",
    "                                   # pad_to_max_tokens=True) # Not valid if using max_tokens=None"
   ]
  },
  {
   "cell_type": "markdown",
   "id": "d2d57142",
   "metadata": {},
   "source": [
    "We've initialized a `TextVectorization` object with the default settings but let's customize it a little bit for our own use case.\n",
    "\n",
    "In particular, let's set values for `max_tokens` and `output_sequence_length`.\n",
    "\n",
    "For `max_tokens` (the number of words in the vocabulary), multiples of 10,000 (`10,000`, `20,000`, `30,000`) or the exact number of unique words in your text (e.g. `32,179`) are common values.\n",
    "\n",
    "For our use case, we'll use `10,000`.\n",
    "\n",
    "And for the `output_sequence_length` we'll use the average number of tokens per Tweet in the training set. But first, we'll need to find it."
   ]
  },
  {
   "cell_type": "code",
   "execution_count": 19,
   "id": "08134b9a",
   "metadata": {},
   "outputs": [
    {
     "data": {
      "text/plain": [
       "'@mogacola @zamtriossu i screamed after hitting tweet'"
      ]
     },
     "execution_count": 19,
     "metadata": {},
     "output_type": "execute_result"
    }
   ],
   "source": [
    "train_sentences[0]"
   ]
  },
  {
   "cell_type": "code",
   "execution_count": 20,
   "id": "3a3bccfa",
   "metadata": {},
   "outputs": [
    {
     "data": {
      "text/plain": [
       "['@mogacola', '@zamtriossu', 'i', 'screamed', 'after', 'hitting', 'tweet']"
      ]
     },
     "execution_count": 20,
     "metadata": {},
     "output_type": "execute_result"
    }
   ],
   "source": [
    "train_sentences[0].split()"
   ]
  },
  {
   "cell_type": "code",
   "execution_count": 21,
   "id": "8a279f3a",
   "metadata": {},
   "outputs": [
    {
     "data": {
      "text/plain": [
       "7"
      ]
     },
     "execution_count": 21,
     "metadata": {},
     "output_type": "execute_result"
    }
   ],
   "source": [
    "len(train_sentences[0].split())"
   ]
  },
  {
   "cell_type": "code",
   "execution_count": 22,
   "id": "b8e4239a",
   "metadata": {},
   "outputs": [
    {
     "data": {
      "text/plain": [
       "15"
      ]
     },
     "execution_count": 22,
     "metadata": {},
     "output_type": "execute_result"
    }
   ],
   "source": [
    "# Average Number of Tokens(Words) in Training Tweets:\n",
    "round(sum([len(i.split()) for i in train_sentences]) / len(train_sentences))"
   ]
  },
  {
   "cell_type": "code",
   "execution_count": null,
   "id": "07fa8528",
   "metadata": {},
   "outputs": [],
   "source": []
  },
  {
   "cell_type": "code",
   "execution_count": 23,
   "id": "e8a0edf6",
   "metadata": {},
   "outputs": [],
   "source": [
    "# Setup Text Vectorization with custom parameter values:\n",
    "\n",
    "max_vocab_lenghth = 10000 # max number of words to have in our vocabulary\n",
    "max_lengths = 15 # max length our sequences will be (e.g. how many words from a Tweet does our model see?)\n",
    "\n",
    "text_vectorizer = TextVectorization(max_tokens= max_vocab_lenghth,\n",
    "                                   output_mode= \"int\",\n",
    "                                   output_sequence_length= max_lengths)"
   ]
  },
  {
   "cell_type": "code",
   "execution_count": null,
   "id": "f0ee314d",
   "metadata": {},
   "outputs": [],
   "source": []
  },
  {
   "cell_type": "markdown",
   "id": "2087fa65",
   "metadata": {},
   "source": [
    "To map our `TextVectorization` instance `text_vectorizer` to our data, we can call the `adapt()` method on it whilst passing it our training text."
   ]
  },
  {
   "cell_type": "code",
   "execution_count": 24,
   "id": "40905372",
   "metadata": {},
   "outputs": [
    {
     "name": "stdout",
     "output_type": "stream",
     "text": [
      "WARNING:tensorflow:From C:\\Users\\shail\\AppData\\Roaming\\Python\\Python311\\site-packages\\tensorflow\\python\\autograph\\converters\\directives.py:126: The name tf.ragged.RaggedTensorValue is deprecated. Please use tf.compat.v1.ragged.RaggedTensorValue instead.\n",
      "\n"
     ]
    }
   ],
   "source": [
    "# Fit The Text Vectorizor to The Training Text:\n",
    "text_vectorizer.adapt(train_sentences)"
   ]
  },
  {
   "cell_type": "code",
   "execution_count": 25,
   "id": "7a3f55e8",
   "metadata": {},
   "outputs": [
    {
     "data": {
      "text/plain": [
       "<tf.Tensor: shape=(1, 15), dtype=int64, numpy=\n",
       "array([[264,   3, 232,   4,  13, 698,   0,   0,   0,   0,   0,   0,   0,\n",
       "          0,   0]], dtype=int64)>"
      ]
     },
     "execution_count": 25,
     "metadata": {},
     "output_type": "execute_result"
    }
   ],
   "source": [
    "# Create a Sample Sentence and Vectorize it:\n",
    "sample_sentence = \"There's a flood in my street!\"\n",
    "text_vectorizer([sample_sentence])"
   ]
  },
  {
   "cell_type": "markdown",
   "id": "ac06c66e",
   "metadata": {},
   "source": [
    "It seems we've got a way to turn our text into numbers (in this case, word-level tokenization). Notice the 0's at the end of the returned tensor, this is because we set `output_sequence_length=15`, meaning no matter the size of the sequence we pass to `text_vectorizer`, it always returns a sequence with a length of 15.\n",
    "\n",
    "How about we try our `text_vectorizer` on a few random sentences?"
   ]
  },
  {
   "cell_type": "code",
   "execution_count": 26,
   "id": "bc5b5e94",
   "metadata": {},
   "outputs": [
    {
     "name": "stdout",
     "output_type": "stream",
     "text": [
      "Original Text:\n",
      " OMEGA MEN Writer Explores Terrorism Religion In an 'Epic KYLE RAYNER Story' https://t.co/utc7pdIdfo via @Newsarama \n",
      "\n",
      " Vectorized Version: [[4998  646 2596 5683  361 4765    4   39 1683 2907 4795  451    1   49\n",
      "  5049]]\n"
     ]
    }
   ],
   "source": [
    "# Chose a Random Sentence from Training Data and Vectorize it:\n",
    "random_sentence = random.choice(train_sentences)\n",
    "print(f\"Original Text:\\n {random_sentence} \\n\\n Vectorized Version: {text_vectorizer([random_sentence])}\")"
   ]
  },
  {
   "cell_type": "code",
   "execution_count": null,
   "id": "2e8dad50",
   "metadata": {},
   "outputs": [],
   "source": []
  },
  {
   "cell_type": "markdown",
   "id": "28ad29bf",
   "metadata": {},
   "source": [
    "We can check the unique tokens in our vocabulary using the `get_vocabulary()` method."
   ]
  },
  {
   "cell_type": "code",
   "execution_count": 27,
   "id": "49673580",
   "metadata": {},
   "outputs": [
    {
     "name": "stdout",
     "output_type": "stream",
     "text": [
      "Number of Words in Vocabulary: 10000\n",
      "Top 5 Most Common Words: ['', '[UNK]', 'the', 'a', 'in']\n",
      "Bottom 5 Least Common Words: ['pages', 'paeds', 'pads', 'padres', 'paddytomlinson1']\n"
     ]
    }
   ],
   "source": [
    "# Get the Unique Words in Vocabulary of Text Vectorizer:\n",
    "words_in_vocab = text_vectorizer.get_vocabulary() # Get All of The Unique Words from Training Data.\n",
    "top_5_words = words_in_vocab[:5] # most common tokens (notice the [UNK] token for \"unknown\" words)\n",
    "bottom_5_words = words_in_vocab[-5:] # least common tokens\n",
    "print(f\"Number of Words in Vocabulary: {len(words_in_vocab)}\")\n",
    "print(f\"Top 5 Most Common Words: {top_5_words}\")\n",
    "print(f\"Bottom 5 Least Common Words: {bottom_5_words}\")"
   ]
  },
  {
   "cell_type": "code",
   "execution_count": null,
   "id": "574de5fa",
   "metadata": {},
   "outputs": [],
   "source": []
  },
  {
   "cell_type": "markdown",
   "id": "fa79de13",
   "metadata": {},
   "source": [
    "### Creating an Embedding using an Embedding Layer\n",
    "\n",
    "We've got a way to map our text to numbers. How about we go a step further and turn those numbers into an embedding?\n",
    "\n",
    "The powerful thing about an embedding is it can be learned during training. This means rather than just being static (e.g. `1` = I, `2` = love, `3` = TensorFlow), a word's numeric representation can be improved as a model goes through data samples.\n",
    "\n",
    "We can see what an embedding of a word looks like by using the [`tf.keras.layers.Embedding`](https://www.tensorflow.org/api_docs/python/tf/keras/layers/Embedding) layer. \n",
    "\n",
    "The main parameters we're concerned about here are:\n",
    "* `input_dim` - The size of the vocabulary (e.g. `len(text_vectorizer.get_vocabulary()`).\n",
    "* `output_dim` - The size of the output embedding vector, for example, a value of `100` outputs a  feature vector of size 100 for each word.\n",
    "* `embeddings_initializer` - How to initialize the embeddings matrix, default is `\"uniform\"` which randomly initalizes embedding matrix with uniform distribution. This can be changed for using pre-learned embeddings.\n",
    "* `input_length` - Length of sequences being passed to embedding layer."
   ]
  },
  {
   "cell_type": "code",
   "execution_count": 28,
   "id": "5a9618c4",
   "metadata": {},
   "outputs": [],
   "source": [
    "from tensorflow.keras.layers import Embedding"
   ]
  },
  {
   "cell_type": "code",
   "execution_count": 29,
   "id": "34c64d40",
   "metadata": {},
   "outputs": [],
   "source": [
    "tf.random.set_seed(42)\n",
    "\n",
    "embedding = Embedding(input_dim= max_vocab_lenghth, # set input shape\n",
    "                     output_dim= 128, # set size of embedding vector\n",
    "                     embeddings_initializer= \"uniform\", # default, intialize randomly\n",
    "                     name= \"Embedding_1\")"
   ]
  },
  {
   "cell_type": "code",
   "execution_count": 30,
   "id": "c5d386f1",
   "metadata": {},
   "outputs": [
    {
     "data": {
      "text/plain": [
       "<tf_keras.src.layers.core.embedding.Embedding at 0x243972b4c50>"
      ]
     },
     "execution_count": 30,
     "metadata": {},
     "output_type": "execute_result"
    }
   ],
   "source": [
    "embedding"
   ]
  },
  {
   "cell_type": "code",
   "execution_count": 31,
   "id": "678d74c5",
   "metadata": {},
   "outputs": [
    {
     "name": "stdout",
     "output_type": "stream",
     "text": [
      "Original Text:\n",
      " I liked a @YouTube video from @itsjustinstuart http://t.co/Mnkaji2Q1N GUN RANGE MAYHEM!\n",
      "Embedded Version:\n",
      "\n"
     ]
    },
    {
     "data": {
      "text/plain": [
       "<tf.Tensor: shape=(1, 15, 128), dtype=float32, numpy=\n",
       "array([[[ 0.0460597 ,  0.03804063, -0.03829674, ..., -0.00508253,\n",
       "          0.01667095, -0.01724137],\n",
       "        [-0.04077094,  0.01546328, -0.01831574, ..., -0.00259745,\n",
       "          0.04152742, -0.02988878],\n",
       "        [-0.02992166, -0.02081641, -0.01315315, ..., -0.03517996,\n",
       "         -0.00051598,  0.03493518],\n",
       "        ...,\n",
       "        [-0.01092371, -0.02878962,  0.02859397, ..., -0.02740737,\n",
       "         -0.00322539,  0.00704388],\n",
       "        [-0.01092371, -0.02878962,  0.02859397, ..., -0.02740737,\n",
       "         -0.00322539,  0.00704388],\n",
       "        [-0.01092371, -0.02878962,  0.02859397, ..., -0.02740737,\n",
       "         -0.00322539,  0.00704388]]], dtype=float32)>"
      ]
     },
     "execution_count": 31,
     "metadata": {},
     "output_type": "execute_result"
    }
   ],
   "source": [
    "# Getting a Random Sentence from Training Sentences to Embed:\n",
    "\n",
    "random_sentence = random.choice(train_sentences)\n",
    "print(f\"Original Text:\\n {random_sentence}\")\n",
    "print(f\"Embedded Version:\\n\")\n",
    "\n",
    "# Embed The Random Sentence (Turn it into Numerical Representation (into Dense Vectors of Fixed Size))\n",
    "sample_embed = embedding(text_vectorizer([random_sentence]))\n",
    "sample_embed"
   ]
  },
  {
   "cell_type": "code",
   "execution_count": 32,
   "id": "7be7e0c8",
   "metadata": {},
   "outputs": [
    {
     "data": {
      "text/plain": [
       "<tf.Tensor: shape=(128,), dtype=float32, numpy=\n",
       "array([ 0.0460597 ,  0.03804063, -0.03829674,  0.01892847, -0.036492  ,\n",
       "        0.01875836,  0.00292146, -0.02066691,  0.036735  , -0.00024616,\n",
       "       -0.02104921,  0.00053839, -0.03829206,  0.00691019, -0.00425833,\n",
       "        0.02211838, -0.02144653, -0.00576765,  0.03214306, -0.01266623,\n",
       "       -0.01045831,  0.01925762, -0.02909985, -0.02010917, -0.02585332,\n",
       "        0.01531984, -0.02406885,  0.02465094,  0.02084673, -0.03328145,\n",
       "       -0.02245748,  0.02693148,  0.01714584, -0.00442461, -0.02266127,\n",
       "       -0.02624686,  0.01599591,  0.02210225,  0.03474731, -0.04277036,\n",
       "        0.02586401, -0.01845689, -0.00261373,  0.00069027,  0.03018254,\n",
       "       -0.03481648, -0.02938499, -0.04470915,  0.04221255,  0.03434141,\n",
       "       -0.01175996,  0.02687981,  0.00510976,  0.01944102,  0.04789125,\n",
       "       -0.03843312, -0.03946476,  0.0318543 , -0.00305711, -0.02712013,\n",
       "       -0.04754807,  0.00940394, -0.03439174, -0.02906373, -0.04402152,\n",
       "        0.04576265,  0.01903916, -0.04478725,  0.02403494, -0.03542056,\n",
       "       -0.03623875, -0.01689365,  0.02637807,  0.04663558,  0.040178  ,\n",
       "        0.04727323, -0.03819394,  0.01001398,  0.02526388,  0.04538761,\n",
       "       -0.04017477,  0.03830353, -0.02154276, -0.04951785, -0.04211307,\n",
       "       -0.03685948,  0.03823397,  0.01478502,  0.010426  , -0.0222333 ,\n",
       "        0.04757401,  0.02533675, -0.04138296,  0.04804483, -0.02271154,\n",
       "       -0.03280329, -0.00575191,  0.0254063 ,  0.00165111, -0.0145865 ,\n",
       "        0.04020438,  0.00360494, -0.0189652 , -0.00696056, -0.02740003,\n",
       "        0.03496984,  0.01373788, -0.00763236, -0.02922934, -0.01729038,\n",
       "        0.04808637,  0.02201459, -0.04903347, -0.01174565, -0.00852994,\n",
       "       -0.02793088,  0.04119856,  0.0240283 ,  0.00738908,  0.01416907,\n",
       "       -0.03342351,  0.00954552,  0.03091702,  0.03897116, -0.03166239,\n",
       "       -0.00508253,  0.01667095, -0.01724137], dtype=float32)>"
      ]
     },
     "execution_count": 32,
     "metadata": {},
     "output_type": "execute_result"
    }
   ],
   "source": [
    "# Check Out Single Token(Word)'s Embedding:\n",
    "sample_embed[0][0]"
   ]
  },
  {
   "cell_type": "code",
   "execution_count": 33,
   "id": "c632ee8c",
   "metadata": {},
   "outputs": [
    {
     "data": {
      "text/plain": [
       "'I'"
      ]
     },
     "execution_count": 33,
     "metadata": {},
     "output_type": "execute_result"
    }
   ],
   "source": [
    "random_sentence.split()[0]"
   ]
  },
  {
   "cell_type": "code",
   "execution_count": null,
   "id": "6fee921b",
   "metadata": {},
   "outputs": [],
   "source": []
  },
  {
   "cell_type": "markdown",
   "id": "1d23b05b",
   "metadata": {},
   "source": [
    "## Modelling a text dataset\n",
    "\n",
    "![](https://raw.githubusercontent.com/mrdbourke/tensorflow-deep-learning/main/images/08-inputs-and-outputs-with-shapes-and-models-were-going-to-build.png)\n",
    "*Once you've got your inputs and outputs prepared, it's a matter of figuring out which machine learning model to build in between them to bridge the gap.*\n",
    "\n",
    "Now that we've got a way to turn our text data into numbers, we can start to build machine learning models to model it.\n",
    "\n",
    "To get plenty of practice, we're going to build a series of different models, each as its own experiment. We'll then compare the results of each model and see which one performed best.\n",
    "\n",
    "More specifically, we'll be building the following:\n",
    "* **Model 0**: Naive Bayes (baseline)\n",
    "* **Model 1**: Feed-forward neural network (dense model)\n",
    "* **Model 2**: LSTM model\n",
    "* **Model 3**: GRU model\n",
    "* **Model 4**: Bidirectional-LSTM model\n",
    "* **Model 5**: 1D Convolutional Neural Network\n",
    "* **Model 6**: TensorFlow Hub Pretrained Feature Extractor\n",
    "* **Model 7**: Same as model 6 with 10% of training data\n",
    "\n",
    "Model 0 is the simplest to acquire a baseline which we'll expect each other of the other deeper models to beat.\n",
    "\n",
    "Each experiment will go through the following steps:\n",
    "* Construct the model\n",
    "* Train the model\n",
    "* Make predictions with the model\n",
    "* Track prediction evaluation metrics for later comparison"
   ]
  },
  {
   "cell_type": "code",
   "execution_count": null,
   "id": "6cc56ab9",
   "metadata": {},
   "outputs": [],
   "source": []
  },
  {
   "cell_type": "markdown",
   "id": "18018ef4",
   "metadata": {},
   "source": [
    "### Model 0: Getting a baseline\n",
    "\n",
    "As with all machine learning modelling experiments, it's important to create a baseline model so you've got a benchmark for future experiments to build upon.\n",
    "\n",
    "To create our baseline, we'll create a Scikit-Learn Pipeline using the TF-IDF (term frequency-inverse document frequency) formula to convert our words to numbers and then model them with the [Multinomial Naive Bayes algorithm](https://scikit-learn.org/stable/modules/generated/sklearn.naive_bayes.MultinomialNB.html#sklearn.naive_bayes.MultinomialNB). This was chosen via referring to the [Scikit-Learn machine learning map](https://scikit-learn.org/stable/tutorial/machine_learning_map/index.html)."
   ]
  },
  {
   "cell_type": "code",
   "execution_count": 34,
   "id": "8d7bc052",
   "metadata": {},
   "outputs": [],
   "source": [
    "from sklearn.feature_extraction.text import TfidfVectorizer\n",
    "from sklearn.naive_bayes import MultinomialNB\n",
    "from sklearn.pipeline import Pipeline"
   ]
  },
  {
   "cell_type": "code",
   "execution_count": 35,
   "id": "8b6d8376",
   "metadata": {},
   "outputs": [],
   "source": [
    "# Creating A Pipeline For Tokenization and Modelling:\n",
    "model_0 = Pipeline([(\"tfidf\", TfidfVectorizer()), # convert words to numbers using tfidf\n",
    "                   (\"clf\", MultinomialNB())]) # model the text"
   ]
  },
  {
   "cell_type": "code",
   "execution_count": 36,
   "id": "b03e0cf3",
   "metadata": {},
   "outputs": [
    {
     "data": {
      "text/html": [
       "<style>#sk-container-id-1 {color: black;}#sk-container-id-1 pre{padding: 0;}#sk-container-id-1 div.sk-toggleable {background-color: white;}#sk-container-id-1 label.sk-toggleable__label {cursor: pointer;display: block;width: 100%;margin-bottom: 0;padding: 0.3em;box-sizing: border-box;text-align: center;}#sk-container-id-1 label.sk-toggleable__label-arrow:before {content: \"▸\";float: left;margin-right: 0.25em;color: #696969;}#sk-container-id-1 label.sk-toggleable__label-arrow:hover:before {color: black;}#sk-container-id-1 div.sk-estimator:hover label.sk-toggleable__label-arrow:before {color: black;}#sk-container-id-1 div.sk-toggleable__content {max-height: 0;max-width: 0;overflow: hidden;text-align: left;background-color: #f0f8ff;}#sk-container-id-1 div.sk-toggleable__content pre {margin: 0.2em;color: black;border-radius: 0.25em;background-color: #f0f8ff;}#sk-container-id-1 input.sk-toggleable__control:checked~div.sk-toggleable__content {max-height: 200px;max-width: 100%;overflow: auto;}#sk-container-id-1 input.sk-toggleable__control:checked~label.sk-toggleable__label-arrow:before {content: \"▾\";}#sk-container-id-1 div.sk-estimator input.sk-toggleable__control:checked~label.sk-toggleable__label {background-color: #d4ebff;}#sk-container-id-1 div.sk-label input.sk-toggleable__control:checked~label.sk-toggleable__label {background-color: #d4ebff;}#sk-container-id-1 input.sk-hidden--visually {border: 0;clip: rect(1px 1px 1px 1px);clip: rect(1px, 1px, 1px, 1px);height: 1px;margin: -1px;overflow: hidden;padding: 0;position: absolute;width: 1px;}#sk-container-id-1 div.sk-estimator {font-family: monospace;background-color: #f0f8ff;border: 1px dotted black;border-radius: 0.25em;box-sizing: border-box;margin-bottom: 0.5em;}#sk-container-id-1 div.sk-estimator:hover {background-color: #d4ebff;}#sk-container-id-1 div.sk-parallel-item::after {content: \"\";width: 100%;border-bottom: 1px solid gray;flex-grow: 1;}#sk-container-id-1 div.sk-label:hover label.sk-toggleable__label {background-color: #d4ebff;}#sk-container-id-1 div.sk-serial::before {content: \"\";position: absolute;border-left: 1px solid gray;box-sizing: border-box;top: 0;bottom: 0;left: 50%;z-index: 0;}#sk-container-id-1 div.sk-serial {display: flex;flex-direction: column;align-items: center;background-color: white;padding-right: 0.2em;padding-left: 0.2em;position: relative;}#sk-container-id-1 div.sk-item {position: relative;z-index: 1;}#sk-container-id-1 div.sk-parallel {display: flex;align-items: stretch;justify-content: center;background-color: white;position: relative;}#sk-container-id-1 div.sk-item::before, #sk-container-id-1 div.sk-parallel-item::before {content: \"\";position: absolute;border-left: 1px solid gray;box-sizing: border-box;top: 0;bottom: 0;left: 50%;z-index: -1;}#sk-container-id-1 div.sk-parallel-item {display: flex;flex-direction: column;z-index: 1;position: relative;background-color: white;}#sk-container-id-1 div.sk-parallel-item:first-child::after {align-self: flex-end;width: 50%;}#sk-container-id-1 div.sk-parallel-item:last-child::after {align-self: flex-start;width: 50%;}#sk-container-id-1 div.sk-parallel-item:only-child::after {width: 0;}#sk-container-id-1 div.sk-dashed-wrapped {border: 1px dashed gray;margin: 0 0.4em 0.5em 0.4em;box-sizing: border-box;padding-bottom: 0.4em;background-color: white;}#sk-container-id-1 div.sk-label label {font-family: monospace;font-weight: bold;display: inline-block;line-height: 1.2em;}#sk-container-id-1 div.sk-label-container {text-align: center;}#sk-container-id-1 div.sk-container {/* jupyter's `normalize.less` sets `[hidden] { display: none; }` but bootstrap.min.css set `[hidden] { display: none !important; }` so we also need the `!important` here to be able to override the default hidden behavior on the sphinx rendered scikit-learn.org. See: https://github.com/scikit-learn/scikit-learn/issues/21755 */display: inline-block !important;position: relative;}#sk-container-id-1 div.sk-text-repr-fallback {display: none;}</style><div id=\"sk-container-id-1\" class=\"sk-top-container\"><div class=\"sk-text-repr-fallback\"><pre>Pipeline(steps=[(&#x27;tfidf&#x27;, TfidfVectorizer()), (&#x27;clf&#x27;, MultinomialNB())])</pre><b>In a Jupyter environment, please rerun this cell to show the HTML representation or trust the notebook. <br />On GitHub, the HTML representation is unable to render, please try loading this page with nbviewer.org.</b></div><div class=\"sk-container\" hidden><div class=\"sk-item sk-dashed-wrapped\"><div class=\"sk-label-container\"><div class=\"sk-label sk-toggleable\"><input class=\"sk-toggleable__control sk-hidden--visually\" id=\"sk-estimator-id-1\" type=\"checkbox\" ><label for=\"sk-estimator-id-1\" class=\"sk-toggleable__label sk-toggleable__label-arrow\">Pipeline</label><div class=\"sk-toggleable__content\"><pre>Pipeline(steps=[(&#x27;tfidf&#x27;, TfidfVectorizer()), (&#x27;clf&#x27;, MultinomialNB())])</pre></div></div></div><div class=\"sk-serial\"><div class=\"sk-item\"><div class=\"sk-estimator sk-toggleable\"><input class=\"sk-toggleable__control sk-hidden--visually\" id=\"sk-estimator-id-2\" type=\"checkbox\" ><label for=\"sk-estimator-id-2\" class=\"sk-toggleable__label sk-toggleable__label-arrow\">TfidfVectorizer</label><div class=\"sk-toggleable__content\"><pre>TfidfVectorizer()</pre></div></div></div><div class=\"sk-item\"><div class=\"sk-estimator sk-toggleable\"><input class=\"sk-toggleable__control sk-hidden--visually\" id=\"sk-estimator-id-3\" type=\"checkbox\" ><label for=\"sk-estimator-id-3\" class=\"sk-toggleable__label sk-toggleable__label-arrow\">MultinomialNB</label><div class=\"sk-toggleable__content\"><pre>MultinomialNB()</pre></div></div></div></div></div></div></div>"
      ],
      "text/plain": [
       "Pipeline(steps=[('tfidf', TfidfVectorizer()), ('clf', MultinomialNB())])"
      ]
     },
     "execution_count": 36,
     "metadata": {},
     "output_type": "execute_result"
    }
   ],
   "source": [
    "# Fitting Training Data and Labels into Pipeline:\n",
    "model_0.fit(train_sentences, train_labels)"
   ]
  },
  {
   "cell_type": "code",
   "execution_count": null,
   "id": "bcb7ebbc",
   "metadata": {},
   "outputs": [],
   "source": []
  },
  {
   "cell_type": "code",
   "execution_count": 37,
   "id": "08b27c7c",
   "metadata": {},
   "outputs": [
    {
     "data": {
      "text/plain": [
       "0.7926509186351706"
      ]
     },
     "execution_count": 37,
     "metadata": {},
     "output_type": "execute_result"
    }
   ],
   "source": [
    "# Evaluating The Base Line Model:\n",
    "baseline_score = model_0.score(val_sentences, val_labels)\n",
    "baseline_score"
   ]
  },
  {
   "cell_type": "code",
   "execution_count": null,
   "id": "ee08c55d",
   "metadata": {},
   "outputs": [],
   "source": []
  },
  {
   "cell_type": "code",
   "execution_count": 38,
   "id": "ad59815d",
   "metadata": {},
   "outputs": [
    {
     "data": {
      "text/plain": [
       "array([1, 1, 1, 0, 0, 1, 1, 1, 1, 0, 0, 1, 0, 0, 0, 0, 0, 0, 0, 1, 1, 0,\n",
       "       0, 0, 1, 1, 0, 0, 0, 0, 1, 0, 0, 0, 0, 0, 1, 0, 0, 1, 0, 0, 0, 0,\n",
       "       0, 1, 0, 1, 0, 1, 0, 1, 0, 0, 0, 0, 0, 1, 0, 0, 0, 1, 1, 0, 1, 1,\n",
       "       0, 0, 0, 0, 0, 0, 0, 0, 0, 1, 0, 0, 0, 1, 1, 0, 1, 0, 0, 0, 0, 0,\n",
       "       1, 1, 1, 0, 0, 0, 1, 1, 1, 1, 1, 1, 1, 0, 0, 1, 1, 0, 0, 1, 0, 0,\n",
       "       1, 0, 0, 0, 0, 0, 0, 1, 1, 0, 1, 0, 0, 1, 0, 0, 0, 0, 0, 1, 0, 1,\n",
       "       1, 1, 1, 0, 1, 0, 0, 0, 1, 0, 0, 0, 0, 0, 0, 0, 0, 1, 1, 0, 0, 0,\n",
       "       0, 1, 0, 0, 1, 0, 1, 0, 0, 1, 0, 0, 1, 0, 1, 0, 1, 0, 1, 0, 1, 0,\n",
       "       0, 0, 0, 1, 0, 1, 1, 1, 1, 0, 0, 1, 0, 0, 0, 1, 0, 0, 0, 0, 0, 0,\n",
       "       1, 0, 0, 1, 1, 0, 0, 1, 0, 1, 1, 1, 0, 1, 0, 0, 0, 0, 1, 1, 0, 0,\n",
       "       1, 0, 0, 0, 1, 0, 0, 1, 1, 1, 0, 0, 1, 0, 1, 0, 0, 0, 0, 0, 0, 0,\n",
       "       1, 1, 0, 0, 1, 0, 0, 0, 0, 0, 0, 0, 1, 0, 1, 1, 0, 0, 0, 0, 0, 1,\n",
       "       1, 0, 1, 0, 0, 0, 0, 0, 1, 0, 0, 1, 0, 0, 1, 0, 0, 0, 1, 0, 1, 0,\n",
       "       1, 0, 0, 0, 0, 0, 0, 0, 0, 1, 0, 1, 0, 0, 0, 0, 0, 1, 0, 0, 0, 0,\n",
       "       0, 0, 0, 1, 0, 0, 1, 0, 1, 0, 0, 0, 0, 0, 1, 0, 1, 0, 0, 1, 0, 1,\n",
       "       0, 0, 1, 0, 0, 1, 0, 0, 0, 0, 0, 0, 1, 1, 0, 0, 0, 0, 0, 0, 0, 0,\n",
       "       0, 0, 0, 0, 1, 1, 1, 0, 0, 0, 0, 0, 0, 0, 0, 0, 0, 0, 0, 0, 0, 0,\n",
       "       0, 0, 0, 0, 0, 1, 1, 1, 0, 0, 0, 1, 1, 0, 1, 0, 0, 0, 0, 0, 0, 1,\n",
       "       0, 0, 0, 0, 1, 0, 1, 1, 0, 1, 0, 0, 0, 0, 1, 0, 0, 0, 1, 1, 0, 1,\n",
       "       0, 0, 1, 1, 1, 1, 0, 0, 0, 1, 0, 0, 0, 0, 0, 0, 0, 0, 0, 0, 1, 1,\n",
       "       0, 1, 0, 0, 0, 1, 0, 0, 0, 0, 0, 1, 1, 1, 1, 1, 0, 0, 1, 1, 1, 0,\n",
       "       0, 0, 1, 1, 0, 0, 1, 0, 0, 1, 0, 0, 0, 0, 1, 1, 0, 0, 0, 0, 0, 1,\n",
       "       0, 1, 0, 0, 0, 0, 0, 1, 0, 0, 0, 0, 0, 1, 0, 0, 1, 0, 0, 1, 0, 0,\n",
       "       0, 1, 0, 0, 0, 0, 0, 0, 1, 0, 1, 1, 1, 1, 0, 0, 1, 1, 0, 0, 0, 0,\n",
       "       0, 1, 1, 1, 0, 0, 1, 0, 1, 0, 0, 0, 0, 0, 0, 0, 0, 0, 0, 1, 1, 0,\n",
       "       0, 1, 0, 1, 0, 1, 0, 0, 0, 0, 0, 0, 1, 1, 1, 0, 1, 1, 0, 0, 1, 1,\n",
       "       1, 0, 0, 0, 0, 0, 1, 0, 0, 0, 1, 0, 0, 1, 0, 0, 0, 0, 0, 0, 0, 0,\n",
       "       0, 0, 0, 1, 1, 0, 0, 0, 1, 1, 1, 0, 1, 0, 0, 1, 0, 1, 0, 0, 1, 0,\n",
       "       0, 1, 0, 1, 1, 0, 1, 0, 0, 0, 0, 0, 0, 0, 0, 1, 1, 1, 1, 0, 0, 0,\n",
       "       0, 0, 1, 0, 1, 0, 0, 0, 0, 0, 0, 0, 1, 0, 0, 0, 0, 0, 0, 1, 0, 0,\n",
       "       0, 0, 1, 0, 0, 0, 0, 0, 1, 1, 0, 0, 0, 0, 1, 0, 1, 1, 0, 0, 0, 0,\n",
       "       0, 0, 0, 1, 0, 0, 0, 0, 1, 1, 1, 0, 1, 1, 1, 1, 1, 0, 0, 0, 1, 0,\n",
       "       0, 0, 0, 0, 0, 0, 0, 0, 1, 0, 0, 0, 0, 0, 1, 0, 0, 0, 0, 1, 0, 0,\n",
       "       0, 0, 1, 0, 0, 1, 1, 1, 1, 1, 0, 0, 0, 1, 1, 0, 0, 1, 0, 0, 0, 0,\n",
       "       0, 0, 0, 0, 1, 0, 1, 1, 0, 0, 0, 1, 0, 0], dtype=int64)"
      ]
     },
     "execution_count": 38,
     "metadata": {},
     "output_type": "execute_result"
    }
   ],
   "source": [
    "# Making Predictions\n",
    "baseline_preds = model_0.predict(val_sentences)\n",
    "baseline_preds"
   ]
  },
  {
   "cell_type": "code",
   "execution_count": null,
   "id": "55b95558",
   "metadata": {},
   "outputs": [],
   "source": []
  },
  {
   "cell_type": "markdown",
   "id": "d4cff853",
   "metadata": {},
   "source": [
    "### Creating an evaluation function for our model experiments\n",
    "\n",
    "We could evaluate these as they are but since we're going to be evaluating several models in the same way going forward, let's create a helper function which takes an array of predictions and ground truth labels and computes the following:\n",
    "* Accuracy\n",
    "* Precision\n",
    "* Recall\n",
    "* F1-score\n",
    "\n",
    "Note: Since we're dealing with a classification problem, the above metrics are the most appropriate. If we were working with a regression problem, other metrics such as MAE (mean absolute error) would be a better choice."
   ]
  },
  {
   "cell_type": "code",
   "execution_count": 39,
   "id": "9b47c8f1",
   "metadata": {},
   "outputs": [],
   "source": [
    "# Creating an Evaluation Function:\n",
    "\n",
    "from sklearn.metrics import accuracy_score, precision_recall_fscore_support\n",
    "\n",
    "def calculate_results(y_true, y_pred):\n",
    "    \"\"\"\n",
    "      Calculates model accuracy, precision, recall and f1 score of a binary classification model.\n",
    "\n",
    "      Args:\n",
    "      -----\n",
    "      y_true = true labels in the form of a 1D array\n",
    "      y_pred = predicted labels in the form of a 1D array\n",
    "\n",
    "      Returns a dictionary of accuracy, precision, recall, f1-score.\n",
    "    \"\"\"\n",
    "    # Calculate Model Accuracy:\n",
    "    model_accuracy= accuracy_score(y_true, y_pred) * 100\n",
    "    \n",
    "    # Calculate Model Precision, Recall and F1-Score:\n",
    "    model_precision, model_recall, model_F1, _ = precision_recall_fscore_support(y_true, y_pred, average= \"weighted\")\n",
    "    \n",
    "    model_results = {\"Accuracy\": model_accuracy,\n",
    "                    \"Precision\": model_precision,\n",
    "                    \"Recall\": model_recall,\n",
    "                    \"F1-Score\": model_F1}\n",
    "    \n",
    "    return model_results"
   ]
  },
  {
   "cell_type": "code",
   "execution_count": null,
   "id": "06ba096d",
   "metadata": {},
   "outputs": [],
   "source": []
  },
  {
   "cell_type": "code",
   "execution_count": 40,
   "id": "6c8b7d82",
   "metadata": {},
   "outputs": [
    {
     "data": {
      "text/plain": [
       "{'Accuracy': 79.26509186351706,\n",
       " 'Precision': 0.8111390004213173,\n",
       " 'Recall': 0.7926509186351706,\n",
       " 'F1-Score': 0.7862189758049549}"
      ]
     },
     "execution_count": 40,
     "metadata": {},
     "output_type": "execute_result"
    }
   ],
   "source": [
    "# Getting Results for Baseline Model:\n",
    "baseline_results = calculate_results(y_true= val_labels,\n",
    "                                    y_pred= baseline_preds)\n",
    "baseline_results"
   ]
  },
  {
   "cell_type": "code",
   "execution_count": null,
   "id": "cc8e1553",
   "metadata": {},
   "outputs": [],
   "source": []
  },
  {
   "cell_type": "markdown",
   "id": "818cf1dc",
   "metadata": {},
   "source": [
    "### Model 1: A simple dense model\n",
    "\n",
    "The first \"deep\" model we're going to build is a single layer dense model. In fact, it's barely going to have a single layer. \n",
    "\n",
    "It'll take our text and labels as input, tokenize the text, create an embedding, find the average of the embedding (using Global Average Pooling) and then pass the average through a fully connected layer with one output unit and a sigmoid activation function.\n",
    "\n",
    "If the previous sentence sounds like a mouthful, it'll make sense when we code it out (remember, if in doubt, code it out).\n",
    "\n",
    "And since we're going to be building a number of TensorFlow deep learning models, we'll import our `create_tensorboard_callback()` function from `helper_functions.py` to keep track of the results of each. "
   ]
  },
  {
   "cell_type": "code",
   "execution_count": 41,
   "id": "664ae98a",
   "metadata": {},
   "outputs": [],
   "source": [
    "from helper_functions import create_tensorboard_callback\n",
    "from tensorflow.keras.layers import Input, GlobalAveragePooling1D, Dense\n",
    "from tensorflow.keras import Model\n",
    "\n",
    "from tensorflow.keras.optimizers import Adam\n",
    "from tensorflow.keras.losses import BinaryCrossentropy"
   ]
  },
  {
   "cell_type": "code",
   "execution_count": 42,
   "id": "1061481c",
   "metadata": {},
   "outputs": [],
   "source": [
    "# Creating a Directory to Save TensorBoard Logs:\n",
    "SAVE_DIR = \"model_logs\""
   ]
  },
  {
   "cell_type": "code",
   "execution_count": 43,
   "id": "22352af7",
   "metadata": {},
   "outputs": [],
   "source": [
    "# Building a Model with Functional API:\n",
    "\n",
    "inputs = Input(shape=(1,), dtype= tf.string) # inputs are 1-dimensional strings\n",
    "x = text_vectorizer(inputs) # turn the input text into numbers\n",
    "x = embedding(x) # create an embedding of the numerized numbers\n",
    "x = GlobalAveragePooling1D()(x) # lower the dimensionality of the embedding\n",
    "outputs = Dense(1, activation= \"sigmoid\")(x)  # create the output layer, want binary outputs so use sigmoid activation\n",
    "model_1 = Model(inputs, outputs, name= \"Model_1_Dense\") # construct the model"
   ]
  },
  {
   "cell_type": "code",
   "execution_count": 44,
   "id": "a22a80ed",
   "metadata": {},
   "outputs": [
    {
     "name": "stdout",
     "output_type": "stream",
     "text": [
      "Model: \"Model_1_Dense\"\n",
      "_________________________________________________________________\n",
      " Layer (type)                Output Shape              Param #   \n",
      "=================================================================\n",
      " input_1 (InputLayer)        [(None, 1)]               0         \n",
      "                                                                 \n",
      " text_vectorization_1 (Text  (None, 15)                0         \n",
      " Vectorization)                                                  \n",
      "                                                                 \n",
      " Embedding_1 (Embedding)     (None, 15, 128)           1280000   \n",
      "                                                                 \n",
      " global_average_pooling1d (  (None, 128)               0         \n",
      " GlobalAveragePooling1D)                                         \n",
      "                                                                 \n",
      " dense (Dense)               (None, 1)                 129       \n",
      "                                                                 \n",
      "=================================================================\n",
      "Total params: 1280129 (4.88 MB)\n",
      "Trainable params: 1280129 (4.88 MB)\n",
      "Non-trainable params: 0 (0.00 Byte)\n",
      "_________________________________________________________________\n"
     ]
    }
   ],
   "source": [
    "# Model 1 Summary:\n",
    "model_1.summary()"
   ]
  },
  {
   "cell_type": "code",
   "execution_count": 45,
   "id": "85d18ee7",
   "metadata": {},
   "outputs": [],
   "source": [
    "# Compiling The Model:\n",
    "model_1.compile(optimizer= Adam(),\n",
    "               loss= BinaryCrossentropy(),\n",
    "               metrics= [\"accuracy\"])"
   ]
  },
  {
   "cell_type": "code",
   "execution_count": 46,
   "id": "183045d8",
   "metadata": {},
   "outputs": [
    {
     "name": "stdout",
     "output_type": "stream",
     "text": [
      "Saving TensorBoard log files to: model_logs/Model_1_Dense/20240517-151135\n",
      "Epoch 1/5\n",
      "WARNING:tensorflow:From C:\\Users\\shail\\AppData\\Roaming\\Python\\Python311\\site-packages\\tf_keras\\src\\engine\\base_layer_utils.py:384: The name tf.executing_eagerly_outside_functions is deprecated. Please use tf.compat.v1.executing_eagerly_outside_functions instead.\n",
      "\n",
      "215/215 [==============================] - 32s 15ms/step - loss: 0.6098 - accuracy: 0.6939 - val_loss: 0.5365 - val_accuracy: 0.7572\n",
      "Epoch 2/5\n",
      "215/215 [==============================] - 2s 10ms/step - loss: 0.4416 - accuracy: 0.8186 - val_loss: 0.4693 - val_accuracy: 0.7848\n",
      "Epoch 3/5\n",
      "215/215 [==============================] - 2s 11ms/step - loss: 0.3467 - accuracy: 0.8605 - val_loss: 0.4590 - val_accuracy: 0.7900\n",
      "Epoch 4/5\n",
      "215/215 [==============================] - 2s 11ms/step - loss: 0.2851 - accuracy: 0.8914 - val_loss: 0.4640 - val_accuracy: 0.7887\n",
      "Epoch 5/5\n",
      "215/215 [==============================] - 2s 10ms/step - loss: 0.2382 - accuracy: 0.9113 - val_loss: 0.4765 - val_accuracy: 0.7861\n"
     ]
    }
   ],
   "source": [
    "# Fit The Model:\n",
    "model_1_history = model_1.fit(x=train_sentences,\n",
    "                             y=train_labels,\n",
    "                             validation_data= (val_sentences, val_labels),\n",
    "                             callbacks= [create_tensorboard_callback(dir_name= SAVE_DIR,\n",
    "                                                experiment_name= \"Model_1_Dense\")],\n",
    "                             epochs= 5)"
   ]
  },
  {
   "cell_type": "code",
   "execution_count": null,
   "id": "66be425d",
   "metadata": {},
   "outputs": [],
   "source": []
  },
  {
   "cell_type": "code",
   "execution_count": 47,
   "id": "8063328b",
   "metadata": {},
   "outputs": [
    {
     "name": "stdout",
     "output_type": "stream",
     "text": [
      "24/24 [==============================] - 0s 4ms/step - loss: 0.4765 - accuracy: 0.7861\n"
     ]
    },
    {
     "data": {
      "text/plain": [
       "[0.47651204466819763, 0.7860892415046692]"
      ]
     },
     "execution_count": 47,
     "metadata": {},
     "output_type": "execute_result"
    }
   ],
   "source": [
    "# Evaluating The Model:\n",
    "model_1.evaluate(val_sentences, val_labels)"
   ]
  },
  {
   "cell_type": "code",
   "execution_count": null,
   "id": "1435d6be",
   "metadata": {},
   "outputs": [],
   "source": []
  },
  {
   "cell_type": "code",
   "execution_count": 48,
   "id": "0bb9fa03",
   "metadata": {},
   "outputs": [
    {
     "name": "stdout",
     "output_type": "stream",
     "text": [
      "24/24 [==============================] - 1s 3ms/step\n"
     ]
    },
    {
     "data": {
      "text/plain": [
       "array([[4.14379179e-01],\n",
       "       [7.43882835e-01],\n",
       "       [9.97855425e-01],\n",
       "       [1.08832240e-01],\n",
       "       [1.05136089e-01],\n",
       "       [9.35031474e-01],\n",
       "       [9.11083639e-01],\n",
       "       [9.92830813e-01],\n",
       "       [9.67259705e-01],\n",
       "       [2.63125539e-01],\n",
       "       [1.17619753e-01],\n",
       "       [7.09145665e-01],\n",
       "       [5.32327779e-02],\n",
       "       [2.19969049e-01],\n",
       "       [5.47746709e-03],\n",
       "       [1.58651993e-01],\n",
       "       [2.62049213e-02],\n",
       "       [1.00201473e-01],\n",
       "       [2.42151678e-01],\n",
       "       [5.54648221e-01],\n",
       "       [9.13423598e-01],\n",
       "       [4.01339643e-02],\n",
       "       [4.54459339e-01],\n",
       "       [1.00851096e-01],\n",
       "       [9.58328903e-01],\n",
       "       [9.98982549e-01],\n",
       "       [3.41128893e-02],\n",
       "       [7.17111528e-02],\n",
       "       [2.63802223e-02],\n",
       "       [2.09587142e-01],\n",
       "       [5.72296560e-01],\n",
       "       [2.37163976e-01],\n",
       "       [5.14427483e-01],\n",
       "       [2.15842381e-01],\n",
       "       [5.27274072e-01],\n",
       "       [5.62030375e-02],\n",
       "       [9.94588435e-01],\n",
       "       [1.42260641e-01],\n",
       "       [3.64319794e-02],\n",
       "       [9.98426735e-01],\n",
       "       [1.82202429e-01],\n",
       "       [2.12754384e-02],\n",
       "       [3.48827899e-01],\n",
       "       [6.11104518e-02],\n",
       "       [6.55878186e-01],\n",
       "       [9.80935633e-01],\n",
       "       [3.16870660e-01],\n",
       "       [9.20682430e-01],\n",
       "       [2.11056843e-01],\n",
       "       [6.22300863e-01],\n",
       "       [6.79215491e-02],\n",
       "       [5.23834109e-01],\n",
       "       [4.32991803e-01],\n",
       "       [2.91453507e-02],\n",
       "       [1.32550970e-01],\n",
       "       [3.25750820e-02],\n",
       "       [2.28247076e-01],\n",
       "       [9.58551824e-01],\n",
       "       [1.25782833e-01],\n",
       "       [2.82994215e-03],\n",
       "       [1.32128224e-01],\n",
       "       [9.62394297e-01],\n",
       "       [9.21172500e-01],\n",
       "       [1.49090946e-01],\n",
       "       [9.31245148e-01],\n",
       "       [9.80416536e-01],\n",
       "       [7.19950020e-01],\n",
       "       [4.51688409e-01],\n",
       "       [1.18111029e-01],\n",
       "       [1.37089223e-01],\n",
       "       [9.30826217e-02],\n",
       "       [3.11174355e-02],\n",
       "       [9.30568457e-01],\n",
       "       [1.25440642e-01],\n",
       "       [1.36272043e-01],\n",
       "       [4.28414583e-01],\n",
       "       [3.53039682e-01],\n",
       "       [8.16071630e-01],\n",
       "       [2.49931112e-01],\n",
       "       [5.91865242e-01],\n",
       "       [4.73856330e-01],\n",
       "       [2.59126216e-01],\n",
       "       [9.96402264e-01],\n",
       "       [1.19460166e-01],\n",
       "       [1.80173144e-01],\n",
       "       [1.04698703e-01],\n",
       "       [1.94456801e-02],\n",
       "       [9.81361791e-02],\n",
       "       [6.81902349e-01],\n",
       "       [8.92491162e-01],\n",
       "       [9.92673874e-01],\n",
       "       [1.08811269e-02],\n",
       "       [5.04750550e-01],\n",
       "       [3.08088195e-02],\n",
       "       [9.79616046e-01],\n",
       "       [7.32186377e-01],\n",
       "       [8.37480783e-01],\n",
       "       [9.78808641e-01],\n",
       "       [8.69956493e-01],\n",
       "       [9.49652672e-01],\n",
       "       [9.99403656e-01],\n",
       "       [1.61382288e-01],\n",
       "       [1.23809632e-02],\n",
       "       [9.12940502e-01],\n",
       "       [8.95629346e-01],\n",
       "       [8.58452097e-02],\n",
       "       [8.76990020e-01],\n",
       "       [9.77231264e-01],\n",
       "       [7.44735152e-02],\n",
       "       [4.64694232e-01],\n",
       "       [7.28622496e-01],\n",
       "       [3.53319049e-02],\n",
       "       [2.46274576e-01],\n",
       "       [1.93148121e-01],\n",
       "       [1.43777236e-01],\n",
       "       [4.58360136e-01],\n",
       "       [5.16901195e-01],\n",
       "       [7.64625788e-01],\n",
       "       [7.40130484e-01],\n",
       "       [9.92134884e-02],\n",
       "       [9.99734759e-01],\n",
       "       [1.01496942e-01],\n",
       "       [1.35028645e-01],\n",
       "       [8.11304688e-01],\n",
       "       [4.96734142e-01],\n",
       "       [2.59354234e-01],\n",
       "       [8.59412432e-01],\n",
       "       [1.15969256e-02],\n",
       "       [6.65893182e-02],\n",
       "       [7.88962483e-01],\n",
       "       [9.47047919e-02],\n",
       "       [9.99734759e-01],\n",
       "       [9.99819517e-01],\n",
       "       [9.98982549e-01],\n",
       "       [9.85512674e-01],\n",
       "       [9.31761488e-02],\n",
       "       [9.71618533e-01],\n",
       "       [1.74886435e-01],\n",
       "       [2.98273683e-01],\n",
       "       [8.63443315e-02],\n",
       "       [9.96434033e-01],\n",
       "       [3.43315691e-01],\n",
       "       [2.19969049e-01],\n",
       "       [9.53368068e-01],\n",
       "       [2.21513674e-01],\n",
       "       [6.29627883e-01],\n",
       "       [4.45317738e-02],\n",
       "       [7.95186218e-03],\n",
       "       [2.53746122e-01],\n",
       "       [9.80845809e-01],\n",
       "       [2.83807576e-01],\n",
       "       [6.10672198e-02],\n",
       "       [4.25720900e-01],\n",
       "       [1.98580146e-01],\n",
       "       [2.57536709e-01],\n",
       "       [9.91908312e-01],\n",
       "       [7.99564838e-01],\n",
       "       [4.79406744e-01],\n",
       "       [9.89123046e-01],\n",
       "       [2.10454315e-02],\n",
       "       [9.71201122e-01],\n",
       "       [5.81551082e-02],\n",
       "       [2.64597833e-01],\n",
       "       [9.91315663e-01],\n",
       "       [2.47151494e-01],\n",
       "       [9.35781896e-02],\n",
       "       [9.98575568e-01],\n",
       "       [2.88731188e-01],\n",
       "       [9.84085739e-01],\n",
       "       [2.09797323e-01],\n",
       "       [9.93425846e-01],\n",
       "       [8.64927530e-01],\n",
       "       [8.12059999e-01],\n",
       "       [3.04463115e-02],\n",
       "       [9.97794032e-01],\n",
       "       [6.48442060e-02],\n",
       "       [3.93803358e-01],\n",
       "       [4.46094602e-01],\n",
       "       [7.64396250e-01],\n",
       "       [9.94536459e-01],\n",
       "       [1.75073184e-02],\n",
       "       [7.92206705e-01],\n",
       "       [8.15290153e-01],\n",
       "       [9.74037349e-01],\n",
       "       [9.74103510e-01],\n",
       "       [4.48974848e-01],\n",
       "       [8.75170156e-02],\n",
       "       [9.99498844e-01],\n",
       "       [1.58977956e-02],\n",
       "       [3.29608209e-02],\n",
       "       [1.23563394e-01],\n",
       "       [9.12679553e-01],\n",
       "       [9.69515368e-02],\n",
       "       [2.59847790e-01],\n",
       "       [1.58515647e-02],\n",
       "       [9.96488631e-02],\n",
       "       [4.53482978e-02],\n",
       "       [2.13078827e-01],\n",
       "       [7.85535634e-01],\n",
       "       [7.11664110e-02],\n",
       "       [2.92752415e-01],\n",
       "       [8.75349581e-01],\n",
       "       [9.75839674e-01],\n",
       "       [3.90993446e-01],\n",
       "       [1.28841922e-01],\n",
       "       [9.99835014e-01],\n",
       "       [5.79444408e-01],\n",
       "       [9.26021218e-01],\n",
       "       [6.79871261e-01],\n",
       "       [8.43250394e-01],\n",
       "       [3.20750356e-01],\n",
       "       [9.80792284e-01],\n",
       "       [2.37258226e-02],\n",
       "       [2.08729431e-01],\n",
       "       [7.14521762e-03],\n",
       "       [6.31458033e-03],\n",
       "       [9.58687961e-01],\n",
       "       [8.23633432e-01],\n",
       "       [9.03730452e-01],\n",
       "       [1.54724419e-01],\n",
       "       [7.30650604e-01],\n",
       "       [8.57295319e-02],\n",
       "       [2.69809365e-02],\n",
       "       [1.85257107e-01],\n",
       "       [9.78110969e-01],\n",
       "       [1.96162269e-01],\n",
       "       [5.42859256e-01],\n",
       "       [9.93378997e-01],\n",
       "       [5.89644670e-01],\n",
       "       [5.97559333e-01],\n",
       "       [9.88793299e-02],\n",
       "       [2.53100216e-01],\n",
       "       [8.04419994e-01],\n",
       "       [2.67994732e-01],\n",
       "       [4.93002683e-01],\n",
       "       [1.28511220e-01],\n",
       "       [6.12615407e-01],\n",
       "       [3.43819290e-01],\n",
       "       [1.73722282e-01],\n",
       "       [1.00081548e-01],\n",
       "       [4.64676917e-01],\n",
       "       [2.43427828e-01],\n",
       "       [9.99834359e-01],\n",
       "       [9.85934377e-01],\n",
       "       [7.39879385e-02],\n",
       "       [2.59371158e-02],\n",
       "       [8.75337303e-01],\n",
       "       [1.10137299e-01],\n",
       "       [7.87581056e-02],\n",
       "       [4.83669341e-01],\n",
       "       [4.09035794e-02],\n",
       "       [5.88324487e-01],\n",
       "       [9.35179531e-04],\n",
       "       [4.52011496e-01],\n",
       "       [9.17066932e-01],\n",
       "       [1.82039678e-01],\n",
       "       [9.71389174e-01],\n",
       "       [9.99045074e-01],\n",
       "       [2.66681165e-01],\n",
       "       [1.74528465e-01],\n",
       "       [3.71377379e-01],\n",
       "       [3.29770595e-02],\n",
       "       [4.60222689e-03],\n",
       "       [9.81007338e-01],\n",
       "       [9.69326794e-01],\n",
       "       [7.04410076e-01],\n",
       "       [9.50100482e-01],\n",
       "       [5.43978810e-02],\n",
       "       [1.79508895e-01],\n",
       "       [7.87301082e-03],\n",
       "       [1.83416694e-01],\n",
       "       [3.16814743e-02],\n",
       "       [9.60595906e-01],\n",
       "       [1.10609770e-01],\n",
       "       [1.01331864e-02],\n",
       "       [9.71948504e-01],\n",
       "       [1.13768447e-02],\n",
       "       [8.54080841e-02],\n",
       "       [9.82546091e-01],\n",
       "       [5.02720363e-02],\n",
       "       [7.62814805e-02],\n",
       "       [8.21057148e-03],\n",
       "       [9.68774259e-01],\n",
       "       [6.15174711e-01],\n",
       "       [7.75245309e-01],\n",
       "       [7.11567163e-01],\n",
       "       [5.71223974e-01],\n",
       "       [7.93183297e-02],\n",
       "       [9.31488454e-01],\n",
       "       [4.27575074e-02],\n",
       "       [7.33977079e-01],\n",
       "       [4.04159129e-01],\n",
       "       [3.60667229e-01],\n",
       "       [3.84598196e-01],\n",
       "       [1.89957604e-01],\n",
       "       [7.63118565e-01],\n",
       "       [2.39126772e-01],\n",
       "       [6.58789754e-01],\n",
       "       [1.51405364e-01],\n",
       "       [8.19598973e-01],\n",
       "       [4.18599918e-02],\n",
       "       [8.27964768e-02],\n",
       "       [2.35286757e-01],\n",
       "       [9.83647943e-01],\n",
       "       [1.57653287e-01],\n",
       "       [8.50181878e-02],\n",
       "       [3.28050792e-01],\n",
       "       [2.04975203e-01],\n",
       "       [1.25271201e-01],\n",
       "       [2.72224676e-02],\n",
       "       [3.06063239e-02],\n",
       "       [9.81579423e-01],\n",
       "       [3.39008898e-01],\n",
       "       [1.84884980e-01],\n",
       "       [9.99779820e-01],\n",
       "       [4.15846519e-02],\n",
       "       [6.41294122e-01],\n",
       "       [2.34839618e-01],\n",
       "       [5.05880453e-02],\n",
       "       [1.42384112e-01],\n",
       "       [1.78290457e-01],\n",
       "       [1.08560257e-01],\n",
       "       [9.19068813e-01],\n",
       "       [2.52298266e-01],\n",
       "       [9.85847652e-01],\n",
       "       [8.05799142e-02],\n",
       "       [2.45671738e-02],\n",
       "       [9.94355798e-01],\n",
       "       [2.22974680e-02],\n",
       "       [9.96797740e-01],\n",
       "       [1.55193061e-01],\n",
       "       [3.40615064e-02],\n",
       "       [9.58651721e-01],\n",
       "       [4.51372974e-02],\n",
       "       [3.94897796e-02],\n",
       "       [9.79036391e-01],\n",
       "       [5.84164122e-03],\n",
       "       [1.74270406e-01],\n",
       "       [7.83940673e-01],\n",
       "       [9.22114491e-01],\n",
       "       [5.18897455e-03],\n",
       "       [1.80154175e-01],\n",
       "       [9.84200001e-01],\n",
       "       [9.69615817e-01],\n",
       "       [7.57254899e-01],\n",
       "       [4.31351334e-01],\n",
       "       [5.73652864e-01],\n",
       "       [4.36611235e-01],\n",
       "       [4.64828350e-02],\n",
       "       [9.63100195e-02],\n",
       "       [8.51114094e-02],\n",
       "       [7.13938355e-01],\n",
       "       [3.76367532e-02],\n",
       "       [4.35147166e-01],\n",
       "       [3.72841001e-01],\n",
       "       [1.21490406e-02],\n",
       "       [9.61015224e-01],\n",
       "       [9.98982549e-01],\n",
       "       [9.93559957e-01],\n",
       "       [3.29140909e-02],\n",
       "       [3.61642778e-01],\n",
       "       [1.54298350e-01],\n",
       "       [4.50843990e-01],\n",
       "       [8.17341328e-01],\n",
       "       [1.63664714e-01],\n",
       "       [1.92003455e-02],\n",
       "       [6.79410920e-02],\n",
       "       [4.56931964e-02],\n",
       "       [5.65812767e-01],\n",
       "       [1.14780664e-02],\n",
       "       [2.59061307e-01],\n",
       "       [3.93133424e-02],\n",
       "       [4.16748613e-01],\n",
       "       [4.25534636e-01],\n",
       "       [3.42944115e-01],\n",
       "       [1.71535954e-01],\n",
       "       [5.61565422e-02],\n",
       "       [3.69345725e-01],\n",
       "       [8.20202380e-02],\n",
       "       [9.96775091e-01],\n",
       "       [9.06909227e-01],\n",
       "       [4.09352571e-01],\n",
       "       [6.50222003e-01],\n",
       "       [2.03565825e-02],\n",
       "       [4.86365765e-01],\n",
       "       [9.90320086e-01],\n",
       "       [7.14739323e-01],\n",
       "       [1.96390033e-01],\n",
       "       [9.82692659e-01],\n",
       "       [1.88419387e-01],\n",
       "       [9.48328257e-01],\n",
       "       [3.21314275e-01],\n",
       "       [2.93109007e-02],\n",
       "       [5.53671777e-01],\n",
       "       [4.50567037e-01],\n",
       "       [9.96327281e-01],\n",
       "       [1.12340003e-01],\n",
       "       [4.46510911e-02],\n",
       "       [7.24530369e-02],\n",
       "       [1.63664714e-01],\n",
       "       [9.99024391e-01],\n",
       "       [2.78304946e-02],\n",
       "       [5.87323725e-01],\n",
       "       [9.71848547e-01],\n",
       "       [9.88728255e-02],\n",
       "       [9.99734759e-01],\n",
       "       [3.57890055e-02],\n",
       "       [3.23815525e-01],\n",
       "       [5.90636320e-02],\n",
       "       [7.83980429e-01],\n",
       "       [9.26120996e-01],\n",
       "       [6.83231652e-02],\n",
       "       [2.01041950e-03],\n",
       "       [2.48248458e-01],\n",
       "       [9.89541709e-01],\n",
       "       [8.23627830e-01],\n",
       "       [1.07812665e-01],\n",
       "       [4.83132303e-01],\n",
       "       [7.32998729e-01],\n",
       "       [2.35386621e-02],\n",
       "       [9.93591785e-01],\n",
       "       [5.45586824e-01],\n",
       "       [9.98865068e-01],\n",
       "       [9.21861231e-01],\n",
       "       [9.88667831e-02],\n",
       "       [4.03001249e-01],\n",
       "       [1.23426795e-01],\n",
       "       [9.32295084e-01],\n",
       "       [7.70141900e-01],\n",
       "       [3.91260982e-01],\n",
       "       [3.04629989e-02],\n",
       "       [3.09378862e-01],\n",
       "       [4.89433035e-02],\n",
       "       [7.11665004e-02],\n",
       "       [1.27559558e-01],\n",
       "       [3.87273729e-01],\n",
       "       [4.73939568e-01],\n",
       "       [1.42629221e-01],\n",
       "       [9.99109864e-01],\n",
       "       [9.84958172e-01],\n",
       "       [2.81958997e-01],\n",
       "       [7.43882835e-01],\n",
       "       [2.60037869e-01],\n",
       "       [4.53135259e-02],\n",
       "       [2.91240156e-01],\n",
       "       [6.87142551e-01],\n",
       "       [1.07177041e-01],\n",
       "       [1.99765310e-01],\n",
       "       [2.10216753e-02],\n",
       "       [4.72666234e-01],\n",
       "       [1.89435424e-03],\n",
       "       [9.51317310e-01],\n",
       "       [9.77357805e-01],\n",
       "       [9.92654085e-01],\n",
       "       [9.78216588e-01],\n",
       "       [8.01362097e-01],\n",
       "       [1.96809575e-01],\n",
       "       [5.32863513e-02],\n",
       "       [6.87227011e-01],\n",
       "       [9.25174296e-01],\n",
       "       [9.98055696e-01],\n",
       "       [3.08847916e-03],\n",
       "       [1.58678561e-01],\n",
       "       [1.60421789e-01],\n",
       "       [9.98948693e-01],\n",
       "       [9.99286652e-01],\n",
       "       [2.31291801e-01],\n",
       "       [1.31653056e-01],\n",
       "       [9.96519625e-01],\n",
       "       [4.79154810e-02],\n",
       "       [3.14324617e-01],\n",
       "       [9.84883487e-01],\n",
       "       [1.16307482e-01],\n",
       "       [4.24625166e-02],\n",
       "       [9.27031696e-01],\n",
       "       [3.47081095e-01],\n",
       "       [3.83380145e-01],\n",
       "       [9.66567397e-01],\n",
       "       [2.28978246e-02],\n",
       "       [6.27552792e-02],\n",
       "       [9.75783262e-03],\n",
       "       [1.76804196e-02],\n",
       "       [1.00633450e-01],\n",
       "       [9.73658264e-01],\n",
       "       [2.01138537e-02],\n",
       "       [4.37936604e-01],\n",
       "       [4.69202071e-01],\n",
       "       [6.30045086e-02],\n",
       "       [2.59625852e-01],\n",
       "       [7.78648481e-02],\n",
       "       [3.78340214e-01],\n",
       "       [9.97754097e-01],\n",
       "       [5.85594475e-01],\n",
       "       [1.22686081e-01],\n",
       "       [1.35731325e-01],\n",
       "       [1.42939746e-01],\n",
       "       [6.52088597e-02],\n",
       "       [6.86757028e-01],\n",
       "       [2.36442909e-02],\n",
       "       [8.91060114e-01],\n",
       "       [7.93657243e-01],\n",
       "       [5.83561420e-01],\n",
       "       [6.40956998e-01],\n",
       "       [7.97347546e-01],\n",
       "       [8.44714195e-02],\n",
       "       [2.73587584e-01],\n",
       "       [4.14003611e-01],\n",
       "       [9.09751594e-01],\n",
       "       [2.50710666e-01],\n",
       "       [2.05709040e-01],\n",
       "       [3.89375269e-01],\n",
       "       [1.55031458e-02],\n",
       "       [1.13703795e-01],\n",
       "       [3.59048337e-01],\n",
       "       [7.81712234e-01],\n",
       "       [1.06653407e-01],\n",
       "       [9.91985321e-01],\n",
       "       [8.93128872e-01],\n",
       "       [7.32186377e-01],\n",
       "       [9.86197054e-01],\n",
       "       [1.24034293e-01],\n",
       "       [6.42316788e-02],\n",
       "       [8.91016662e-01],\n",
       "       [2.01057807e-01],\n",
       "       [1.81669127e-02],\n",
       "       [6.43966049e-02],\n",
       "       [1.36732116e-01],\n",
       "       [1.35692523e-03],\n",
       "       [8.45218301e-01],\n",
       "       [7.73142576e-01],\n",
       "       [8.29094708e-01],\n",
       "       [9.36293542e-01],\n",
       "       [9.97003987e-02],\n",
       "       [1.22225083e-01],\n",
       "       [6.91297710e-01],\n",
       "       [1.42478729e-02],\n",
       "       [2.82467455e-01],\n",
       "       [1.35232523e-01],\n",
       "       [5.68543673e-01],\n",
       "       [5.49830377e-01],\n",
       "       [6.34100810e-02],\n",
       "       [7.37076029e-02],\n",
       "       [4.65744704e-01],\n",
       "       [1.08287588e-01],\n",
       "       [1.04143195e-01],\n",
       "       [1.79036573e-01],\n",
       "       [2.52780408e-01],\n",
       "       [9.98506248e-01],\n",
       "       [9.81200278e-01],\n",
       "       [3.74933273e-01],\n",
       "       [8.46353769e-01],\n",
       "       [9.90872979e-01],\n",
       "       [1.60540477e-03],\n",
       "       [9.66243625e-01],\n",
       "       [2.29976341e-01],\n",
       "       [4.71701115e-01],\n",
       "       [2.30005980e-01],\n",
       "       [1.04171559e-01],\n",
       "       [1.28513426e-01],\n",
       "       [2.07241923e-02],\n",
       "       [9.68529880e-02],\n",
       "       [7.13345483e-02],\n",
       "       [7.24091053e-01],\n",
       "       [2.63770312e-01],\n",
       "       [9.92008805e-01],\n",
       "       [4.21314947e-02],\n",
       "       [7.10709691e-01],\n",
       "       [6.01435959e-01],\n",
       "       [2.15618014e-02],\n",
       "       [6.18174821e-02],\n",
       "       [9.71214652e-01],\n",
       "       [7.19401836e-01],\n",
       "       [9.53470409e-01],\n",
       "       [1.46230415e-01],\n",
       "       [9.17511061e-02],\n",
       "       [4.49052244e-01],\n",
       "       [3.44954282e-01],\n",
       "       [2.72799432e-01],\n",
       "       [9.90872979e-01],\n",
       "       [1.19845066e-02],\n",
       "       [4.36569341e-02],\n",
       "       [1.18241772e-01],\n",
       "       [9.96453226e-01],\n",
       "       [2.13207275e-01],\n",
       "       [6.18768595e-02],\n",
       "       [8.26824486e-01],\n",
       "       [5.88705651e-02],\n",
       "       [3.64512615e-02],\n",
       "       [1.49141833e-01],\n",
       "       [2.01963827e-01],\n",
       "       [1.16686076e-01],\n",
       "       [3.60066593e-01],\n",
       "       [3.80011499e-01],\n",
       "       [1.88828364e-01],\n",
       "       [8.51119086e-02],\n",
       "       [3.47743124e-01],\n",
       "       [1.83350313e-02],\n",
       "       [9.40945208e-01],\n",
       "       [8.40539217e-01],\n",
       "       [4.41354156e-01],\n",
       "       [3.97620983e-02],\n",
       "       [1.88608840e-02],\n",
       "       [9.87266541e-01],\n",
       "       [7.12390304e-01],\n",
       "       [9.99540627e-01],\n",
       "       [2.55227596e-01],\n",
       "       [8.82382452e-01],\n",
       "       [9.94719490e-02],\n",
       "       [5.62122405e-01],\n",
       "       [6.76359892e-01],\n",
       "       [2.04694252e-02],\n",
       "       [9.79203641e-01],\n",
       "       [8.69572610e-02],\n",
       "       [5.43733537e-01],\n",
       "       [9.98320043e-01],\n",
       "       [1.66033939e-01],\n",
       "       [3.44674774e-02],\n",
       "       [3.05907160e-01],\n",
       "       [1.05849765e-02],\n",
       "       [4.55180585e-01],\n",
       "       [9.99835014e-01],\n",
       "       [2.24333853e-01],\n",
       "       [9.39212501e-01],\n",
       "       [2.29641601e-01],\n",
       "       [7.45362401e-01],\n",
       "       [2.17500985e-01],\n",
       "       [2.49113470e-01],\n",
       "       [1.78683419e-02],\n",
       "       [6.45848513e-01],\n",
       "       [1.52716804e-02],\n",
       "       [1.86160222e-01],\n",
       "       [9.49738622e-01],\n",
       "       [9.46366072e-01],\n",
       "       [9.94814336e-01],\n",
       "       [7.64386773e-01],\n",
       "       [4.37804312e-02],\n",
       "       [3.05658638e-01],\n",
       "       [1.11975744e-02],\n",
       "       [4.50753003e-01],\n",
       "       [3.87145281e-01],\n",
       "       [8.69590819e-01],\n",
       "       [3.57529707e-02],\n",
       "       [7.46595085e-01],\n",
       "       [8.29494417e-01],\n",
       "       [2.71304637e-01],\n",
       "       [1.90859869e-01],\n",
       "       [2.05709040e-01],\n",
       "       [1.96816191e-01],\n",
       "       [3.67365450e-01],\n",
       "       [6.68685138e-01],\n",
       "       [9.98678446e-01],\n",
       "       [5.67452572e-02],\n",
       "       [7.60853756e-03],\n",
       "       [1.98690239e-02],\n",
       "       [2.14748189e-01],\n",
       "       [2.19683334e-01],\n",
       "       [2.34670117e-02],\n",
       "       [7.96502590e-01],\n",
       "       [1.02537811e-01],\n",
       "       [2.02829823e-01],\n",
       "       [2.13483050e-01],\n",
       "       [2.09377497e-01],\n",
       "       [9.29301202e-01],\n",
       "       [1.69265494e-01],\n",
       "       [5.28953314e-01],\n",
       "       [3.23527426e-01],\n",
       "       [1.35012735e-02],\n",
       "       [1.29836753e-01],\n",
       "       [9.99704242e-01],\n",
       "       [7.76778400e-01],\n",
       "       [4.60693007e-03],\n",
       "       [3.31119925e-01],\n",
       "       [1.27739012e-01],\n",
       "       [8.09623450e-02],\n",
       "       [8.78340364e-01],\n",
       "       [5.34446716e-01],\n",
       "       [6.27979517e-01],\n",
       "       [3.85188460e-01],\n",
       "       [2.10776865e-01],\n",
       "       [6.64961994e-01],\n",
       "       [1.45893857e-01],\n",
       "       [5.28992079e-02],\n",
       "       [9.14628327e-01],\n",
       "       [1.60284460e-01],\n",
       "       [3.67623061e-01],\n",
       "       [9.78204727e-01],\n",
       "       [3.24385375e-01],\n",
       "       [3.55545521e-01],\n",
       "       [1.35692523e-03],\n",
       "       [2.49560714e-01],\n",
       "       [8.26567411e-01],\n",
       "       [9.99734759e-01],\n",
       "       [7.01381803e-01],\n",
       "       [4.78923433e-02],\n",
       "       [9.88600612e-01],\n",
       "       [4.20815468e-01],\n",
       "       [8.65773797e-01],\n",
       "       [4.20815468e-01],\n",
       "       [9.91856277e-01],\n",
       "       [1.28008556e-02],\n",
       "       [4.35788810e-01],\n",
       "       [8.21403936e-02],\n",
       "       [9.76470888e-01],\n",
       "       [2.38145798e-01],\n",
       "       [4.89622235e-01],\n",
       "       [6.50422573e-02],\n",
       "       [3.30275625e-01],\n",
       "       [1.18631095e-01],\n",
       "       [2.15678178e-02],\n",
       "       [2.27938995e-01],\n",
       "       [5.59267513e-02],\n",
       "       [8.78906026e-02],\n",
       "       [8.36288393e-01],\n",
       "       [2.21326668e-02],\n",
       "       [9.34793502e-02],\n",
       "       [3.64080556e-02],\n",
       "       [1.67533495e-02],\n",
       "       [1.25502467e-01],\n",
       "       [6.33395076e-01],\n",
       "       [6.86027780e-02],\n",
       "       [6.38303459e-01],\n",
       "       [1.27129585e-01],\n",
       "       [2.33060881e-01],\n",
       "       [8.67778718e-01],\n",
       "       [1.79519013e-01],\n",
       "       [5.81914075e-02],\n",
       "       [5.83208390e-02],\n",
       "       [7.09623704e-03],\n",
       "       [9.86403704e-01],\n",
       "       [1.67533495e-02],\n",
       "       [3.60001892e-01],\n",
       "       [9.92222965e-01],\n",
       "       [9.93215978e-01],\n",
       "       [9.97338295e-01],\n",
       "       [9.99894261e-01],\n",
       "       [9.99500453e-01],\n",
       "       [2.12715611e-01],\n",
       "       [6.75529540e-02],\n",
       "       [2.32227772e-01],\n",
       "       [5.31369030e-01],\n",
       "       [9.96296525e-01],\n",
       "       [5.25459528e-01],\n",
       "       [2.75431722e-01],\n",
       "       [5.15327930e-01],\n",
       "       [7.12590039e-01],\n",
       "       [2.79885735e-02],\n",
       "       [4.44662943e-03],\n",
       "       [9.39223990e-02],\n",
       "       [3.85621399e-01],\n",
       "       [1.00087030e-02],\n",
       "       [5.82289919e-02],\n",
       "       [4.22218651e-01],\n",
       "       [9.88968551e-01],\n",
       "       [2.44901720e-02],\n",
       "       [8.98541272e-01],\n",
       "       [7.15321481e-01],\n",
       "       [6.79261237e-02],\n",
       "       [2.75538713e-01],\n",
       "       [1.33417532e-01],\n",
       "       [7.21468449e-01],\n",
       "       [4.38966215e-01],\n",
       "       [1.02688540e-02]], dtype=float32)"
      ]
     },
     "execution_count": 48,
     "metadata": {},
     "output_type": "execute_result"
    }
   ],
   "source": [
    "# Predictions (these come back in the form of probabilities)\n",
    "model_1_pred_prob = model_1.predict(val_sentences)\n",
    "model_1_pred_prob"
   ]
  },
  {
   "cell_type": "markdown",
   "id": "541c7f36",
   "metadata": {},
   "source": [
    "Since our final layer uses a sigmoid activation function, we get our predictions back in the form of probabilities.\n",
    "\n",
    "To convert them to prediction classes, we'll use `tf.round()`, meaning prediction probabilities below 0.5 will be rounded to 0 and those above 0.5 will be rounded to 1.\n",
    "\n",
    "Note: In practice, the output threshold of a sigmoid prediction probability doesn't necessarily have to 0.5. For example, through testing, you may find that a cut off of 0.25 is better for your chosen evaluation metrics. A common example of this threshold cutoff is the [precision-recall tradeoff](https://en.wikipedia.org/wiki/Precision_and_recall#Introduction) (search for the keyword \"tradeoff\" to learn about the phenomenon)."
   ]
  },
  {
   "cell_type": "code",
   "execution_count": 49,
   "id": "97731bd6",
   "metadata": {},
   "outputs": [],
   "source": [
    "# Convert Model's Prediction Probabilities to Labels:\n",
    "model_1_preds = tf.squeeze(tf.round(model_1_pred_prob))"
   ]
  },
  {
   "cell_type": "code",
   "execution_count": 50,
   "id": "c14df2ba",
   "metadata": {},
   "outputs": [
    {
     "data": {
      "text/plain": [
       "<tf.Tensor: shape=(10,), dtype=float32, numpy=array([0., 1., 1., 0., 0., 1., 1., 1., 1., 0.], dtype=float32)>"
      ]
     },
     "execution_count": 50,
     "metadata": {},
     "output_type": "execute_result"
    }
   ],
   "source": [
    "model_1_preds[:10]"
   ]
  },
  {
   "cell_type": "code",
   "execution_count": null,
   "id": "e4ad7130",
   "metadata": {},
   "outputs": [],
   "source": []
  },
  {
   "cell_type": "code",
   "execution_count": 51,
   "id": "47e811f1",
   "metadata": {},
   "outputs": [
    {
     "data": {
      "text/plain": [
       "{'Accuracy': 78.60892388451444,\n",
       " 'Precision': 0.7903277546022673,\n",
       " 'Recall': 0.7860892388451444,\n",
       " 'F1-Score': 0.7832971347503846}"
      ]
     },
     "execution_count": 51,
     "metadata": {},
     "output_type": "execute_result"
    }
   ],
   "source": [
    "# Calculating Model 1 Results:\n",
    "model_1_results = calculate_results(y_true= val_labels,\n",
    "                                   y_pred= model_1_preds)\n",
    "model_1_results"
   ]
  },
  {
   "cell_type": "code",
   "execution_count": null,
   "id": "556cfb4e",
   "metadata": {},
   "outputs": [],
   "source": []
  },
  {
   "cell_type": "code",
   "execution_count": 52,
   "id": "ce756b20",
   "metadata": {},
   "outputs": [
    {
     "data": {
      "text/plain": [
       "array([False, False, False, False])"
      ]
     },
     "execution_count": 52,
     "metadata": {},
     "output_type": "execute_result"
    }
   ],
   "source": [
    "# Is our simple Keras model better than our baseline model?\n",
    "import numpy as np\n",
    "np.array(list(model_1_results.values())) > np.array(list(baseline_results.values()))"
   ]
  },
  {
   "cell_type": "code",
   "execution_count": null,
   "id": "f3a8d071",
   "metadata": {},
   "outputs": [],
   "source": []
  },
  {
   "cell_type": "markdown",
   "id": "8c194635",
   "metadata": {},
   "source": [
    "## Visualizing learned embeddings\n",
    "\n",
    "Our first model (`model_1`) contained an embedding layer (`embedding`) which learned a way of representing words as feature vectors by passing over the training data.\n",
    "\n",
    "Hearing this for the first few times may sound confusing.\n",
    "\n",
    "So to further help understand what a text embedding is, let's visualize the embedding our model learned."
   ]
  },
  {
   "cell_type": "code",
   "execution_count": 53,
   "id": "bbd0f43e",
   "metadata": {},
   "outputs": [
    {
     "data": {
      "text/plain": [
       "(10000, ['', '[UNK]', 'the', 'a', 'in', 'to', 'of', 'and', 'i', 'is'])"
      ]
     },
     "execution_count": 53,
     "metadata": {},
     "output_type": "execute_result"
    }
   ],
   "source": [
    "# Get The Vocabulary from the text Vectorization Layer:\n",
    "words_in_vocab = text_vectorizer.get_vocabulary()\n",
    "len(words_in_vocab), words_in_vocab[:10]"
   ]
  },
  {
   "cell_type": "code",
   "execution_count": 54,
   "id": "a9d847f8",
   "metadata": {},
   "outputs": [
    {
     "name": "stdout",
     "output_type": "stream",
     "text": [
      "Model: \"Model_1_Dense\"\n",
      "_________________________________________________________________\n",
      " Layer (type)                Output Shape              Param #   \n",
      "=================================================================\n",
      " input_1 (InputLayer)        [(None, 1)]               0         \n",
      "                                                                 \n",
      " text_vectorization_1 (Text  (None, 15)                0         \n",
      " Vectorization)                                                  \n",
      "                                                                 \n",
      " Embedding_1 (Embedding)     (None, 15, 128)           1280000   \n",
      "                                                                 \n",
      " global_average_pooling1d (  (None, 128)               0         \n",
      " GlobalAveragePooling1D)                                         \n",
      "                                                                 \n",
      " dense (Dense)               (None, 1)                 129       \n",
      "                                                                 \n",
      "=================================================================\n",
      "Total params: 1280129 (4.88 MB)\n",
      "Trainable params: 1280129 (4.88 MB)\n",
      "Non-trainable params: 0 (0.00 Byte)\n",
      "_________________________________________________________________\n"
     ]
    }
   ],
   "source": [
    "model_1.summary()"
   ]
  },
  {
   "cell_type": "code",
   "execution_count": null,
   "id": "7f6ae011",
   "metadata": {},
   "outputs": [],
   "source": []
  },
  {
   "cell_type": "code",
   "execution_count": 55,
   "id": "fbe8bd79",
   "metadata": {},
   "outputs": [
    {
     "data": {
      "text/plain": [
       "array([[-0.02247844, -0.03965262,  0.01498428, ..., -0.04097297,\n",
       "         0.00943387,  0.01908769],\n",
       "       [ 0.02272835,  0.01039805,  0.00876818, ...,  0.0084563 ,\n",
       "         0.03176671, -0.024345  ],\n",
       "       [-0.03652832, -0.02903925,  0.01280243, ..., -0.03135797,\n",
       "         0.04530582,  0.04661977],\n",
       "       ...,\n",
       "       [-0.04373081, -0.02799361, -0.03452826, ..., -0.04717828,\n",
       "        -0.0267789 ,  0.02130501],\n",
       "       [-0.08693402, -0.07948836, -0.07148296, ..., -0.04098297,\n",
       "         0.01777889,  0.01836477],\n",
       "       [-0.10987895, -0.0658111 , -0.07936088, ..., -0.03084402,\n",
       "         0.08824226,  0.03541903]], dtype=float32)"
      ]
     },
     "execution_count": 55,
     "metadata": {},
     "output_type": "execute_result"
    }
   ],
   "source": [
    "# Get The Weight Matrix of Embedding Layer\n",
    "# (these are the numerical patterns between the text in the training dataset the model has learned):\n",
    "\n",
    "embed_weights = model_1.get_layer(\"Embedding_1\").get_weights()[0]\n",
    "embed_weights"
   ]
  },
  {
   "cell_type": "code",
   "execution_count": 56,
   "id": "450c4c74",
   "metadata": {},
   "outputs": [
    {
     "data": {
      "text/plain": [
       "(10000, 128)"
      ]
     },
     "execution_count": 56,
     "metadata": {},
     "output_type": "execute_result"
    }
   ],
   "source": [
    "# same size as vocab size and embedding_dim (each word is a embedding_dim size vector)\n",
    "embed_weights.shape"
   ]
  },
  {
   "cell_type": "code",
   "execution_count": null,
   "id": "15dfd2cf",
   "metadata": {},
   "outputs": [],
   "source": []
  },
  {
   "cell_type": "markdown",
   "id": "66da8dc7",
   "metadata": {},
   "source": [
    "Now we've got these two objects, we can use the [Embedding Projector tool](http://projector.tensorflow.org/_) to visualize our embedding. \n",
    "\n",
    "To use the Embedding Projector tool, we need two files:\n",
    "* The embedding vectors (same as embedding weights).\n",
    "* The meta data of the embedding vectors (the words they represent - our vocabulary).\n",
    "\n",
    "Right now, we've got of these files as Python objects. To download them to file, we're going to [use the code example available on the TensorFlow word embeddings tutorial page](https://www.tensorflow.org/tutorials/text/word_embeddings#retrieve_the_trained_word_embeddings_and_save_them_to_disk)."
   ]
  },
  {
   "cell_type": "code",
   "execution_count": 57,
   "id": "9dece4bf",
   "metadata": {},
   "outputs": [],
   "source": [
    " # Code below is adapted from: https://www.tensorflow.org/tutorials/text/word_embeddings#retrieve_the_trained_word_embeddings_and_save_them_to_disk\n",
    "import io\n",
    "\n",
    "# Create output writers\n",
    "out_v = io.open(\"embedding_vectors.tsv\", \"w\", encoding=\"utf-8\")\n",
    "out_m = io.open(\"embedding_metadata.tsv\", \"w\", encoding=\"utf-8\")\n",
    "\n",
    "# Write embedding vectors and words to file\n",
    "for num, word in enumerate(words_in_vocab):\n",
    "   if num == 0: \n",
    "      continue # skip padding token\n",
    "   vec = embed_weights[num]\n",
    "   out_m.write(word + \"\\n\") # write words to file\n",
    "   out_v.write(\"\\t\".join([str(x) for x in vec]) + \"\\n\") # write corresponding word vector to file\n",
    " out_v.close()\n",
    " out_m.close()"
   ]
  },
  {
   "cell_type": "code",
   "execution_count": null,
   "id": "f1afd93a",
   "metadata": {},
   "outputs": [],
   "source": []
  },
  {
   "cell_type": "markdown",
   "id": "76d2509a",
   "metadata": {},
   "source": [
    "Once you've downloaded the embedding vectors and metadata, you can visualize them using Embedding Vector tool:\n",
    "1. Go to  http://projector.tensorflow.org/\n",
    "2. Click on \"Load data\"\n",
    "3. Upload the two files you downloaded (`embedding_vectors.tsv` and `embedding_metadata.tsv`)\n",
    "4. Explore\n",
    "5. Optional: You can share the data you've created by clicking \"Publish\"\n",
    "\n",
    "Are words with similar meanings close together?\n",
    "\n",
    "Remember, they might not be. The embeddings we downloaded are how our model interprets words, not necessarily how we interpret them. \n",
    "\n",
    "Also, since the embedding has been learned purely from Tweets, it may contain some strange values as Tweets are a very unique style of natural language.\n",
    "\n",
    "> 🤔 **Question:** Do you have to visualize embeddings every time?\n",
    "\n",
    "No. Although helpful for gaining an intuition of what natural language embeddings are, it's not completely necessary. Especially as the dimensions of your vocabulary and embeddings grow, trying to comprehend them would become an increasingly difficult task."
   ]
  },
  {
   "cell_type": "code",
   "execution_count": null,
   "id": "0aa4a473",
   "metadata": {},
   "outputs": [],
   "source": []
  },
  {
   "cell_type": "markdown",
   "id": "de91f2e1",
   "metadata": {},
   "source": [
    "## Recurrent Neural Networks (RNN's)\n",
    "\n",
    "For our next series of modelling experiments we're going to be using a special kind of neural network called a **Recurrent Neural Network (RNN)**.\n",
    "\n",
    "The premise of an RNN is simple: use information from the past to help you with the future (this is where the term recurrent comes from). In other words, take an input (`X`) and compute an output (`y`) based on all previous inputs.\n",
    "\n",
    "This concept is especially helpful when dealing with sequences such as passages of natural language text (such as our Tweets).\n",
    "\n",
    "For example, when you read this sentence, you take into context the previous words when deciphering the meaning of the current word dog. \n",
    "\n",
    "See what happened there? \n",
    "\n",
    "I put the word \"dog\" at the end which is a valid word but it doesn't make sense in the context of the rest of the sentence.\n",
    "\n",
    "When an RNN looks at a sequence of text (already in numerical form), the patterns it learns are continually updated based on the order of the sequence. \n",
    "\n",
    "For a simple example, take two sentences:\n",
    "1. Massive earthquake last week, no?\n",
    "2. No massive earthquake last week.\n",
    "\n",
    "Both contain exactly the same words but have different meaning. The order of the words determines the meaning (one could argue punctuation marks also dictate the meaning but for simplicity sake, let's stay focused on the words).\n",
    "\n",
    "Recurrent neural networks can be used for a number of sequence-based problems:\n",
    "* **One to one:** one input, one output, such as image classification.\n",
    "* **One to many:** one input, many outputs, such as image captioning (image input, a sequence of text as caption output).\n",
    "* **Many to one:** many inputs, one outputs, such as text classification (classifying a Tweet as real diaster or not real diaster).\n",
    "* **Many to many:** many inputs, many outputs, such as machine translation (translating English to Spanish) or speech to text (audio wave as input, text as output).\n",
    "\n",
    "When you come across RNN's in the wild, you'll most likely come across variants of the following:\n",
    "* Long short-term memory cells (LSTMs).\n",
    "* Gated recurrent units (GRUs).\n",
    "* Bidirectional RNN's (passes forward and backward along a sequence, left to right and right to left).\n",
    "\n",
    "For a deeper understanding of what's happening behind the scenes of the code we're about to write, I'd recommend the following resources:\n",
    "\n",
    "> * [MIT Deep Learning Lecture on Recurrent Neural Networks](https://youtu.be/SEnXr6v2ifU) - explains the background of recurrent neural networks and introduces LSTMs.\n",
    "> * [The Unreasonable Effectiveness of Recurrent Neural Networks](http://karpathy.github.io/2015/05/21/rnn-effectiveness/) by Andrej Karpathy - demonstrates the power of RNN's with examples generating various sequences.\n",
    "> * [Understanding LSTMs](https://colah.github.io/posts/2015-08-Understanding-LSTMs/) by Chris Olah - an in-depth (and technical) look at the mechanics of the LSTM cell, possibly the most popular RNN building block."
   ]
  },
  {
   "cell_type": "code",
   "execution_count": null,
   "id": "19137a87",
   "metadata": {},
   "outputs": [],
   "source": []
  },
  {
   "cell_type": "markdown",
   "id": "9e0cd9b1",
   "metadata": {},
   "source": [
    "### Model 2: LSTM\n",
    "\n",
    "We're going to start with an LSTM-powered RNN.\n",
    "\n",
    "To harness the power of the LSTM cell (LSTM cell and LSTM layer are often used interchangably) in TensorFlow, we'll use [`tensorflow.keras.layers.LSTM()`](https://www.tensorflow.org/api_docs/python/tf/keras/layers/LSTM).\n",
    "\n",
    "![](https://raw.githubusercontent.com/mrdbourke/tensorflow-deep-learning/main/images/08-RNN-architecture-coloured-block-edition.png)\n",
    "*Coloured block example of the structure of an recurrent neural network.*\n",
    "\n",
    "Our model is going to take on a very similar structure to `model_1`:\n",
    "\n",
    "```\n",
    "Input (text) -> Tokenize -> Embedding -> Layers -> Output (label probability)\n",
    "```\n",
    "\n",
    "The main difference will be that we're going to add an LSTM layer between our embedding and output.\n",
    "\n",
    "And to make sure we're not getting reusing trained embeddings (this would involve data leakage between models, leading to an uneven comparison later on), we'll create another embedding layer (`model_2_embedding`) for our model. The `text_vectorizer` layer can be reused since it doesn't get updated during training.\n",
    "\n",
    "> 🔑 **Note:** The reason we use a new embedding layer for each model is since the embedding layer is a *learned* representation of words (as numbers), if we were to use the same embedding layer (`embedding_1`) for each model, we'd be mixing what one model learned with the next. And because we want to compare our models later on, starting them with their own embedding layer each time is a better idea."
   ]
  },
  {
   "cell_type": "code",
   "execution_count": 58,
   "id": "21cbf9d7",
   "metadata": {},
   "outputs": [],
   "source": [
    "from tensorflow.keras.layers import LSTM"
   ]
  },
  {
   "cell_type": "code",
   "execution_count": 59,
   "id": "09bf96b9",
   "metadata": {},
   "outputs": [],
   "source": [
    "# Creating Embedding Layer for Model (new embedding layer for each model):\n",
    "tf.random.set_seed(42)\n",
    "model_2_embedding = Embedding(input_dim= max_vocab_lenghth,\n",
    "                             output_dim= 128,\n",
    "                             embeddings_initializer= \"uniform\",\n",
    "                             name= \"Embedding_2\")"
   ]
  },
  {
   "cell_type": "code",
   "execution_count": 60,
   "id": "28189880",
   "metadata": {},
   "outputs": [],
   "source": [
    "# Creating Model 2 (With LSTM):\n",
    "\n",
    "inputs = Input(shape=(1,), dtype= tf.string)\n",
    "x = text_vectorizer(inputs)\n",
    "x = model_2_embedding(x)\n",
    "# print(x.shape)\n",
    "# x = LSTM(units= 64, return_sequences= True)(x) # return vector for each word in the Tweet (you can stack RNN cells as long as return_sequences=True)\n",
    "# print(x.shape)\n",
    "x = LSTM(units= 64)(x) # return vector for whole sequence\n",
    "# print(x.shape)\n",
    "# x = Dense(64, activation= \"relu\" )(x) # optional dense layer on top of output of LSTM cell\n",
    "outputs = Dense(1, activation= \"sigmoid\")(x)\n",
    "model_2 = Model(inputs, outputs, name= \"Model_2_LSTM\")"
   ]
  },
  {
   "cell_type": "code",
   "execution_count": null,
   "id": "c49c3bc6",
   "metadata": {},
   "outputs": [],
   "source": []
  },
  {
   "cell_type": "markdown",
   "id": "a0057a41",
   "metadata": {},
   "source": [
    "Note: Reading the documentation for the [TensorFlow LSTM layer](https://www.tensorflow.org/api_docs/python/tf/keras/layers/LSTM), you'll find a plethora of parameters. Many of these have been tuned to make sure they compute as fast as possible. The main ones you'll be looking to adjust are `units` (number of hidden units) and `return_sequences` (set this to `True` when stacking LSTM or other recurrent layers).\n",
    "\n",
    "Now we've got our LSTM model built, let's compile it using `\"binary_crossentropy\"` loss and the Adam optimizer."
   ]
  },
  {
   "cell_type": "code",
   "execution_count": 61,
   "id": "b6e54484",
   "metadata": {},
   "outputs": [
    {
     "name": "stdout",
     "output_type": "stream",
     "text": [
      "Model: \"Model_2_LSTM\"\n",
      "_________________________________________________________________\n",
      " Layer (type)                Output Shape              Param #   \n",
      "=================================================================\n",
      " input_2 (InputLayer)        [(None, 1)]               0         \n",
      "                                                                 \n",
      " text_vectorization_1 (Text  (None, 15)                0         \n",
      " Vectorization)                                                  \n",
      "                                                                 \n",
      " Embedding_2 (Embedding)     (None, 15, 128)           1280000   \n",
      "                                                                 \n",
      " lstm (LSTM)                 (None, 64)                49408     \n",
      "                                                                 \n",
      " dense_1 (Dense)             (None, 1)                 65        \n",
      "                                                                 \n",
      "=================================================================\n",
      "Total params: 1329473 (5.07 MB)\n",
      "Trainable params: 1329473 (5.07 MB)\n",
      "Non-trainable params: 0 (0.00 Byte)\n",
      "_________________________________________________________________\n"
     ]
    }
   ],
   "source": [
    "# Model 2 Summary:\n",
    "model_2.summary()"
   ]
  },
  {
   "cell_type": "markdown",
   "id": "ef7cc977",
   "metadata": {},
   "source": [
    "If you'd like to know where this number comes from, I recommend going through the above resources as well the following on calculating the number of parameters in an LSTM cell:\n",
    "* [Stack Overflow answer to calculate the number of parameters in an LSTM cell](https://stackoverflow.com/questions/38080035/how-to-calculate-the-number-of-parameters-of-an-lstm-network) by Marcin Możejko\n",
    "* [Calculating number of parameters in a LSTM unit and layer](https://medium.com/@priyadarshi.cse/calculating-number-of-parameters-in-a-lstm-unit-layer-7e491978e1e4) by Shridhar Priyadarshi"
   ]
  },
  {
   "cell_type": "code",
   "execution_count": 62,
   "id": "c85551e9",
   "metadata": {},
   "outputs": [],
   "source": [
    "# Compile The Model:\n",
    "model_2.compile(optimizer= Adam(),\n",
    "               loss= BinaryCrossentropy(),\n",
    "               metrics= [\"accuracy\"])"
   ]
  },
  {
   "cell_type": "code",
   "execution_count": 63,
   "id": "4b1c4dd1",
   "metadata": {},
   "outputs": [
    {
     "name": "stdout",
     "output_type": "stream",
     "text": [
      "Saving TensorBoard log files to: model_logs/Model_2_LSTM/20240517-151219\n",
      "Epoch 1/5\n",
      "215/215 [==============================] - 14s 22ms/step - loss: 0.5129 - accuracy: 0.7415 - val_loss: 0.4559 - val_accuracy: 0.7782\n",
      "Epoch 2/5\n",
      "215/215 [==============================] - 4s 20ms/step - loss: 0.3194 - accuracy: 0.8707 - val_loss: 0.5077 - val_accuracy: 0.7822\n",
      "Epoch 3/5\n",
      "215/215 [==============================] - 4s 18ms/step - loss: 0.2196 - accuracy: 0.9177 - val_loss: 0.5801 - val_accuracy: 0.7664\n",
      "Epoch 4/5\n",
      "215/215 [==============================] - 4s 19ms/step - loss: 0.1541 - accuracy: 0.9451 - val_loss: 0.6278 - val_accuracy: 0.7743\n",
      "Epoch 5/5\n",
      "215/215 [==============================] - 4s 20ms/step - loss: 0.1077 - accuracy: 0.9597 - val_loss: 0.8459 - val_accuracy: 0.7651\n"
     ]
    }
   ],
   "source": [
    "# Fit The Model:\n",
    "model_2_history = model_2.fit(train_sentences,\n",
    "                             train_labels,\n",
    "                             epochs= 5,\n",
    "                             validation_data= (val_sentences, val_labels),\n",
    "                             callbacks= [create_tensorboard_callback(dir_name= SAVE_DIR,\n",
    "                                                                    experiment_name= \"Model_2_LSTM\")])"
   ]
  },
  {
   "cell_type": "code",
   "execution_count": null,
   "id": "565e3cfa",
   "metadata": {},
   "outputs": [],
   "source": []
  },
  {
   "cell_type": "code",
   "execution_count": 64,
   "id": "c43de2ed",
   "metadata": {},
   "outputs": [
    {
     "name": "stdout",
     "output_type": "stream",
     "text": [
      "24/24 [==============================] - 1s 9ms/step\n"
     ]
    },
    {
     "data": {
      "text/plain": [
       "array([[0.00889554],\n",
       "       [0.78459334],\n",
       "       [0.99916095],\n",
       "       [0.05735538],\n",
       "       [0.00373509],\n",
       "       [0.9992364 ],\n",
       "       [0.8388406 ],\n",
       "       [0.99958825],\n",
       "       [0.99940354],\n",
       "       [0.3913708 ]], dtype=float32)"
      ]
     },
     "execution_count": 64,
     "metadata": {},
     "output_type": "execute_result"
    }
   ],
   "source": [
    "# Making Predictions Using Model 2 on Validation Data:\n",
    "model_2_pred_prob = model_2.predict(val_sentences)\n",
    "model_2_pred_prob[:10]"
   ]
  },
  {
   "cell_type": "code",
   "execution_count": 65,
   "id": "b65e5095",
   "metadata": {},
   "outputs": [
    {
     "data": {
      "text/plain": [
       "<tf.Tensor: shape=(10,), dtype=float32, numpy=array([0., 1., 1., 0., 0., 1., 1., 1., 1., 0.], dtype=float32)>"
      ]
     },
     "execution_count": 65,
     "metadata": {},
     "output_type": "execute_result"
    }
   ],
   "source": [
    "# Converting Model's Prediction Probabilites to Labels:\n",
    "model_2_preds = tf.squeeze(tf.round(model_2_pred_prob))\n",
    "model_2_preds[:10]"
   ]
  },
  {
   "cell_type": "code",
   "execution_count": 66,
   "id": "9aa03839",
   "metadata": {},
   "outputs": [
    {
     "data": {
      "text/plain": [
       "{'Accuracy': 76.50918635170603,\n",
       " 'Precision': 0.7666862986020204,\n",
       " 'Recall': 0.7650918635170604,\n",
       " 'F1-Score': 0.7628949062414964}"
      ]
     },
     "execution_count": 66,
     "metadata": {},
     "output_type": "execute_result"
    }
   ],
   "source": [
    "# Calculating Model 2 Results:\n",
    "model_2_results = calculate_results(y_true= val_labels,\n",
    "                                   y_pred= model_2_preds)\n",
    "model_2_results"
   ]
  },
  {
   "cell_type": "code",
   "execution_count": null,
   "id": "4d5637d0",
   "metadata": {},
   "outputs": [],
   "source": []
  },
  {
   "cell_type": "markdown",
   "id": "9a830f82",
   "metadata": {},
   "source": [
    "### Model 3: GRU\n",
    "\n",
    "Another popular and effective RNN component is the GRU or gated recurrent unit.\n",
    "\n",
    "The GRU cell has similar features to an LSTM cell but has less parameters.\n",
    "\n",
    "Resource: resources to learn more:\n",
    "* [Gated Recurrent Unit](https://en.wikipedia.org/wiki/Gated_recurrent_unit) Wikipedia page\n",
    "* [Understanding GRU networks](https://towardsdatascience.com/understanding-gru-networks-2ef37df6c9be) by Simeon Kostadinov\n",
    "\n",
    "To use the GRU cell in TensorFlow, we can call the [`tensorflow.keras.layers.GRU()`](https://www.tensorflow.org/api_docs/python/tf/keras/layers/GRU) class.\n",
    "\n",
    "The architecture of the GRU-powered model will follow the same structure we've been using:\n",
    "\n",
    "```\n",
    "Input (text) -> Tokenize -> Embedding -> Layers -> Output (label probability)\n",
    "```\n",
    "\n",
    "Again, the only difference will be the layer(s) we use between the embedding and the output."
   ]
  },
  {
   "cell_type": "code",
   "execution_count": 67,
   "id": "d5ef2258",
   "metadata": {},
   "outputs": [],
   "source": [
    "from tensorflow.keras.layers import GRU"
   ]
  },
  {
   "cell_type": "code",
   "execution_count": 68,
   "id": "aa0640d6",
   "metadata": {},
   "outputs": [],
   "source": [
    "# Creating Embedding Layer for Model (new embedding layer for each model):\n",
    "model_3_embedding = Embedding(input_dim= max_vocab_lenghth,\n",
    "                             output_dim= 128,\n",
    "                             embeddings_initializer= \"uniform\",\n",
    "                             name= \"Embedding_3\")"
   ]
  },
  {
   "cell_type": "code",
   "execution_count": 69,
   "id": "79dc2559",
   "metadata": {},
   "outputs": [],
   "source": [
    "# Creating MOdel 3 (With GRU):\n",
    "\n",
    "tf.random.set_seed(42)\n",
    "inputs = Input(shape= (1,), dtype= tf.string)\n",
    "x = text_vectorizer(inputs)\n",
    "x = model_3_embedding(x)\n",
    "# print(x.shape)\n",
    "x = GRU(64)(x) # stacking recurrent cells requires return_sequences=True\n",
    "# print(x.shape)\n",
    "# x = LSTM(64, return_sequences= True)(x)\n",
    "# print(x.shape)\n",
    "# x = GRU(units= 64)(x)\n",
    "# print(x.shape)\n",
    "# x = Dense(64, activation= \"relu\")(x)\n",
    "outputs = Dense(1, activation= \"sigmoid\")(x)\n",
    "\n",
    "model_3 = Model(inputs, outputs, name= \"Model_3_GRU\")"
   ]
  },
  {
   "cell_type": "code",
   "execution_count": 70,
   "id": "9b4a553f",
   "metadata": {},
   "outputs": [
    {
     "name": "stdout",
     "output_type": "stream",
     "text": [
      "Model: \"Model_3_GRU\"\n",
      "_________________________________________________________________\n",
      " Layer (type)                Output Shape              Param #   \n",
      "=================================================================\n",
      " input_3 (InputLayer)        [(None, 1)]               0         \n",
      "                                                                 \n",
      " text_vectorization_1 (Text  (None, 15)                0         \n",
      " Vectorization)                                                  \n",
      "                                                                 \n",
      " Embedding_3 (Embedding)     (None, 15, 128)           1280000   \n",
      "                                                                 \n",
      " gru (GRU)                   (None, 64)                37248     \n",
      "                                                                 \n",
      " dense_2 (Dense)             (None, 1)                 65        \n",
      "                                                                 \n",
      "=================================================================\n",
      "Total params: 1317313 (5.03 MB)\n",
      "Trainable params: 1317313 (5.03 MB)\n",
      "Non-trainable params: 0 (0.00 Byte)\n",
      "_________________________________________________________________\n"
     ]
    }
   ],
   "source": [
    "# Summary of Model 3:\n",
    "model_3.summary()"
   ]
  },
  {
   "cell_type": "code",
   "execution_count": 71,
   "id": "858c5e1a",
   "metadata": {},
   "outputs": [],
   "source": [
    "# Compile The Model:\n",
    "model_3.compile(optimizer= Adam(),\n",
    "               loss= BinaryCrossentropy(),\n",
    "               metrics= [\"accuracy\"])"
   ]
  },
  {
   "cell_type": "code",
   "execution_count": 72,
   "id": "601750bc",
   "metadata": {},
   "outputs": [
    {
     "name": "stdout",
     "output_type": "stream",
     "text": [
      "Saving TensorBoard log files to: model_logs/M0del_3_GRU/20240517-151251\n",
      "Epoch 1/5\n",
      "215/215 [==============================] - 11s 22ms/step - loss: 0.5274 - accuracy: 0.7266 - val_loss: 0.4557 - val_accuracy: 0.7730\n",
      "Epoch 2/5\n",
      "215/215 [==============================] - 4s 18ms/step - loss: 0.3182 - accuracy: 0.8680 - val_loss: 0.4893 - val_accuracy: 0.7808\n",
      "Epoch 3/5\n",
      "215/215 [==============================] - 4s 19ms/step - loss: 0.2160 - accuracy: 0.9181 - val_loss: 0.5606 - val_accuracy: 0.7664\n",
      "Epoch 4/5\n",
      "215/215 [==============================] - 4s 18ms/step - loss: 0.1537 - accuracy: 0.9476 - val_loss: 0.6240 - val_accuracy: 0.7782\n",
      "Epoch 5/5\n",
      "215/215 [==============================] - 4s 18ms/step - loss: 0.1171 - accuracy: 0.9597 - val_loss: 0.6063 - val_accuracy: 0.7743\n"
     ]
    }
   ],
   "source": [
    "# Fit Model 3:\n",
    "\n",
    "model_3_history = model_3.fit(train_sentences,\n",
    "                             train_labels,\n",
    "                             validation_data= (val_sentences, val_labels),\n",
    "                             epochs= 5,\n",
    "                             callbacks= [create_tensorboard_callback(dir_name= SAVE_DIR,\n",
    "                                                                    experiment_name= \"M0del_3_GRU\")])"
   ]
  },
  {
   "cell_type": "code",
   "execution_count": 73,
   "id": "61fb1e67",
   "metadata": {},
   "outputs": [
    {
     "name": "stdout",
     "output_type": "stream",
     "text": [
      "24/24 [==============================] - 21s 7ms/step\n"
     ]
    },
    {
     "data": {
      "text/plain": [
       "array([[0.3875993 ],\n",
       "       [0.8942472 ],\n",
       "       [0.9967889 ],\n",
       "       [0.14872767],\n",
       "       [0.01307077],\n",
       "       [0.99118817],\n",
       "       [0.7652192 ],\n",
       "       [0.9975328 ],\n",
       "       [0.99663323],\n",
       "       [0.38831314]], dtype=float32)"
      ]
     },
     "execution_count": 73,
     "metadata": {},
     "output_type": "execute_result"
    }
   ],
   "source": [
    "# Making Predictions Using Model 3 on Validation Data:\n",
    "model_3_pred_prob = model_3.predict(val_sentences)\n",
    "model_3_pred_prob[:10]"
   ]
  },
  {
   "cell_type": "code",
   "execution_count": 74,
   "id": "54163286",
   "metadata": {},
   "outputs": [
    {
     "data": {
      "text/plain": [
       "<tf.Tensor: shape=(10,), dtype=float32, numpy=array([0., 1., 1., 0., 0., 1., 1., 1., 1., 0.], dtype=float32)>"
      ]
     },
     "execution_count": 74,
     "metadata": {},
     "output_type": "execute_result"
    }
   ],
   "source": [
    "# Converting Model's Prediction Probabilites to Labels:\n",
    "model_3_preds = tf.squeeze(tf.round(model_3_pred_prob))\n",
    "model_3_preds[:10]"
   ]
  },
  {
   "cell_type": "code",
   "execution_count": 75,
   "id": "35da69d1",
   "metadata": {},
   "outputs": [
    {
     "data": {
      "text/plain": [
       "{'Accuracy': 77.42782152230971,\n",
       " 'Precision': 0.7749000605693519,\n",
       " 'Recall': 0.7742782152230971,\n",
       " 'F1-Score': 0.7728247037302157}"
      ]
     },
     "execution_count": 75,
     "metadata": {},
     "output_type": "execute_result"
    }
   ],
   "source": [
    "# Calculating Model 3 Results:\n",
    "model_3_results = calculate_results(y_true= val_labels,\n",
    "                                   y_pred= model_3_preds)\n",
    "model_3_results"
   ]
  },
  {
   "cell_type": "code",
   "execution_count": null,
   "id": "541d9d7c",
   "metadata": {},
   "outputs": [],
   "source": []
  },
  {
   "cell_type": "markdown",
   "id": "806738b2",
   "metadata": {},
   "source": [
    "### Model 4: Bidirectonal RNN model \n",
    "\n",
    "Now we're going to look into another kind of RNN, the bidirectional RNN.\n",
    "\n",
    "A standard RNN will process a sequence from left to right, where as a bidirectional RNN will process the sequence from left to right and then again from right to left.\n",
    "\n",
    "Intuitively, this can be thought of as if you were reading a sentence for the first time in the normal fashion (left to right) but for some reason it didn't make sense so you traverse back through the words and go back over them again (right to left).\n",
    "\n",
    "In practice, many sequence models often see and improvement in performance when using bidirectional RNN's.\n",
    "\n",
    "However, this improvement in performance often comes at the cost of longer training times and increased model parameters (since the model goes left to right and right to left, the number of trainable parameters doubles).\n",
    "\n",
    "Once again, TensorFlow helps us out by providing the [`tensorflow.keras.layers.Bidirectional`](https://www.tensorflow.org/api_docs/python/tf/keras/layers/Bidirectional) class. We can use the `Bidirectional` class to wrap our existing RNNs, instantly making them bidirectional."
   ]
  },
  {
   "cell_type": "code",
   "execution_count": 76,
   "id": "14008f2e",
   "metadata": {},
   "outputs": [],
   "source": [
    "from tensorflow.keras.layers import Bidirectional"
   ]
  },
  {
   "cell_type": "code",
   "execution_count": 77,
   "id": "22b8e41e",
   "metadata": {},
   "outputs": [],
   "source": [
    "# Creating Embedding Layer for Model (new embedding layer for each model):\n",
    "model_4_embedding = Embedding(input_dim= max_vocab_lenghth,\n",
    "                             output_dim= 128,\n",
    "                             embeddings_initializer= \"uniform\",\n",
    "                             name= \"Embedding_4\")"
   ]
  },
  {
   "cell_type": "code",
   "execution_count": 78,
   "id": "c5d46f83",
   "metadata": {},
   "outputs": [],
   "source": [
    "# Creating Model 4 (BiDirectional RNN):\n",
    "\n",
    "tf.random.set_seed(42)\n",
    "\n",
    "inputs = Input(shape= (1,), dtype= tf.string)\n",
    "x = text_vectorizer(inputs)\n",
    "x = model_4_embedding(x)\n",
    "x = Bidirectional(LSTM(64))(x)\n",
    "outputs = Dense(1, activation= \"sigmoid\")(x)\n",
    "\n",
    "model_4 = Model(inputs, outputs, name= \"Model_4_BiDirectional\")"
   ]
  },
  {
   "cell_type": "code",
   "execution_count": 79,
   "id": "70b8f957",
   "metadata": {
    "scrolled": false
   },
   "outputs": [
    {
     "name": "stdout",
     "output_type": "stream",
     "text": [
      "Model: \"Model_4_BiDirectional\"\n",
      "_________________________________________________________________\n",
      " Layer (type)                Output Shape              Param #   \n",
      "=================================================================\n",
      " input_4 (InputLayer)        [(None, 1)]               0         \n",
      "                                                                 \n",
      " text_vectorization_1 (Text  (None, 15)                0         \n",
      " Vectorization)                                                  \n",
      "                                                                 \n",
      " Embedding_4 (Embedding)     (None, 15, 128)           1280000   \n",
      "                                                                 \n",
      " bidirectional (Bidirection  (None, 128)               98816     \n",
      " al)                                                             \n",
      "                                                                 \n",
      " dense_3 (Dense)             (None, 1)                 129       \n",
      "                                                                 \n",
      "=================================================================\n",
      "Total params: 1378945 (5.26 MB)\n",
      "Trainable params: 1378945 (5.26 MB)\n",
      "Non-trainable params: 0 (0.00 Byte)\n",
      "_________________________________________________________________\n"
     ]
    }
   ],
   "source": [
    "# Summary of Model 4:\n",
    "model_4.summary()"
   ]
  },
  {
   "cell_type": "markdown",
   "id": "1b1edb2c",
   "metadata": {},
   "source": [
    "You can use the `Bidirectional` wrapper on any RNN cell in TensorFlow. For example, `layers.Bidirectional(layers.GRU(64))` creates a bidirectional GRU cell."
   ]
  },
  {
   "cell_type": "code",
   "execution_count": 80,
   "id": "f94aad86",
   "metadata": {},
   "outputs": [],
   "source": [
    "# Compile The Model:\n",
    "model_4.compile(optimizer= Adam(),\n",
    "               loss= BinaryCrossentropy(),\n",
    "               metrics= [\"accuracy\"])"
   ]
  },
  {
   "cell_type": "code",
   "execution_count": 81,
   "id": "b5e8c344",
   "metadata": {},
   "outputs": [
    {
     "name": "stdout",
     "output_type": "stream",
     "text": [
      "Saving TensorBoard log files to: model_logs/Model_4_Bidirectional/20240517-151340\n",
      "Epoch 1/5\n",
      "215/215 [==============================] - 15s 25ms/step - loss: 0.5088 - accuracy: 0.7453 - val_loss: 0.4591 - val_accuracy: 0.7782\n",
      "Epoch 2/5\n",
      "215/215 [==============================] - 4s 19ms/step - loss: 0.3131 - accuracy: 0.8740 - val_loss: 0.5106 - val_accuracy: 0.7730\n",
      "Epoch 3/5\n",
      "215/215 [==============================] - 4s 17ms/step - loss: 0.2152 - accuracy: 0.9177 - val_loss: 0.5687 - val_accuracy: 0.7677\n",
      "Epoch 4/5\n",
      "215/215 [==============================] - 4s 18ms/step - loss: 0.1531 - accuracy: 0.9470 - val_loss: 0.6236 - val_accuracy: 0.7677\n",
      "Epoch 5/5\n",
      "215/215 [==============================] - 4s 18ms/step - loss: 0.1090 - accuracy: 0.9632 - val_loss: 0.6738 - val_accuracy: 0.7717\n"
     ]
    }
   ],
   "source": [
    "# Fit Model 4:\n",
    "\n",
    "model_4_history = model_4.fit(train_sentences,\n",
    "                             train_labels,\n",
    "                             validation_data= (val_sentences, val_labels),\n",
    "                             epochs= 5,\n",
    "                             callbacks= [create_tensorboard_callback(dir_name= SAVE_DIR,\n",
    "                                                                    experiment_name= \"Model_4_Bidirectional\")])"
   ]
  },
  {
   "cell_type": "code",
   "execution_count": 82,
   "id": "3941f41e",
   "metadata": {},
   "outputs": [
    {
     "name": "stdout",
     "output_type": "stream",
     "text": [
      "24/24 [==============================] - 2s 10ms/step\n"
     ]
    },
    {
     "data": {
      "text/plain": [
       "array([[0.02563202],\n",
       "       [0.8609178 ],\n",
       "       [0.99859834],\n",
       "       [0.15583314],\n",
       "       [0.00421664],\n",
       "       [0.9923472 ],\n",
       "       [0.9217396 ],\n",
       "       [0.99950266],\n",
       "       [0.9993944 ],\n",
       "       [0.3938503 ]], dtype=float32)"
      ]
     },
     "execution_count": 82,
     "metadata": {},
     "output_type": "execute_result"
    }
   ],
   "source": [
    "# Making Predictions Using Model 4 on Validation Data:\n",
    "model_4_pred_prob = model_4.predict(val_sentences)\n",
    "model_4_pred_prob[:10]"
   ]
  },
  {
   "cell_type": "code",
   "execution_count": 83,
   "id": "02b8d3bf",
   "metadata": {},
   "outputs": [
    {
     "data": {
      "text/plain": [
       "<tf.Tensor: shape=(10,), dtype=float32, numpy=array([0., 1., 1., 0., 0., 1., 1., 1., 1., 0.], dtype=float32)>"
      ]
     },
     "execution_count": 83,
     "metadata": {},
     "output_type": "execute_result"
    }
   ],
   "source": [
    "# Converting Model's Prediction Probabilites to Labels:\n",
    "model_4_preds = tf.squeeze(tf.round(model_4_pred_prob))\n",
    "model_4_preds[:10]"
   ]
  },
  {
   "cell_type": "code",
   "execution_count": 84,
   "id": "a5a6a880",
   "metadata": {},
   "outputs": [
    {
     "data": {
      "text/plain": [
       "{'Accuracy': 77.16535433070865,\n",
       " 'Precision': 0.7713194941541398,\n",
       " 'Recall': 0.7716535433070866,\n",
       " 'F1-Score': 0.7710516132762637}"
      ]
     },
     "execution_count": 84,
     "metadata": {},
     "output_type": "execute_result"
    }
   ],
   "source": [
    "# Calculating Model 4 Results:\n",
    "model_4_results = calculate_results(y_true= val_labels,\n",
    "                                   y_pred= model_4_preds)\n",
    "model_4_results"
   ]
  },
  {
   "cell_type": "code",
   "execution_count": null,
   "id": "3e103af7",
   "metadata": {},
   "outputs": [],
   "source": []
  },
  {
   "cell_type": "markdown",
   "id": "3d1aef22",
   "metadata": {},
   "source": [
    "## Convolutional Neural Networks for Text\n",
    "\n",
    "You might've used convolutional neural networks (CNNs) for images before but they can also be used for sequences.\n",
    "\n",
    "The main difference between using CNNs for images and sequences is the shape of the data. Images come in 2-dimensions (height x width) where as sequences are often 1-dimensional (a string of text).\n",
    "\n",
    "So to use CNNs with sequences, we use a 1-dimensional convolution instead of a 2-dimensional convolution.\n",
    "\n",
    "A typical CNN architecture for sequences will look like the following: \n",
    "\n",
    "```\n",
    "Inputs (text) -> Tokenization -> Embedding -> Layers -> Outputs (class probabilities)\n",
    "```\n",
    "\n",
    "You might be thinking \"that just looks like the architecture layout we've been using for the other models...\"\n",
    "\n",
    "And you'd be right.\n",
    "\n",
    "The difference again is in the layers component. Instead of using an LSTM or GRU cell, we're going to use a [`tensorflow.keras.layers.Conv1D()`](https://www.tensorflow.org/api_docs/python/tf/keras/layers/Conv1D) layer followed by a [`tensorflow.keras.layers.GlobablMaxPool1D()`](https://www.tensorflow.org/api_docs/python/tf/keras/layers/GlobalMaxPool1D) layer.\n",
    "\n",
    "> 📖 **Resource:** The intuition here is explained succinctly in the paper [*Understanding Convolutional Neural Networks for Text Classification*](https://www.aclweb.org/anthology/W18-5408.pdf), where they state that CNNs classify text through the following steps:\n",
    "1. 1-dimensional convolving filters are used as ngram detectors, each filter specializing in a closely-related family of ngrams (an ngram is a collection of n-words, for example, an ngram of 5 might result in \"hello, my name is Daniel\").\n",
    "2. Max-pooling over time extracts the relevant ngrams for making a decision.\n",
    "3. The rest of the network classifies the text based on this information."
   ]
  },
  {
   "cell_type": "markdown",
   "id": "cce26b7b",
   "metadata": {},
   "source": [
    "### Model 5: Conv1D\n",
    "\n",
    "Before we build a full 1-dimensional CNN model, let's see a 1-dimensional convolutional layer (also called a **temporal convolution**) in action.\n",
    "\n",
    "We'll first create an embedding of a sample of text and experiment passing it through a `Conv1D()` layer and `GlobalMaxPool1D()` layer."
   ]
  },
  {
   "cell_type": "code",
   "execution_count": 85,
   "id": "0dd9df2e",
   "metadata": {},
   "outputs": [],
   "source": [
    "from tensorflow.keras.layers import Conv1D, GlobalMaxPool1D"
   ]
  },
  {
   "cell_type": "code",
   "execution_count": 86,
   "id": "dd66068a",
   "metadata": {},
   "outputs": [
    {
     "data": {
      "text/plain": [
       "(TensorShape([1, 15, 128]), TensorShape([1, 11, 32]), TensorShape([1, 32]))"
      ]
     },
     "execution_count": 86,
     "metadata": {},
     "output_type": "execute_result"
    }
   ],
   "source": [
    "# Testing of Embedding, 1D Convolution Layer and Global Max Pool 1D Layer:\n",
    "\n",
    "# turn target sentence into embedding\n",
    "embedding_test = embedding(text_vectorizer([\"this is a test sentence\"]))\n",
    "\n",
    "# convolve over target sequence 5 words at a time\n",
    "conv_1d = Conv1D(filters=32, kernel_size=5, activation= \"relu\")\n",
    "\n",
    "# pass embedding through 1D convolutional layer\n",
    "conv_1d_output = conv_1d(embedding_test)\n",
    "\n",
    "# get the most important features\n",
    "max_pool= GlobalMaxPool1D()\n",
    "max_pool_output = max_pool(conv_1d_output)\n",
    "\n",
    "embedding_test.shape, conv_1d_output.shape, max_pool_output.shape"
   ]
  },
  {
   "cell_type": "markdown",
   "id": "f9adc6d3",
   "metadata": {},
   "source": [
    "Notice the output shapes of each layer.\n",
    "\n",
    "The embedding has an output shape dimension of the parameters we set it to (`input_length=15` and `output_dim=128`).\n",
    "\n",
    "The 1-dimensional convolutional layer has an output which has been compressed inline with its parameters. And the same goes for the max pooling layer output.\n",
    "\n",
    "Our text starts out as a string but gets converted to a feature vector of length 64 through various transformation steps (from tokenization to embedding to 1-dimensional convolution to max pool)."
   ]
  },
  {
   "cell_type": "code",
   "execution_count": null,
   "id": "8b3f6404",
   "metadata": {},
   "outputs": [],
   "source": []
  },
  {
   "cell_type": "code",
   "execution_count": 87,
   "id": "e4eaf7ec",
   "metadata": {
    "scrolled": false
   },
   "outputs": [
    {
     "data": {
      "text/plain": [
       "(<tf.Tensor: shape=(1, 15, 128), dtype=float32, numpy=\n",
       " array([[[ 0.01707011, -0.00272389,  0.01920843, ...,  0.0084233 ,\n",
       "          -0.02676494,  0.01860629],\n",
       "         [-0.02915313, -0.05756824,  0.00145885, ..., -0.01948511,\n",
       "           0.07554968,  0.06541969],\n",
       "         [-0.03938187, -0.03063604, -0.02266128, ..., -0.04511965,\n",
       "           0.00941444,  0.04471743],\n",
       "         ...,\n",
       "         [-0.02247844, -0.03965262,  0.01498428, ..., -0.04097297,\n",
       "           0.00943387,  0.01908769],\n",
       "         [-0.02247844, -0.03965262,  0.01498428, ..., -0.04097297,\n",
       "           0.00943387,  0.01908769],\n",
       "         [-0.02247844, -0.03965262,  0.01498428, ..., -0.04097297,\n",
       "           0.00943387,  0.01908769]]], dtype=float32)>,\n",
       " <tf.Tensor: shape=(1, 11, 32), dtype=float32, numpy=\n",
       " array([[[0.17456052, 0.        , 0.03054252, 0.01986644, 0.        ,\n",
       "          0.08375996, 0.        , 0.08258771, 0.02991431, 0.03968144,\n",
       "          0.        , 0.06646567, 0.        , 0.05465456, 0.        ,\n",
       "          0.        , 0.1375311 , 0.        , 0.        , 0.        ,\n",
       "          0.        , 0.04218276, 0.0187604 , 0.08031036, 0.01980742,\n",
       "          0.01611675, 0.02263693, 0.08325908, 0.        , 0.0309776 ,\n",
       "          0.09889871, 0.        ],\n",
       "         [0.05057216, 0.        , 0.03638452, 0.06130996, 0.        ,\n",
       "          0.        , 0.        , 0.        , 0.        , 0.        ,\n",
       "          0.        , 0.        , 0.        , 0.11395563, 0.        ,\n",
       "          0.01125313, 0.18666478, 0.01902656, 0.        , 0.        ,\n",
       "          0.05263659, 0.08263072, 0.05076254, 0.045749  , 0.        ,\n",
       "          0.        , 0.        , 0.        , 0.0665969 , 0.        ,\n",
       "          0.04195501, 0.        ],\n",
       "         [0.        , 0.00509513, 0.        , 0.06566919, 0.        ,\n",
       "          0.07017144, 0.        , 0.        , 0.        , 0.04199186,\n",
       "          0.        , 0.        , 0.08067369, 0.01161665, 0.0526459 ,\n",
       "          0.        , 0.16581036, 0.02221771, 0.        , 0.00246323,\n",
       "          0.02928161, 0.10071381, 0.        , 0.00567905, 0.        ,\n",
       "          0.00198371, 0.        , 0.        , 0.        , 0.00521053,\n",
       "          0.03743319, 0.        ],\n",
       "         [0.        , 0.        , 0.        , 0.13472179, 0.02798689,\n",
       "          0.01690852, 0.        , 0.        , 0.        , 0.        ,\n",
       "          0.        , 0.03209957, 0.        , 0.        , 0.        ,\n",
       "          0.        , 0.11067581, 0.        , 0.        , 0.01903716,\n",
       "          0.03599053, 0.07081459, 0.        , 0.05996265, 0.        ,\n",
       "          0.05040812, 0.        , 0.02045627, 0.        , 0.        ,\n",
       "          0.10987622, 0.04473535],\n",
       "         [0.03119147, 0.04739768, 0.        , 0.02794325, 0.03854381,\n",
       "          0.01582588, 0.        , 0.01579643, 0.        , 0.        ,\n",
       "          0.        , 0.02703938, 0.07220572, 0.01437103, 0.00281071,\n",
       "          0.        , 0.05183937, 0.        , 0.        , 0.00845629,\n",
       "          0.01360689, 0.0197752 , 0.        , 0.02119285, 0.        ,\n",
       "          0.03424228, 0.02749449, 0.        , 0.00639249, 0.01904979,\n",
       "          0.08507141, 0.        ],\n",
       "         [0.04769194, 0.00427601, 0.        , 0.01267027, 0.04342546,\n",
       "          0.01239902, 0.        , 0.        , 0.        , 0.        ,\n",
       "          0.        , 0.0023258 , 0.02229135, 0.        , 0.        ,\n",
       "          0.        , 0.04971978, 0.        , 0.        , 0.0017442 ,\n",
       "          0.01873238, 0.        , 0.        , 0.05006049, 0.        ,\n",
       "          0.01942181, 0.        , 0.00122453, 0.0206903 , 0.04605468,\n",
       "          0.09081851, 0.01889604],\n",
       "         [0.04769194, 0.00427601, 0.        , 0.01267027, 0.04342546,\n",
       "          0.01239902, 0.        , 0.        , 0.        , 0.        ,\n",
       "          0.        , 0.0023258 , 0.02229135, 0.        , 0.        ,\n",
       "          0.        , 0.04971978, 0.        , 0.        , 0.0017442 ,\n",
       "          0.01873238, 0.        , 0.        , 0.05006049, 0.        ,\n",
       "          0.01942181, 0.        , 0.00122453, 0.0206903 , 0.04605468,\n",
       "          0.09081851, 0.01889604],\n",
       "         [0.04769194, 0.00427601, 0.        , 0.01267027, 0.04342546,\n",
       "          0.01239902, 0.        , 0.        , 0.        , 0.        ,\n",
       "          0.        , 0.0023258 , 0.02229135, 0.        , 0.        ,\n",
       "          0.        , 0.04971978, 0.        , 0.        , 0.0017442 ,\n",
       "          0.01873238, 0.        , 0.        , 0.05006049, 0.        ,\n",
       "          0.01942181, 0.        , 0.00122453, 0.0206903 , 0.04605468,\n",
       "          0.09081851, 0.01889604],\n",
       "         [0.04769194, 0.00427601, 0.        , 0.01267027, 0.04342546,\n",
       "          0.01239902, 0.        , 0.        , 0.        , 0.        ,\n",
       "          0.        , 0.0023258 , 0.02229135, 0.        , 0.        ,\n",
       "          0.        , 0.04971978, 0.        , 0.        , 0.0017442 ,\n",
       "          0.01873238, 0.        , 0.        , 0.05006049, 0.        ,\n",
       "          0.01942181, 0.        , 0.00122453, 0.0206903 , 0.04605468,\n",
       "          0.09081851, 0.01889604],\n",
       "         [0.04769194, 0.00427601, 0.        , 0.01267027, 0.04342546,\n",
       "          0.01239902, 0.        , 0.        , 0.        , 0.        ,\n",
       "          0.        , 0.0023258 , 0.02229135, 0.        , 0.        ,\n",
       "          0.        , 0.04971978, 0.        , 0.        , 0.0017442 ,\n",
       "          0.01873238, 0.        , 0.        , 0.05006049, 0.        ,\n",
       "          0.01942181, 0.        , 0.00122453, 0.0206903 , 0.04605468,\n",
       "          0.09081851, 0.01889604],\n",
       "         [0.04769194, 0.00427601, 0.        , 0.01267027, 0.04342546,\n",
       "          0.01239902, 0.        , 0.        , 0.        , 0.        ,\n",
       "          0.        , 0.0023258 , 0.02229135, 0.        , 0.        ,\n",
       "          0.        , 0.04971978, 0.        , 0.        , 0.0017442 ,\n",
       "          0.01873238, 0.        , 0.        , 0.05006049, 0.        ,\n",
       "          0.01942181, 0.        , 0.00122453, 0.0206903 , 0.04605468,\n",
       "          0.09081851, 0.01889604]]], dtype=float32)>,\n",
       " <tf.Tensor: shape=(1, 32), dtype=float32, numpy=\n",
       " array([[0.17456052, 0.04739768, 0.03638452, 0.13472179, 0.04342546,\n",
       "         0.08375996, 0.        , 0.08258771, 0.02991431, 0.04199186,\n",
       "         0.        , 0.06646567, 0.08067369, 0.11395563, 0.0526459 ,\n",
       "         0.01125313, 0.18666478, 0.02221771, 0.        , 0.01903716,\n",
       "         0.05263659, 0.10071381, 0.05076254, 0.08031036, 0.01980742,\n",
       "         0.05040812, 0.02749449, 0.08325908, 0.0665969 , 0.04605468,\n",
       "         0.10987622, 0.04473535]], dtype=float32)>)"
      ]
     },
     "execution_count": 87,
     "metadata": {},
     "output_type": "execute_result"
    }
   ],
   "source": [
    "# Outputs of Each Layer:\n",
    "embedding_test[:1], conv_1d_output[:1], max_pool_output[:1]"
   ]
  },
  {
   "cell_type": "code",
   "execution_count": null,
   "id": "29b3394b",
   "metadata": {},
   "outputs": [],
   "source": []
  },
  {
   "cell_type": "code",
   "execution_count": 88,
   "id": "cc9020b6",
   "metadata": {},
   "outputs": [],
   "source": [
    "# Set random seed and create embedding layer (new embedding layer for each model)\n",
    "\n",
    "tf.random.set_seed(42)\n",
    "model_5_embedding = Embedding(input_dim= max_vocab_lenghth,\n",
    "                             output_dim= 128,\n",
    "                             embeddings_initializer= \"uniform\",\n",
    "                             name= \"Embedding_5\")\n",
    "\n",
    "# Creating The Model:\n",
    "inputs = Input(shape= (1,), dtype= tf.string)\n",
    "x = text_vectorizer(inputs)\n",
    "x = model_5_embedding(x)\n",
    "x = Conv1D(filters= 64,\n",
    "          kernel_size= 5,\n",
    "          padding= \"valid\",\n",
    "          activation= \"relu\")(x)\n",
    "x = GlobalMaxPool1D()(x)\n",
    "outputs = Dense(1, activation= \"sigmoid\")(x)\n",
    "\n",
    "model_5 = Model(inputs, outputs, name= \"Model_5_Conv1D\")"
   ]
  },
  {
   "cell_type": "code",
   "execution_count": 89,
   "id": "55b6056e",
   "metadata": {},
   "outputs": [],
   "source": [
    "# Compiling The Model:\n",
    "model_5.compile(optimizer= Adam(),\n",
    "               loss= BinaryCrossentropy(),\n",
    "               metrics= [\"accuracy\"])"
   ]
  },
  {
   "cell_type": "code",
   "execution_count": 90,
   "id": "b1f06934",
   "metadata": {},
   "outputs": [
    {
     "name": "stdout",
     "output_type": "stream",
     "text": [
      "Model: \"Model_5_Conv1D\"\n",
      "_________________________________________________________________\n",
      " Layer (type)                Output Shape              Param #   \n",
      "=================================================================\n",
      " input_5 (InputLayer)        [(None, 1)]               0         \n",
      "                                                                 \n",
      " text_vectorization_1 (Text  (None, 15)                0         \n",
      " Vectorization)                                                  \n",
      "                                                                 \n",
      " Embedding_5 (Embedding)     (None, 15, 128)           1280000   \n",
      "                                                                 \n",
      " conv1d_1 (Conv1D)           (None, 11, 64)            41024     \n",
      "                                                                 \n",
      " global_max_pooling1d_1 (Gl  (None, 64)                0         \n",
      " obalMaxPooling1D)                                               \n",
      "                                                                 \n",
      " dense_4 (Dense)             (None, 1)                 65        \n",
      "                                                                 \n",
      "=================================================================\n",
      "Total params: 1321089 (5.04 MB)\n",
      "Trainable params: 1321089 (5.04 MB)\n",
      "Non-trainable params: 0 (0.00 Byte)\n",
      "_________________________________________________________________\n"
     ]
    }
   ],
   "source": [
    "# Summary of Model 5:\n",
    "model_5.summary()"
   ]
  },
  {
   "cell_type": "code",
   "execution_count": 91,
   "id": "4d6cff25",
   "metadata": {},
   "outputs": [
    {
     "name": "stdout",
     "output_type": "stream",
     "text": [
      "Saving TensorBoard log files to: model_logs/Model_5_Conv1D/20240517-151413\n",
      "Epoch 1/5\n",
      "215/215 [==============================] - 6s 15ms/step - loss: 0.5464 - accuracy: 0.7279 - val_loss: 0.4665 - val_accuracy: 0.7848\n",
      "Epoch 2/5\n",
      "215/215 [==============================] - 3s 14ms/step - loss: 0.3299 - accuracy: 0.8635 - val_loss: 0.4790 - val_accuracy: 0.7887\n",
      "Epoch 3/5\n",
      "215/215 [==============================] - 3s 13ms/step - loss: 0.2068 - accuracy: 0.9269 - val_loss: 0.5358 - val_accuracy: 0.7730\n",
      "Epoch 4/5\n",
      "215/215 [==============================] - 3s 14ms/step - loss: 0.1306 - accuracy: 0.9587 - val_loss: 0.6255 - val_accuracy: 0.7769\n",
      "Epoch 5/5\n",
      "215/215 [==============================] - 3s 14ms/step - loss: 0.0931 - accuracy: 0.9680 - val_loss: 0.6737 - val_accuracy: 0.7835\n"
     ]
    }
   ],
   "source": [
    "# Fit Model 5:\n",
    "model_5_history = model_5.fit(train_sentences,\n",
    "                             train_labels,\n",
    "                             validation_data= (val_sentences, val_labels),\n",
    "                             epochs= 5,\n",
    "                             callbacks= [create_tensorboard_callback(dir_name= SAVE_DIR,\n",
    "                                                                    experiment_name= \"Model_5_Conv1D\")])"
   ]
  },
  {
   "cell_type": "code",
   "execution_count": 92,
   "id": "c3fad60f",
   "metadata": {},
   "outputs": [
    {
     "name": "stdout",
     "output_type": "stream",
     "text": [
      "24/24 [==============================] - 0s 6ms/step\n"
     ]
    },
    {
     "data": {
      "text/plain": [
       "array([[0.4340578 ],\n",
       "       [0.831099  ],\n",
       "       [0.99969804],\n",
       "       [0.11766782],\n",
       "       [0.00379964],\n",
       "       [0.9982693 ],\n",
       "       [0.9304878 ],\n",
       "       [0.9987846 ],\n",
       "       [0.9996441 ],\n",
       "       [0.17817356]], dtype=float32)"
      ]
     },
     "execution_count": 92,
     "metadata": {},
     "output_type": "execute_result"
    }
   ],
   "source": [
    "# Making Predictions Using Model 5 on Validation Data:\n",
    "model_5_pred_prob = model_5.predict(val_sentences)\n",
    "model_5_pred_prob[:10]"
   ]
  },
  {
   "cell_type": "code",
   "execution_count": 93,
   "id": "cfd10fc8",
   "metadata": {},
   "outputs": [
    {
     "data": {
      "text/plain": [
       "<tf.Tensor: shape=(10,), dtype=float32, numpy=array([0., 1., 1., 0., 0., 1., 1., 1., 1., 0.], dtype=float32)>"
      ]
     },
     "execution_count": 93,
     "metadata": {},
     "output_type": "execute_result"
    }
   ],
   "source": [
    "# Converting Model's Prediction Probabilites to Labels:\n",
    "model_5_preds = tf.squeeze(tf.round(model_5_pred_prob))\n",
    "model_5_preds[:10]"
   ]
  },
  {
   "cell_type": "code",
   "execution_count": 94,
   "id": "5d7489fb",
   "metadata": {},
   "outputs": [
    {
     "data": {
      "text/plain": [
       "{'Accuracy': 78.34645669291339,\n",
       " 'Precision': 0.7880043492637875,\n",
       " 'Recall': 0.7834645669291339,\n",
       " 'F1-Score': 0.7804929895574078}"
      ]
     },
     "execution_count": 94,
     "metadata": {},
     "output_type": "execute_result"
    }
   ],
   "source": [
    "# Calculating Model 5 Results:\n",
    "model_5_results = calculate_results(y_true= val_labels,\n",
    "                                   y_pred= model_5_preds)\n",
    "model_5_results"
   ]
  },
  {
   "cell_type": "code",
   "execution_count": null,
   "id": "ee495d81",
   "metadata": {},
   "outputs": [],
   "source": []
  },
  {
   "cell_type": "markdown",
   "id": "0b2d47f2",
   "metadata": {},
   "source": [
    "## Using Pretrained Embeddings (transfer learning for NLP)\n",
    "\n",
    "For all of the previous deep learning models we've built and trained, we've created and used our own embeddings from scratch each time.\n",
    "\n",
    "However, a common practice is to leverage pretrained embeddings through **transfer learning**. This is one of the main benefits of using deep models: being able to take what one (often larger) model has learned (often on a large amount of data) and adjust it for our own use case.\n",
    "\n",
    "For our next model, instead of using our own embedding layer, we're going to replace it with a pretrained embedding layer.\n",
    "\n",
    "More specifically, we're going to be using the [Universal Sentence Encoder](https://www.aclweb.org/anthology/D18-2029.pdf) from [TensorFlow Hub](https://tfhub.dev/google/universal-sentence-encoder/4) (a great resource containing a plethora of pretrained model resources for a variety of tasks).\n",
    "\n",
    "Note: There are many different pretrained text embedding options on TensorFlow Hub, however, some require different levels of text preprocessing than others. Best to experiment with a few and see which best suits your use case."
   ]
  },
  {
   "cell_type": "code",
   "execution_count": null,
   "id": "84853596",
   "metadata": {},
   "outputs": [],
   "source": []
  },
  {
   "cell_type": "markdown",
   "id": "15715244",
   "metadata": {},
   "source": [
    "### Model 6: TensorFlow Hub Pretrained Sentence Encoder\n",
    "\n",
    "The main difference between the embedding layer we created and the Universal Sentence Encoder is that rather than create a word-level embedding, the Universal Sentence Encoder, as you might've guessed, creates a whole sentence-level embedding.\n",
    "\n",
    "Our embedding layer also outputs an a 128 dimensional vector for each word, where as, the Universal Sentence Encoder outputs a 512 dimensional vector for each sentence.\n",
    "\n",
    "![](https://raw.githubusercontent.com/mrdbourke/tensorflow-deep-learning/main/images/08-USE-tensorflow-hub-encoder-decoder-model.png)\n",
    "*The feature extractor model we're building through the eyes of an **encoder/decoder** model.*\n",
    "\n",
    "Note: An **encoder** is the name for a model which converts raw data such as text into a numerical representation (feature vector), a **decoder** converts the numerical representation to a desired output.\n",
    "\n",
    "\n",
    "We can load in a TensorFlow Hub module using the [`hub.load()`](https://www.tensorflow.org/hub/api_docs/python/hub/load) method and passing it the target URL of the module we'd like to use, in our case, it's \"https://www.kaggle.com/models/google/universal-sentence-encoder/tensorFlow2/universal-sentence-encoder/2?tfhub-redirect=true"
   ]
  },
  {
   "cell_type": "code",
   "execution_count": 95,
   "id": "0cef5ab2",
   "metadata": {},
   "outputs": [
    {
     "name": "stdout",
     "output_type": "stream",
     "text": [
      "WARNING:tensorflow:From C:\\Users\\shail\\AppData\\Roaming\\Python\\Python311\\site-packages\\tensorflow_hub\\resolver.py:120: The name tf.gfile.MakeDirs is deprecated. Please use tf.io.gfile.makedirs instead.\n",
      "\n"
     ]
    },
    {
     "name": "stderr",
     "output_type": "stream",
     "text": [
      "WARNING:tensorflow:From C:\\Users\\shail\\AppData\\Roaming\\Python\\Python311\\site-packages\\tensorflow_hub\\resolver.py:120: The name tf.gfile.MakeDirs is deprecated. Please use tf.io.gfile.makedirs instead.\n",
      "\n"
     ]
    },
    {
     "name": "stdout",
     "output_type": "stream",
     "text": [
      "WARNING:tensorflow:From C:\\Users\\shail\\AppData\\Roaming\\Python\\Python311\\site-packages\\tensorflow_hub\\module_v2.py:126: The name tf.saved_model.load_v2 is deprecated. Please use tf.compat.v2.saved_model.load instead.\n",
      "\n"
     ]
    },
    {
     "name": "stderr",
     "output_type": "stream",
     "text": [
      "WARNING:tensorflow:From C:\\Users\\shail\\AppData\\Roaming\\Python\\Python311\\site-packages\\tensorflow_hub\\module_v2.py:126: The name tf.saved_model.load_v2 is deprecated. Please use tf.compat.v2.saved_model.load instead.\n",
      "\n"
     ]
    },
    {
     "name": "stdout",
     "output_type": "stream",
     "text": [
      "tf.Tensor(\n",
      "[-0.01157025  0.02485911  0.02878051 -0.012715    0.03971541  0.08827761\n",
      "  0.02680988  0.05589838 -0.01068731 -0.00597293  0.00639321 -0.01819516\n",
      "  0.00030816  0.09105889  0.05874645 -0.03180629  0.01512474 -0.05162925\n",
      "  0.00991366 -0.06865345 -0.04209306  0.0267898   0.03011009  0.00321065\n",
      " -0.00337968 -0.04787356  0.0226672  -0.00985927 -0.04063615 -0.01292093\n",
      " -0.04666382  0.05630299 -0.03949255  0.00517682  0.02495827 -0.07014439\n",
      "  0.0287151   0.0494768  -0.00633978 -0.08960193  0.02807119 -0.00808364\n",
      " -0.01360601  0.05998649 -0.10361788 -0.05195372  0.00232958 -0.02332531\n",
      " -0.03758106  0.03327729], shape=(50,), dtype=float32)\n"
     ]
    }
   ],
   "source": [
    "# Example of Pre-Trained Embedding with Universal Sentence Encoder (https://www.kaggle.com/models/google/universal-sentence-encoder/tensorFlow2/universal-sentence-encoder/2)\n",
    "\n",
    "import tensorflow_hub as hub\n",
    "\n",
    "embed = hub.load(\"https://www.kaggle.com/models/google/universal-sentence-encoder/tensorFlow2/universal-sentence-encoder/2\")\n",
    "embed_samples = embed([sample_sentence,\n",
    "                \"When you call the universal sentence encoder on a sentence, it turns it into numbers.\"])\n",
    "\n",
    "print(embed_samples[0][:50])"
   ]
  },
  {
   "cell_type": "code",
   "execution_count": 96,
   "id": "40a9ffb1",
   "metadata": {},
   "outputs": [
    {
     "data": {
      "text/plain": [
       "TensorShape([512])"
      ]
     },
     "execution_count": 96,
     "metadata": {},
     "output_type": "execute_result"
    }
   ],
   "source": [
    "embed_samples[0].shape"
   ]
  },
  {
   "cell_type": "code",
   "execution_count": 97,
   "id": "74f40fbd",
   "metadata": {},
   "outputs": [
    {
     "data": {
      "text/plain": [
       "TensorShape([512])"
      ]
     },
     "execution_count": 97,
     "metadata": {},
     "output_type": "execute_result"
    }
   ],
   "source": [
    "embed_samples[1].shape"
   ]
  },
  {
   "cell_type": "code",
   "execution_count": null,
   "id": "a66a2d09",
   "metadata": {},
   "outputs": [],
   "source": []
  },
  {
   "cell_type": "markdown",
   "id": "26a77c95",
   "metadata": {},
   "source": [
    "Passing our sentences to the Universal Sentence Encoder (USE) encodes them from strings to 512 dimensional vectors, which make no sense to us but hopefully make sense to our machine learning models.\n",
    "\n",
    "Speaking of models, let's build one with the USE as our embedding layer.\n",
    "\n",
    "We can convert the TensorFlow Hub USE module into a Keras layer using the [`hub.KerasLayer`](https://www.tensorflow.org/hub/api_docs/python/hub/KerasLayer) class.\n",
    "\n",
    "Note: Due to the size of the USE TensorFlow Hub module, it may take a little while to download. Once it's downloaded though, it'll be cached and ready to use. And as with many TensorFlow Hub modules, there is a [\"lite\" version of the USE](https://tfhub.dev/google/universal-sentence-encoder-lite/2) which takes up less space but sacrifices some performance and requires more preprocessing steps. However, depending on your available compute power, the lite version may be better for your application use case."
   ]
  },
  {
   "cell_type": "code",
   "execution_count": 98,
   "id": "ff4e559b",
   "metadata": {},
   "outputs": [],
   "source": [
    "# We can use this encoding layer in place of our text_vectorizer and embedding layer\n",
    "sentence_encoder_layer = hub.KerasLayer(handle= \"https://www.kaggle.com/models/google/universal-sentence-encoder/tensorFlow2/universal-sentence-encoder/2\",\n",
    "                                       input_shape= [], # shape of inputs coming to our model (Variable Length Input, That's why empty vector as input shape)\n",
    "                                       dtype= tf.string,\n",
    "                                       trainable= False,\n",
    "                                       name= \"USE\")"
   ]
  },
  {
   "cell_type": "code",
   "execution_count": 99,
   "id": "bb5e8725",
   "metadata": {},
   "outputs": [],
   "source": [
    "# Creating Model 6 (Sequential API):\n",
    "\n",
    "from tensorflow.keras.models import Sequential\n",
    "\n",
    "model_6 = Sequential(name= \"Model_6_USE\")\n",
    "model_6.add(sentence_encoder_layer) # take in sentences and then encode them into an embedding\n",
    "model_6.add(Dense(64, activation= \"relu\"))\n",
    "model_6.add(Dense(1, activation= \"sigmoid\"))\n",
    "\n",
    "# Compile The Model:\n",
    "model_6.compile(optimizer= Adam(),\n",
    "               loss= BinaryCrossentropy(),\n",
    "               metrics= [\"accuracy\"])"
   ]
  },
  {
   "cell_type": "code",
   "execution_count": 100,
   "id": "f612b2a8",
   "metadata": {},
   "outputs": [
    {
     "name": "stdout",
     "output_type": "stream",
     "text": [
      "Model: \"Model_6_USE\"\n",
      "_________________________________________________________________\n",
      " Layer (type)                Output Shape              Param #   \n",
      "=================================================================\n",
      " USE (KerasLayer)            (None, 512)               256797824 \n",
      "                                                                 \n",
      " dense_5 (Dense)             (None, 64)                32832     \n",
      "                                                                 \n",
      " dense_6 (Dense)             (None, 1)                 65        \n",
      "                                                                 \n",
      "=================================================================\n",
      "Total params: 256830721 (979.73 MB)\n",
      "Trainable params: 32897 (128.50 KB)\n",
      "Non-trainable params: 256797824 (979.61 MB)\n",
      "_________________________________________________________________\n"
     ]
    }
   ],
   "source": [
    "# Model Summary:\n",
    "model_6.summary()"
   ]
  },
  {
   "cell_type": "markdown",
   "id": "1837be68",
   "metadata": {},
   "source": [
    "Notice the number of paramters in the USE layer, these are the pretrained weights its learned on various text sources (Wikipedia, web news, web question-answer forums, etc, see the [Universal Sentence Encoder paper](https://www.aclweb.org/anthology/D18-2029.pdf) for more).\n",
    "\n",
    "The trainable parameters are only in our output layers, in other words, we're keeping the USE weights frozen and using it as a feature-extractor. We could fine-tune these weights by setting `trainable=True` when creating the `hub.KerasLayer` instance.\n",
    "\n",
    "Now we've got a feature extractor model ready, let's train it and track its results to TensorBoard using our `create_tensorboard_callback()` function."
   ]
  },
  {
   "cell_type": "code",
   "execution_count": 101,
   "id": "676ee6f0",
   "metadata": {},
   "outputs": [
    {
     "name": "stdout",
     "output_type": "stream",
     "text": [
      "Saving TensorBoard log files to: model_logs/Model_6_TF_HUB_Sentence_Encoder/20240517-151822\n",
      "Epoch 1/5\n",
      "215/215 [==============================] - 9s 15ms/step - loss: 0.5012 - accuracy: 0.7875 - val_loss: 0.4474 - val_accuracy: 0.7979\n",
      "Epoch 2/5\n",
      "215/215 [==============================] - 3s 14ms/step - loss: 0.4145 - accuracy: 0.8142 - val_loss: 0.4365 - val_accuracy: 0.8110\n",
      "Epoch 3/5\n",
      "215/215 [==============================] - 3s 13ms/step - loss: 0.4000 - accuracy: 0.8222 - val_loss: 0.4321 - val_accuracy: 0.8123\n",
      "Epoch 4/5\n",
      "215/215 [==============================] - 4s 17ms/step - loss: 0.3929 - accuracy: 0.8269 - val_loss: 0.4279 - val_accuracy: 0.8163\n",
      "Epoch 5/5\n",
      "215/215 [==============================] - 3s 15ms/step - loss: 0.3869 - accuracy: 0.8292 - val_loss: 0.4291 - val_accuracy: 0.8150\n"
     ]
    }
   ],
   "source": [
    "# Train a classifier on top of pretrained embeddings\n",
    "model_6_history = model_6.fit(train_sentences,\n",
    "                             train_labels,\n",
    "                             validation_data= (val_sentences, val_labels),\n",
    "                             epochs= 5,\n",
    "                             callbacks= [create_tensorboard_callback(dir_name= SAVE_DIR,\n",
    "                                                experiment_name= \"Model_6_TF_HUB_Sentence_Encoder\")])"
   ]
  },
  {
   "cell_type": "code",
   "execution_count": 102,
   "id": "9caaf2fe",
   "metadata": {},
   "outputs": [
    {
     "name": "stdout",
     "output_type": "stream",
     "text": [
      "24/24 [==============================] - 1s 6ms/step\n"
     ]
    },
    {
     "data": {
      "text/plain": [
       "array([[0.1495161 ],\n",
       "       [0.7606879 ],\n",
       "       [0.9875643 ],\n",
       "       [0.19024359],\n",
       "       [0.7597471 ],\n",
       "       [0.6660646 ],\n",
       "       [0.9798068 ],\n",
       "       [0.97699034],\n",
       "       [0.9274037 ],\n",
       "       [0.09086937]], dtype=float32)"
      ]
     },
     "execution_count": 102,
     "metadata": {},
     "output_type": "execute_result"
    }
   ],
   "source": [
    "# Making Predictions With Tf Hub Sentence Encoder Model:\n",
    "model_6_pred_prob = model_6.predict(val_sentences)\n",
    "model_6_pred_prob[:10]"
   ]
  },
  {
   "cell_type": "code",
   "execution_count": 103,
   "id": "485716fb",
   "metadata": {},
   "outputs": [
    {
     "data": {
      "text/plain": [
       "<tf.Tensor: shape=(10,), dtype=float32, numpy=array([0., 1., 1., 0., 1., 1., 1., 1., 1., 0.], dtype=float32)>"
      ]
     },
     "execution_count": 103,
     "metadata": {},
     "output_type": "execute_result"
    }
   ],
   "source": [
    "# Convert Prediction Probabilities to Labels:\n",
    "model_6_preds = tf.squeeze(tf.round(model_6_pred_prob))\n",
    "model_6_preds[:10]"
   ]
  },
  {
   "cell_type": "code",
   "execution_count": 105,
   "id": "79c474b8",
   "metadata": {},
   "outputs": [
    {
     "data": {
      "text/plain": [
       "{'Accuracy': 81.49606299212599,\n",
       " 'Precision': 0.8175707797736699,\n",
       " 'Recall': 0.8149606299212598,\n",
       " 'F1-Score': 0.8133343159175271}"
      ]
     },
     "execution_count": 105,
     "metadata": {},
     "output_type": "execute_result"
    }
   ],
   "source": [
    "# Calculating Model 6 Results:\n",
    "model_6_results = calculate_results(y_true= val_labels,\n",
    "                                   y_pred= model_6_preds)\n",
    "model_6_results"
   ]
  },
  {
   "cell_type": "code",
   "execution_count": null,
   "id": "177002b9",
   "metadata": {},
   "outputs": [],
   "source": []
  },
  {
   "cell_type": "markdown",
   "id": "fb425a7a",
   "metadata": {},
   "source": [
    "### Model 7: TensorFlow Hub Pretrained Sentence Encoder 10% of the training data\n",
    "\n",
    "One of the benefits of using transfer learning methods, such as, the pretrained embeddings within the USE is the ability to get great results on a small amount of data (the USE paper even mentions this in the abstract).\n",
    "\n",
    "To put this to the test, we're going to make a small subset of the training data (10%), train a model and evaluate it."
   ]
  },
  {
   "cell_type": "code",
   "execution_count": 106,
   "id": "be97c064",
   "metadata": {},
   "outputs": [],
   "source": [
    "# split the already split train_sentences/train_labels\n",
    "\n",
    "train_sentences_90_percent, train_sentences_10_percent, train_labels_90_percent, train_labels_10_percent = train_test_split(train_sentences,\n",
    "                                                                                                                           train_labels,\n",
    "                                                                                                                           test_size= 0.1,\n",
    "                                                                                                                           random_state= 42)"
   ]
  },
  {
   "cell_type": "code",
   "execution_count": 107,
   "id": "85ba0b60",
   "metadata": {},
   "outputs": [
    {
     "name": "stdout",
     "output_type": "stream",
     "text": [
      "Total Training Examples: 6851\n",
      "Training Examples in 10% Training Data: 686\n"
     ]
    }
   ],
   "source": [
    "# length of 10 Percent Training Datasets:\n",
    "print(f\"Total Training Examples: {len(train_sentences)}\")\n",
    "print(f\"Training Examples in 10% Training Data: {len(train_sentences_10_percent)}\")"
   ]
  },
  {
   "cell_type": "markdown",
   "id": "6b3c2e6d",
   "metadata": {},
   "source": [
    "Because we've selected a random subset of the training samples, the classes should be roughly balanced (as they are in the full training dataset)."
   ]
  },
  {
   "cell_type": "code",
   "execution_count": 108,
   "id": "ed7fecee",
   "metadata": {},
   "outputs": [
    {
     "data": {
      "text/plain": [
       "0    415\n",
       "1    271\n",
       "dtype: int64"
      ]
     },
     "execution_count": 108,
     "metadata": {},
     "output_type": "execute_result"
    }
   ],
   "source": [
    "# Check the number of targets in our subset of data\n",
    "pd.Series(train_labels_10_percent).value_counts()"
   ]
  },
  {
   "cell_type": "code",
   "execution_count": null,
   "id": "9e0b67d8",
   "metadata": {},
   "outputs": [],
   "source": []
  },
  {
   "cell_type": "markdown",
   "id": "e96e527a",
   "metadata": {},
   "source": [
    "To make sure we're making an appropriate comparison between our model's ability to learn from the full training set and 10% subset, we'll clone our USE model (`model_6`) using the [`tf.keras.models.clone_model()`](https://www.tensorflow.org/api_docs/python/tf/keras/models/clone_model) method.\n",
    "\n",
    "Doing this will create the same architecture but reset the learned weights of the clone target (pretrained weights from the USE will remain but all others will be reset)."
   ]
  },
  {
   "cell_type": "code",
   "execution_count": 109,
   "id": "4b8d4e59",
   "metadata": {},
   "outputs": [
    {
     "name": "stdout",
     "output_type": "stream",
     "text": [
      "Model: \"Model_6_USE\"\n",
      "_________________________________________________________________\n",
      " Layer (type)                Output Shape              Param #   \n",
      "=================================================================\n",
      " USE (KerasLayer)            (None, 512)               256797824 \n",
      "                                                                 \n",
      " dense_5 (Dense)             (None, 64)                32832     \n",
      "                                                                 \n",
      " dense_6 (Dense)             (None, 1)                 65        \n",
      "                                                                 \n",
      "=================================================================\n",
      "Total params: 256830721 (979.73 MB)\n",
      "Trainable params: 32897 (128.50 KB)\n",
      "Non-trainable params: 256797824 (979.61 MB)\n",
      "_________________________________________________________________\n"
     ]
    }
   ],
   "source": [
    "# Clone model_6 but reset weights\n",
    "model_7 = tf.keras.models.clone_model(model_6)\n",
    "\n",
    "# Compiling The Model:\n",
    "model_7.compile(optimizer= Adam(),\n",
    "               loss= BinaryCrossentropy(),\n",
    "               metrics= [\"accuracy\"])\n",
    "\n",
    "# Summary of Model:\n",
    "model_7.summary()"
   ]
  },
  {
   "cell_type": "code",
   "execution_count": 110,
   "id": "c65f0e93",
   "metadata": {},
   "outputs": [
    {
     "name": "stdout",
     "output_type": "stream",
     "text": [
      "Saving TensorBoard log files to: model_logs/Model_6_TF_HUB_Sentence_Encoder(10%)/20240517-155250\n",
      "Epoch 1/5\n",
      "22/22 [==============================] - 4s 52ms/step - loss: 0.6669 - accuracy: 0.6997 - val_loss: 0.6461 - val_accuracy: 0.7008\n",
      "Epoch 2/5\n",
      "22/22 [==============================] - 0s 18ms/step - loss: 0.5915 - accuracy: 0.8163 - val_loss: 0.5880 - val_accuracy: 0.7454\n",
      "Epoch 3/5\n",
      "22/22 [==============================] - 0s 12ms/step - loss: 0.5140 - accuracy: 0.8222 - val_loss: 0.5354 - val_accuracy: 0.7743\n",
      "Epoch 4/5\n",
      "22/22 [==============================] - 0s 19ms/step - loss: 0.4506 - accuracy: 0.8338 - val_loss: 0.5045 - val_accuracy: 0.7769\n",
      "Epoch 5/5\n",
      "22/22 [==============================] - 1s 25ms/step - loss: 0.4085 - accuracy: 0.8455 - val_loss: 0.4881 - val_accuracy: 0.7822\n"
     ]
    }
   ],
   "source": [
    "# Fit The Model to 10% Training Data:\n",
    "model_7_history = model_7.fit(train_sentences_10_percent,\n",
    "                             train_labels_10_percent,\n",
    "                             validation_data= (val_sentences, val_labels),\n",
    "                             epochs= 5,\n",
    "                             callbacks= [create_tensorboard_callback(dir_name= SAVE_DIR,\n",
    "                                            experiment_name= \"Model_6_TF_HUB_Sentence_Encoder(10%)\")])"
   ]
  },
  {
   "cell_type": "code",
   "execution_count": 111,
   "id": "9738774e",
   "metadata": {},
   "outputs": [
    {
     "name": "stdout",
     "output_type": "stream",
     "text": [
      "24/24 [==============================] - 1s 8ms/step\n"
     ]
    },
    {
     "data": {
      "text/plain": [
       "array([[0.24777852],\n",
       "       [0.79420894],\n",
       "       [0.90676147],\n",
       "       [0.29405096],\n",
       "       [0.5278451 ],\n",
       "       [0.84186316],\n",
       "       [0.8022349 ],\n",
       "       [0.8396528 ],\n",
       "       [0.8468027 ],\n",
       "       [0.1365191 ]], dtype=float32)"
      ]
     },
     "execution_count": 111,
     "metadata": {},
     "output_type": "execute_result"
    }
   ],
   "source": [
    "# Make predictions with the model trained on 10% of the data\n",
    "model_7_pred_prob = model_7.predict(val_sentences)\n",
    "model_7_pred_prob[:10]"
   ]
  },
  {
   "cell_type": "code",
   "execution_count": 112,
   "id": "d17f4230",
   "metadata": {},
   "outputs": [
    {
     "data": {
      "text/plain": [
       "<tf.Tensor: shape=(10,), dtype=float32, numpy=array([0., 1., 1., 0., 1., 1., 1., 1., 1., 0.], dtype=float32)>"
      ]
     },
     "execution_count": 112,
     "metadata": {},
     "output_type": "execute_result"
    }
   ],
   "source": [
    "# Convert prediction probabilities to labels\n",
    "model_7_preds = tf.squeeze(tf.round(model_7_pred_prob))\n",
    "model_7_preds[:10]"
   ]
  },
  {
   "cell_type": "code",
   "execution_count": 114,
   "id": "0a9d32cd",
   "metadata": {},
   "outputs": [
    {
     "data": {
      "text/plain": [
       "{'Accuracy': 78.21522309711287,\n",
       " 'Precision': 0.7868451603977311,\n",
       " 'Recall': 0.7821522309711286,\n",
       " 'F1-Score': 0.779088324447517}"
      ]
     },
     "execution_count": 114,
     "metadata": {},
     "output_type": "execute_result"
    }
   ],
   "source": [
    "# Calculate model 7 results\n",
    "model_7_results = calculate_results(y_true= val_labels,\n",
    "                                    y_pred= model_7_preds)\n",
    "model_7_results"
   ]
  },
  {
   "cell_type": "code",
   "execution_count": null,
   "id": "ae943d4d",
   "metadata": {},
   "outputs": [],
   "source": []
  },
  {
   "cell_type": "markdown",
   "id": "4233ae84",
   "metadata": {},
   "source": [
    "## Comparing the performance of each of our models\n",
    "\n",
    "Now it's time to compare our model's results.\n",
    "\n",
    "This type of practice is a standard deep learning workflow. Training various different models, then comparing them to see which one performed best and continuing to train it if necessary.\n",
    "\n",
    "The important thing to note is that for all of our modelling experiments we used the same training data (except for `model_7` where we used 10% of the training data).\n",
    "\n",
    "To visualize our model's performances, let's create a pandas DataFrame we our results dictionaries and then plot it."
   ]
  },
  {
   "cell_type": "code",
   "execution_count": 124,
   "id": "38cc38e2",
   "metadata": {},
   "outputs": [],
   "source": [
    "# Making a Dataframe to Compare Results of all Models:\n",
    "all_model_results = pd.DataFrame({\"0 BaseLine Model(MultiNomilaNB)\": baseline_results,\n",
    "                                 \"1 Simple Dense\": model_1_results,\n",
    "                                 \"2 LSTM\": model_2_results,\n",
    "                                 \"3 GRU\": model_3_results,\n",
    "                                 \"4 Bi-Directional\": model_4_results,\n",
    "                                 \"5 Conv1D\": model_5_results,\n",
    "                                 \"6 Tf Hub Sentence Encoder\": model_6_results,\n",
    "                                 \"7 Tf Hub Sentence Encoder(10% Data)\": model_7_results})"
   ]
  },
  {
   "cell_type": "code",
   "execution_count": 125,
   "id": "c3cabdf7",
   "metadata": {},
   "outputs": [
    {
     "data": {
      "text/html": [
       "<div>\n",
       "<style scoped>\n",
       "    .dataframe tbody tr th:only-of-type {\n",
       "        vertical-align: middle;\n",
       "    }\n",
       "\n",
       "    .dataframe tbody tr th {\n",
       "        vertical-align: top;\n",
       "    }\n",
       "\n",
       "    .dataframe thead th {\n",
       "        text-align: right;\n",
       "    }\n",
       "</style>\n",
       "<table border=\"1\" class=\"dataframe\">\n",
       "  <thead>\n",
       "    <tr style=\"text-align: right;\">\n",
       "      <th></th>\n",
       "      <th>0 BaseLine Model(MultiNomilaNB)</th>\n",
       "      <th>1 Simple Dense</th>\n",
       "      <th>2 LSTM</th>\n",
       "      <th>3 GRU</th>\n",
       "      <th>4 Bi-Directional</th>\n",
       "      <th>5 Conv1D</th>\n",
       "      <th>6 Tf Hub Sentence Encoder</th>\n",
       "      <th>7 Tf Hub Sentence Encoder(10% Data)</th>\n",
       "    </tr>\n",
       "  </thead>\n",
       "  <tbody>\n",
       "    <tr>\n",
       "      <th>Accuracy</th>\n",
       "      <td>79.265092</td>\n",
       "      <td>78.608924</td>\n",
       "      <td>76.509186</td>\n",
       "      <td>77.427822</td>\n",
       "      <td>77.165354</td>\n",
       "      <td>78.346457</td>\n",
       "      <td>81.496063</td>\n",
       "      <td>78.215223</td>\n",
       "    </tr>\n",
       "    <tr>\n",
       "      <th>Precision</th>\n",
       "      <td>0.811139</td>\n",
       "      <td>0.790328</td>\n",
       "      <td>0.766686</td>\n",
       "      <td>0.774900</td>\n",
       "      <td>0.771319</td>\n",
       "      <td>0.788004</td>\n",
       "      <td>0.817571</td>\n",
       "      <td>0.786845</td>\n",
       "    </tr>\n",
       "    <tr>\n",
       "      <th>Recall</th>\n",
       "      <td>0.792651</td>\n",
       "      <td>0.786089</td>\n",
       "      <td>0.765092</td>\n",
       "      <td>0.774278</td>\n",
       "      <td>0.771654</td>\n",
       "      <td>0.783465</td>\n",
       "      <td>0.814961</td>\n",
       "      <td>0.782152</td>\n",
       "    </tr>\n",
       "    <tr>\n",
       "      <th>F1-Score</th>\n",
       "      <td>0.786219</td>\n",
       "      <td>0.783297</td>\n",
       "      <td>0.762895</td>\n",
       "      <td>0.772825</td>\n",
       "      <td>0.771052</td>\n",
       "      <td>0.780493</td>\n",
       "      <td>0.813334</td>\n",
       "      <td>0.779088</td>\n",
       "    </tr>\n",
       "  </tbody>\n",
       "</table>\n",
       "</div>"
      ],
      "text/plain": [
       "           0 BaseLine Model(MultiNomilaNB)  1 Simple Dense     2 LSTM  \\\n",
       "Accuracy                         79.265092       78.608924  76.509186   \n",
       "Precision                         0.811139        0.790328   0.766686   \n",
       "Recall                            0.792651        0.786089   0.765092   \n",
       "F1-Score                          0.786219        0.783297   0.762895   \n",
       "\n",
       "               3 GRU  4 Bi-Directional   5 Conv1D  6 Tf Hub Sentence Encoder  \\\n",
       "Accuracy   77.427822         77.165354  78.346457                  81.496063   \n",
       "Precision   0.774900          0.771319   0.788004                   0.817571   \n",
       "Recall      0.774278          0.771654   0.783465                   0.814961   \n",
       "F1-Score    0.772825          0.771052   0.780493                   0.813334   \n",
       "\n",
       "           7 Tf Hub Sentence Encoder(10% Data)  \n",
       "Accuracy                             78.215223  \n",
       "Precision                             0.786845  \n",
       "Recall                                0.782152  \n",
       "F1-Score                              0.779088  "
      ]
     },
     "execution_count": 125,
     "metadata": {},
     "output_type": "execute_result"
    }
   ],
   "source": [
    "all_model_results"
   ]
  },
  {
   "cell_type": "code",
   "execution_count": 126,
   "id": "78bc566d",
   "metadata": {},
   "outputs": [
    {
     "data": {
      "text/html": [
       "<div>\n",
       "<style scoped>\n",
       "    .dataframe tbody tr th:only-of-type {\n",
       "        vertical-align: middle;\n",
       "    }\n",
       "\n",
       "    .dataframe tbody tr th {\n",
       "        vertical-align: top;\n",
       "    }\n",
       "\n",
       "    .dataframe thead th {\n",
       "        text-align: right;\n",
       "    }\n",
       "</style>\n",
       "<table border=\"1\" class=\"dataframe\">\n",
       "  <thead>\n",
       "    <tr style=\"text-align: right;\">\n",
       "      <th></th>\n",
       "      <th>Accuracy</th>\n",
       "      <th>Precision</th>\n",
       "      <th>Recall</th>\n",
       "      <th>F1-Score</th>\n",
       "    </tr>\n",
       "  </thead>\n",
       "  <tbody>\n",
       "    <tr>\n",
       "      <th>0 BaseLine Model(MultiNomilaNB)</th>\n",
       "      <td>79.265092</td>\n",
       "      <td>0.811139</td>\n",
       "      <td>0.792651</td>\n",
       "      <td>0.786219</td>\n",
       "    </tr>\n",
       "    <tr>\n",
       "      <th>1 Simple Dense</th>\n",
       "      <td>78.608924</td>\n",
       "      <td>0.790328</td>\n",
       "      <td>0.786089</td>\n",
       "      <td>0.783297</td>\n",
       "    </tr>\n",
       "    <tr>\n",
       "      <th>2 LSTM</th>\n",
       "      <td>76.509186</td>\n",
       "      <td>0.766686</td>\n",
       "      <td>0.765092</td>\n",
       "      <td>0.762895</td>\n",
       "    </tr>\n",
       "    <tr>\n",
       "      <th>3 GRU</th>\n",
       "      <td>77.427822</td>\n",
       "      <td>0.774900</td>\n",
       "      <td>0.774278</td>\n",
       "      <td>0.772825</td>\n",
       "    </tr>\n",
       "    <tr>\n",
       "      <th>4 Bi-Directional</th>\n",
       "      <td>77.165354</td>\n",
       "      <td>0.771319</td>\n",
       "      <td>0.771654</td>\n",
       "      <td>0.771052</td>\n",
       "    </tr>\n",
       "    <tr>\n",
       "      <th>5 Conv1D</th>\n",
       "      <td>78.346457</td>\n",
       "      <td>0.788004</td>\n",
       "      <td>0.783465</td>\n",
       "      <td>0.780493</td>\n",
       "    </tr>\n",
       "    <tr>\n",
       "      <th>6 Tf Hub Sentence Encoder</th>\n",
       "      <td>81.496063</td>\n",
       "      <td>0.817571</td>\n",
       "      <td>0.814961</td>\n",
       "      <td>0.813334</td>\n",
       "    </tr>\n",
       "    <tr>\n",
       "      <th>7 Tf Hub Sentence Encoder(10% Data)</th>\n",
       "      <td>78.215223</td>\n",
       "      <td>0.786845</td>\n",
       "      <td>0.782152</td>\n",
       "      <td>0.779088</td>\n",
       "    </tr>\n",
       "  </tbody>\n",
       "</table>\n",
       "</div>"
      ],
      "text/plain": [
       "                                      Accuracy  Precision    Recall  F1-Score\n",
       "0 BaseLine Model(MultiNomilaNB)      79.265092   0.811139  0.792651  0.786219\n",
       "1 Simple Dense                       78.608924   0.790328  0.786089  0.783297\n",
       "2 LSTM                               76.509186   0.766686  0.765092  0.762895\n",
       "3 GRU                                77.427822   0.774900  0.774278  0.772825\n",
       "4 Bi-Directional                     77.165354   0.771319  0.771654  0.771052\n",
       "5 Conv1D                             78.346457   0.788004  0.783465  0.780493\n",
       "6 Tf Hub Sentence Encoder            81.496063   0.817571  0.814961  0.813334\n",
       "7 Tf Hub Sentence Encoder(10% Data)  78.215223   0.786845  0.782152  0.779088"
      ]
     },
     "execution_count": 126,
     "metadata": {},
     "output_type": "execute_result"
    }
   ],
   "source": [
    "all_model_results = all_model_results.T\n",
    "all_model_results"
   ]
  },
  {
   "cell_type": "code",
   "execution_count": 127,
   "id": "09b188db",
   "metadata": {},
   "outputs": [
    {
     "data": {
      "text/html": [
       "<div>\n",
       "<style scoped>\n",
       "    .dataframe tbody tr th:only-of-type {\n",
       "        vertical-align: middle;\n",
       "    }\n",
       "\n",
       "    .dataframe tbody tr th {\n",
       "        vertical-align: top;\n",
       "    }\n",
       "\n",
       "    .dataframe thead th {\n",
       "        text-align: right;\n",
       "    }\n",
       "</style>\n",
       "<table border=\"1\" class=\"dataframe\">\n",
       "  <thead>\n",
       "    <tr style=\"text-align: right;\">\n",
       "      <th></th>\n",
       "      <th>Accuracy</th>\n",
       "      <th>Precision</th>\n",
       "      <th>Recall</th>\n",
       "      <th>F1-Score</th>\n",
       "    </tr>\n",
       "  </thead>\n",
       "  <tbody>\n",
       "    <tr>\n",
       "      <th>0 BaseLine Model(MultiNomilaNB)</th>\n",
       "      <td>0.792651</td>\n",
       "      <td>0.811139</td>\n",
       "      <td>0.792651</td>\n",
       "      <td>0.786219</td>\n",
       "    </tr>\n",
       "    <tr>\n",
       "      <th>1 Simple Dense</th>\n",
       "      <td>0.786089</td>\n",
       "      <td>0.790328</td>\n",
       "      <td>0.786089</td>\n",
       "      <td>0.783297</td>\n",
       "    </tr>\n",
       "    <tr>\n",
       "      <th>2 LSTM</th>\n",
       "      <td>0.765092</td>\n",
       "      <td>0.766686</td>\n",
       "      <td>0.765092</td>\n",
       "      <td>0.762895</td>\n",
       "    </tr>\n",
       "    <tr>\n",
       "      <th>3 GRU</th>\n",
       "      <td>0.774278</td>\n",
       "      <td>0.774900</td>\n",
       "      <td>0.774278</td>\n",
       "      <td>0.772825</td>\n",
       "    </tr>\n",
       "    <tr>\n",
       "      <th>4 Bi-Directional</th>\n",
       "      <td>0.771654</td>\n",
       "      <td>0.771319</td>\n",
       "      <td>0.771654</td>\n",
       "      <td>0.771052</td>\n",
       "    </tr>\n",
       "    <tr>\n",
       "      <th>5 Conv1D</th>\n",
       "      <td>0.783465</td>\n",
       "      <td>0.788004</td>\n",
       "      <td>0.783465</td>\n",
       "      <td>0.780493</td>\n",
       "    </tr>\n",
       "    <tr>\n",
       "      <th>6 Tf Hub Sentence Encoder</th>\n",
       "      <td>0.814961</td>\n",
       "      <td>0.817571</td>\n",
       "      <td>0.814961</td>\n",
       "      <td>0.813334</td>\n",
       "    </tr>\n",
       "    <tr>\n",
       "      <th>7 Tf Hub Sentence Encoder(10% Data)</th>\n",
       "      <td>0.782152</td>\n",
       "      <td>0.786845</td>\n",
       "      <td>0.782152</td>\n",
       "      <td>0.779088</td>\n",
       "    </tr>\n",
       "  </tbody>\n",
       "</table>\n",
       "</div>"
      ],
      "text/plain": [
       "                                     Accuracy  Precision    Recall  F1-Score\n",
       "0 BaseLine Model(MultiNomilaNB)      0.792651   0.811139  0.792651  0.786219\n",
       "1 Simple Dense                       0.786089   0.790328  0.786089  0.783297\n",
       "2 LSTM                               0.765092   0.766686  0.765092  0.762895\n",
       "3 GRU                                0.774278   0.774900  0.774278  0.772825\n",
       "4 Bi-Directional                     0.771654   0.771319  0.771654  0.771052\n",
       "5 Conv1D                             0.783465   0.788004  0.783465  0.780493\n",
       "6 Tf Hub Sentence Encoder            0.814961   0.817571  0.814961  0.813334\n",
       "7 Tf Hub Sentence Encoder(10% Data)  0.782152   0.786845  0.782152  0.779088"
      ]
     },
     "execution_count": 127,
     "metadata": {},
     "output_type": "execute_result"
    }
   ],
   "source": [
    "# Change Accuracy to Same Scale as Other Metrics:\n",
    "all_model_results[\"Accuracy\"] = all_model_results[\"Accuracy\"] / 100\n",
    "all_model_results"
   ]
  },
  {
   "cell_type": "code",
   "execution_count": 128,
   "id": "59aea894",
   "metadata": {},
   "outputs": [
    {
     "data": {
      "text/plain": [
       "<matplotlib.legend.Legend at 0x244f8d14910>"
      ]
     },
     "execution_count": 128,
     "metadata": {},
     "output_type": "execute_result"
    },
    {
     "data": {
      "image/png": "[encoded data removed]",
      "text/plain": [
       "<Figure size 1000x500 with 1 Axes>"
      ]
     },
     "metadata": {},
     "output_type": "display_data"
    }
   ],
   "source": [
    "# Plotting All Model's Performance Metrics:\n",
    "all_model_results.plot(kind= \"bar\", figsize= (10,5)).legend(bbox_to_anchor= (1,1))"
   ]
  },
  {
   "cell_type": "code",
   "execution_count": null,
   "id": "3d6b0cc3",
   "metadata": {},
   "outputs": [],
   "source": []
  },
  {
   "cell_type": "code",
   "execution_count": 129,
   "id": "e017f27c",
   "metadata": {},
   "outputs": [
    {
     "data": {
      "text/plain": [
       "<Axes: >"
      ]
     },
     "execution_count": 129,
     "metadata": {},
     "output_type": "execute_result"
    },
    {
     "data": {
      "image/png": "[encoded data removed]",
      "text/plain": [
       "<Figure size 1000x500 with 1 Axes>"
      ]
     },
     "metadata": {},
     "output_type": "display_data"
    }
   ],
   "source": [
    "# Sort model results by f1-score\n",
    "all_model_results.sort_values(\"F1-Score\", ascending= False)[\"F1-Score\"].plot(kind= \"bar\", figsize= (10,5))"
   ]
  },
  {
   "cell_type": "markdown",
   "id": "15fe5a36",
   "metadata": {},
   "source": [
    "### Comparing Model's Performance on TensorBoard:"
   ]
  },
  {
   "attachments": {
    "1.png": {
     "image/png": "[encoded data removed]"
    }
   },
   "cell_type": "markdown",
   "id": "56bfa5e4",
   "metadata": {},
   "source": [
    "![1.png](attachment:1.png)"
   ]
  },
  {
   "attachments": {
    "2.png": {
     "image/png": "[encoded data removed]"
    }
   },
   "cell_type": "markdown",
   "id": "efff9220",
   "metadata": {},
   "source": [
    "![2.png](attachment:2.png)"
   ]
  },
  {
   "cell_type": "code",
   "execution_count": null,
   "id": "7e213094",
   "metadata": {},
   "outputs": [],
   "source": []
  },
  {
   "cell_type": "markdown",
   "id": "6459831b",
   "metadata": {},
   "source": [
    "## Saving and loading a trained model\n",
    "\n",
    "Although training time didn't take very long, it's good practice to save your trained models to avoid having to retrain them.\n",
    "\n",
    "Saving your models also enables you to export them for use elsewhere outside of your notebooks, such as in a web application.\n",
    "\n",
    "There are two main ways of [saving a model in TensorFlow](https://www.tensorflow.org/tutorials/keras/save_and_load#save_the_entire_model):\n",
    "1. The `HDF5` format. \n",
    "2. The `SavedModel` format (default).\n",
    "\n",
    "Let's take a look at both."
   ]
  },
  {
   "cell_type": "code",
   "execution_count": 130,
   "id": "326cb5a2",
   "metadata": {},
   "outputs": [
    {
     "name": "stderr",
     "output_type": "stream",
     "text": [
      "C:\\Users\\shail\\AppData\\Roaming\\Python\\Python311\\site-packages\\tf_keras\\src\\engine\\training.py:3098: UserWarning: You are saving your model as an HDF5 file via `model.save()`. This file format is considered legacy. We recommend using instead the native TF-Keras format, e.g. `model.save('my_model.keras')`.\n",
      "  saving_api.save_model(\n"
     ]
    }
   ],
   "source": [
    "# Save TF Hub Sentence Encoder model to HDF5 format\n",
    "model_6.save(\"Model_6.h5\")"
   ]
  },
  {
   "cell_type": "markdown",
   "id": "d572e001",
   "metadata": {},
   "source": [
    "If you save a model as a `HDF5`, when loading it back in, you need to let [TensorFlow know about any custom objects you've used](https://www.tensorflow.org/tutorials/keras/save_and_load#saving_custom_objects) (e.g. components which aren't built from pure TensorFlow, such as TensorFlow Hub components)."
   ]
  },
  {
   "cell_type": "code",
   "execution_count": 132,
   "id": "fcecb6b0",
   "metadata": {},
   "outputs": [],
   "source": [
    "# Load model with custom Hub Layer (required with HDF5 format)\n",
    "loaded_model_6 = tf.keras.models.load_model(\"Model_6.h5\",\n",
    "                                           custom_objects= {\"KerasLayer\": hub.KerasLayer})"
   ]
  },
  {
   "cell_type": "code",
   "execution_count": 134,
   "id": "822ea76e",
   "metadata": {},
   "outputs": [
    {
     "name": "stdout",
     "output_type": "stream",
     "text": [
      "24/24 [==============================] - 1s 10ms/step - loss: 0.4291 - accuracy: 0.8150\n"
     ]
    },
    {
     "data": {
      "text/plain": [
       "[0.42907997965812683, 0.8149606585502625]"
      ]
     },
     "execution_count": 134,
     "metadata": {},
     "output_type": "execute_result"
    }
   ],
   "source": [
    "# Evaluating Loaded Model:\n",
    "loaded_model_6.evaluate(val_sentences, val_labels)"
   ]
  },
  {
   "cell_type": "code",
   "execution_count": null,
   "id": "234174a3",
   "metadata": {},
   "outputs": [],
   "source": []
  },
  {
   "cell_type": "code",
   "execution_count": 135,
   "id": "618b47ca",
   "metadata": {},
   "outputs": [
    {
     "name": "stdout",
     "output_type": "stream",
     "text": [
      "INFO:tensorflow:Assets written to: Model_6_(SavedModel)\\assets\n"
     ]
    },
    {
     "name": "stderr",
     "output_type": "stream",
     "text": [
      "INFO:tensorflow:Assets written to: Model_6_(SavedModel)\\assets\n"
     ]
    }
   ],
   "source": [
    "# Save TF Hub Sentence Encoder model to SavedModel format (default)\n",
    "model_6.save(\"Model_6_(SavedModel)\")"
   ]
  },
  {
   "cell_type": "markdown",
   "id": "c0e5ac22",
   "metadata": {},
   "source": [
    "If you use SavedModel format (default), you can reload your model without specifying custom objects using the [`tensorflow.keras.models.load_model()`](https://www.tensorflow.org/tutorials/keras/save_and_load) function."
   ]
  },
  {
   "cell_type": "code",
   "execution_count": 136,
   "id": "c50012dc",
   "metadata": {},
   "outputs": [],
   "source": [
    "# Load TF Hub Sentence Encoder SavedModel\n",
    "loaded_model_6_SavedModel = tf.keras.models.load_model(\"Model_6_(SavedModel)\")"
   ]
  },
  {
   "cell_type": "code",
   "execution_count": 137,
   "id": "3cd75ace",
   "metadata": {},
   "outputs": [
    {
     "name": "stdout",
     "output_type": "stream",
     "text": [
      "24/24 [==============================] - 1s 9ms/step - loss: 0.4291 - accuracy: 0.8150\n"
     ]
    },
    {
     "data": {
      "text/plain": [
       "[0.42907997965812683, 0.8149606585502625]"
      ]
     },
     "execution_count": 137,
     "metadata": {},
     "output_type": "execute_result"
    }
   ],
   "source": [
    "# Evaluate loaded SavedModel format\n",
    "loaded_model_6_SavedModel.evaluate(val_sentences, val_labels)"
   ]
  },
  {
   "cell_type": "code",
   "execution_count": null,
   "id": "9496caa8",
   "metadata": {},
   "outputs": [],
   "source": []
  },
  {
   "cell_type": "markdown",
   "id": "946fe888",
   "metadata": {},
   "source": [
    "## Finding the most wrong examples\n",
    "\n",
    "We mentioned before that if many of our modelling experiments are returning similar results, despite using different kinds of models, it's a good idea to return to the data and inspect why this might be.\n",
    "\n",
    "One of the best ways to inspect your data is to sort your model's predictions and find the samples it got *most* wrong, meaning, what predictions had a high prediction probability but turned out to be wrong.\n",
    "\n",
    "Once again, visualization is your friend.\n",
    "\n",
    "To make things visual, let's take our best performing model's prediction probabilities and classes along with the validation samples (text and ground truth labels) and combine them in a pandas DataFrame.\n",
    "\n",
    "* If our best model still isn't perfect, what examples is it getting wrong? \n",
    "* Which ones are the *most* wrong?\n",
    "* Are there some labels which are wrong? E.g. the model gets it right but the ground truth label doesn't reflect this."
   ]
  },
  {
   "cell_type": "code",
   "execution_count": 139,
   "id": "e13fb63d",
   "metadata": {},
   "outputs": [],
   "source": [
    "# Create dataframe with validation sentences and best performing model predictions:\n",
    "validation_df = pd.DataFrame({\"Text\": val_sentences,\n",
    "                             \"Real Label\": val_labels,\n",
    "                             \"Predicted Label\": model_6_preds,\n",
    "                             \"Predicted Probability\": tf.squeeze(model_6_pred_prob)})"
   ]
  },
  {
   "cell_type": "code",
   "execution_count": 140,
   "id": "acbd2007",
   "metadata": {},
   "outputs": [
    {
     "data": {
      "text/html": [
       "<div>\n",
       "<style scoped>\n",
       "    .dataframe tbody tr th:only-of-type {\n",
       "        vertical-align: middle;\n",
       "    }\n",
       "\n",
       "    .dataframe tbody tr th {\n",
       "        vertical-align: top;\n",
       "    }\n",
       "\n",
       "    .dataframe thead th {\n",
       "        text-align: right;\n",
       "    }\n",
       "</style>\n",
       "<table border=\"1\" class=\"dataframe\">\n",
       "  <thead>\n",
       "    <tr style=\"text-align: right;\">\n",
       "      <th></th>\n",
       "      <th>Text</th>\n",
       "      <th>Real Label</th>\n",
       "      <th>Predicted Label</th>\n",
       "      <th>Predicted Probability</th>\n",
       "    </tr>\n",
       "  </thead>\n",
       "  <tbody>\n",
       "    <tr>\n",
       "      <th>0</th>\n",
       "      <td>DFR EP016 Monthly Meltdown - On Dnbheaven 2015...</td>\n",
       "      <td>0</td>\n",
       "      <td>0.0</td>\n",
       "      <td>0.149516</td>\n",
       "    </tr>\n",
       "    <tr>\n",
       "      <th>1</th>\n",
       "      <td>FedEx no longer to transport bioterror germs i...</td>\n",
       "      <td>0</td>\n",
       "      <td>1.0</td>\n",
       "      <td>0.760688</td>\n",
       "    </tr>\n",
       "    <tr>\n",
       "      <th>2</th>\n",
       "      <td>Gunmen kill four in El Salvador bus attack: Su...</td>\n",
       "      <td>1</td>\n",
       "      <td>1.0</td>\n",
       "      <td>0.987564</td>\n",
       "    </tr>\n",
       "    <tr>\n",
       "      <th>3</th>\n",
       "      <td>@camilacabello97 Internally and externally scr...</td>\n",
       "      <td>1</td>\n",
       "      <td>0.0</td>\n",
       "      <td>0.190244</td>\n",
       "    </tr>\n",
       "    <tr>\n",
       "      <th>4</th>\n",
       "      <td>Radiation emergency #preparedness starts with ...</td>\n",
       "      <td>1</td>\n",
       "      <td>1.0</td>\n",
       "      <td>0.759747</td>\n",
       "    </tr>\n",
       "    <tr>\n",
       "      <th>5</th>\n",
       "      <td>Investigators rule catastrophic structural fai...</td>\n",
       "      <td>1</td>\n",
       "      <td>1.0</td>\n",
       "      <td>0.666065</td>\n",
       "    </tr>\n",
       "    <tr>\n",
       "      <th>6</th>\n",
       "      <td>How the West was burned: Thousands of wildfire...</td>\n",
       "      <td>1</td>\n",
       "      <td>1.0</td>\n",
       "      <td>0.979807</td>\n",
       "    </tr>\n",
       "    <tr>\n",
       "      <th>7</th>\n",
       "      <td>Map: Typhoon Soudelor's predicted path as it a...</td>\n",
       "      <td>1</td>\n",
       "      <td>1.0</td>\n",
       "      <td>0.976990</td>\n",
       "    </tr>\n",
       "    <tr>\n",
       "      <th>8</th>\n",
       "      <td>Ûª93 blasts accused Yeda Yakub dies in Karach...</td>\n",
       "      <td>1</td>\n",
       "      <td>1.0</td>\n",
       "      <td>0.927404</td>\n",
       "    </tr>\n",
       "    <tr>\n",
       "      <th>9</th>\n",
       "      <td>My ears are bleeding  https://t.co/k5KnNwugwT</td>\n",
       "      <td>0</td>\n",
       "      <td>0.0</td>\n",
       "      <td>0.090869</td>\n",
       "    </tr>\n",
       "  </tbody>\n",
       "</table>\n",
       "</div>"
      ],
      "text/plain": [
       "                                                Text  Real Label  \\\n",
       "0  DFR EP016 Monthly Meltdown - On Dnbheaven 2015...           0   \n",
       "1  FedEx no longer to transport bioterror germs i...           0   \n",
       "2  Gunmen kill four in El Salvador bus attack: Su...           1   \n",
       "3  @camilacabello97 Internally and externally scr...           1   \n",
       "4  Radiation emergency #preparedness starts with ...           1   \n",
       "5  Investigators rule catastrophic structural fai...           1   \n",
       "6  How the West was burned: Thousands of wildfire...           1   \n",
       "7  Map: Typhoon Soudelor's predicted path as it a...           1   \n",
       "8  Ûª93 blasts accused Yeda Yakub dies in Karach...           1   \n",
       "9      My ears are bleeding  https://t.co/k5KnNwugwT           0   \n",
       "\n",
       "   Predicted Label  Predicted Probability  \n",
       "0              0.0               0.149516  \n",
       "1              1.0               0.760688  \n",
       "2              1.0               0.987564  \n",
       "3              0.0               0.190244  \n",
       "4              1.0               0.759747  \n",
       "5              1.0               0.666065  \n",
       "6              1.0               0.979807  \n",
       "7              1.0               0.976990  \n",
       "8              1.0               0.927404  \n",
       "9              0.0               0.090869  "
      ]
     },
     "execution_count": 140,
     "metadata": {},
     "output_type": "execute_result"
    }
   ],
   "source": [
    "validation_df.head(10)"
   ]
  },
  {
   "cell_type": "code",
   "execution_count": null,
   "id": "864c2a70",
   "metadata": {},
   "outputs": [],
   "source": []
  },
  {
   "cell_type": "code",
   "execution_count": 142,
   "id": "79a88c8c",
   "metadata": {},
   "outputs": [
    {
     "data": {
      "text/html": [
       "<div>\n",
       "<style scoped>\n",
       "    .dataframe tbody tr th:only-of-type {\n",
       "        vertical-align: middle;\n",
       "    }\n",
       "\n",
       "    .dataframe tbody tr th {\n",
       "        vertical-align: top;\n",
       "    }\n",
       "\n",
       "    .dataframe thead th {\n",
       "        text-align: right;\n",
       "    }\n",
       "</style>\n",
       "<table border=\"1\" class=\"dataframe\">\n",
       "  <thead>\n",
       "    <tr style=\"text-align: right;\">\n",
       "      <th></th>\n",
       "      <th>Text</th>\n",
       "      <th>Real Label</th>\n",
       "      <th>Predicted Label</th>\n",
       "      <th>Predicted Probability</th>\n",
       "    </tr>\n",
       "  </thead>\n",
       "  <tbody>\n",
       "    <tr>\n",
       "      <th>31</th>\n",
       "      <td>? High Skies - Burning Buildings ? http://t.co...</td>\n",
       "      <td>0</td>\n",
       "      <td>1.0</td>\n",
       "      <td>0.923837</td>\n",
       "    </tr>\n",
       "    <tr>\n",
       "      <th>759</th>\n",
       "      <td>FedEx will no longer transport bioterror patho...</td>\n",
       "      <td>0</td>\n",
       "      <td>1.0</td>\n",
       "      <td>0.874315</td>\n",
       "    </tr>\n",
       "    <tr>\n",
       "      <th>628</th>\n",
       "      <td>@noah_anyname That's where the concentration c...</td>\n",
       "      <td>0</td>\n",
       "      <td>1.0</td>\n",
       "      <td>0.856004</td>\n",
       "    </tr>\n",
       "    <tr>\n",
       "      <th>49</th>\n",
       "      <td>@madonnamking RSPCA site multiple 7 story high...</td>\n",
       "      <td>0</td>\n",
       "      <td>1.0</td>\n",
       "      <td>0.846203</td>\n",
       "    </tr>\n",
       "    <tr>\n",
       "      <th>393</th>\n",
       "      <td>@SonofLiberty357 all illuminated by the bright...</td>\n",
       "      <td>0</td>\n",
       "      <td>1.0</td>\n",
       "      <td>0.844667</td>\n",
       "    </tr>\n",
       "    <tr>\n",
       "      <th>209</th>\n",
       "      <td>Ashes 2015: AustraliaÛªs collapse at Trent Br...</td>\n",
       "      <td>0</td>\n",
       "      <td>1.0</td>\n",
       "      <td>0.818510</td>\n",
       "    </tr>\n",
       "    <tr>\n",
       "      <th>109</th>\n",
       "      <td>[55436] 1950 LIONEL TRAINS SMOKE LOCOMOTIVES W...</td>\n",
       "      <td>0</td>\n",
       "      <td>1.0</td>\n",
       "      <td>0.802768</td>\n",
       "    </tr>\n",
       "    <tr>\n",
       "      <th>251</th>\n",
       "      <td>@AshGhebranious civil rights continued in the ...</td>\n",
       "      <td>0</td>\n",
       "      <td>1.0</td>\n",
       "      <td>0.792218</td>\n",
       "    </tr>\n",
       "    <tr>\n",
       "      <th>698</th>\n",
       "      <td>åÈMGN-AFRICAå¨ pin:263789F4 åÈ Correction: Ten...</td>\n",
       "      <td>0</td>\n",
       "      <td>1.0</td>\n",
       "      <td>0.780169</td>\n",
       "    </tr>\n",
       "    <tr>\n",
       "      <th>144</th>\n",
       "      <td>The Sound of Arson</td>\n",
       "      <td>0</td>\n",
       "      <td>1.0</td>\n",
       "      <td>0.768842</td>\n",
       "    </tr>\n",
       "  </tbody>\n",
       "</table>\n",
       "</div>"
      ],
      "text/plain": [
       "                                                  Text  Real Label  \\\n",
       "31   ? High Skies - Burning Buildings ? http://t.co...           0   \n",
       "759  FedEx will no longer transport bioterror patho...           0   \n",
       "628  @noah_anyname That's where the concentration c...           0   \n",
       "49   @madonnamking RSPCA site multiple 7 story high...           0   \n",
       "393  @SonofLiberty357 all illuminated by the bright...           0   \n",
       "209  Ashes 2015: AustraliaÛªs collapse at Trent Br...           0   \n",
       "109  [55436] 1950 LIONEL TRAINS SMOKE LOCOMOTIVES W...           0   \n",
       "251  @AshGhebranious civil rights continued in the ...           0   \n",
       "698  åÈMGN-AFRICAå¨ pin:263789F4 åÈ Correction: Ten...           0   \n",
       "144                                 The Sound of Arson           0   \n",
       "\n",
       "     Predicted Label  Predicted Probability  \n",
       "31               1.0               0.923837  \n",
       "759              1.0               0.874315  \n",
       "628              1.0               0.856004  \n",
       "49               1.0               0.846203  \n",
       "393              1.0               0.844667  \n",
       "209              1.0               0.818510  \n",
       "109              1.0               0.802768  \n",
       "251              1.0               0.792218  \n",
       "698              1.0               0.780169  \n",
       "144              1.0               0.768842  "
      ]
     },
     "execution_count": 142,
     "metadata": {},
     "output_type": "execute_result"
    }
   ],
   "source": [
    "# Find the wrong predictions and sort by prediction probabilities:\n",
    "most_wrong = validation_df[validation_df[\"Real Label\"] != validation_df[\"Predicted Label\"]].sort_values(\"Predicted Probability\", ascending= False)\n",
    "most_wrong.head(10) # False Positives"
   ]
  },
  {
   "cell_type": "markdown",
   "id": "439b7a1c",
   "metadata": {},
   "source": [
    "Because we've sorted our samples by prediction probability, viewing samples from the head of our `most_wrong` DataFrame will show us False Positives. While viewing samples from tail of our 'most_wrong' DataFrame will show us False Negatives.\n",
    "\n",
    "A reminder:\n",
    "* `0` = Not a real diaster Tweet\n",
    "* `1` = Real diaster Tweet"
   ]
  },
  {
   "cell_type": "code",
   "execution_count": 143,
   "id": "40c7844f",
   "metadata": {
    "scrolled": true
   },
   "outputs": [
    {
     "data": {
      "text/html": [
       "<div>\n",
       "<style scoped>\n",
       "    .dataframe tbody tr th:only-of-type {\n",
       "        vertical-align: middle;\n",
       "    }\n",
       "\n",
       "    .dataframe tbody tr th {\n",
       "        vertical-align: top;\n",
       "    }\n",
       "\n",
       "    .dataframe thead th {\n",
       "        text-align: right;\n",
       "    }\n",
       "</style>\n",
       "<table border=\"1\" class=\"dataframe\">\n",
       "  <thead>\n",
       "    <tr style=\"text-align: right;\">\n",
       "      <th></th>\n",
       "      <th>Text</th>\n",
       "      <th>Real Label</th>\n",
       "      <th>Predicted Label</th>\n",
       "      <th>Predicted Probability</th>\n",
       "    </tr>\n",
       "  </thead>\n",
       "  <tbody>\n",
       "    <tr>\n",
       "      <th>221</th>\n",
       "      <td>going to redo my nails and watch behind the sc...</td>\n",
       "      <td>1</td>\n",
       "      <td>0.0</td>\n",
       "      <td>0.062328</td>\n",
       "    </tr>\n",
       "    <tr>\n",
       "      <th>361</th>\n",
       "      <td>Next May I'll be free...from school from oblig...</td>\n",
       "      <td>1</td>\n",
       "      <td>0.0</td>\n",
       "      <td>0.061059</td>\n",
       "    </tr>\n",
       "    <tr>\n",
       "      <th>294</th>\n",
       "      <td>Lucas Duda is Ghost Rider. Not the Nic Cage ve...</td>\n",
       "      <td>1</td>\n",
       "      <td>0.0</td>\n",
       "      <td>0.056739</td>\n",
       "    </tr>\n",
       "    <tr>\n",
       "      <th>408</th>\n",
       "      <td>@willienelson We need help! Horses will die!Pl...</td>\n",
       "      <td>1</td>\n",
       "      <td>0.0</td>\n",
       "      <td>0.054784</td>\n",
       "    </tr>\n",
       "    <tr>\n",
       "      <th>59</th>\n",
       "      <td>You can never escape me. Bullets don't harm me...</td>\n",
       "      <td>1</td>\n",
       "      <td>0.0</td>\n",
       "      <td>0.051711</td>\n",
       "    </tr>\n",
       "    <tr>\n",
       "      <th>233</th>\n",
       "      <td>I get to smoke my shit in peace</td>\n",
       "      <td>1</td>\n",
       "      <td>0.0</td>\n",
       "      <td>0.047717</td>\n",
       "    </tr>\n",
       "    <tr>\n",
       "      <th>411</th>\n",
       "      <td>@SoonerMagic_ I mean I'm a fan but I don't nee...</td>\n",
       "      <td>1</td>\n",
       "      <td>0.0</td>\n",
       "      <td>0.038518</td>\n",
       "    </tr>\n",
       "    <tr>\n",
       "      <th>38</th>\n",
       "      <td>Why are you deluged with low self-image? Take ...</td>\n",
       "      <td>1</td>\n",
       "      <td>0.0</td>\n",
       "      <td>0.036600</td>\n",
       "    </tr>\n",
       "    <tr>\n",
       "      <th>244</th>\n",
       "      <td>Reddit Will Now QuarantineÛ_ http://t.co/pkUA...</td>\n",
       "      <td>1</td>\n",
       "      <td>0.0</td>\n",
       "      <td>0.035585</td>\n",
       "    </tr>\n",
       "    <tr>\n",
       "      <th>23</th>\n",
       "      <td>Ron &amp;amp; Fez - Dave's High School Crush https...</td>\n",
       "      <td>1</td>\n",
       "      <td>0.0</td>\n",
       "      <td>0.031847</td>\n",
       "    </tr>\n",
       "  </tbody>\n",
       "</table>\n",
       "</div>"
      ],
      "text/plain": [
       "                                                  Text  Real Label  \\\n",
       "221  going to redo my nails and watch behind the sc...           1   \n",
       "361  Next May I'll be free...from school from oblig...           1   \n",
       "294  Lucas Duda is Ghost Rider. Not the Nic Cage ve...           1   \n",
       "408  @willienelson We need help! Horses will die!Pl...           1   \n",
       "59   You can never escape me. Bullets don't harm me...           1   \n",
       "233                    I get to smoke my shit in peace           1   \n",
       "411  @SoonerMagic_ I mean I'm a fan but I don't nee...           1   \n",
       "38   Why are you deluged with low self-image? Take ...           1   \n",
       "244  Reddit Will Now QuarantineÛ_ http://t.co/pkUA...           1   \n",
       "23   Ron &amp; Fez - Dave's High School Crush https...           1   \n",
       "\n",
       "     Predicted Label  Predicted Probability  \n",
       "221              0.0               0.062328  \n",
       "361              0.0               0.061059  \n",
       "294              0.0               0.056739  \n",
       "408              0.0               0.054784  \n",
       "59               0.0               0.051711  \n",
       "233              0.0               0.047717  \n",
       "411              0.0               0.038518  \n",
       "38               0.0               0.036600  \n",
       "244              0.0               0.035585  \n",
       "23               0.0               0.031847  "
      ]
     },
     "execution_count": 143,
     "metadata": {},
     "output_type": "execute_result"
    }
   ],
   "source": [
    "most_wrong.tail(10) # False Negatives"
   ]
  },
  {
   "cell_type": "code",
   "execution_count": null,
   "id": "750a1a20",
   "metadata": {},
   "outputs": [],
   "source": []
  },
  {
   "cell_type": "code",
   "execution_count": 144,
   "id": "10582d83",
   "metadata": {},
   "outputs": [
    {
     "name": "stdout",
     "output_type": "stream",
     "text": [
      "Target: 0, Prediction: 1.0, Prediction Probability: 0.923837423324585\n",
      "Text:\n",
      " ? High Skies - Burning Buildings ? http://t.co/uVq41i3Kx2 #nowplaying\n",
      "\n",
      "---\n",
      "\n",
      "Target: 0, Prediction: 1.0, Prediction Probability: 0.874314546585083\n",
      "Text:\n",
      " FedEx will no longer transport bioterror pathogens in wake of anthrax lab mishaps http://t.co/lHpgxc4b8J\n",
      "\n",
      "---\n",
      "\n",
      "Target: 0, Prediction: 1.0, Prediction Probability: 0.8560039401054382\n",
      "Text:\n",
      " @noah_anyname That's where the concentration camps and mass murder come in. \n",
      " \n",
      "EVERY. FUCKING. TIME.\n",
      "\n",
      "---\n",
      "\n",
      "Target: 0, Prediction: 1.0, Prediction Probability: 0.8462032675743103\n",
      "Text:\n",
      " @madonnamking RSPCA site multiple 7 story high rise buildings next to low density character residential in an area that floods\n",
      "\n",
      "---\n",
      "\n",
      "Target: 0, Prediction: 1.0, Prediction Probability: 0.8446668386459351\n",
      "Text:\n",
      " @SonofLiberty357 all illuminated by the brightly burning buildings all around the town!\n",
      "\n",
      "---\n",
      "\n",
      "Target: 0, Prediction: 1.0, Prediction Probability: 0.8185104727745056\n",
      "Text:\n",
      " Ashes 2015: AustraliaÛªs collapse at Trent Bridge among worst in history: England bundled out Australia for 60 ... http://t.co/t5TrhjUAU0\n",
      "\n",
      "---\n",
      "\n",
      "Target: 0, Prediction: 1.0, Prediction Probability: 0.8027676939964294\n",
      "Text:\n",
      " [55436] 1950 LIONEL TRAINS SMOKE LOCOMOTIVES WITH MAGNE-TRACTION INSTRUCTIONS http://t.co/xEZBs3sq0y http://t.co/C2x0QoKGlY\n",
      "\n",
      "---\n",
      "\n",
      "Target: 0, Prediction: 1.0, Prediction Probability: 0.7922182083129883\n",
      "Text:\n",
      " @AshGhebranious civil rights continued in the 60s. And what about trans-generational trauma? if anything we should listen to the Americans.\n",
      "\n",
      "---\n",
      "\n",
      "Target: 0, Prediction: 1.0, Prediction Probability: 0.7801692485809326\n",
      "Text:\n",
      " åÈMGN-AFRICAå¨ pin:263789F4 åÈ Correction: Tent Collapse Story: Correction: Tent Collapse story åÈ http://t.co/fDJUYvZMrv @wizkidayo\n",
      "\n",
      "---\n",
      "\n",
      "Target: 0, Prediction: 1.0, Prediction Probability: 0.7688418030738831\n",
      "Text:\n",
      " The Sound of Arson\n",
      "\n",
      "---\n",
      "\n"
     ]
    }
   ],
   "source": [
    "# Check the False Positives (model predicted 1 when should've been 0):\n",
    "\n",
    "for row in most_wrong[:10].itertuples(): # loop through the top 10 rows (change the index to view different rows)\n",
    "    _, text, target, prediction, probability = row\n",
    "    print(f\"Target: {target}, Prediction: {prediction}, Prediction Probability: {probability}\")\n",
    "    print(f\"Text:\\n {text}\\n\")\n",
    "    print(\"---\\n\")"
   ]
  },
  {
   "cell_type": "code",
   "execution_count": 145,
   "id": "7a383b4e",
   "metadata": {},
   "outputs": [
    {
     "name": "stdout",
     "output_type": "stream",
     "text": [
      "Target: 1, Prediction: 0.0, Prediction Probability: 0.06232762336730957\n",
      "Text:\n",
      " going to redo my nails and watch behind the scenes of desolation of smaug ayyy\n",
      "\n",
      "---\n",
      "\n",
      "Target: 1, Prediction: 0.0, Prediction Probability: 0.06105887517333031\n",
      "Text:\n",
      " Next May I'll be free...from school from obligations like family.... Best of all that damn curfew...\n",
      "\n",
      "---\n",
      "\n",
      "Target: 1, Prediction: 0.0, Prediction Probability: 0.05673876404762268\n",
      "Text:\n",
      " Lucas Duda is Ghost Rider. Not the Nic Cage version but an actual 'engulfed in flames' badass. #Mets\n",
      "\n",
      "---\n",
      "\n",
      "Target: 1, Prediction: 0.0, Prediction Probability: 0.05478362739086151\n",
      "Text:\n",
      " @willienelson We need help! Horses will die!Please RT &amp; sign petition!Take a stand &amp; be a voice for them! #gilbert23 https://t.co/e8dl1lNCVu\n",
      "\n",
      "---\n",
      "\n",
      "Target: 1, Prediction: 0.0, Prediction Probability: 0.051710713654756546\n",
      "Text:\n",
      " You can never escape me. Bullets don't harm me. Nothing harms me. But I know pain. I know pain. Sometimes I share it. With someone like you.\n",
      "\n",
      "---\n",
      "\n",
      "Target: 1, Prediction: 0.0, Prediction Probability: 0.04771656543016434\n",
      "Text:\n",
      " I get to smoke my shit in peace\n",
      "\n",
      "---\n",
      "\n",
      "Target: 1, Prediction: 0.0, Prediction Probability: 0.03851817548274994\n",
      "Text:\n",
      " @SoonerMagic_ I mean I'm a fan but I don't need a girl sounding off like a damn siren\n",
      "\n",
      "---\n",
      "\n",
      "Target: 1, Prediction: 0.0, Prediction Probability: 0.03660038858652115\n",
      "Text:\n",
      " Why are you deluged with low self-image? Take the quiz: http://t.co/XsPqdOrIqj http://t.co/CQYvFR4UCy\n",
      "\n",
      "---\n",
      "\n",
      "Target: 1, Prediction: 0.0, Prediction Probability: 0.03558465838432312\n",
      "Text:\n",
      " Reddit Will Now QuarantineÛ_ http://t.co/pkUAMXw6pm #onlinecommunities #reddit #amageddon #freespeech #Business http://t.co/PAWvNJ4sAP\n",
      "\n",
      "---\n",
      "\n",
      "Target: 1, Prediction: 0.0, Prediction Probability: 0.031846851110458374\n",
      "Text:\n",
      " Ron &amp; Fez - Dave's High School Crush https://t.co/aN3W16c8F6 via @YouTube\n",
      "\n",
      "---\n",
      "\n"
     ]
    }
   ],
   "source": [
    "# Check the False Negatives (model predicted 0 when should've been 1):\n",
    "\n",
    "for row in most_wrong[-10:].itertuples(): # loop through the top 10 rows (change the index to view different rows)\n",
    "    _, text, target, prediction, probability = row\n",
    "    print(f\"Target: {target}, Prediction: {prediction}, Prediction Probability: {probability}\")\n",
    "    print(f\"Text:\\n {text}\\n\")\n",
    "    print(\"---\\n\")"
   ]
  },
  {
   "cell_type": "code",
   "execution_count": null,
   "id": "7b2ccdb4",
   "metadata": {},
   "outputs": [],
   "source": []
  },
  {
   "cell_type": "markdown",
   "id": "66483aec",
   "metadata": {},
   "source": [
    "## Making predictions on the test dataset\n",
    "\n",
    "We've seen how our model's perform on the validation set.\n",
    "\n",
    "But how about the test dataset?\n",
    "\n",
    "We don't have labels for the test dataset so we're going to have to make some predictions and inspect them for ourselves."
   ]
  },
  {
   "cell_type": "code",
   "execution_count": 146,
   "id": "9da22134",
   "metadata": {},
   "outputs": [
    {
     "data": {
      "text/html": [
       "<div>\n",
       "<style scoped>\n",
       "    .dataframe tbody tr th:only-of-type {\n",
       "        vertical-align: middle;\n",
       "    }\n",
       "\n",
       "    .dataframe tbody tr th {\n",
       "        vertical-align: top;\n",
       "    }\n",
       "\n",
       "    .dataframe thead th {\n",
       "        text-align: right;\n",
       "    }\n",
       "</style>\n",
       "<table border=\"1\" class=\"dataframe\">\n",
       "  <thead>\n",
       "    <tr style=\"text-align: right;\">\n",
       "      <th></th>\n",
       "      <th>id</th>\n",
       "      <th>keyword</th>\n",
       "      <th>location</th>\n",
       "      <th>text</th>\n",
       "    </tr>\n",
       "  </thead>\n",
       "  <tbody>\n",
       "    <tr>\n",
       "      <th>0</th>\n",
       "      <td>0</td>\n",
       "      <td>NaN</td>\n",
       "      <td>NaN</td>\n",
       "      <td>Just happened a terrible car crash</td>\n",
       "    </tr>\n",
       "    <tr>\n",
       "      <th>1</th>\n",
       "      <td>2</td>\n",
       "      <td>NaN</td>\n",
       "      <td>NaN</td>\n",
       "      <td>Heard about #earthquake is different cities, s...</td>\n",
       "    </tr>\n",
       "    <tr>\n",
       "      <th>2</th>\n",
       "      <td>3</td>\n",
       "      <td>NaN</td>\n",
       "      <td>NaN</td>\n",
       "      <td>there is a forest fire at spot pond, geese are...</td>\n",
       "    </tr>\n",
       "    <tr>\n",
       "      <th>3</th>\n",
       "      <td>9</td>\n",
       "      <td>NaN</td>\n",
       "      <td>NaN</td>\n",
       "      <td>Apocalypse lighting. #Spokane #wildfires</td>\n",
       "    </tr>\n",
       "    <tr>\n",
       "      <th>4</th>\n",
       "      <td>11</td>\n",
       "      <td>NaN</td>\n",
       "      <td>NaN</td>\n",
       "      <td>Typhoon Soudelor kills 28 in China and Taiwan</td>\n",
       "    </tr>\n",
       "  </tbody>\n",
       "</table>\n",
       "</div>"
      ],
      "text/plain": [
       "   id keyword location                                               text\n",
       "0   0     NaN      NaN                 Just happened a terrible car crash\n",
       "1   2     NaN      NaN  Heard about #earthquake is different cities, s...\n",
       "2   3     NaN      NaN  there is a forest fire at spot pond, geese are...\n",
       "3   9     NaN      NaN           Apocalypse lighting. #Spokane #wildfires\n",
       "4  11     NaN      NaN      Typhoon Soudelor kills 28 in China and Taiwan"
      ]
     },
     "execution_count": 146,
     "metadata": {},
     "output_type": "execute_result"
    }
   ],
   "source": [
    "test_df.head()"
   ]
  },
  {
   "cell_type": "code",
   "execution_count": 148,
   "id": "0b1970bb",
   "metadata": {},
   "outputs": [
    {
     "name": "stdout",
     "output_type": "stream",
     "text": [
      "1/1 [==============================] - 0s 93ms/step\n",
      "Prediction: 0, Probability: 0.18323221802711487\n",
      "Text:\n",
      "ÛÏEven in the midst of devastation something within us always points the way to freedom.Û\n",
      "\n",
      "----\n",
      "\n",
      "1/1 [==============================] - 0s 91ms/step\n",
      "Prediction: 1, Probability: 0.7659624218940735\n",
      "Text:\n",
      "#Tajikistan #Mudslides #China aids to #Mudslide-hit #Tajiks http://t.co/BD546mtcpN\n",
      "\n",
      "----\n",
      "\n",
      "1/1 [==============================] - 0s 69ms/step\n",
      "Prediction: 1, Probability: 0.5774278044700623\n",
      "Text:\n",
      "Who is bringing the tornadoes and floods. Who is bringing the climate change. God is after America He is plaguing her\n",
      " \n",
      "#FARRAKHAN #QUOTE\n",
      "\n",
      "----\n",
      "\n",
      "1/1 [==============================] - 0s 50ms/step\n",
      "Prediction: 0, Probability: 0.1441805511713028\n",
      "Text:\n",
      "Bat four reasons en route to upheaval versus internet buzz value: pVDRDLJvc\n",
      "\n",
      "----\n",
      "\n",
      "1/1 [==============================] - 0s 62ms/step\n",
      "Prediction: 0, Probability: 0.09455191344022751\n",
      "Text:\n",
      "@yourgirlhaileyy leaveevacuateexitbe banished.\n",
      "\n",
      "----\n",
      "\n",
      "1/1 [==============================] - 0s 109ms/step\n",
      "Prediction: 0, Probability: 0.01828715205192566\n",
      "Text:\n",
      ".@RonFunches Loved the @meltdown_show set combined two things I enjoy: wrestling and Ron Funches.\n",
      "\n",
      "----\n",
      "\n",
      "1/1 [==============================] - 0s 82ms/step\n",
      "Prediction: 0, Probability: 0.10738106817007065\n",
      "Text:\n",
      "@Rossifumibhai @alexeeles all 6 of them?! As you can see from the pic they were clearly inundated. Good try though\n",
      "\n",
      "----\n",
      "\n",
      "1/1 [==============================] - 0s 90ms/step\n",
      "Prediction: 0, Probability: 0.048889197409152985\n",
      "Text:\n",
      "Musician Kalle Mattson Recreates 34 Classic Album Covers in Clever Music Video for 'Avalanche' http://t.co/97eWeUWybf\n",
      "\n",
      "----\n",
      "\n",
      "1/1 [==============================] - 0s 83ms/step\n",
      "Prediction: 0, Probability: 0.28866344690322876\n",
      "Text:\n",
      "Texas Seeks Comment on Rules for Changes to Windstorm Insurer: The Texas Department of Insurance is seeking pu... http://t.co/NGF9n8Jquu\n",
      "\n",
      "----\n",
      "\n",
      "1/1 [==============================] - 0s 83ms/step\n",
      "Prediction: 0, Probability: 0.21616408228874207\n",
      "Text:\n",
      "@GodHunt_sltv FATALITY\n",
      "\n",
      "----\n",
      "\n"
     ]
    }
   ],
   "source": [
    "# Making predictions on the test dataset\n",
    "test_sentences = test_df[\"text\"].to_list()\n",
    "test_samples = random.sample(test_sentences, 10)\n",
    "\n",
    "for test_sample in test_samples:\n",
    "    pred_prob = tf.squeeze(model_6.predict([test_sample]))\n",
    "    pred = tf.round(pred_prob)\n",
    "    print(f\"Prediction: {int(pred)}, Probability: {pred_prob}\")\n",
    "    print(f\"Text:\\n{test_sample}\\n\")\n",
    "    print(\"----\\n\")"
   ]
  },
  {
   "cell_type": "markdown",
   "id": "3966a484",
   "metadata": {},
   "source": [
    "It's important to do these kind of visualization checks as often as possible to get a glance of how your model performs on unseen data and subsequently how it might perform on the real test: Tweets from the wild."
   ]
  },
  {
   "cell_type": "code",
   "execution_count": null,
   "id": "51dd7e7b",
   "metadata": {},
   "outputs": [],
   "source": []
  },
  {
   "cell_type": "markdown",
   "id": "96bd323d",
   "metadata": {},
   "source": [
    "## Predicting on Tweets from the wild\n",
    "\n",
    "How about we find some Tweets and use our model to predict whether or not they're about a diaster or not?"
   ]
  },
  {
   "cell_type": "code",
   "execution_count": 149,
   "id": "a532864b",
   "metadata": {},
   "outputs": [],
   "source": [
    "# making a Function to take in a Model and a Sentence to classify the sentence as Disaster or \n",
    "# Not Disaster using The Model:\n",
    "\n",
    "def predict_on_sentence(model, sentence):\n",
    "    \"\"\"\n",
    "      Uses model to make a prediction on sentence.\n",
    "\n",
    "      Returns the sentence, the predicted label and the prediction probability.\n",
    "    \"\"\"\n",
    "    \n",
    "    pred_prob = model.predict([sentence])\n",
    "    pred = tf.squeeze(tf.round(pred_prob))\n",
    "    print(f\"Predicted Label: {pred}\", \"(Real Disaster)\" if pred > 0 else \"(Not Real Disaster)\", \n",
    "          f\"Prob: {pred_prob[0][0]}\")\n",
    "    print(f\"Text: \\n{sentence}\")"
   ]
  },
  {
   "cell_type": "code",
   "execution_count": 150,
   "id": "9c44dfbd",
   "metadata": {},
   "outputs": [],
   "source": [
    "shailyas_tweet = \"That's what makes a ride complete.The symbol of Greatest Gladiator Match in History of the World. @BatmanvSuperman\""
   ]
  },
  {
   "cell_type": "code",
   "execution_count": 151,
   "id": "0c997295",
   "metadata": {},
   "outputs": [
    {
     "name": "stdout",
     "output_type": "stream",
     "text": [
      "1/1 [==============================] - 0s 45ms/step\n",
      "Predicted Label: 0.0 (Not Real Disaster) Prob: 0.3423294126987457\n",
      "Text: \n",
      "That's what makes a ride complete.The symbol of Greatest Gladiator Match in History of the World. @BatmanvSuperman\n"
     ]
    }
   ],
   "source": [
    "# making a Prediction on Given Sentence:\n",
    "predict_on_sentence(model_6, shailyas_tweet)"
   ]
  },
  {
   "cell_type": "code",
   "execution_count": null,
   "id": "81c8c5fc",
   "metadata": {},
   "outputs": [],
   "source": []
  },
  {
   "cell_type": "code",
   "execution_count": 152,
   "id": "67c8927b",
   "metadata": {},
   "outputs": [],
   "source": [
    "# Source - https://twitter.com/BeirutCityGuide/status/1290696551376007168\n",
    "beirut_tweet_1 = \"Reports that the smoke in Beirut sky contains nitric acid, which is toxic. Please share and refrain from stepping outside unless urgent. #Lebanon\"\n",
    "\n",
    "# Source - https://twitter.com/BeirutCityGuide/status/1290773498743476224\n",
    "beirut_tweet_2 = \"#Beirut declared a “devastated city”, two-week state of emergency officially declared. #Lebanon\""
   ]
  },
  {
   "cell_type": "code",
   "execution_count": 153,
   "id": "2717e817",
   "metadata": {},
   "outputs": [
    {
     "name": "stdout",
     "output_type": "stream",
     "text": [
      "1/1 [==============================] - 0s 97ms/step\n",
      "Predicted Label: 1.0 (Real Disaster) Prob: 0.9636288285255432\n",
      "Text: \n",
      "Reports that the smoke in Beirut sky contains nitric acid, which is toxic. Please share and refrain from stepping outside unless urgent. #Lebanon\n"
     ]
    }
   ],
   "source": [
    "predict_on_sentence(model_6, beirut_tweet_1)"
   ]
  },
  {
   "cell_type": "code",
   "execution_count": 154,
   "id": "f679e780",
   "metadata": {},
   "outputs": [
    {
     "name": "stdout",
     "output_type": "stream",
     "text": [
      "1/1 [==============================] - 0s 38ms/step\n",
      "Predicted Label: 1.0 (Real Disaster) Prob: 0.9717369079589844\n",
      "Text: \n",
      "#Beirut declared a “devastated city”, two-week state of emergency officially declared. #Lebanon\n"
     ]
    }
   ],
   "source": [
    "predict_on_sentence(model_6, beirut_tweet_2)"
   ]
  },
  {
   "cell_type": "code",
   "execution_count": null,
   "id": "59edd96c",
   "metadata": {},
   "outputs": [],
   "source": []
  },
  {
   "cell_type": "markdown",
   "id": "d3d4044f",
   "metadata": {},
   "source": [
    "## The speed/score tradeoff\n",
    "\n",
    "One of the final tests we're going to do is to find the speed/score tradeoffs between our best model and baseline model.\n",
    "\n",
    "Although it can be tempting to just choose the best performing model you find through experimentation, this model might not actually work in a production setting.\n",
    "\n",
    "Put it this way, imagine you're Twitter and receive 1 million Tweets per hour (this is a made up number, the actual number is much higher). And you're trying to build a diaster detection system to read Tweets and alert authorities with details about a diaster in close to real-time.\n",
    "\n",
    "Compute power isn't free so you're limited to a single compute machine for the project. On that machine, one of your models makes 10,000 predictions per second at 80% accuracy where as another one of your models (a larger model) makes 100 predictions per second at 85% accuracy.\n",
    "\n",
    "Which model do you choose?\n",
    "\n",
    "Is the second model's performance boost worth missing out on the extra capacity?\n",
    "\n",
    "Of course, there are many options you could try here, such as sending as many Tweets as possible to the first model and then sending the ones which the model is least certain of to the second model. \n",
    "\n",
    "The point here is to illustrate the best model you find through experimentation, might not be the model you end up using in production.\n",
    "\n",
    "Let's write a function to take a model and a number of samples and time how long the given model takes to make predictions on those samples."
   ]
  },
  {
   "cell_type": "code",
   "execution_count": 156,
   "id": "1c6bd78a",
   "metadata": {},
   "outputs": [],
   "source": [
    "# Calculate the time of predictions\n",
    "import time\n",
    "def pred_timer(model, samples):\n",
    "  \"\"\"\n",
    "  Times how long a model takes to make predictions on samples.\n",
    "  \n",
    "  Args:\n",
    "  ----\n",
    "  model = a trained model\n",
    "  sample = a list of samples\n",
    "\n",
    "  Returns:\n",
    "  ----\n",
    "  total_time = total elapsed time for model to make predictions on samples\n",
    "  time_per_pred = time in seconds per single sample\n",
    "  \"\"\"\n",
    "  start_time = time.perf_counter() # get start time\n",
    "  model.predict(samples) # make predictions\n",
    "  end_time = time.perf_counter() # get finish time\n",
    "  total_time = end_time-start_time # calculate how long predictions took to make\n",
    "  time_per_pred = total_time/len(samples) # find prediction time per sample\n",
    "  return total_time, time_per_pred"
   ]
  },
  {
   "cell_type": "code",
   "execution_count": null,
   "id": "16030054",
   "metadata": {},
   "outputs": [],
   "source": []
  },
  {
   "cell_type": "code",
   "execution_count": 157,
   "id": "bf5531a7",
   "metadata": {},
   "outputs": [
    {
     "name": "stdout",
     "output_type": "stream",
     "text": [
      "24/24 [==============================] - 0s 14ms/step\n"
     ]
    },
    {
     "data": {
      "text/plain": [
       "(0.482959100001608, 0.0006338045931779633)"
      ]
     },
     "execution_count": 157,
     "metadata": {},
     "output_type": "execute_result"
    }
   ],
   "source": [
    "# Calculate TF Hub Sentence Encoder prediction times\n",
    "model_6_total_pred_time, model_6_time_per_pred = pred_timer(model_6, val_sentences)\n",
    "model_6_total_pred_time, model_6_time_per_pred"
   ]
  },
  {
   "cell_type": "code",
   "execution_count": 158,
   "id": "378d7ffe",
   "metadata": {},
   "outputs": [
    {
     "data": {
      "text/plain": [
       "(0.03319619999092538, 4.356456691722491e-05)"
      ]
     },
     "execution_count": 158,
     "metadata": {},
     "output_type": "execute_result"
    }
   ],
   "source": [
    "# Calculate Baseline Model's (Naive Bayes) prediction times\n",
    "baseline_total_pred_time, baseline_time_per_pred = pred_timer(model_0, val_sentences)\n",
    "baseline_total_pred_time, baseline_time_per_pred"
   ]
  },
  {
   "cell_type": "code",
   "execution_count": null,
   "id": "af20dcf1",
   "metadata": {},
   "outputs": [],
   "source": []
  },
  {
   "cell_type": "markdown",
   "id": "af90142b",
   "metadata": {},
   "source": [
    "Let's compare time per prediction versus our model's F1-scores."
   ]
  },
  {
   "cell_type": "code",
   "execution_count": 160,
   "id": "27ec6184",
   "metadata": {
    "scrolled": false
   },
   "outputs": [
    {
     "data": {
      "image/png": "[encoded data removed]",
      "text/plain": [
       "<Figure size 1000x700 with 1 Axes>"
      ]
     },
     "metadata": {},
     "output_type": "display_data"
    }
   ],
   "source": [
    "import matplotlib.pyplot as plt\n",
    "\n",
    "plt.figure(figsize=(10, 7))\n",
    "plt.scatter(baseline_time_per_pred, baseline_results[\"F1-Score\"], label=\"Baseline\")\n",
    "plt.scatter(model_6_time_per_pred, model_6_results[\"F1-Score\"], label=\"Tf_Hub_Sentence_Encoder\")\n",
    "plt.legend()\n",
    "plt.title(\"F1-Score versus Time Per Prediction\")\n",
    "plt.xlabel(\"Time Per Prediction\")\n",
    "plt.ylabel(\"F1-Score\");"
   ]
  },
  {
   "cell_type": "markdown",
   "id": "bd673773",
   "metadata": {},
   "source": [
    "The ideal position for each of these dots is to be in the top left of the plot (low time per prediction, high F1-score). \n",
    "\n",
    "In our case, there's a clear tradeoff for time per prediction and performance. Our best performing model takes an order of magnitude longer per prediction but only results in a few F1-score point increase.\n",
    "\n",
    "This kind of tradeoff is something you'll need to keep in mind when incorporating machine learning models into your own applications."
   ]
  }
 ],
 "metadata": {
  "kernelspec": {
   "display_name": "Python 3 (ipykernel)",
   "language": "python",
   "name": "python3"
  },
  "language_info": {
   "codemirror_mode": {
    "name": "ipython",
    "version": 3
   },
   "file_extension": ".py",
   "mimetype": "text/x-python",
   "name": "python",
   "nbconvert_exporter": "python",
   "pygments_lexer": "ipython3",
   "version": "3.11.4"
  }
 },
 "nbformat": 4,
 "nbformat_minor": 5
}

{
 "cells": [
  {
   "cell_type": "markdown",
   "metadata": {
    "id": "alAnV3PhoHSz"
   },
   "source": [
    "# Importing Necessary Libraries:"
   ]
  },
  {
   "cell_type": "code",
   "execution_count": 92,
   "metadata": {
    "id": "rGmIYUzJoMxV"
   },
   "outputs": [],
   "source": [
    "import os\n",
    "import numpy as np\n",
    "import pandas as pd\n",
    "import tensorflow as tf\n",
    "from tensorflow.keras import Model\n",
    "from tensorflow.keras.layers import Input, Conv1D, Dense, LSTM, GRU, TextVectorization, Embedding\n",
    "from tensorflow.keras.layers import GlobalAveragePooling1D, GlobalMaxPool1D, Bidirectional\n",
    "from tensorflow.keras.layers import Concatenate, Dropout\n",
    "from tensorflow.keras.losses import CategoricalCrossentropy\n",
    "from tensorflow.keras.optimizers import Adam\n",
    "import tensorflow_hub as hub\n",
    "from tensorflow.keras.callbacks import EarlyStopping\n",
    "from tensorflow.keras.utils import plot_model\n",
    "\n",
    "from sklearn.preprocessing import OneHotEncoder, LabelEncoder"
   ]
  },
  {
   "cell_type": "markdown",
   "metadata": {
    "id": "RTXcLIPzqDrI"
   },
   "source": [
    "# Downloading Helper Functions Script"
   ]
  },
  {
   "cell_type": "code",
   "execution_count": 2,
   "metadata": {
    "colab": {
     "base_uri": "https://localhost:8080/"
    },
    "id": "8HVPE8aHqIiJ",
    "outputId": "a6dc3c97-ac55-4af7-a433-757fcd61cc82"
   },
   "outputs": [
    {
     "name": "stdout",
     "output_type": "stream",
     "text": [
      "--2024-05-20 13:02:22--  https://raw.githubusercontent.com/mrdbourke/tensorflow-deep-learning/main/extras/helper_functions.py\n",
      "Resolving raw.githubusercontent.com (raw.githubusercontent.com)... 185.199.108.133, 185.199.109.133, 185.199.110.133, ...\n",
      "Connecting to raw.githubusercontent.com (raw.githubusercontent.com)|185.199.108.133|:443... connected.\n",
      "HTTP request sent, awaiting response... 200 OK\n",
      "Length: 10246 (10K) [text/plain]\n",
      "Saving to: ‘helper_functions.py.1’\n",
      "\n",
      "\r",
      "helper_functions.py   0%[                    ]       0  --.-KB/s               \r",
      "helper_functions.py 100%[===================>]  10.01K  --.-KB/s    in 0s      \n",
      "\n",
      "2024-05-20 13:02:22 (101 MB/s) - ‘helper_functions.py.1’ saved [10246/10246]\n",
      "\n"
     ]
    }
   ],
   "source": [
    "!wget https://raw.githubusercontent.com/mrdbourke/tensorflow-deep-learning/main/extras/helper_functions.py"
   ]
  },
  {
   "cell_type": "code",
   "execution_count": 3,
   "metadata": {
    "id": "K8756bllqOas"
   },
   "outputs": [],
   "source": [
    "from helper_functions import calculate_results"
   ]
  },
  {
   "cell_type": "markdown",
   "metadata": {
    "id": "gRlkfTpWm_DJ"
   },
   "source": [
    "# Data Importing and Pre-Processing"
   ]
  },
  {
   "cell_type": "code",
   "execution_count": 3,
   "metadata": {
    "id": "_p9ejFFanUaM"
   },
   "outputs": [],
   "source": []
  },
  {
   "cell_type": "markdown",
   "metadata": {
    "id": "_AHkqey7nV0q"
   },
   "source": [
    "## Imprting The Data:"
   ]
  },
  {
   "cell_type": "code",
   "execution_count": 4,
   "metadata": {
    "colab": {
     "base_uri": "https://localhost:8080/"
    },
    "id": "UyFEOaH4biZx",
    "outputId": "dec0abce-b15d-40ce-c67d-621928b104dc"
   },
   "outputs": [
    {
     "name": "stdout",
     "output_type": "stream",
     "text": [
      "fatal: destination path 'pubmed-rct' already exists and is not an empty directory.\n"
     ]
    }
   ],
   "source": [
    "# Getting Data From Github:\n",
    "!git clone https://github.com/Franck-Dernoncourt/pubmed-rct.git"
   ]
  },
  {
   "cell_type": "code",
   "execution_count": 5,
   "metadata": {
    "id": "asIkcgqQb-xR"
   },
   "outputs": [],
   "source": [
    "# Directory of Data:\n",
    "data_dir = \"/content/pubmed-rct/PubMed_20k_RCT_numbers_replaced_with_at_sign/\""
   ]
  },
  {
   "cell_type": "code",
   "execution_count": 5,
   "metadata": {
    "id": "vE7gni46dB7v"
   },
   "outputs": [],
   "source": []
  },
  {
   "cell_type": "code",
   "execution_count": 6,
   "metadata": {
    "colab": {
     "base_uri": "https://localhost:8080/"
    },
    "id": "DVaEGswvcE5g",
    "outputId": "19d8e4f8-b0cb-41a8-e4c9-a16c7247263a"
   },
   "outputs": [
    {
     "data": {
      "text/plain": [
       "['train.txt', 'test.txt', 'dev.txt']"
      ]
     },
     "execution_count": 6,
     "metadata": {},
     "output_type": "execute_result"
    }
   ],
   "source": [
    "# Checking Content of Data Directory:\n",
    "os.listdir(data_dir)"
   ]
  },
  {
   "cell_type": "markdown",
   "metadata": {
    "id": "O1YWNmG6nbCR"
   },
   "source": [
    "## Creating Functions to Pre-Process The Data"
   ]
  },
  {
   "cell_type": "code",
   "execution_count": 6,
   "metadata": {
    "id": "RnMM9lR5naib"
   },
   "outputs": [],
   "source": []
  },
  {
   "cell_type": "code",
   "execution_count": 7,
   "metadata": {
    "id": "vN3SXTbZcQm8"
   },
   "outputs": [],
   "source": [
    "# Function to Read Lines from Files in Data Directory:\n",
    "def get_lines(filename):\n",
    "  \"\"\"\n",
    "      Reads filename (a text file) and returns the lines of text as a list.\n",
    "\n",
    "      Args:\n",
    "          filename: a string containing the target filepath to read.\n",
    "\n",
    "      Returns:\n",
    "          A list of strings with one string per line from the target filename.\n",
    "          For example:\n",
    "          [\"this is the first line of filename\",\n",
    "           \"this is the second line of filename\",\n",
    "           \"...\"]\n",
    "    \"\"\"\n",
    "\n",
    "  with open(filename, \"r\") as f:\n",
    "    return f.readlines()"
   ]
  },
  {
   "cell_type": "code",
   "execution_count": 8,
   "metadata": {
    "colab": {
     "base_uri": "https://localhost:8080/"
    },
    "id": "bdTsVQELcxSf",
    "outputId": "dbc7eaf0-b305-4a4a-c96f-3e55e900d2d5"
   },
   "outputs": [
    {
     "data": {
      "text/plain": [
       "['###24293578\\n',\n",
       " 'OBJECTIVE\\tTo investigate the efficacy of @ weeks of daily low-dose oral prednisolone in improving pain , mobility , and systemic low-grade inflammation in the short term and whether the effect would be sustained at @ weeks in older adults with moderate to severe knee osteoarthritis ( OA ) .\\n',\n",
       " 'METHODS\\tA total of @ patients with primary knee OA were randomized @:@ ; @ received @ mg/day of prednisolone and @ received placebo for @ weeks .\\n',\n",
       " 'METHODS\\tOutcome measures included pain reduction and improvement in function scores and systemic inflammation markers .\\n',\n",
       " 'METHODS\\tPain was assessed using the visual analog pain scale ( @-@ mm ) .\\n',\n",
       " 'METHODS\\tSecondary outcome measures included the Western Ontario and McMaster Universities Osteoarthritis Index scores , patient global assessment ( PGA ) of the severity of knee OA , and @-min walk distance ( @MWD ) .\\n',\n",
       " 'METHODS\\tSerum levels of interleukin @ ( IL-@ ) , IL-@ , tumor necrosis factor ( TNF ) - , and high-sensitivity C-reactive protein ( hsCRP ) were measured .\\n',\n",
       " 'RESULTS\\tThere was a clinically relevant reduction in the intervention group compared to the placebo group for knee pain , physical function , PGA , and @MWD at @ weeks .\\n',\n",
       " 'RESULTS\\tThe mean difference between treatment arms ( @ % CI ) was @ ( @-@ @ ) , p < @ ; @ ( @-@ @ ) , p < @ ; @ ( @-@ @ ) , p < @ ; and @ ( @-@ @ ) , p < @ , respectively .\\n',\n",
       " 'RESULTS\\tFurther , there was a clinically relevant reduction in the serum levels of IL-@ , IL-@ , TNF - , and hsCRP at @ weeks in the intervention group when compared to the placebo group .\\n',\n",
       " 'RESULTS\\tThese differences remained significant at @ weeks .\\n',\n",
       " 'RESULTS\\tThe Outcome Measures in Rheumatology Clinical Trials-Osteoarthritis Research Society International responder rate was @ % in the intervention group and @ % in the placebo group ( p < @ ) .\\n',\n",
       " 'CONCLUSIONS\\tLow-dose oral prednisolone had both a short-term and a longer sustained effect resulting in less knee pain , better physical function , and attenuation of systemic inflammation in older patients with knee OA ( ClinicalTrials.gov identifier NCT@ ) .\\n',\n",
       " '\\n',\n",
       " '###24854809\\n',\n",
       " 'BACKGROUND\\tEmotional eating is associated with overeating and the development of obesity .\\n',\n",
       " 'BACKGROUND\\tYet , empirical evidence for individual ( trait ) differences in emotional eating and cognitive mechanisms that contribute to eating during sad mood remain equivocal .\\n',\n",
       " 'OBJECTIVE\\tThe aim of this study was to test if attention bias for food moderates the effect of self-reported emotional eating during sad mood ( vs neutral mood ) on actual food intake .\\n',\n",
       " 'OBJECTIVE\\tIt was expected that emotional eating is predictive of elevated attention for food and higher food intake after an experimentally induced sad mood and that attentional maintenance on food predicts food intake during a sad versus a neutral mood .\\n',\n",
       " 'METHODS\\tParticipants ( N = @ ) were randomly assigned to one of the two experimental mood induction conditions ( sad/neutral ) .\\n']"
      ]
     },
     "execution_count": 8,
     "metadata": {},
     "output_type": "execute_result"
    }
   ],
   "source": [
    "train_lines= get_lines(data_dir+\"train.txt\")\n",
    "train_lines[:20]"
   ]
  },
  {
   "cell_type": "code",
   "execution_count": 8,
   "metadata": {
    "id": "FKnrhfFqdVPy"
   },
   "outputs": [],
   "source": []
  },
  {
   "cell_type": "code",
   "execution_count": 9,
   "metadata": {
    "id": "GfA4PMpAdf1g"
   },
   "outputs": [],
   "source": [
    "# Function to Pre-Process The Data in Train, Test and Validation Files:\n",
    "\n",
    "def preprocess_text_with_line_numbers(filename):\n",
    "  \"\"\"Returns a list of dictionaries of abstract line data.\n",
    "\n",
    "      Takes in filename, reads its contents and sorts through each line,\n",
    "      extracting things like the target label, the text of the sentence,\n",
    "      how many sentences are in the current abstract and what sentence number\n",
    "      the target line is.\n",
    "\n",
    "      Args:\n",
    "          filename: a string of the target text file to read and extract line data\n",
    "          from.\n",
    "\n",
    "      Returns:\n",
    "          A list of dictionaries each containing a line from an abstract,\n",
    "          the lines label, the lines position in the abstract and the total number\n",
    "          of lines in the abstract where the line is from. For example:\n",
    "\n",
    "          [{\"target\": 'CONCLUSION',\n",
    "            \"text\": The study couldn't have gone better, turns out people are kinder than you think\",\n",
    "            \"line_number\": 8,\n",
    "            \"total_lines\": 8}]\n",
    "  \"\"\"\n",
    "\n",
    "  input_data = get_lines(filename)\n",
    "  abstract_lines = \"\"\n",
    "  abstract_samples = []\n",
    "\n",
    "  for line in input_data:\n",
    "\n",
    "    if line.startswith(\"###\"):\n",
    "      abstract_id = line\n",
    "      abstract_lines = \"\"\n",
    "\n",
    "    elif line.isspace():\n",
    "      abstract_line_split = abstract_lines.splitlines()\n",
    "\n",
    "      for abstract_line_number, abstract_line in enumerate(abstract_line_split):\n",
    "        line_data = {}\n",
    "        target_text_split = abstract_line.split(\"\\t\")\n",
    "        line_data[\"Target\"] = target_text_split[0]\n",
    "        line_data[\"Text\"] = target_text_split[1]\n",
    "        line_data[\"Line_Number\"] = abstract_line_number\n",
    "        line_data[\"Total_Lines\"] = len(abstract_line_split) - 1\n",
    "        abstract_samples.append(line_data)\n",
    "\n",
    "    else:\n",
    "      abstract_lines += line\n",
    "\n",
    "  return abstract_samples"
   ]
  },
  {
   "cell_type": "code",
   "execution_count": 10,
   "metadata": {
    "id": "X7rlEPL9ggAB"
   },
   "outputs": [],
   "source": [
    "# Getting All File Names from Data Directory in a list:\n",
    "filenames = [data_dir + filename for filename in os.listdir(data_dir)]"
   ]
  },
  {
   "cell_type": "code",
   "execution_count": 11,
   "metadata": {
    "colab": {
     "base_uri": "https://localhost:8080/"
    },
    "id": "Bld4mXOjigRB",
    "outputId": "8c717c97-0009-4ba4-b5dc-2a93e53287f7"
   },
   "outputs": [
    {
     "data": {
      "text/plain": [
       "['/content/pubmed-rct/PubMed_20k_RCT_numbers_replaced_with_at_sign/train.txt',\n",
       " '/content/pubmed-rct/PubMed_20k_RCT_numbers_replaced_with_at_sign/test.txt',\n",
       " '/content/pubmed-rct/PubMed_20k_RCT_numbers_replaced_with_at_sign/dev.txt']"
      ]
     },
     "execution_count": 11,
     "metadata": {},
     "output_type": "execute_result"
    }
   ],
   "source": [
    "filenames"
   ]
  },
  {
   "cell_type": "code",
   "execution_count": 12,
   "metadata": {
    "id": "Xl78uxj9iieB"
   },
   "outputs": [],
   "source": [
    "# Getting Data From All Files:\n",
    "train_data = preprocess_text_with_line_numbers(filenames[1])\n",
    "val_data = preprocess_text_with_line_numbers(filenames[2])\n",
    "test_data = preprocess_text_with_line_numbers(filenames[0])"
   ]
  },
  {
   "cell_type": "code",
   "execution_count": 13,
   "metadata": {
    "colab": {
     "base_uri": "https://localhost:8080/"
    },
    "id": "NJCHZFj7i6RM",
    "outputId": "078892b1-1291-47fe-a4a3-f20f8bb5229e"
   },
   "outputs": [
    {
     "data": {
      "text/plain": [
       "[{'Target': 'BACKGROUND',\n",
       "  'Text': 'This study analyzed liver function abnormalities in heart failure patients admitted with severe acute decompensated heart failure ( ADHF ) .',\n",
       "  'Line_Number': 0,\n",
       "  'Total_Lines': 8},\n",
       " {'Target': 'RESULTS',\n",
       "  'Text': 'A post hoc analysis was conducted with the use of data from the Evaluation Study of Congestive Heart Failure and Pulmonary Artery Catheterization Effectiveness ( ESCAPE ) .',\n",
       "  'Line_Number': 1,\n",
       "  'Total_Lines': 8},\n",
       " {'Target': 'RESULTS',\n",
       "  'Text': 'Liver function tests ( LFTs ) were measured at @ time points from baseline , at discharge , and up to @ months follow-up .',\n",
       "  'Line_Number': 2,\n",
       "  'Total_Lines': 8},\n",
       " {'Target': 'RESULTS',\n",
       "  'Text': 'Survival analyses were used to assess the association between admission Model of End-Stage Liver Disease Excluding International Normalized Ratio ( MELD-XI ) scores and patient outcome.There was a high prevalence of abnormal baseline ( admission ) LFTs ( albumin @ % , aspartate transaminase @ % , alanine transaminase @ % , and total bilirubin @ % ) .',\n",
       "  'Line_Number': 3,\n",
       "  'Total_Lines': 8},\n",
       " {'Target': 'RESULTS',\n",
       "  'Text': \"The percentage of patients with abnormal LFTs decreased significantly from baseline to @-months ' follow-up .\",\n",
       "  'Line_Number': 4,\n",
       "  'Total_Lines': 8}]"
      ]
     },
     "execution_count": 13,
     "metadata": {},
     "output_type": "execute_result"
    }
   ],
   "source": [
    "train_data[:5]"
   ]
  },
  {
   "cell_type": "code",
   "execution_count": 14,
   "metadata": {
    "colab": {
     "base_uri": "https://localhost:8080/"
    },
    "id": "DoBERmKHi-q8",
    "outputId": "0bfea6f9-6d3e-4b99-8a44-6425d7c6b20a"
   },
   "outputs": [
    {
     "data": {
      "text/plain": [
       "[{'Target': 'BACKGROUND',\n",
       "  'Text': 'IgE sensitization to Aspergillus fumigatus and a positive sputum fungal culture result are common in patients with refractory asthma .',\n",
       "  'Line_Number': 0,\n",
       "  'Total_Lines': 9},\n",
       " {'Target': 'BACKGROUND',\n",
       "  'Text': 'It is not clear whether these patients would benefit from antifungal treatment .',\n",
       "  'Line_Number': 1,\n",
       "  'Total_Lines': 9},\n",
       " {'Target': 'OBJECTIVE',\n",
       "  'Text': 'We sought to determine whether a @-month course of voriconazole improved asthma-related outcomes in patients with asthma who are IgE sensitized to A fumigatus .',\n",
       "  'Line_Number': 2,\n",
       "  'Total_Lines': 9},\n",
       " {'Target': 'METHODS',\n",
       "  'Text': 'Asthmatic patients who were IgE sensitized to A fumigatus with a history of at least @ severe exacerbations in the previous @ months were treated for @ months with @ mg of voriconazole twice daily , followed by observation for @ months , in a double-blind , placebo-controlled , randomized design .',\n",
       "  'Line_Number': 3,\n",
       "  'Total_Lines': 9},\n",
       " {'Target': 'METHODS',\n",
       "  'Text': 'Primary outcomes were improvement in quality of life at the end of the treatment period and a reduction in the number of severe exacerbations over the @ months of the study .',\n",
       "  'Line_Number': 4,\n",
       "  'Total_Lines': 9}]"
      ]
     },
     "execution_count": 14,
     "metadata": {},
     "output_type": "execute_result"
    }
   ],
   "source": [
    "val_data[:5]"
   ]
  },
  {
   "cell_type": "code",
   "execution_count": 15,
   "metadata": {
    "colab": {
     "base_uri": "https://localhost:8080/"
    },
    "id": "DGnAsfZyjAuu",
    "outputId": "f2bdbee1-65d5-4692-a7e5-99d181717f21"
   },
   "outputs": [
    {
     "data": {
      "text/plain": [
       "[{'Target': 'OBJECTIVE',\n",
       "  'Text': 'To investigate the efficacy of @ weeks of daily low-dose oral prednisolone in improving pain , mobility , and systemic low-grade inflammation in the short term and whether the effect would be sustained at @ weeks in older adults with moderate to severe knee osteoarthritis ( OA ) .',\n",
       "  'Line_Number': 0,\n",
       "  'Total_Lines': 11},\n",
       " {'Target': 'METHODS',\n",
       "  'Text': 'A total of @ patients with primary knee OA were randomized @:@ ; @ received @ mg/day of prednisolone and @ received placebo for @ weeks .',\n",
       "  'Line_Number': 1,\n",
       "  'Total_Lines': 11},\n",
       " {'Target': 'METHODS',\n",
       "  'Text': 'Outcome measures included pain reduction and improvement in function scores and systemic inflammation markers .',\n",
       "  'Line_Number': 2,\n",
       "  'Total_Lines': 11},\n",
       " {'Target': 'METHODS',\n",
       "  'Text': 'Pain was assessed using the visual analog pain scale ( @-@ mm ) .',\n",
       "  'Line_Number': 3,\n",
       "  'Total_Lines': 11},\n",
       " {'Target': 'METHODS',\n",
       "  'Text': 'Secondary outcome measures included the Western Ontario and McMaster Universities Osteoarthritis Index scores , patient global assessment ( PGA ) of the severity of knee OA , and @-min walk distance ( @MWD ) .',\n",
       "  'Line_Number': 4,\n",
       "  'Total_Lines': 11}]"
      ]
     },
     "execution_count": 15,
     "metadata": {},
     "output_type": "execute_result"
    }
   ],
   "source": [
    "test_data[:5]"
   ]
  },
  {
   "cell_type": "code",
   "execution_count": 15,
   "metadata": {
    "id": "d3uGoYQjjG9O"
   },
   "outputs": [],
   "source": []
  },
  {
   "cell_type": "code",
   "execution_count": 16,
   "metadata": {
    "id": "jjEZOjwTjG_p"
   },
   "outputs": [],
   "source": [
    "# Creating DataFrames for Training, validation and Test Data:\n",
    "train_df = pd.DataFrame(train_data)\n",
    "val_df = pd.DataFrame(val_data)\n",
    "test_df = pd.DataFrame(test_data)"
   ]
  },
  {
   "cell_type": "code",
   "execution_count": 17,
   "metadata": {
    "colab": {
     "base_uri": "https://localhost:8080/",
     "height": 519
    },
    "id": "geejIg0tjXYs",
    "outputId": "8240fe86-f277-46cb-f953-83fa178ff079"
   },
   "outputs": [
    {
     "data": {
      "application/vnd.google.colaboratory.intrinsic+json": {
       "summary": "{\n  \"name\": \"train_df\",\n  \"rows\": 30135,\n  \"fields\": [\n    {\n      \"column\": \"Target\",\n      \"properties\": {\n        \"dtype\": \"category\",\n        \"num_unique_values\": 5,\n        \"samples\": [\n          \"RESULTS\",\n          \"OBJECTIVE\",\n          \"CONCLUSIONS\"\n        ],\n        \"semantic_type\": \"\",\n        \"description\": \"\"\n      }\n    },\n    {\n      \"column\": \"Text\",\n      \"properties\": {\n        \"dtype\": \"string\",\n        \"num_unique_values\": 29747,\n        \"samples\": [\n          \"Long-term low-dose applications of macrolides have a good effect in patients with chronic rhinosinusit , particularly for refractory chronic rhinosinusit have a significant effect .\",\n          \"Acute and chronic inflammation and both were detected in @ baseline biopsies ( @ % ) , @ baseline biopsies ( @ % ) , and @ baseline biopsies ( @ % ) , respectively .\",\n          \"Sixty cases of memory impairment after cerebral infarction were randomized into an observation group and a control group , @ cases in each one .\"\n        ],\n        \"semantic_type\": \"\",\n        \"description\": \"\"\n      }\n    },\n    {\n      \"column\": \"Line_Number\",\n      \"properties\": {\n        \"dtype\": \"number\",\n        \"std\": 4,\n        \"min\": 0,\n        \"max\": 27,\n        \"num_unique_values\": 28,\n        \"samples\": [\n          9,\n          25,\n          8\n        ],\n        \"semantic_type\": \"\",\n        \"description\": \"\"\n      }\n    },\n    {\n      \"column\": \"Total_Lines\",\n      \"properties\": {\n        \"dtype\": \"number\",\n        \"std\": 3,\n        \"min\": 3,\n        \"max\": 27,\n        \"num_unique_values\": 23,\n        \"samples\": [\n          24,\n          16,\n          8\n        ],\n        \"semantic_type\": \"\",\n        \"description\": \"\"\n      }\n    }\n  ]\n}",
       "type": "dataframe",
       "variable_name": "train_df"
      },
      "text/html": [
       "\n",
       "  <div id=\"df-9c514894-753e-4a0d-958b-9ec9d9a09aa7\" class=\"colab-df-container\">\n",
       "    <div>\n",
       "<style scoped>\n",
       "    .dataframe tbody tr th:only-of-type {\n",
       "        vertical-align: middle;\n",
       "    }\n",
       "\n",
       "    .dataframe tbody tr th {\n",
       "        vertical-align: top;\n",
       "    }\n",
       "\n",
       "    .dataframe thead th {\n",
       "        text-align: right;\n",
       "    }\n",
       "</style>\n",
       "<table border=\"1\" class=\"dataframe\">\n",
       "  <thead>\n",
       "    <tr style=\"text-align: right;\">\n",
       "      <th></th>\n",
       "      <th>Target</th>\n",
       "      <th>Text</th>\n",
       "      <th>Line_Number</th>\n",
       "      <th>Total_Lines</th>\n",
       "    </tr>\n",
       "  </thead>\n",
       "  <tbody>\n",
       "    <tr>\n",
       "      <th>0</th>\n",
       "      <td>BACKGROUND</td>\n",
       "      <td>This study analyzed liver function abnormaliti...</td>\n",
       "      <td>0</td>\n",
       "      <td>8</td>\n",
       "    </tr>\n",
       "    <tr>\n",
       "      <th>1</th>\n",
       "      <td>RESULTS</td>\n",
       "      <td>A post hoc analysis was conducted with the use...</td>\n",
       "      <td>1</td>\n",
       "      <td>8</td>\n",
       "    </tr>\n",
       "    <tr>\n",
       "      <th>2</th>\n",
       "      <td>RESULTS</td>\n",
       "      <td>Liver function tests ( LFTs ) were measured at...</td>\n",
       "      <td>2</td>\n",
       "      <td>8</td>\n",
       "    </tr>\n",
       "    <tr>\n",
       "      <th>3</th>\n",
       "      <td>RESULTS</td>\n",
       "      <td>Survival analyses were used to assess the asso...</td>\n",
       "      <td>3</td>\n",
       "      <td>8</td>\n",
       "    </tr>\n",
       "    <tr>\n",
       "      <th>4</th>\n",
       "      <td>RESULTS</td>\n",
       "      <td>The percentage of patients with abnormal LFTs ...</td>\n",
       "      <td>4</td>\n",
       "      <td>8</td>\n",
       "    </tr>\n",
       "    <tr>\n",
       "      <th>5</th>\n",
       "      <td>RESULTS</td>\n",
       "      <td>When mean hemodynamic profiles were compared i...</td>\n",
       "      <td>5</td>\n",
       "      <td>8</td>\n",
       "    </tr>\n",
       "    <tr>\n",
       "      <th>6</th>\n",
       "      <td>RESULTS</td>\n",
       "      <td>Multivariable analyses revealed that patients ...</td>\n",
       "      <td>6</td>\n",
       "      <td>8</td>\n",
       "    </tr>\n",
       "    <tr>\n",
       "      <th>7</th>\n",
       "      <td>CONCLUSIONS</td>\n",
       "      <td>Abnormal LFTs are common in the ADHF populatio...</td>\n",
       "      <td>7</td>\n",
       "      <td>8</td>\n",
       "    </tr>\n",
       "    <tr>\n",
       "      <th>8</th>\n",
       "      <td>CONCLUSIONS</td>\n",
       "      <td>Elevated MELD-XI scores are associated with po...</td>\n",
       "      <td>8</td>\n",
       "      <td>8</td>\n",
       "    </tr>\n",
       "    <tr>\n",
       "      <th>9</th>\n",
       "      <td>BACKGROUND</td>\n",
       "      <td>Minimally invasive endovascular aneurysm repai...</td>\n",
       "      <td>0</td>\n",
       "      <td>12</td>\n",
       "    </tr>\n",
       "    <tr>\n",
       "      <th>10</th>\n",
       "      <td>BACKGROUND</td>\n",
       "      <td>The aim of this study was to analyse the cost-...</td>\n",
       "      <td>1</td>\n",
       "      <td>12</td>\n",
       "    </tr>\n",
       "    <tr>\n",
       "      <th>11</th>\n",
       "      <td>METHODS</td>\n",
       "      <td>Resource use was determined from the Amsterdam...</td>\n",
       "      <td>2</td>\n",
       "      <td>12</td>\n",
       "    </tr>\n",
       "    <tr>\n",
       "      <th>12</th>\n",
       "      <td>METHODS</td>\n",
       "      <td>The analysis was performed from a provider per...</td>\n",
       "      <td>3</td>\n",
       "      <td>12</td>\n",
       "    </tr>\n",
       "    <tr>\n",
       "      <th>13</th>\n",
       "      <td>METHODS</td>\n",
       "      <td>All costs were calculated as if all patients h...</td>\n",
       "      <td>4</td>\n",
       "      <td>12</td>\n",
       "    </tr>\n",
       "    <tr>\n",
       "      <th>14</th>\n",
       "      <td>RESULTS</td>\n",
       "      <td>A total of @ patients were randomized .</td>\n",
       "      <td>5</td>\n",
       "      <td>12</td>\n",
       "    </tr>\n",
       "  </tbody>\n",
       "</table>\n",
       "</div>\n",
       "    <div class=\"colab-df-buttons\">\n",
       "\n",
       "  <div class=\"colab-df-container\">\n",
       "    <button class=\"colab-df-convert\" onclick=\"convertToInteractive('df-9c514894-753e-4a0d-958b-9ec9d9a09aa7')\"\n",
       "            title=\"Convert this dataframe to an interactive table.\"\n",
       "            style=\"display:none;\">\n",
       "\n",
       "  <svg xmlns=\"http://www.w3.org/2000/svg\" height=\"24px\" viewBox=\"0 -960 960 960\">\n",
       "    <path d=\"M120-120v-720h720v720H120Zm60-500h600v-160H180v160Zm220 220h160v-160H400v160Zm0 220h160v-160H400v160ZM180-400h160v-160H180v160Zm440 0h160v-160H620v160ZM180-180h160v-160H180v160Zm440 0h160v-160H620v160Z\"/>\n",
       "  </svg>\n",
       "    </button>\n",
       "\n",
       "  <style>\n",
       "    .colab-df-container {\n",
       "      display:flex;\n",
       "      gap: 12px;\n",
       "    }\n",
       "\n",
       "    .colab-df-convert {\n",
       "      background-color: #E8F0FE;\n",
       "      border: none;\n",
       "      border-radius: 50%;\n",
       "      cursor: pointer;\n",
       "      display: none;\n",
       "      fill: #1967D2;\n",
       "      height: 32px;\n",
       "      padding: 0 0 0 0;\n",
       "      width: 32px;\n",
       "    }\n",
       "\n",
       "    .colab-df-convert:hover {\n",
       "      background-color: #E2EBFA;\n",
       "      box-shadow: 0px 1px 2px rgba(60, 64, 67, 0.3), 0px 1px 3px 1px rgba(60, 64, 67, 0.15);\n",
       "      fill: #174EA6;\n",
       "    }\n",
       "\n",
       "    .colab-df-buttons div {\n",
       "      margin-bottom: 4px;\n",
       "    }\n",
       "\n",
       "    [theme=dark] .colab-df-convert {\n",
       "      background-color: #3B4455;\n",
       "      fill: #D2E3FC;\n",
       "    }\n",
       "\n",
       "    [theme=dark] .colab-df-convert:hover {\n",
       "      background-color: #434B5C;\n",
       "      box-shadow: 0px 1px 3px 1px rgba(0, 0, 0, 0.15);\n",
       "      filter: drop-shadow(0px 1px 2px rgba(0, 0, 0, 0.3));\n",
       "      fill: #FFFFFF;\n",
       "    }\n",
       "  </style>\n",
       "\n",
       "    <script>\n",
       "      const buttonEl =\n",
       "        document.querySelector('#df-9c514894-753e-4a0d-958b-9ec9d9a09aa7 button.colab-df-convert');\n",
       "      buttonEl.style.display =\n",
       "        google.colab.kernel.accessAllowed ? 'block' : 'none';\n",
       "\n",
       "      async function convertToInteractive(key) {\n",
       "        const element = document.querySelector('#df-9c514894-753e-4a0d-958b-9ec9d9a09aa7');\n",
       "        const dataTable =\n",
       "          await google.colab.kernel.invokeFunction('convertToInteractive',\n",
       "                                                    [key], {});\n",
       "        if (!dataTable) return;\n",
       "\n",
       "        const docLinkHtml = 'Like what you see? Visit the ' +\n",
       "          '<a target=\"_blank\" href=https://colab.research.google.com/notebooks/data_table.ipynb>data table notebook</a>'\n",
       "          + ' to learn more about interactive tables.';\n",
       "        element.innerHTML = '';\n",
       "        dataTable['output_type'] = 'display_data';\n",
       "        await google.colab.output.renderOutput(dataTable, element);\n",
       "        const docLink = document.createElement('div');\n",
       "        docLink.innerHTML = docLinkHtml;\n",
       "        element.appendChild(docLink);\n",
       "      }\n",
       "    </script>\n",
       "  </div>\n",
       "\n",
       "\n",
       "<div id=\"df-dfbcc028-735a-4bcc-8e8e-049e1d7abfb6\">\n",
       "  <button class=\"colab-df-quickchart\" onclick=\"quickchart('df-dfbcc028-735a-4bcc-8e8e-049e1d7abfb6')\"\n",
       "            title=\"Suggest charts\"\n",
       "            style=\"display:none;\">\n",
       "\n",
       "<svg xmlns=\"http://www.w3.org/2000/svg\" height=\"24px\"viewBox=\"0 0 24 24\"\n",
       "     width=\"24px\">\n",
       "    <g>\n",
       "        <path d=\"M19 3H5c-1.1 0-2 .9-2 2v14c0 1.1.9 2 2 2h14c1.1 0 2-.9 2-2V5c0-1.1-.9-2-2-2zM9 17H7v-7h2v7zm4 0h-2V7h2v10zm4 0h-2v-4h2v4z\"/>\n",
       "    </g>\n",
       "</svg>\n",
       "  </button>\n",
       "\n",
       "<style>\n",
       "  .colab-df-quickchart {\n",
       "      --bg-color: #E8F0FE;\n",
       "      --fill-color: #1967D2;\n",
       "      --hover-bg-color: #E2EBFA;\n",
       "      --hover-fill-color: #174EA6;\n",
       "      --disabled-fill-color: #AAA;\n",
       "      --disabled-bg-color: #DDD;\n",
       "  }\n",
       "\n",
       "  [theme=dark] .colab-df-quickchart {\n",
       "      --bg-color: #3B4455;\n",
       "      --fill-color: #D2E3FC;\n",
       "      --hover-bg-color: #434B5C;\n",
       "      --hover-fill-color: #FFFFFF;\n",
       "      --disabled-bg-color: #3B4455;\n",
       "      --disabled-fill-color: #666;\n",
       "  }\n",
       "\n",
       "  .colab-df-quickchart {\n",
       "    background-color: var(--bg-color);\n",
       "    border: none;\n",
       "    border-radius: 50%;\n",
       "    cursor: pointer;\n",
       "    display: none;\n",
       "    fill: var(--fill-color);\n",
       "    height: 32px;\n",
       "    padding: 0;\n",
       "    width: 32px;\n",
       "  }\n",
       "\n",
       "  .colab-df-quickchart:hover {\n",
       "    background-color: var(--hover-bg-color);\n",
       "    box-shadow: 0 1px 2px rgba(60, 64, 67, 0.3), 0 1px 3px 1px rgba(60, 64, 67, 0.15);\n",
       "    fill: var(--button-hover-fill-color);\n",
       "  }\n",
       "\n",
       "  .colab-df-quickchart-complete:disabled,\n",
       "  .colab-df-quickchart-complete:disabled:hover {\n",
       "    background-color: var(--disabled-bg-color);\n",
       "    fill: var(--disabled-fill-color);\n",
       "    box-shadow: none;\n",
       "  }\n",
       "\n",
       "  .colab-df-spinner {\n",
       "    border: 2px solid var(--fill-color);\n",
       "    border-color: transparent;\n",
       "    border-bottom-color: var(--fill-color);\n",
       "    animation:\n",
       "      spin 1s steps(1) infinite;\n",
       "  }\n",
       "\n",
       "  @keyframes spin {\n",
       "    0% {\n",
       "      border-color: transparent;\n",
       "      border-bottom-color: var(--fill-color);\n",
       "      border-left-color: var(--fill-color);\n",
       "    }\n",
       "    20% {\n",
       "      border-color: transparent;\n",
       "      border-left-color: var(--fill-color);\n",
       "      border-top-color: var(--fill-color);\n",
       "    }\n",
       "    30% {\n",
       "      border-color: transparent;\n",
       "      border-left-color: var(--fill-color);\n",
       "      border-top-color: var(--fill-color);\n",
       "      border-right-color: var(--fill-color);\n",
       "    }\n",
       "    40% {\n",
       "      border-color: transparent;\n",
       "      border-right-color: var(--fill-color);\n",
       "      border-top-color: var(--fill-color);\n",
       "    }\n",
       "    60% {\n",
       "      border-color: transparent;\n",
       "      border-right-color: var(--fill-color);\n",
       "    }\n",
       "    80% {\n",
       "      border-color: transparent;\n",
       "      border-right-color: var(--fill-color);\n",
       "      border-bottom-color: var(--fill-color);\n",
       "    }\n",
       "    90% {\n",
       "      border-color: transparent;\n",
       "      border-bottom-color: var(--fill-color);\n",
       "    }\n",
       "  }\n",
       "</style>\n",
       "\n",
       "  <script>\n",
       "    async function quickchart(key) {\n",
       "      const quickchartButtonEl =\n",
       "        document.querySelector('#' + key + ' button');\n",
       "      quickchartButtonEl.disabled = true;  // To prevent multiple clicks.\n",
       "      quickchartButtonEl.classList.add('colab-df-spinner');\n",
       "      try {\n",
       "        const charts = await google.colab.kernel.invokeFunction(\n",
       "            'suggestCharts', [key], {});\n",
       "      } catch (error) {\n",
       "        console.error('Error during call to suggestCharts:', error);\n",
       "      }\n",
       "      quickchartButtonEl.classList.remove('colab-df-spinner');\n",
       "      quickchartButtonEl.classList.add('colab-df-quickchart-complete');\n",
       "    }\n",
       "    (() => {\n",
       "      let quickchartButtonEl =\n",
       "        document.querySelector('#df-dfbcc028-735a-4bcc-8e8e-049e1d7abfb6 button');\n",
       "      quickchartButtonEl.style.display =\n",
       "        google.colab.kernel.accessAllowed ? 'block' : 'none';\n",
       "    })();\n",
       "  </script>\n",
       "</div>\n",
       "\n",
       "    </div>\n",
       "  </div>\n"
      ],
      "text/plain": [
       "         Target                                               Text  \\\n",
       "0    BACKGROUND  This study analyzed liver function abnormaliti...   \n",
       "1       RESULTS  A post hoc analysis was conducted with the use...   \n",
       "2       RESULTS  Liver function tests ( LFTs ) were measured at...   \n",
       "3       RESULTS  Survival analyses were used to assess the asso...   \n",
       "4       RESULTS  The percentage of patients with abnormal LFTs ...   \n",
       "5       RESULTS  When mean hemodynamic profiles were compared i...   \n",
       "6       RESULTS  Multivariable analyses revealed that patients ...   \n",
       "7   CONCLUSIONS  Abnormal LFTs are common in the ADHF populatio...   \n",
       "8   CONCLUSIONS  Elevated MELD-XI scores are associated with po...   \n",
       "9    BACKGROUND  Minimally invasive endovascular aneurysm repai...   \n",
       "10   BACKGROUND  The aim of this study was to analyse the cost-...   \n",
       "11      METHODS  Resource use was determined from the Amsterdam...   \n",
       "12      METHODS  The analysis was performed from a provider per...   \n",
       "13      METHODS  All costs were calculated as if all patients h...   \n",
       "14      RESULTS            A total of @ patients were randomized .   \n",
       "\n",
       "    Line_Number  Total_Lines  \n",
       "0             0            8  \n",
       "1             1            8  \n",
       "2             2            8  \n",
       "3             3            8  \n",
       "4             4            8  \n",
       "5             5            8  \n",
       "6             6            8  \n",
       "7             7            8  \n",
       "8             8            8  \n",
       "9             0           12  \n",
       "10            1           12  \n",
       "11            2           12  \n",
       "12            3           12  \n",
       "13            4           12  \n",
       "14            5           12  "
      ]
     },
     "execution_count": 17,
     "metadata": {},
     "output_type": "execute_result"
    }
   ],
   "source": [
    "train_df.head(15)"
   ]
  },
  {
   "cell_type": "code",
   "execution_count": 17,
   "metadata": {
    "id": "3_rtFnEijcem"
   },
   "outputs": [],
   "source": []
  },
  {
   "cell_type": "markdown",
   "metadata": {
    "id": "U7ukx9N9njPP"
   },
   "source": [
    "## Getting Data Ready for The Model"
   ]
  },
  {
   "cell_type": "code",
   "execution_count": 17,
   "metadata": {
    "id": "orC6d0PbnjA9"
   },
   "outputs": [],
   "source": []
  },
  {
   "cell_type": "code",
   "execution_count": 18,
   "metadata": {
    "id": "jDGc0rrmjcmA"
   },
   "outputs": [],
   "source": [
    "# Converting text to List of Sentencts for Each Datasets:\n",
    "\n",
    "train_sentences = train_df[\"Text\"].to_list()\n",
    "val_sentences = val_df[\"Text\"].to_list()\n",
    "test_sentences = test_df[\"Text\"].to_list()"
   ]
  },
  {
   "cell_type": "code",
   "execution_count": 19,
   "metadata": {
    "colab": {
     "base_uri": "https://localhost:8080/"
    },
    "id": "2Ur3x7Unj69X",
    "outputId": "6d196819-f31b-4a6d-adfd-08c9a2f04552"
   },
   "outputs": [
    {
     "data": {
      "text/plain": [
       "((30135, 4), (30212, 4), (180040, 4))"
      ]
     },
     "execution_count": 19,
     "metadata": {},
     "output_type": "execute_result"
    }
   ],
   "source": [
    "train_df.shape, val_df.shape, test_df.shape"
   ]
  },
  {
   "cell_type": "code",
   "execution_count": 20,
   "metadata": {
    "colab": {
     "base_uri": "https://localhost:8080/"
    },
    "id": "7cSO5lpfj0Ag",
    "outputId": "93787990-589a-44d9-b52c-d9553e8ef11e"
   },
   "outputs": [
    {
     "data": {
      "text/plain": [
       "(30135, 30212, 180040)"
      ]
     },
     "execution_count": 20,
     "metadata": {},
     "output_type": "execute_result"
    }
   ],
   "source": [
    "len(train_sentences), len(val_sentences), len(test_sentences)"
   ]
  },
  {
   "cell_type": "code",
   "execution_count": 21,
   "metadata": {
    "colab": {
     "base_uri": "https://localhost:8080/"
    },
    "id": "k6e1-9zOkBtv",
    "outputId": "45d3b281-2071-4932-9291-76f173efbd3a"
   },
   "outputs": [
    {
     "data": {
      "text/plain": [
       "array(['BACKGROUND', 'RESULTS', 'RESULTS', ..., 'RESULTS', 'RESULTS',\n",
       "       'CONCLUSIONS'], dtype=object)"
      ]
     },
     "execution_count": 21,
     "metadata": {},
     "output_type": "execute_result"
    }
   ],
   "source": [
    "train_df[\"Target\"].to_numpy()"
   ]
  },
  {
   "cell_type": "code",
   "execution_count": 22,
   "metadata": {
    "id": "eRyoE5xukBwG"
   },
   "outputs": [],
   "source": [
    "# Creating Labels as Numerics Labels (Both One-Hot and Label Encoded):\n",
    "\n",
    "one_hot_encoder = OneHotEncoder(sparse_output= False)\n",
    "train_labels_one_hot = one_hot_encoder.fit_transform(train_df[\"Target\"].to_numpy().reshape(-1,1))\n",
    "val_labels_one_hot = one_hot_encoder.transform(val_df[\"Target\"].to_numpy().reshape(-1,1))\n",
    "test_labels_one_hot = one_hot_encoder.transform(test_df[\"Target\"].to_numpy().reshape(-1,1))"
   ]
  },
  {
   "cell_type": "code",
   "execution_count": 23,
   "metadata": {
    "id": "pMUNfoHtlkQD"
   },
   "outputs": [],
   "source": [
    "label_encoder= LabelEncoder()\n",
    "\n",
    "train_labels_encoded = label_encoder.fit_transform(train_df[\"Target\"].to_numpy())\n",
    "val_labels_encoded = label_encoder.transform(val_df[\"Target\"].to_numpy())\n",
    "test_labels_encoded = label_encoder.transform(test_df[\"Target\"].to_numpy())"
   ]
  },
  {
   "cell_type": "code",
   "execution_count": 24,
   "metadata": {
    "colab": {
     "base_uri": "https://localhost:8080/"
    },
    "id": "i1wz_63ImJ6L",
    "outputId": "2be291d1-cb9f-491d-c99b-2a516f30b56b"
   },
   "outputs": [
    {
     "data": {
      "text/plain": [
       "(array([[1., 0., 0., 0., 0.],\n",
       "        [0., 0., 0., 0., 1.],\n",
       "        [0., 0., 0., 0., 1.],\n",
       "        ...,\n",
       "        [0., 0., 0., 0., 1.],\n",
       "        [0., 0., 0., 0., 1.],\n",
       "        [0., 1., 0., 0., 0.]]),\n",
       " array([[1., 0., 0., 0., 0.],\n",
       "        [1., 0., 0., 0., 0.],\n",
       "        [0., 0., 0., 1., 0.],\n",
       "        ...,\n",
       "        [0., 0., 0., 0., 1.],\n",
       "        [0., 1., 0., 0., 0.],\n",
       "        [0., 1., 0., 0., 0.]]),\n",
       " array([[0., 0., 0., 1., 0.],\n",
       "        [0., 0., 1., 0., 0.],\n",
       "        [0., 0., 1., 0., 0.],\n",
       "        ...,\n",
       "        [0., 0., 0., 0., 1.],\n",
       "        [0., 1., 0., 0., 0.],\n",
       "        [0., 1., 0., 0., 0.]]))"
      ]
     },
     "execution_count": 24,
     "metadata": {},
     "output_type": "execute_result"
    }
   ],
   "source": [
    "train_labels_one_hot, val_labels_one_hot, test_labels_one_hot"
   ]
  },
  {
   "cell_type": "code",
   "execution_count": 25,
   "metadata": {
    "colab": {
     "base_uri": "https://localhost:8080/"
    },
    "id": "JP6d8k3VmQXi",
    "outputId": "3ec08670-17f2-422f-9b4a-cecb76336363"
   },
   "outputs": [
    {
     "data": {
      "text/plain": [
       "((30135, 5), (30212, 5), (180040, 5))"
      ]
     },
     "execution_count": 25,
     "metadata": {},
     "output_type": "execute_result"
    }
   ],
   "source": [
    "train_labels_one_hot.shape , val_labels_one_hot.shape, test_labels_one_hot.shape"
   ]
  },
  {
   "cell_type": "code",
   "execution_count": 26,
   "metadata": {
    "colab": {
     "base_uri": "https://localhost:8080/"
    },
    "id": "md5Vbp-vmKAT",
    "outputId": "c827abf1-c9b0-44bc-f826-6903111e4a08"
   },
   "outputs": [
    {
     "data": {
      "text/plain": [
       "(array([0, 4, 4, ..., 4, 4, 1]),\n",
       " array([0, 0, 3, ..., 4, 1, 1]),\n",
       " array([3, 2, 2, ..., 4, 1, 1]))"
      ]
     },
     "execution_count": 26,
     "metadata": {},
     "output_type": "execute_result"
    }
   ],
   "source": [
    "train_labels_encoded, val_labels_encoded, test_labels_encoded"
   ]
  },
  {
   "cell_type": "code",
   "execution_count": 27,
   "metadata": {
    "colab": {
     "base_uri": "https://localhost:8080/"
    },
    "id": "CAcNgu_kmdHA",
    "outputId": "621c5df6-bcba-4a82-b733-e34fff9e7e4b"
   },
   "outputs": [
    {
     "data": {
      "text/plain": [
       "((30135,), (30212,), (180040,))"
      ]
     },
     "execution_count": 27,
     "metadata": {},
     "output_type": "execute_result"
    }
   ],
   "source": [
    "train_labels_encoded.shape, val_labels_encoded.shape, test_labels_encoded.shape"
   ]
  },
  {
   "cell_type": "code",
   "execution_count": 27,
   "metadata": {
    "id": "gR-2tcrnmiMd"
   },
   "outputs": [],
   "source": []
  },
  {
   "cell_type": "code",
   "execution_count": 28,
   "metadata": {
    "id": "2HK7vLQymiPG"
   },
   "outputs": [],
   "source": [
    "# Converting Line Number and Total Lines to One hot Encoded Features:\n",
    "\n",
    "train_line_numbers_one_hot = tf.one_hot(train_df[\"Line_Number\"].to_numpy(), depth= 15)\n",
    "val_line_numbers_one_hot = tf.one_hot(val_df[\"Line_Number\"].to_numpy(), depth= 15)\n",
    "test_line_numbers_one_hot = tf.one_hot(test_df[\"Line_Number\"].to_numpy(), depth= 15)"
   ]
  },
  {
   "cell_type": "code",
   "execution_count": 29,
   "metadata": {
    "id": "WrgCD3CspA6S"
   },
   "outputs": [],
   "source": [
    "train_total_lines_one_hot = tf.one_hot(train_df[\"Total_Lines\"].to_numpy(), depth= 20)\n",
    "val_total_lines_one_hot = tf.one_hot(val_df[\"Total_Lines\"].to_numpy(), depth= 20)\n",
    "test_total_lines_one_hot = tf.one_hot(test_df[\"Total_Lines\"].to_numpy(), depth= 20)"
   ]
  },
  {
   "cell_type": "code",
   "execution_count": 30,
   "metadata": {
    "colab": {
     "base_uri": "https://localhost:8080/"
    },
    "id": "KnSKeOwlo-N-",
    "outputId": "cc9144bd-345a-45a4-8b82-661f40fd51cd"
   },
   "outputs": [
    {
     "data": {
      "text/plain": [
       "<tf.Tensor: shape=(30135, 15), dtype=float32, numpy=\n",
       "array([[1., 0., 0., ..., 0., 0., 0.],\n",
       "       [0., 1., 0., ..., 0., 0., 0.],\n",
       "       [0., 0., 1., ..., 0., 0., 0.],\n",
       "       ...,\n",
       "       [0., 0., 0., ..., 0., 0., 0.],\n",
       "       [0., 0., 0., ..., 0., 0., 0.],\n",
       "       [0., 0., 0., ..., 0., 0., 0.]], dtype=float32)>"
      ]
     },
     "execution_count": 30,
     "metadata": {},
     "output_type": "execute_result"
    }
   ],
   "source": [
    "train_line_numbers_one_hot"
   ]
  },
  {
   "cell_type": "code",
   "execution_count": 31,
   "metadata": {
    "colab": {
     "base_uri": "https://localhost:8080/"
    },
    "id": "6Y1i6urtpXCJ",
    "outputId": "c35c8fc5-7b11-41fd-f866-b0f8b422a68f"
   },
   "outputs": [
    {
     "data": {
      "text/plain": [
       "<tf.Tensor: shape=(30135, 20), dtype=float32, numpy=\n",
       "array([[0., 0., 0., ..., 0., 0., 0.],\n",
       "       [0., 0., 0., ..., 0., 0., 0.],\n",
       "       [0., 0., 0., ..., 0., 0., 0.],\n",
       "       ...,\n",
       "       [0., 0., 0., ..., 1., 0., 0.],\n",
       "       [0., 0., 0., ..., 1., 0., 0.],\n",
       "       [0., 0., 0., ..., 1., 0., 0.]], dtype=float32)>"
      ]
     },
     "execution_count": 31,
     "metadata": {},
     "output_type": "execute_result"
    }
   ],
   "source": [
    "train_total_lines_one_hot"
   ]
  },
  {
   "cell_type": "markdown",
   "metadata": {
    "id": "lifXwg8rmrnh"
   },
   "source": [
    "# Embeddings and Model Creation:"
   ]
  },
  {
   "cell_type": "code",
   "execution_count": 31,
   "metadata": {
    "id": "SBPtX_YRpwJt"
   },
   "outputs": [],
   "source": []
  },
  {
   "cell_type": "markdown",
   "metadata": {
    "id": "zHteshxdpwrR"
   },
   "source": [
    "## Token (Word) Embedding"
   ]
  },
  {
   "cell_type": "markdown",
   "metadata": {
    "id": "mOTkpQV2vUA5"
   },
   "source": [
    "### Pre-Trained Token Embedding"
   ]
  },
  {
   "cell_type": "code",
   "execution_count": 32,
   "metadata": {
    "id": "QrMFyRv1mv2C"
   },
   "outputs": [],
   "source": [
    "# Importing Pre-Trained Embedding from Tensorflow Hub for Token (Word) Embedding:\n",
    "\n",
    "tf_hub_token_embedding_layer = hub.KerasLayer(handle= \"https://www.kaggle.com/models/google/universal-sentence-encoder/tensorFlow2/universal-sentence-encoder/2\",\n",
    "                                              trainable= False,\n",
    "                                              name= \"Universal_Sentence_Encoder\")"
   ]
  },
  {
   "cell_type": "code",
   "execution_count": 32,
   "metadata": {
    "id": "6YnA1_1XwePK"
   },
   "outputs": [],
   "source": []
  },
  {
   "cell_type": "markdown",
   "metadata": {
    "id": "f0AFen3YvZyj"
   },
   "source": [
    "### Custom Token Embedding"
   ]
  },
  {
   "cell_type": "code",
   "execution_count": 33,
   "metadata": {
    "colab": {
     "base_uri": "https://localhost:8080/"
    },
    "id": "rqAtTOErvdFW",
    "outputId": "78f2a2cf-d47a-4f84-f523-d66000f3b07b"
   },
   "outputs": [
    {
     "data": {
      "text/plain": [
       "26.178463580554173"
      ]
     },
     "execution_count": 33,
     "metadata": {},
     "output_type": "execute_result"
    }
   ],
   "source": [
    "# Finding Average Number of Words in Training Sentences:\n",
    "sent_lens = [len(sentence.split()) for sentence in train_sentences]\n",
    "avg_sent_len = np.mean(sent_lens)\n",
    "avg_sent_len"
   ]
  },
  {
   "cell_type": "code",
   "execution_count": 34,
   "metadata": {
    "colab": {
     "base_uri": "https://localhost:8080/"
    },
    "id": "3gYV6LGqwM21",
    "outputId": "bd4d09a8-5f63-41bf-c27e-2b8b2a2ef880"
   },
   "outputs": [
    {
     "data": {
      "text/plain": [
       "55.0"
      ]
     },
     "execution_count": 34,
     "metadata": {},
     "output_type": "execute_result"
    }
   ],
   "source": [
    "# Length of Sentence That Covers 95% of training Data:\n",
    "np.percentile(sent_lens, 95)"
   ]
  },
  {
   "cell_type": "code",
   "execution_count": 35,
   "metadata": {
    "id": "p_EcIRRqwlY0"
   },
   "outputs": [],
   "source": [
    "Max_Tokens_Word = 68000 # How many words are in our vocabulary? (taken from 3.2 in https://arxiv.org/pdf/1710.06071.pdf)\n",
    "output_seq_len_word = 55"
   ]
  },
  {
   "cell_type": "code",
   "execution_count": 36,
   "metadata": {
    "id": "hbIJzU5lw3Vm"
   },
   "outputs": [],
   "source": [
    "# Creartin Token Vectorizer:\n",
    "token_vectorizer = TextVectorization(max_tokens= Max_Tokens_Word,\n",
    "                                    output_sequence_length= output_seq_len_word,\n",
    "                                    name= \"Token_Vectorizer\")"
   ]
  },
  {
   "cell_type": "code",
   "execution_count": 37,
   "metadata": {
    "id": "1YB1U575xYjW"
   },
   "outputs": [],
   "source": [
    "# Adapting Token Vector to Training Words:\n",
    "token_vectorizer.adapt(train_sentences)"
   ]
  },
  {
   "cell_type": "code",
   "execution_count": 37,
   "metadata": {
    "id": "aUcUYX7Mxn8v"
   },
   "outputs": [],
   "source": []
  },
  {
   "cell_type": "code",
   "execution_count": 38,
   "metadata": {
    "colab": {
     "base_uri": "https://localhost:8080/"
    },
    "id": "X8WSIV2ZxwVz",
    "outputId": "3fee61a8-87dd-4734-e07f-a75b0b52f0eb"
   },
   "outputs": [
    {
     "data": {
      "text/plain": [
       "24854"
      ]
     },
     "execution_count": 38,
     "metadata": {},
     "output_type": "execute_result"
    }
   ],
   "source": [
    "# How Many Words are there in Token Vectorizer Vocabulatry:\n",
    "\n",
    "token_vect_vocab = token_vectorizer.get_vocabulary()\n",
    "len(token_vect_vocab)"
   ]
  },
  {
   "cell_type": "code",
   "execution_count": 38,
   "metadata": {
    "id": "fJIbkL2AyHwn"
   },
   "outputs": [],
   "source": []
  },
  {
   "cell_type": "code",
   "execution_count": 39,
   "metadata": {
    "id": "SPAEY_x2yICz"
   },
   "outputs": [],
   "source": [
    "# Creating Custom Token (Word) Embedding:\n",
    "\n",
    "token_embed = Embedding(input_dim = len(token_vect_vocab),\n",
    "                        output_dim= 128,\n",
    "                        name= \"Token_Embedding\")"
   ]
  },
  {
   "cell_type": "markdown",
   "metadata": {
    "id": "b7LH6Jm9rA5l"
   },
   "source": [
    "## Character Level Embedding"
   ]
  },
  {
   "cell_type": "code",
   "execution_count": 40,
   "metadata": {
    "colab": {
     "base_uri": "https://localhost:8080/",
     "height": 35
    },
    "id": "EKyuSxFJrDSl",
    "outputId": "ef4ec931-49b6-436d-b516-968a8de90ebf"
   },
   "outputs": [
    {
     "data": {
      "application/vnd.google.colaboratory.intrinsic+json": {
       "type": "string"
      },
      "text/plain": [
       "'I   a m   S h a i l y a   G a n d h i'"
      ]
     },
     "execution_count": 40,
     "metadata": {},
     "output_type": "execute_result"
    }
   ],
   "source": [
    "# Making Function to Split Sentences into Characters:\n",
    "\n",
    "def split_into_chars(text):\n",
    "  return \" \".join(list(text))\n",
    "\n",
    "split_into_chars(\"I am Shailya Gandhi\")"
   ]
  },
  {
   "cell_type": "code",
   "execution_count": 41,
   "metadata": {
    "id": "0Z8uRriLsYKi"
   },
   "outputs": [],
   "source": [
    "# Generating Character Data from Sentences:\n",
    "\n",
    "train_chars = [split_into_chars(sentence) for sentence in train_sentences]\n",
    "val_chars = [split_into_chars(sentence) for sentence in val_sentences]\n",
    "test_chars = [split_into_chars(sentence) for sentence in test_sentences]"
   ]
  },
  {
   "cell_type": "code",
   "execution_count": 42,
   "metadata": {
    "colab": {
     "base_uri": "https://localhost:8080/"
    },
    "id": "HGQEE0Uws3Gb",
    "outputId": "b855ea5f-fcad-4139-c351-942d32fd3104"
   },
   "outputs": [
    {
     "data": {
      "text/plain": [
       "('T h i s   s t u d y   a n a l y z e d   l i v e r   f u n c t i o n   a b n o r m a l i t i e s   i n   h e a r t   f a i l u r e   p a t i e n t s   a d m i t t e d   w i t h   s e v e r e   a c u t e   d e c o m p e n s a t e d   h e a r t   f a i l u r e   (   A D H F   )   .',\n",
       " 'I g E   s e n s i t i z a t i o n   t o   A s p e r g i l l u s   f u m i g a t u s   a n d   a   p o s i t i v e   s p u t u m   f u n g a l   c u l t u r e   r e s u l t   a r e   c o m m o n   i n   p a t i e n t s   w i t h   r e f r a c t o r y   a s t h m a   .',\n",
       " 'T o   i n v e s t i g a t e   t h e   e f f i c a c y   o f   @   w e e k s   o f   d a i l y   l o w - d o s e   o r a l   p r e d n i s o l o n e   i n   i m p r o v i n g   p a i n   ,   m o b i l i t y   ,   a n d   s y s t e m i c   l o w - g r a d e   i n f l a m m a t i o n   i n   t h e   s h o r t   t e r m   a n d   w h e t h e r   t h e   e f f e c t   w o u l d   b e   s u s t a i n e d   a t   @   w e e k s   i n   o l d e r   a d u l t s   w i t h   m o d e r a t e   t o   s e v e r e   k n e e   o s t e o a r t h r i t i s   (   O A   )   .')"
      ]
     },
     "execution_count": 42,
     "metadata": {},
     "output_type": "execute_result"
    }
   ],
   "source": [
    "train_chars[0], val_chars[0], test_chars[0]"
   ]
  },
  {
   "cell_type": "code",
   "execution_count": 42,
   "metadata": {
    "id": "uBax0xp7s8yf"
   },
   "outputs": [],
   "source": []
  },
  {
   "cell_type": "code",
   "execution_count": 43,
   "metadata": {
    "colab": {
     "base_uri": "https://localhost:8080/"
    },
    "id": "0xIa9vB_tWWu",
    "outputId": "4cd5fff8-ca29-4f68-eecb-b1c91787db80"
   },
   "outputs": [
    {
     "data": {
      "text/plain": [
       "([140, 172, 122, 352, 109, 247, 324, 107, 93, 171], 148.45996349759415)"
      ]
     },
     "execution_count": 43,
     "metadata": {},
     "output_type": "execute_result"
    }
   ],
   "source": [
    "# Finding Average Number of Characters in Training Sentences:\n",
    "char_lens = [len(sentence) for sentence in train_sentences]\n",
    "mean_char_len = np.mean(char_lens)\n",
    "char_lens[:10], mean_char_len"
   ]
  },
  {
   "cell_type": "code",
   "execution_count": 44,
   "metadata": {
    "colab": {
     "base_uri": "https://localhost:8080/"
    },
    "id": "XXuXGpUYt2TG",
    "outputId": "31ff683c-a030-42c7-9a1c-c7f1591e09e6"
   },
   "outputs": [
    {
     "data": {
      "text/plain": [
       "288.0"
      ]
     },
     "execution_count": 44,
     "metadata": {},
     "output_type": "execute_result"
    }
   ],
   "source": [
    "# Length of Sentence That Covers 95% of training Data:\n",
    "np.percentile(char_lens, 95)"
   ]
  },
  {
   "cell_type": "code",
   "execution_count": 45,
   "metadata": {
    "colab": {
     "base_uri": "https://localhost:8080/",
     "height": 35
    },
    "id": "s7W9wkbbuSY8",
    "outputId": "3b3b6357-f73d-4751-f1e7-62268d838b15"
   },
   "outputs": [
    {
     "data": {
      "application/vnd.google.colaboratory.intrinsic+json": {
       "type": "string"
      },
      "text/plain": [
       "'abcdefghijklmnopqrstuvwxyz0123456789!\"#$%&\\'()*+,-./:;<=>?@[\\\\]^_`{|}~'"
      ]
     },
     "execution_count": 45,
     "metadata": {},
     "output_type": "execute_result"
    }
   ],
   "source": [
    "# Get all keyboard characters for char-level embedding\n",
    "import string\n",
    "alphabet = string.ascii_lowercase + string.digits + string.punctuation\n",
    "alphabet"
   ]
  },
  {
   "cell_type": "code",
   "execution_count": 46,
   "metadata": {
    "id": "z3b_0Q9Guru0"
   },
   "outputs": [],
   "source": [
    "Max_Tokens_Char = len(alphabet) + 2 # num characters in alphabet + space + OOV token\n",
    "output_seq_len_char = 290"
   ]
  },
  {
   "cell_type": "code",
   "execution_count": 47,
   "metadata": {
    "id": "3RoDkPYyuY9G"
   },
   "outputs": [],
   "source": [
    "# Creating Character Vectorizer:\n",
    "char_vectorizer = TextVectorization(max_tokens= Max_Tokens_Char,\n",
    "                                    output_sequence_length= output_seq_len_char,\n",
    "                                    name= \"Char_Vectorizer\")"
   ]
  },
  {
   "cell_type": "code",
   "execution_count": 48,
   "metadata": {
    "id": "wH4xMWwYylcQ"
   },
   "outputs": [],
   "source": [
    "# Adapting Character vectorizer to Training Characters:\n",
    "char_vectorizer.adapt(train_chars)"
   ]
  },
  {
   "cell_type": "code",
   "execution_count": 49,
   "metadata": {
    "colab": {
     "base_uri": "https://localhost:8080/"
    },
    "id": "AS3xmZeDvN8S",
    "outputId": "d364126e-0f53-4b47-9c0a-12298011886d"
   },
   "outputs": [
    {
     "data": {
      "text/plain": [
       "28"
      ]
     },
     "execution_count": 49,
     "metadata": {},
     "output_type": "execute_result"
    }
   ],
   "source": [
    "# How Many Characters are there in Character Vectorizer Vocabulatry:\n",
    "\n",
    "char_vect_vocab = char_vectorizer.get_vocabulary()\n",
    "len(char_vect_vocab)"
   ]
  },
  {
   "cell_type": "code",
   "execution_count": 50,
   "metadata": {
    "id": "-Mopwj6DzLfw"
   },
   "outputs": [],
   "source": [
    "# Creating Custom Character Embedding:\n",
    "\n",
    "char_embed = Embedding(input_dim = len(char_vect_vocab),\n",
    "                        output_dim= 25,\n",
    "                        name= \"Char_Embedding\")"
   ]
  },
  {
   "cell_type": "code",
   "execution_count": 50,
   "metadata": {
    "id": "WwT53ZIq9m3S"
   },
   "outputs": [],
   "source": []
  },
  {
   "cell_type": "markdown",
   "metadata": {
    "id": "Wq3mXJBA9wO8"
   },
   "source": [
    "# Setting Up Mixed Precision for Training:\n"
   ]
  },
  {
   "cell_type": "code",
   "execution_count": 51,
   "metadata": {
    "id": "jq9FN9Xi9xYz"
   },
   "outputs": [],
   "source": [
    "from tensorflow.keras import mixed_precision\n",
    "mixed_precision.set_global_policy(policy= \"mixed_float16\")"
   ]
  },
  {
   "cell_type": "code",
   "execution_count": 52,
   "metadata": {
    "colab": {
     "base_uri": "https://localhost:8080/"
    },
    "id": "dhFaJq-G-Gg3",
    "outputId": "a6aa9ed7-e3f3-42e7-c1d0-8dacbf5a0434"
   },
   "outputs": [
    {
     "data": {
      "text/plain": [
       "<Policy \"mixed_float16\">"
      ]
     },
     "execution_count": 52,
     "metadata": {},
     "output_type": "execute_result"
    }
   ],
   "source": [
    "mixed_precision.global_policy()"
   ]
  },
  {
   "cell_type": "code",
   "execution_count": 52,
   "metadata": {
    "id": "5CUOMagw-PbV"
   },
   "outputs": [],
   "source": []
  },
  {
   "cell_type": "markdown",
   "metadata": {
    "id": "oA3G_TaZ-P-2"
   },
   "source": [
    "# Creating Data Pipelines for Model:"
   ]
  },
  {
   "cell_type": "code",
   "execution_count": 53,
   "metadata": {
    "id": "XKeJokLe-UlQ"
   },
   "outputs": [],
   "source": [
    "# Creating Training Data Pipeline:\n",
    "\n",
    "train_char_token_pos_data = tf.data.Dataset.from_tensor_slices((train_line_numbers_one_hot,\n",
    "                                                                train_total_lines_one_hot,\n",
    "                                                                train_sentences,\n",
    "                                                                train_chars))\n",
    "\n",
    "train_char_token_pos_labels = tf.data.Dataset.from_tensor_slices(train_labels_one_hot)\n",
    "\n",
    "train_char_token_pos_dataset = tf.data.Dataset.zip((train_char_token_pos_data,\n",
    "                                                    train_char_token_pos_labels))\n",
    "\n",
    "train_char_token_pos_dataset = train_char_token_pos_dataset.batch(32).prefetch(tf.data.AUTOTUNE)"
   ]
  },
  {
   "cell_type": "code",
   "execution_count": 53,
   "metadata": {
    "id": "Dnjal_JD_cGA"
   },
   "outputs": [],
   "source": []
  },
  {
   "cell_type": "code",
   "execution_count": 54,
   "metadata": {
    "id": "slHQtip4_cSa"
   },
   "outputs": [],
   "source": [
    "# Creating Validation Data Pipeline:\n",
    "\n",
    "val_char_token_pos_data = tf.data.Dataset.from_tensor_slices((val_line_numbers_one_hot,\n",
    "                                                               val_total_lines_one_hot,\n",
    "                                                               val_sentences,\n",
    "                                                               val_chars))\n",
    "\n",
    "val_char_token_pos_labels = tf.data.Dataset.from_tensor_slices(val_labels_one_hot)\n",
    "\n",
    "val_char_token_pos_dataset = tf.data.Dataset.zip((val_char_token_pos_data,\n",
    "                                                  val_char_token_pos_labels))\n",
    "\n",
    "val_char_token_pos_dataset = val_char_token_pos_dataset.batch(32).prefetch(tf.data.AUTOTUNE)"
   ]
  },
  {
   "cell_type": "code",
   "execution_count": 54,
   "metadata": {
    "id": "xELJMVjwAZmv"
   },
   "outputs": [],
   "source": []
  },
  {
   "cell_type": "code",
   "execution_count": 55,
   "metadata": {
    "id": "X1Ualvr7AZtH"
   },
   "outputs": [],
   "source": [
    "# Creating Testing Data Pipeline:\n",
    "\n",
    "test_char_token_pos_data = tf.data.Dataset.from_tensor_slices((test_line_numbers_one_hot,\n",
    "                                                               test_total_lines_one_hot,\n",
    "                                                               test_sentences,\n",
    "                                                               test_chars))\n",
    "\n",
    "test_char_token_pos_labels = tf.data.Dataset.from_tensor_slices(test_labels_one_hot)\n",
    "\n",
    "test_char_token_pos_dataset = tf.data.Dataset.zip((test_char_token_pos_data,\n",
    "                                                   test_char_token_pos_labels))\n",
    "\n",
    "test_char_token_pos_dataset = test_char_token_pos_dataset.batch(32).prefetch(tf.data.AUTOTUNE)"
   ]
  },
  {
   "cell_type": "code",
   "execution_count": 55,
   "metadata": {
    "id": "Y1s_mcvhBIh9"
   },
   "outputs": [],
   "source": []
  },
  {
   "cell_type": "code",
   "execution_count": 56,
   "metadata": {
    "id": "8y57e47-FxPm"
   },
   "outputs": [],
   "source": [
    "# Creating Early Stop Callback:\n",
    "\n",
    "early_stop = EarlyStopping(monitor= \"val_loss\",\n",
    "                           patience= 2)"
   ]
  },
  {
   "cell_type": "markdown",
   "metadata": {
    "id": "dMaJ10_3Fxr1"
   },
   "source": []
  },
  {
   "cell_type": "markdown",
   "metadata": {
    "id": "KkHQeNzkBJ-X"
   },
   "source": [
    "# Creating Model:"
   ]
  },
  {
   "cell_type": "code",
   "execution_count": 80,
   "metadata": {
    "id": "bRHzbBFJBNnt"
   },
   "outputs": [],
   "source": [
    "# 1. Token Inputs:\n",
    "\n",
    "token_inputs = Input(shape= [], dtype= tf.string, name= \"Token_Inputs\")\n",
    "token_embedding = tf_hub_token_embedding_layer(token_inputs)\n",
    "token_outputs = Dense(128, activation= \"relu\")(token_embedding)\n",
    "token_model = Model(token_inputs, token_outputs)\n",
    "\n",
    "# 2. Character Inputs:\n",
    "\n",
    "char_inputs = Input(shape= (1,), dtype= tf.string, name= \"Char_Inputs\")\n",
    "char_vectors = char_vectorizer(char_inputs)\n",
    "char_embeds = char_embed(char_vectors)\n",
    "char_bi_lstm = Bidirectional(LSTM(25))(char_embeds)\n",
    "char_model = Model(char_inputs, char_bi_lstm)\n",
    "\n",
    "# 3. Line Number Inputs:\n",
    "\n",
    "line_number_inputs = Input(shape= (15,), dtype= tf.float32, name= \"Line_Number_Inputs\")\n",
    "x = Dense(32, activation= \"relu\")(line_number_inputs)\n",
    "line_number_model = Model(line_number_inputs, x)\n",
    "\n",
    "# 4. Total Lines Inputs:\n",
    "\n",
    "total_lines_inputs = Input(shape= (20,), dtype= tf.float32, name= \"Total_Line_Inputs\")\n",
    "y = Dense(32, activation= \"relu\")(total_lines_inputs)\n",
    "total_line_model = Model(total_lines_inputs, y)\n",
    "\n",
    "# 5. Creating Hybrid Embedding using Token and Character Embeddings:\n",
    "\n",
    "combined_embedding = Concatenate(name= \"Token_Char_Hybrid_Embedding\")([token_model.output,\n",
    "                                                                       char_model.output])\n",
    "z = Dense(256, activation= \"relu\")(combined_embedding)\n",
    "z = Dropout(0.5)(z)\n",
    "\n",
    "# 6. Combining Positional Embeddings with Combined Token and Char Embeddings into a Tribrid Embedding:\n",
    "tribrid_embedding = Concatenate(name= \"Tribrid_Pos_Token_Char_Embedding\")([line_number_model.output,\n",
    "                                                                           total_line_model.output,\n",
    "                                                                           z])\n",
    "\n",
    "# 7. Output Layer:\n",
    "\n",
    "output_layer = Dense(5, activation= \"softmax\", name= \"Output_Layer\")(tribrid_embedding)\n",
    "\n",
    "# 8. Creating The Model:\n",
    "\n",
    "model_preToken_char_pos_emb = Model(inputs= [line_number_model.input,\n",
    "                                             total_line_model.input,\n",
    "                                             token_model.input,\n",
    "                                             char_model.input],\n",
    "                                    outputs = output_layer)"
   ]
  },
  {
   "cell_type": "code",
   "execution_count": 58,
   "metadata": {
    "colab": {
     "base_uri": "https://localhost:8080/"
    },
    "id": "nlRs-APbFRSQ",
    "outputId": "bb5625d6-a093-442b-e2bd-87c9374ecd24"
   },
   "outputs": [
    {
     "name": "stdout",
     "output_type": "stream",
     "text": [
      "Model: \"model_4\"\n",
      "__________________________________________________________________________________________________\n",
      " Layer (type)                Output Shape                 Param #   Connected to                  \n",
      "==================================================================================================\n",
      " Char_Inputs (InputLayer)    [(None, 1)]                  0         []                            \n",
      "                                                                                                  \n",
      " Token_Inputs (InputLayer)   [(None,)]                    0         []                            \n",
      "                                                                                                  \n",
      " Char_Vectorizer (TextVecto  (None, 290)                  0         ['Char_Inputs[0][0]']         \n",
      " rization)                                                                                        \n",
      "                                                                                                  \n",
      " Universal_Sentence_Encoder  (None, 512)                  2567978   ['Token_Inputs[0][0]']        \n",
      "  (KerasLayer)                                            24                                      \n",
      "                                                                                                  \n",
      " Char_Embedding (Embedding)  (None, 290, 25)              700       ['Char_Vectorizer[0][0]']     \n",
      "                                                                                                  \n",
      " dense (Dense)               (None, 128)                  65664     ['Universal_Sentence_Encoder[0\n",
      "                                                                    ][0]']                        \n",
      "                                                                                                  \n",
      " bidirectional (Bidirection  (None, 50)                   10200     ['Char_Embedding[0][0]']      \n",
      " al)                                                                                              \n",
      "                                                                                                  \n",
      " Token_Char_Hybrid_Embeddin  (None, 178)                  0         ['dense[0][0]',               \n",
      " g (Concatenate)                                                     'bidirectional[0][0]']       \n",
      "                                                                                                  \n",
      " Line_Number_Inputs (InputL  [(None, 15)]                 0         []                            \n",
      " ayer)                                                                                            \n",
      "                                                                                                  \n",
      " Total_Line_Inputs (InputLa  [(None, 20)]                 0         []                            \n",
      " yer)                                                                                             \n",
      "                                                                                                  \n",
      " dense_3 (Dense)             (None, 256)                  45824     ['Token_Char_Hybrid_Embedding[\n",
      "                                                                    0][0]']                       \n",
      "                                                                                                  \n",
      " dense_1 (Dense)             (None, 32)                   512       ['Line_Number_Inputs[0][0]']  \n",
      "                                                                                                  \n",
      " dense_2 (Dense)             (None, 32)                   672       ['Total_Line_Inputs[0][0]']   \n",
      "                                                                                                  \n",
      " dropout (Dropout)           (None, 256)                  0         ['dense_3[0][0]']             \n",
      "                                                                                                  \n",
      " Tribrid_Pos_Token_Char_Emb  (None, 320)                  0         ['dense_1[0][0]',             \n",
      " edding (Concatenate)                                                'dense_2[0][0]',             \n",
      "                                                                     'dropout[0][0]']             \n",
      "                                                                                                  \n",
      " Output_Layer (Dense)        (None, 5)                    1605      ['Tribrid_Pos_Token_Char_Embed\n",
      "                                                                    ding[0][0]']                  \n",
      "                                                                                                  \n",
      "==================================================================================================\n",
      "Total params: 256923001 (980.08 MB)\n",
      "Trainable params: 125177 (488.97 KB)\n",
      "Non-trainable params: 256797824 (979.61 MB)\n",
      "__________________________________________________________________________________________________\n"
     ]
    }
   ],
   "source": [
    "# Summary of The Model:\n",
    "model_preToken_char_pos_emb.summary()"
   ]
  },
  {
   "cell_type": "code",
   "execution_count": 94,
   "metadata": {
    "colab": {
     "base_uri": "https://localhost:8080/",
     "height": 976
    },
    "id": "Wo3l8R1SScz3",
    "outputId": "582554b0-388d-433e-875c-31201e89fdc3"
   },
   "outputs": [
    {
     "data": {
      "image/png": "[encoded data removed]",
      "text/plain": [
       "<IPython.core.display.Image object>"
      ]
     },
     "execution_count": 94,
     "metadata": {},
     "output_type": "execute_result"
    }
   ],
   "source": [
    "# Plotting The Model:\n",
    "plot_model(model_preToken_char_pos_emb, show_shapes= True)"
   ]
  },
  {
   "cell_type": "code",
   "execution_count": 59,
   "metadata": {
    "id": "ER-agsHFFadi"
   },
   "outputs": [],
   "source": [
    "# Compiling The Model:\n",
    "\n",
    "model_preToken_char_pos_emb.compile(optimizer= Adam(),\n",
    "                                    loss= CategoricalCrossentropy(label_smoothing= 0.2),\n",
    "                                    metrics= [\"accuracy\"])"
   ]
  },
  {
   "cell_type": "code",
   "execution_count": 61,
   "metadata": {
    "colab": {
     "base_uri": "https://localhost:8080/"
    },
    "id": "h6ybqvedFp9J",
    "outputId": "05568083-e63d-45f4-be94-b3a49e11857e"
   },
   "outputs": [
    {
     "name": "stdout",
     "output_type": "stream",
     "text": [
      "Epoch 1/50\n",
      "942/942 [==============================] - 55s 41ms/step - loss: 1.0542 - accuracy: 0.7511 - val_loss: 0.9549 - val_accuracy: 0.8221\n",
      "Epoch 2/50\n",
      "942/942 [==============================] - 37s 40ms/step - loss: 0.9499 - accuracy: 0.8268 - val_loss: 0.9303 - val_accuracy: 0.8373\n",
      "Epoch 3/50\n",
      "942/942 [==============================] - 35s 37ms/step - loss: 0.9238 - accuracy: 0.8458 - val_loss: 0.9221 - val_accuracy: 0.8459\n",
      "Epoch 4/50\n",
      "942/942 [==============================] - 38s 41ms/step - loss: 0.9055 - accuracy: 0.8600 - val_loss: 0.9185 - val_accuracy: 0.8466\n",
      "Epoch 5/50\n",
      "942/942 [==============================] - 40s 42ms/step - loss: 0.8868 - accuracy: 0.8747 - val_loss: 0.9213 - val_accuracy: 0.8426\n",
      "Epoch 6/50\n",
      "942/942 [==============================] - 36s 39ms/step - loss: 0.8712 - accuracy: 0.8889 - val_loss: 0.9243 - val_accuracy: 0.8429\n"
     ]
    }
   ],
   "source": [
    "# Fitting The Model:\n",
    "\n",
    "history_model_preToken_char_pos_emb = model_preToken_char_pos_emb.fit(train_char_token_pos_dataset,\n",
    "                                                                      validation_data= val_char_token_pos_dataset,\n",
    "                                                                      epochs= 50,\n",
    "                                                                      validation_steps= int(0.2 * len(val_char_token_pos_dataset)),\n",
    "                                                                      callbacks= [early_stop])"
   ]
  },
  {
   "cell_type": "markdown",
   "metadata": {
    "id": "2smtK6SC9t4O"
   },
   "source": []
  },
  {
   "cell_type": "markdown",
   "metadata": {
    "id": "hxHWfscy9ni_"
   },
   "source": [
    "# Evaluation of Model on Whole Validation Dataset and Predictions Using The Model:"
   ]
  },
  {
   "cell_type": "code",
   "execution_count": 62,
   "metadata": {
    "colab": {
     "base_uri": "https://localhost:8080/"
    },
    "id": "daHSzzV4Ig24",
    "outputId": "4e063746-5072-44c8-dfc2-c5e008f9e9be"
   },
   "outputs": [
    {
     "name": "stdout",
     "output_type": "stream",
     "text": [
      "945/945 [==============================] - 19s 20ms/step - loss: 0.9297 - accuracy: 0.8375\n"
     ]
    },
    {
     "data": {
      "text/plain": [
       "[0.9296502470970154, 0.8375148773193359]"
      ]
     },
     "execution_count": 62,
     "metadata": {},
     "output_type": "execute_result"
    }
   ],
   "source": [
    "model_preToken_char_pos_emb.evaluate(val_char_token_pos_dataset)"
   ]
  },
  {
   "cell_type": "code",
   "execution_count": 63,
   "metadata": {
    "colab": {
     "base_uri": "https://localhost:8080/"
    },
    "id": "M_YZE0F8IofT",
    "outputId": "7fb3ed04-c318-4125-da50-e9a23749bdf4"
   },
   "outputs": [
    {
     "name": "stdout",
     "output_type": "stream",
     "text": [
      "945/945 [==============================] - 28s 29ms/step\n"
     ]
    },
    {
     "data": {
      "text/plain": [
       "array([[0.6313 , 0.1019 , 0.01582, 0.2362 , 0.01475],\n",
       "       [0.5757 , 0.0865 , 0.07764, 0.2487 , 0.01175],\n",
       "       [0.3987 , 0.1016 , 0.0524 , 0.416  , 0.03128],\n",
       "       ...,\n",
       "       [0.02689, 0.1578 , 0.0756 , 0.03256, 0.707  ],\n",
       "       [0.02608, 0.61   , 0.0977 , 0.02095, 0.2454 ],\n",
       "       [0.0734 , 0.849  , 0.04532, 0.01427, 0.01793]], dtype=float16)"
      ]
     },
     "execution_count": 63,
     "metadata": {},
     "output_type": "execute_result"
    }
   ],
   "source": [
    "# Making Predictions Using The Model:\n",
    "model_1_pred_probs = model_preToken_char_pos_emb.predict(val_char_token_pos_dataset)\n",
    "model_1_pred_probs"
   ]
  },
  {
   "cell_type": "code",
   "execution_count": 64,
   "metadata": {
    "colab": {
     "base_uri": "https://localhost:8080/"
    },
    "id": "NHp7d1r7I9sw",
    "outputId": "b60a54f7-dacb-4df0-a966-27474a9f230a"
   },
   "outputs": [
    {
     "data": {
      "text/plain": [
       "<tf.Tensor: shape=(30212,), dtype=int64, numpy=array([0, 0, 3, ..., 4, 1, 1])>"
      ]
     },
     "execution_count": 64,
     "metadata": {},
     "output_type": "execute_result"
    }
   ],
   "source": [
    "# Converting Model Prediction Probabilities to Claas labels:\n",
    "model_1_preds = tf.argmax(model_1_pred_probs, axis= 1)\n",
    "model_1_preds"
   ]
  },
  {
   "cell_type": "code",
   "execution_count": 65,
   "metadata": {
    "colab": {
     "base_uri": "https://localhost:8080/"
    },
    "id": "xrRkofTzJK41",
    "outputId": "1f336681-65bc-4122-9e58-a0b3fc21b17e"
   },
   "outputs": [
    {
     "data": {
      "text/plain": [
       "{'accuracy': 83.75148947438103,\n",
       " 'precision': 0.8376914851964831,\n",
       " 'recall': 0.8375148947438104,\n",
       " 'f1': 0.8356080133076166}"
      ]
     },
     "execution_count": 65,
     "metadata": {},
     "output_type": "execute_result"
    }
   ],
   "source": [
    "# Calculating Results for the Model:\n",
    "model_1_results = calculate_results(y_true= val_labels_encoded,\n",
    "                                    y_pred= model_1_preds)\n",
    "model_1_results"
   ]
  },
  {
   "cell_type": "code",
   "execution_count": null,
   "metadata": {
    "id": "KVN7IozUJbeq"
   },
   "outputs": [],
   "source": []
  },
  {
   "cell_type": "markdown",
   "metadata": {
    "id": "GSnjnT2sJc1G"
   },
   "source": [
    "# Creating Model with Custom Embeddings for Tokens (Words)"
   ]
  },
  {
   "cell_type": "code",
   "execution_count": 96,
   "metadata": {
    "id": "6BsyKakIJkl4"
   },
   "outputs": [],
   "source": [
    "# 1. Token Inputs:\n",
    "\n",
    "token_inputs = Input(shape= [], dtype= tf.string, name= \"Token_Inputs\")\n",
    "# print(token_inputs.shape)\n",
    "token_vectors = token_vectorizer(token_inputs)\n",
    "# print(token_vectors.shape)\n",
    "token_embedding = token_embed(token_vectors)\n",
    "# print(token_embedding.shape)\n",
    "x = GlobalMaxPool1D()(token_embedding)\n",
    "token_outputs = Dense(128, activation= \"relu\")(x)\n",
    "# print(token_outputs.shape)\n",
    "token_model = Model(token_inputs, token_outputs)\n",
    "\n",
    "# 2. Character Inputs:\n",
    "\n",
    "char_inputs = Input(shape= (1,), dtype= tf.string, name= \"Char_Inputs\")\n",
    "# print(char_inputs.shape)\n",
    "char_vectors = char_vectorizer(char_inputs)\n",
    "# print(char_vectors.shape)\n",
    "char_embeds = char_embed(char_vectors)\n",
    "# print(char_embeds.shape)\n",
    "char_bi_lstm = Bidirectional(LSTM(25))(char_embeds)\n",
    "# print(char_bi_lstm.shape)\n",
    "char_model = Model(char_inputs, char_bi_lstm)\n",
    "\n",
    "# 3. Line Number Inputs:\n",
    "\n",
    "line_number_inputs = Input(shape= (15,), dtype= tf.float32, name= \"Line_Number_Inputs\")\n",
    "x = Dense(32, activation= \"relu\")(line_number_inputs)\n",
    "line_number_model = Model(line_number_inputs, x)\n",
    "\n",
    "# 4. Total Lines Inputs:\n",
    "\n",
    "total_lines_inputs = Input(shape= (20,), dtype= tf.float32, name= \"Total_Line_Inputs\")\n",
    "y = Dense(32, activation= \"relu\")(total_lines_inputs)\n",
    "total_line_model = Model(total_lines_inputs, y)\n",
    "\n",
    "# 5. Creating Hybrid Embedding using Token and Character Embeddings:\n",
    "combined_embedding = Concatenate(name= \"Token_Char_Hybrid_Embedding\")([token_model.output,\n",
    "                                                                       char_model.output])\n",
    "z = Dense(256, activation= \"relu\")(combined_embedding)\n",
    "z = Dropout(0.5)(z)\n",
    "\n",
    "# 6. Combining Positional Embeddings with Combined Token and Char Embeddings into a Tribrid Embedding:\n",
    "tribrid_embedding = Concatenate(name= \"Tribrid_Pos_Token_Char_Embedding\")([line_number_model.output,\n",
    "                                                                           total_line_model.output,\n",
    "                                                                           z])\n",
    "\n",
    "# 7. Output Layer:\n",
    "\n",
    "output_layer = Dense(5, activation= \"softmax\", name= \"Output_Layer\")(tribrid_embedding)\n",
    "\n",
    "# 8. Creating The Model:\n",
    "\n",
    "model_cusToken_char_pos_emb = Model(inputs= [line_number_model.input,\n",
    "                                             total_line_model.input,\n",
    "                                             token_model.input,\n",
    "                                             char_model.input],\n",
    "                                    outputs = output_layer)"
   ]
  },
  {
   "cell_type": "code",
   "execution_count": 97,
   "metadata": {
    "colab": {
     "base_uri": "https://localhost:8080/"
    },
    "id": "rACsjdb9QUk3",
    "outputId": "279595d5-a8c2-4ecc-be80-fc739026e1de"
   },
   "outputs": [
    {
     "name": "stdout",
     "output_type": "stream",
     "text": [
      "Model: \"model_68\"\n",
      "__________________________________________________________________________________________________\n",
      " Layer (type)                Output Shape                 Param #   Connected to                  \n",
      "==================================================================================================\n",
      " Token_Inputs (InputLayer)   [(None,)]                    0         []                            \n",
      "                                                                                                  \n",
      " Token_Vectorizer (TextVect  (None, 55)                   0         ['Token_Inputs[0][0]']        \n",
      " orization)                                                                                       \n",
      "                                                                                                  \n",
      " Char_Inputs (InputLayer)    [(None, 1)]                  0         []                            \n",
      "                                                                                                  \n",
      " Token_Embedding (Embedding  (None, 55, 128)              3181312   ['Token_Vectorizer[11][0]']   \n",
      " )                                                                                                \n",
      "                                                                                                  \n",
      " Char_Vectorizer (TextVecto  (None, 290)                  0         ['Char_Inputs[0][0]']         \n",
      " rization)                                                                                        \n",
      "                                                                                                  \n",
      " global_max_pooling1d (Glob  (None, 128)                  0         ['Token_Embedding[11][0]']    \n",
      " alMaxPooling1D)                                                                                  \n",
      "                                                                                                  \n",
      " Char_Embedding (Embedding)  (None, 290, 25)              700       ['Char_Vectorizer[15][0]']    \n",
      "                                                                                                  \n",
      " dense_50 (Dense)            (None, 128)                  16512     ['global_max_pooling1d[0][0]']\n",
      "                                                                                                  \n",
      " bidirectional_14 (Bidirect  (None, 50)                   10200     ['Char_Embedding[14][0]']     \n",
      " ional)                                                                                           \n",
      "                                                                                                  \n",
      " Token_Char_Hybrid_Embeddin  (None, 178)                  0         ['dense_50[0][0]',            \n",
      " g (Concatenate)                                                     'bidirectional_14[0][0]']    \n",
      "                                                                                                  \n",
      " Line_Number_Inputs (InputL  [(None, 15)]                 0         []                            \n",
      " ayer)                                                                                            \n",
      "                                                                                                  \n",
      " Total_Line_Inputs (InputLa  [(None, 20)]                 0         []                            \n",
      " yer)                                                                                             \n",
      "                                                                                                  \n",
      " dense_53 (Dense)            (None, 256)                  45824     ['Token_Char_Hybrid_Embedding[\n",
      "                                                                    0][0]']                       \n",
      "                                                                                                  \n",
      " dense_51 (Dense)            (None, 32)                   512       ['Line_Number_Inputs[0][0]']  \n",
      "                                                                                                  \n",
      " dense_52 (Dense)            (None, 32)                   672       ['Total_Line_Inputs[0][0]']   \n",
      "                                                                                                  \n",
      " dropout_6 (Dropout)         (None, 256)                  0         ['dense_53[0][0]']            \n",
      "                                                                                                  \n",
      " Tribrid_Pos_Token_Char_Emb  (None, 320)                  0         ['dense_51[0][0]',            \n",
      " edding (Concatenate)                                                'dense_52[0][0]',            \n",
      "                                                                     'dropout_6[0][0]']           \n",
      "                                                                                                  \n",
      " Output_Layer (Dense)        (None, 5)                    1605      ['Tribrid_Pos_Token_Char_Embed\n",
      "                                                                    ding[0][0]']                  \n",
      "                                                                                                  \n",
      "==================================================================================================\n",
      "Total params: 3257337 (12.43 MB)\n",
      "Trainable params: 3257337 (12.43 MB)\n",
      "Non-trainable params: 0 (0.00 Byte)\n",
      "__________________________________________________________________________________________________\n"
     ]
    }
   ],
   "source": [
    "# Summary of The Model:\n",
    "model_cusToken_char_pos_emb.summary()"
   ]
  },
  {
   "cell_type": "code",
   "execution_count": 98,
   "metadata": {
    "colab": {
     "base_uri": "https://localhost:8080/",
     "height": 1000
    },
    "id": "qmEN3qvmSzIj",
    "outputId": "7568806c-d37f-4d61-e251-b2472643c516"
   },
   "outputs": [
    {
     "data": {
      "image/png": "[encoded data removed]",
      "text/plain": [
       "<IPython.core.display.Image object>"
      ]
     },
     "execution_count": 98,
     "metadata": {},
     "output_type": "execute_result"
    }
   ],
   "source": [
    "# Plotting The Model:\n",
    "plot_model(model_cusToken_char_pos_emb, show_shapes= True)"
   ]
  },
  {
   "cell_type": "code",
   "execution_count": 99,
   "metadata": {
    "id": "UW9IIRYcQhEg"
   },
   "outputs": [],
   "source": [
    "# Compiling The Model:\n",
    "\n",
    "model_cusToken_char_pos_emb.compile(optimizer= Adam(),\n",
    "                                    loss= CategoricalCrossentropy(label_smoothing= 0.2),\n",
    "                                    metrics= [\"accuracy\"])"
   ]
  },
  {
   "cell_type": "code",
   "execution_count": 100,
   "metadata": {
    "colab": {
     "base_uri": "https://localhost:8080/"
    },
    "id": "oV6wiDrZQnLK",
    "outputId": "d2adc351-9ad4-4284-fd52-4ade7a119751"
   },
   "outputs": [
    {
     "name": "stdout",
     "output_type": "stream",
     "text": [
      "Epoch 1/50\n",
      "942/942 [==============================] - 50s 46ms/step - loss: 0.9099 - accuracy: 0.8662 - val_loss: 0.9651 - val_accuracy: 0.8226\n",
      "Epoch 2/50\n",
      "942/942 [==============================] - 27s 29ms/step - loss: 0.7780 - accuracy: 0.9517 - val_loss: 0.9688 - val_accuracy: 0.8135\n",
      "Epoch 3/50\n",
      "942/942 [==============================] - 28s 30ms/step - loss: 0.7351 - accuracy: 0.9763 - val_loss: 0.9842 - val_accuracy: 0.8089\n"
     ]
    }
   ],
   "source": [
    "# Fitting The Model:\n",
    "\n",
    "history_model_cusToken_char_pos_emb = model_cusToken_char_pos_emb.fit(train_char_token_pos_dataset,\n",
    "                                                                      validation_data= val_char_token_pos_dataset,\n",
    "                                                                      epochs= 50,\n",
    "                                                                      validation_steps= int(0.2 * len(val_char_token_pos_dataset)),\n",
    "                                                                      callbacks= [early_stop])"
   ]
  },
  {
   "cell_type": "code",
   "execution_count": 101,
   "metadata": {
    "colab": {
     "base_uri": "https://localhost:8080/"
    },
    "id": "QHpWWpj3R0rp",
    "outputId": "25986179-b8b6-4606-a92d-d08a01798a91"
   },
   "outputs": [
    {
     "name": "stdout",
     "output_type": "stream",
     "text": [
      "945/945 [==============================] - 12s 13ms/step - loss: 0.9922 - accuracy: 0.8028\n"
     ]
    },
    {
     "data": {
      "text/plain": [
       "[0.9922226667404175, 0.8028267025947571]"
      ]
     },
     "execution_count": 101,
     "metadata": {},
     "output_type": "execute_result"
    }
   ],
   "source": [
    "# Evaluaating Model on Whole Validation Data:\n",
    "model_cusToken_char_pos_emb.evaluate(val_char_token_pos_dataset)"
   ]
  },
  {
   "cell_type": "code",
   "execution_count": 102,
   "metadata": {
    "colab": {
     "base_uri": "https://localhost:8080/"
    },
    "id": "4fXU1yH7SDsV",
    "outputId": "5017c3be-9590-4c5b-f362-c479783aeeb0"
   },
   "outputs": [
    {
     "name": "stdout",
     "output_type": "stream",
     "text": [
      "945/945 [==============================] - 12s 12ms/step\n"
     ]
    },
    {
     "data": {
      "text/plain": [
       "array([[0.859  , 0.01572, 0.02083, 0.0695 , 0.03488],\n",
       "       [0.5215 , 0.05853, 0.0805 , 0.2607 , 0.07886],\n",
       "       [0.464  , 0.1007 , 0.0876 , 0.2615 , 0.08624],\n",
       "       ...,\n",
       "       [0.0284 , 0.0618 , 0.0397 , 0.03207, 0.838  ],\n",
       "       [0.0889 , 0.7705 , 0.04648, 0.02135, 0.0731 ],\n",
       "       [0.04245, 0.863  , 0.0449 , 0.02046, 0.02919]], dtype=float16)"
      ]
     },
     "execution_count": 102,
     "metadata": {},
     "output_type": "execute_result"
    }
   ],
   "source": [
    "# Making Predictions Using The Model:\n",
    "model_2_pred_probs = model_cusToken_char_pos_emb.predict(val_char_token_pos_dataset)\n",
    "model_2_pred_probs"
   ]
  },
  {
   "cell_type": "code",
   "execution_count": 103,
   "metadata": {
    "colab": {
     "base_uri": "https://localhost:8080/"
    },
    "id": "O8V7ntr_SSR3",
    "outputId": "49b6a2dd-6caf-4d3d-87d4-1bb44925d879"
   },
   "outputs": [
    {
     "data": {
      "text/plain": [
       "<tf.Tensor: shape=(30212,), dtype=int64, numpy=array([0, 0, 0, ..., 4, 1, 1])>"
      ]
     },
     "execution_count": 103,
     "metadata": {},
     "output_type": "execute_result"
    }
   ],
   "source": [
    "# Converting Model Prediction Probabilities to Claas labels:\n",
    "model_2_preds = tf.argmax(model_2_pred_probs, axis= 1)\n",
    "model_2_preds"
   ]
  },
  {
   "cell_type": "code",
   "execution_count": 104,
   "metadata": {
    "colab": {
     "base_uri": "https://localhost:8080/"
    },
    "id": "BjmP5OfeSXJt",
    "outputId": "90823512-47ac-4436-cb6f-fdd77b3da834"
   },
   "outputs": [
    {
     "data": {
      "text/plain": [
       "{'accuracy': 80.28266913809082,\n",
       " 'precision': 0.8007182279883703,\n",
       " 'recall': 0.8028266913809082,\n",
       " 'f1': 0.801233905368123}"
      ]
     },
     "execution_count": 104,
     "metadata": {},
     "output_type": "execute_result"
    }
   ],
   "source": [
    "# Calculating Results for the Model:\n",
    "model_2_results = calculate_results(y_true= val_labels_encoded,\n",
    "                                    y_pred= model_2_preds)\n",
    "model_2_results"
   ]
  },
  {
   "cell_type": "code",
   "execution_count": null,
   "metadata": {
    "id": "ZwfE2TcXTvU1"
   },
   "outputs": [],
   "source": []
  },
  {
   "cell_type": "code",
   "execution_count": null,
   "metadata": {
    "id": "Bcr49BpTTvzQ"
   },
   "outputs": [],
   "source": []
  },
  {
   "cell_type": "markdown",
   "metadata": {
    "id": "136_3XtHTwFu"
   },
   "source": [
    "# Comparing Two Models:"
   ]
  },
  {
   "cell_type": "code",
   "execution_count": 105,
   "metadata": {
    "id": "BjhZWr0fTyc-"
   },
   "outputs": [],
   "source": [
    "# Creating DataFrame of Two Model's Results:\n",
    "results = pd.DataFrame({\"Pre-Trained Token Embeddings Model\": model_1_results,\n",
    "                        \"Custom Token Embeddings\": model_2_results})"
   ]
  },
  {
   "cell_type": "code",
   "execution_count": 107,
   "metadata": {
    "colab": {
     "base_uri": "https://localhost:8080/",
     "height": 125
    },
    "id": "i2Ftvf2tUHnU",
    "outputId": "ab93515e-1e02-4dfd-f05b-225aa999020d"
   },
   "outputs": [
    {
     "data": {
      "application/vnd.google.colaboratory.intrinsic+json": {
       "summary": "{\n  \"name\": \"results\",\n  \"rows\": 2,\n  \"fields\": [\n    {\n      \"column\": \"accuracy\",\n      \"properties\": {\n        \"dtype\": \"number\",\n        \"std\": 2.4528263825086056,\n        \"min\": 80.28266913809082,\n        \"max\": 83.75148947438103,\n        \"num_unique_values\": 2,\n        \"samples\": [\n          80.28266913809082,\n          83.75148947438103\n        ],\n        \"semantic_type\": \"\",\n        \"description\": \"\"\n      }\n    },\n    {\n      \"column\": \"precision\",\n      \"properties\": {\n        \"dtype\": \"number\",\n        \"std\": 0.02614404089441091,\n        \"min\": 0.8007182279883703,\n        \"max\": 0.8376914851964831,\n        \"num_unique_values\": 2,\n        \"samples\": [\n          0.8007182279883703,\n          0.8376914851964831\n        ],\n        \"semantic_type\": \"\",\n        \"description\": \"\"\n      }\n    },\n    {\n      \"column\": \"recall\",\n      \"properties\": {\n        \"dtype\": \"number\",\n        \"std\": 0.024528263825086095,\n        \"min\": 0.8028266913809082,\n        \"max\": 0.8375148947438104,\n        \"num_unique_values\": 2,\n        \"samples\": [\n          0.8028266913809082,\n          0.8375148947438104\n        ],\n        \"semantic_type\": \"\",\n        \"description\": \"\"\n      }\n    },\n    {\n      \"column\": \"f1\",\n      \"properties\": {\n        \"dtype\": \"number\",\n        \"std\": 0.024306164821254254,\n        \"min\": 0.801233905368123,\n        \"max\": 0.8356080133076166,\n        \"num_unique_values\": 2,\n        \"samples\": [\n          0.801233905368123,\n          0.8356080133076166\n        ],\n        \"semantic_type\": \"\",\n        \"description\": \"\"\n      }\n    }\n  ]\n}",
       "type": "dataframe",
       "variable_name": "results"
      },
      "text/html": [
       "\n",
       "  <div id=\"df-6c6f0336-7cd6-42a1-9e49-47854a1b9195\" class=\"colab-df-container\">\n",
       "    <div>\n",
       "<style scoped>\n",
       "    .dataframe tbody tr th:only-of-type {\n",
       "        vertical-align: middle;\n",
       "    }\n",
       "\n",
       "    .dataframe tbody tr th {\n",
       "        vertical-align: top;\n",
       "    }\n",
       "\n",
       "    .dataframe thead th {\n",
       "        text-align: right;\n",
       "    }\n",
       "</style>\n",
       "<table border=\"1\" class=\"dataframe\">\n",
       "  <thead>\n",
       "    <tr style=\"text-align: right;\">\n",
       "      <th></th>\n",
       "      <th>accuracy</th>\n",
       "      <th>precision</th>\n",
       "      <th>recall</th>\n",
       "      <th>f1</th>\n",
       "    </tr>\n",
       "  </thead>\n",
       "  <tbody>\n",
       "    <tr>\n",
       "      <th>Pre-Trained Token Embeddings Model</th>\n",
       "      <td>83.751489</td>\n",
       "      <td>0.837691</td>\n",
       "      <td>0.837515</td>\n",
       "      <td>0.835608</td>\n",
       "    </tr>\n",
       "    <tr>\n",
       "      <th>Custom Token Embeddings</th>\n",
       "      <td>80.282669</td>\n",
       "      <td>0.800718</td>\n",
       "      <td>0.802827</td>\n",
       "      <td>0.801234</td>\n",
       "    </tr>\n",
       "  </tbody>\n",
       "</table>\n",
       "</div>\n",
       "    <div class=\"colab-df-buttons\">\n",
       "\n",
       "  <div class=\"colab-df-container\">\n",
       "    <button class=\"colab-df-convert\" onclick=\"convertToInteractive('df-6c6f0336-7cd6-42a1-9e49-47854a1b9195')\"\n",
       "            title=\"Convert this dataframe to an interactive table.\"\n",
       "            style=\"display:none;\">\n",
       "\n",
       "  <svg xmlns=\"http://www.w3.org/2000/svg\" height=\"24px\" viewBox=\"0 -960 960 960\">\n",
       "    <path d=\"M120-120v-720h720v720H120Zm60-500h600v-160H180v160Zm220 220h160v-160H400v160Zm0 220h160v-160H400v160ZM180-400h160v-160H180v160Zm440 0h160v-160H620v160ZM180-180h160v-160H180v160Zm440 0h160v-160H620v160Z\"/>\n",
       "  </svg>\n",
       "    </button>\n",
       "\n",
       "  <style>\n",
       "    .colab-df-container {\n",
       "      display:flex;\n",
       "      gap: 12px;\n",
       "    }\n",
       "\n",
       "    .colab-df-convert {\n",
       "      background-color: #E8F0FE;\n",
       "      border: none;\n",
       "      border-radius: 50%;\n",
       "      cursor: pointer;\n",
       "      display: none;\n",
       "      fill: #1967D2;\n",
       "      height: 32px;\n",
       "      padding: 0 0 0 0;\n",
       "      width: 32px;\n",
       "    }\n",
       "\n",
       "    .colab-df-convert:hover {\n",
       "      background-color: #E2EBFA;\n",
       "      box-shadow: 0px 1px 2px rgba(60, 64, 67, 0.3), 0px 1px 3px 1px rgba(60, 64, 67, 0.15);\n",
       "      fill: #174EA6;\n",
       "    }\n",
       "\n",
       "    .colab-df-buttons div {\n",
       "      margin-bottom: 4px;\n",
       "    }\n",
       "\n",
       "    [theme=dark] .colab-df-convert {\n",
       "      background-color: #3B4455;\n",
       "      fill: #D2E3FC;\n",
       "    }\n",
       "\n",
       "    [theme=dark] .colab-df-convert:hover {\n",
       "      background-color: #434B5C;\n",
       "      box-shadow: 0px 1px 3px 1px rgba(0, 0, 0, 0.15);\n",
       "      filter: drop-shadow(0px 1px 2px rgba(0, 0, 0, 0.3));\n",
       "      fill: #FFFFFF;\n",
       "    }\n",
       "  </style>\n",
       "\n",
       "    <script>\n",
       "      const buttonEl =\n",
       "        document.querySelector('#df-6c6f0336-7cd6-42a1-9e49-47854a1b9195 button.colab-df-convert');\n",
       "      buttonEl.style.display =\n",
       "        google.colab.kernel.accessAllowed ? 'block' : 'none';\n",
       "\n",
       "      async function convertToInteractive(key) {\n",
       "        const element = document.querySelector('#df-6c6f0336-7cd6-42a1-9e49-47854a1b9195');\n",
       "        const dataTable =\n",
       "          await google.colab.kernel.invokeFunction('convertToInteractive',\n",
       "                                                    [key], {});\n",
       "        if (!dataTable) return;\n",
       "\n",
       "        const docLinkHtml = 'Like what you see? Visit the ' +\n",
       "          '<a target=\"_blank\" href=https://colab.research.google.com/notebooks/data_table.ipynb>data table notebook</a>'\n",
       "          + ' to learn more about interactive tables.';\n",
       "        element.innerHTML = '';\n",
       "        dataTable['output_type'] = 'display_data';\n",
       "        await google.colab.output.renderOutput(dataTable, element);\n",
       "        const docLink = document.createElement('div');\n",
       "        docLink.innerHTML = docLinkHtml;\n",
       "        element.appendChild(docLink);\n",
       "      }\n",
       "    </script>\n",
       "  </div>\n",
       "\n",
       "\n",
       "<div id=\"df-4ceade95-8753-4e09-8049-bab92d0e1603\">\n",
       "  <button class=\"colab-df-quickchart\" onclick=\"quickchart('df-4ceade95-8753-4e09-8049-bab92d0e1603')\"\n",
       "            title=\"Suggest charts\"\n",
       "            style=\"display:none;\">\n",
       "\n",
       "<svg xmlns=\"http://www.w3.org/2000/svg\" height=\"24px\"viewBox=\"0 0 24 24\"\n",
       "     width=\"24px\">\n",
       "    <g>\n",
       "        <path d=\"M19 3H5c-1.1 0-2 .9-2 2v14c0 1.1.9 2 2 2h14c1.1 0 2-.9 2-2V5c0-1.1-.9-2-2-2zM9 17H7v-7h2v7zm4 0h-2V7h2v10zm4 0h-2v-4h2v4z\"/>\n",
       "    </g>\n",
       "</svg>\n",
       "  </button>\n",
       "\n",
       "<style>\n",
       "  .colab-df-quickchart {\n",
       "      --bg-color: #E8F0FE;\n",
       "      --fill-color: #1967D2;\n",
       "      --hover-bg-color: #E2EBFA;\n",
       "      --hover-fill-color: #174EA6;\n",
       "      --disabled-fill-color: #AAA;\n",
       "      --disabled-bg-color: #DDD;\n",
       "  }\n",
       "\n",
       "  [theme=dark] .colab-df-quickchart {\n",
       "      --bg-color: #3B4455;\n",
       "      --fill-color: #D2E3FC;\n",
       "      --hover-bg-color: #434B5C;\n",
       "      --hover-fill-color: #FFFFFF;\n",
       "      --disabled-bg-color: #3B4455;\n",
       "      --disabled-fill-color: #666;\n",
       "  }\n",
       "\n",
       "  .colab-df-quickchart {\n",
       "    background-color: var(--bg-color);\n",
       "    border: none;\n",
       "    border-radius: 50%;\n",
       "    cursor: pointer;\n",
       "    display: none;\n",
       "    fill: var(--fill-color);\n",
       "    height: 32px;\n",
       "    padding: 0;\n",
       "    width: 32px;\n",
       "  }\n",
       "\n",
       "  .colab-df-quickchart:hover {\n",
       "    background-color: var(--hover-bg-color);\n",
       "    box-shadow: 0 1px 2px rgba(60, 64, 67, 0.3), 0 1px 3px 1px rgba(60, 64, 67, 0.15);\n",
       "    fill: var(--button-hover-fill-color);\n",
       "  }\n",
       "\n",
       "  .colab-df-quickchart-complete:disabled,\n",
       "  .colab-df-quickchart-complete:disabled:hover {\n",
       "    background-color: var(--disabled-bg-color);\n",
       "    fill: var(--disabled-fill-color);\n",
       "    box-shadow: none;\n",
       "  }\n",
       "\n",
       "  .colab-df-spinner {\n",
       "    border: 2px solid var(--fill-color);\n",
       "    border-color: transparent;\n",
       "    border-bottom-color: var(--fill-color);\n",
       "    animation:\n",
       "      spin 1s steps(1) infinite;\n",
       "  }\n",
       "\n",
       "  @keyframes spin {\n",
       "    0% {\n",
       "      border-color: transparent;\n",
       "      border-bottom-color: var(--fill-color);\n",
       "      border-left-color: var(--fill-color);\n",
       "    }\n",
       "    20% {\n",
       "      border-color: transparent;\n",
       "      border-left-color: var(--fill-color);\n",
       "      border-top-color: var(--fill-color);\n",
       "    }\n",
       "    30% {\n",
       "      border-color: transparent;\n",
       "      border-left-color: var(--fill-color);\n",
       "      border-top-color: var(--fill-color);\n",
       "      border-right-color: var(--fill-color);\n",
       "    }\n",
       "    40% {\n",
       "      border-color: transparent;\n",
       "      border-right-color: var(--fill-color);\n",
       "      border-top-color: var(--fill-color);\n",
       "    }\n",
       "    60% {\n",
       "      border-color: transparent;\n",
       "      border-right-color: var(--fill-color);\n",
       "    }\n",
       "    80% {\n",
       "      border-color: transparent;\n",
       "      border-right-color: var(--fill-color);\n",
       "      border-bottom-color: var(--fill-color);\n",
       "    }\n",
       "    90% {\n",
       "      border-color: transparent;\n",
       "      border-bottom-color: var(--fill-color);\n",
       "    }\n",
       "  }\n",
       "</style>\n",
       "\n",
       "  <script>\n",
       "    async function quickchart(key) {\n",
       "      const quickchartButtonEl =\n",
       "        document.querySelector('#' + key + ' button');\n",
       "      quickchartButtonEl.disabled = true;  // To prevent multiple clicks.\n",
       "      quickchartButtonEl.classList.add('colab-df-spinner');\n",
       "      try {\n",
       "        const charts = await google.colab.kernel.invokeFunction(\n",
       "            'suggestCharts', [key], {});\n",
       "      } catch (error) {\n",
       "        console.error('Error during call to suggestCharts:', error);\n",
       "      }\n",
       "      quickchartButtonEl.classList.remove('colab-df-spinner');\n",
       "      quickchartButtonEl.classList.add('colab-df-quickchart-complete');\n",
       "    }\n",
       "    (() => {\n",
       "      let quickchartButtonEl =\n",
       "        document.querySelector('#df-4ceade95-8753-4e09-8049-bab92d0e1603 button');\n",
       "      quickchartButtonEl.style.display =\n",
       "        google.colab.kernel.accessAllowed ? 'block' : 'none';\n",
       "    })();\n",
       "  </script>\n",
       "</div>\n",
       "\n",
       "  <div id=\"id_a67bcd21-eb98-40b1-bf57-47515d0033dc\">\n",
       "    <style>\n",
       "      .colab-df-generate {\n",
       "        background-color: #E8F0FE;\n",
       "        border: none;\n",
       "        border-radius: 50%;\n",
       "        cursor: pointer;\n",
       "        display: none;\n",
       "        fill: #1967D2;\n",
       "        height: 32px;\n",
       "        padding: 0 0 0 0;\n",
       "        width: 32px;\n",
       "      }\n",
       "\n",
       "      .colab-df-generate:hover {\n",
       "        background-color: #E2EBFA;\n",
       "        box-shadow: 0px 1px 2px rgba(60, 64, 67, 0.3), 0px 1px 3px 1px rgba(60, 64, 67, 0.15);\n",
       "        fill: #174EA6;\n",
       "      }\n",
       "\n",
       "      [theme=dark] .colab-df-generate {\n",
       "        background-color: #3B4455;\n",
       "        fill: #D2E3FC;\n",
       "      }\n",
       "\n",
       "      [theme=dark] .colab-df-generate:hover {\n",
       "        background-color: #434B5C;\n",
       "        box-shadow: 0px 1px 3px 1px rgba(0, 0, 0, 0.15);\n",
       "        filter: drop-shadow(0px 1px 2px rgba(0, 0, 0, 0.3));\n",
       "        fill: #FFFFFF;\n",
       "      }\n",
       "    </style>\n",
       "    <button class=\"colab-df-generate\" onclick=\"generateWithVariable('results')\"\n",
       "            title=\"Generate code using this dataframe.\"\n",
       "            style=\"display:none;\">\n",
       "\n",
       "  <svg xmlns=\"http://www.w3.org/2000/svg\" height=\"24px\"viewBox=\"0 0 24 24\"\n",
       "       width=\"24px\">\n",
       "    <path d=\"M7,19H8.4L18.45,9,17,7.55,7,17.6ZM5,21V16.75L18.45,3.32a2,2,0,0,1,2.83,0l1.4,1.43a1.91,1.91,0,0,1,.58,1.4,1.91,1.91,0,0,1-.58,1.4L9.25,21ZM18.45,9,17,7.55Zm-12,3A5.31,5.31,0,0,0,4.9,8.1,5.31,5.31,0,0,0,1,6.5,5.31,5.31,0,0,0,4.9,4.9,5.31,5.31,0,0,0,6.5,1,5.31,5.31,0,0,0,8.1,4.9,5.31,5.31,0,0,0,12,6.5,5.46,5.46,0,0,0,6.5,12Z\"/>\n",
       "  </svg>\n",
       "    </button>\n",
       "    <script>\n",
       "      (() => {\n",
       "      const buttonEl =\n",
       "        document.querySelector('#id_a67bcd21-eb98-40b1-bf57-47515d0033dc button.colab-df-generate');\n",
       "      buttonEl.style.display =\n",
       "        google.colab.kernel.accessAllowed ? 'block' : 'none';\n",
       "\n",
       "      buttonEl.onclick = () => {\n",
       "        google.colab.notebook.generateWithVariable('results');\n",
       "      }\n",
       "      })();\n",
       "    </script>\n",
       "  </div>\n",
       "\n",
       "    </div>\n",
       "  </div>\n"
      ],
      "text/plain": [
       "                                     accuracy  precision    recall        f1\n",
       "Pre-Trained Token Embeddings Model  83.751489   0.837691  0.837515  0.835608\n",
       "Custom Token Embeddings             80.282669   0.800718  0.802827  0.801234"
      ]
     },
     "execution_count": 107,
     "metadata": {},
     "output_type": "execute_result"
    }
   ],
   "source": [
    "results = results.T\n",
    "results"
   ]
  },
  {
   "cell_type": "code",
   "execution_count": 109,
   "metadata": {
    "colab": {
     "base_uri": "https://localhost:8080/",
     "height": 125
    },
    "id": "pRxR0opJUMDt",
    "outputId": "f5f860ba-8bc9-4606-974c-ec5287ee2813"
   },
   "outputs": [
    {
     "data": {
      "application/vnd.google.colaboratory.intrinsic+json": {
       "summary": "{\n  \"name\": \"results\",\n  \"rows\": 2,\n  \"fields\": [\n    {\n      \"column\": \"accuracy\",\n      \"properties\": {\n        \"dtype\": \"number\",\n        \"std\": 0.024528263825086095,\n        \"min\": 0.8028266913809082,\n        \"max\": 0.8375148947438104,\n        \"num_unique_values\": 2,\n        \"samples\": [\n          0.8028266913809082,\n          0.8375148947438104\n        ],\n        \"semantic_type\": \"\",\n        \"description\": \"\"\n      }\n    },\n    {\n      \"column\": \"precision\",\n      \"properties\": {\n        \"dtype\": \"number\",\n        \"std\": 0.02614404089441091,\n        \"min\": 0.8007182279883703,\n        \"max\": 0.8376914851964831,\n        \"num_unique_values\": 2,\n        \"samples\": [\n          0.8007182279883703,\n          0.8376914851964831\n        ],\n        \"semantic_type\": \"\",\n        \"description\": \"\"\n      }\n    },\n    {\n      \"column\": \"recall\",\n      \"properties\": {\n        \"dtype\": \"number\",\n        \"std\": 0.024528263825086095,\n        \"min\": 0.8028266913809082,\n        \"max\": 0.8375148947438104,\n        \"num_unique_values\": 2,\n        \"samples\": [\n          0.8028266913809082,\n          0.8375148947438104\n        ],\n        \"semantic_type\": \"\",\n        \"description\": \"\"\n      }\n    },\n    {\n      \"column\": \"f1\",\n      \"properties\": {\n        \"dtype\": \"number\",\n        \"std\": 0.024306164821254254,\n        \"min\": 0.801233905368123,\n        \"max\": 0.8356080133076166,\n        \"num_unique_values\": 2,\n        \"samples\": [\n          0.801233905368123,\n          0.8356080133076166\n        ],\n        \"semantic_type\": \"\",\n        \"description\": \"\"\n      }\n    }\n  ]\n}",
       "type": "dataframe",
       "variable_name": "results"
      },
      "text/html": [
       "\n",
       "  <div id=\"df-a99de53e-3aed-4fc4-be7a-03d0e464dbae\" class=\"colab-df-container\">\n",
       "    <div>\n",
       "<style scoped>\n",
       "    .dataframe tbody tr th:only-of-type {\n",
       "        vertical-align: middle;\n",
       "    }\n",
       "\n",
       "    .dataframe tbody tr th {\n",
       "        vertical-align: top;\n",
       "    }\n",
       "\n",
       "    .dataframe thead th {\n",
       "        text-align: right;\n",
       "    }\n",
       "</style>\n",
       "<table border=\"1\" class=\"dataframe\">\n",
       "  <thead>\n",
       "    <tr style=\"text-align: right;\">\n",
       "      <th></th>\n",
       "      <th>accuracy</th>\n",
       "      <th>precision</th>\n",
       "      <th>recall</th>\n",
       "      <th>f1</th>\n",
       "    </tr>\n",
       "  </thead>\n",
       "  <tbody>\n",
       "    <tr>\n",
       "      <th>Pre-Trained Token Embeddings Model</th>\n",
       "      <td>0.837515</td>\n",
       "      <td>0.837691</td>\n",
       "      <td>0.837515</td>\n",
       "      <td>0.835608</td>\n",
       "    </tr>\n",
       "    <tr>\n",
       "      <th>Custom Token Embeddings</th>\n",
       "      <td>0.802827</td>\n",
       "      <td>0.800718</td>\n",
       "      <td>0.802827</td>\n",
       "      <td>0.801234</td>\n",
       "    </tr>\n",
       "  </tbody>\n",
       "</table>\n",
       "</div>\n",
       "    <div class=\"colab-df-buttons\">\n",
       "\n",
       "  <div class=\"colab-df-container\">\n",
       "    <button class=\"colab-df-convert\" onclick=\"convertToInteractive('df-a99de53e-3aed-4fc4-be7a-03d0e464dbae')\"\n",
       "            title=\"Convert this dataframe to an interactive table.\"\n",
       "            style=\"display:none;\">\n",
       "\n",
       "  <svg xmlns=\"http://www.w3.org/2000/svg\" height=\"24px\" viewBox=\"0 -960 960 960\">\n",
       "    <path d=\"M120-120v-720h720v720H120Zm60-500h600v-160H180v160Zm220 220h160v-160H400v160Zm0 220h160v-160H400v160ZM180-400h160v-160H180v160Zm440 0h160v-160H620v160ZM180-180h160v-160H180v160Zm440 0h160v-160H620v160Z\"/>\n",
       "  </svg>\n",
       "    </button>\n",
       "\n",
       "  <style>\n",
       "    .colab-df-container {\n",
       "      display:flex;\n",
       "      gap: 12px;\n",
       "    }\n",
       "\n",
       "    .colab-df-convert {\n",
       "      background-color: #E8F0FE;\n",
       "      border: none;\n",
       "      border-radius: 50%;\n",
       "      cursor: pointer;\n",
       "      display: none;\n",
       "      fill: #1967D2;\n",
       "      height: 32px;\n",
       "      padding: 0 0 0 0;\n",
       "      width: 32px;\n",
       "    }\n",
       "\n",
       "    .colab-df-convert:hover {\n",
       "      background-color: #E2EBFA;\n",
       "      box-shadow: 0px 1px 2px rgba(60, 64, 67, 0.3), 0px 1px 3px 1px rgba(60, 64, 67, 0.15);\n",
       "      fill: #174EA6;\n",
       "    }\n",
       "\n",
       "    .colab-df-buttons div {\n",
       "      margin-bottom: 4px;\n",
       "    }\n",
       "\n",
       "    [theme=dark] .colab-df-convert {\n",
       "      background-color: #3B4455;\n",
       "      fill: #D2E3FC;\n",
       "    }\n",
       "\n",
       "    [theme=dark] .colab-df-convert:hover {\n",
       "      background-color: #434B5C;\n",
       "      box-shadow: 0px 1px 3px 1px rgba(0, 0, 0, 0.15);\n",
       "      filter: drop-shadow(0px 1px 2px rgba(0, 0, 0, 0.3));\n",
       "      fill: #FFFFFF;\n",
       "    }\n",
       "  </style>\n",
       "\n",
       "    <script>\n",
       "      const buttonEl =\n",
       "        document.querySelector('#df-a99de53e-3aed-4fc4-be7a-03d0e464dbae button.colab-df-convert');\n",
       "      buttonEl.style.display =\n",
       "        google.colab.kernel.accessAllowed ? 'block' : 'none';\n",
       "\n",
       "      async function convertToInteractive(key) {\n",
       "        const element = document.querySelector('#df-a99de53e-3aed-4fc4-be7a-03d0e464dbae');\n",
       "        const dataTable =\n",
       "          await google.colab.kernel.invokeFunction('convertToInteractive',\n",
       "                                                    [key], {});\n",
       "        if (!dataTable) return;\n",
       "\n",
       "        const docLinkHtml = 'Like what you see? Visit the ' +\n",
       "          '<a target=\"_blank\" href=https://colab.research.google.com/notebooks/data_table.ipynb>data table notebook</a>'\n",
       "          + ' to learn more about interactive tables.';\n",
       "        element.innerHTML = '';\n",
       "        dataTable['output_type'] = 'display_data';\n",
       "        await google.colab.output.renderOutput(dataTable, element);\n",
       "        const docLink = document.createElement('div');\n",
       "        docLink.innerHTML = docLinkHtml;\n",
       "        element.appendChild(docLink);\n",
       "      }\n",
       "    </script>\n",
       "  </div>\n",
       "\n",
       "\n",
       "<div id=\"df-5fc09a87-75b5-45d0-9777-63f74e01a2c5\">\n",
       "  <button class=\"colab-df-quickchart\" onclick=\"quickchart('df-5fc09a87-75b5-45d0-9777-63f74e01a2c5')\"\n",
       "            title=\"Suggest charts\"\n",
       "            style=\"display:none;\">\n",
       "\n",
       "<svg xmlns=\"http://www.w3.org/2000/svg\" height=\"24px\"viewBox=\"0 0 24 24\"\n",
       "     width=\"24px\">\n",
       "    <g>\n",
       "        <path d=\"M19 3H5c-1.1 0-2 .9-2 2v14c0 1.1.9 2 2 2h14c1.1 0 2-.9 2-2V5c0-1.1-.9-2-2-2zM9 17H7v-7h2v7zm4 0h-2V7h2v10zm4 0h-2v-4h2v4z\"/>\n",
       "    </g>\n",
       "</svg>\n",
       "  </button>\n",
       "\n",
       "<style>\n",
       "  .colab-df-quickchart {\n",
       "      --bg-color: #E8F0FE;\n",
       "      --fill-color: #1967D2;\n",
       "      --hover-bg-color: #E2EBFA;\n",
       "      --hover-fill-color: #174EA6;\n",
       "      --disabled-fill-color: #AAA;\n",
       "      --disabled-bg-color: #DDD;\n",
       "  }\n",
       "\n",
       "  [theme=dark] .colab-df-quickchart {\n",
       "      --bg-color: #3B4455;\n",
       "      --fill-color: #D2E3FC;\n",
       "      --hover-bg-color: #434B5C;\n",
       "      --hover-fill-color: #FFFFFF;\n",
       "      --disabled-bg-color: #3B4455;\n",
       "      --disabled-fill-color: #666;\n",
       "  }\n",
       "\n",
       "  .colab-df-quickchart {\n",
       "    background-color: var(--bg-color);\n",
       "    border: none;\n",
       "    border-radius: 50%;\n",
       "    cursor: pointer;\n",
       "    display: none;\n",
       "    fill: var(--fill-color);\n",
       "    height: 32px;\n",
       "    padding: 0;\n",
       "    width: 32px;\n",
       "  }\n",
       "\n",
       "  .colab-df-quickchart:hover {\n",
       "    background-color: var(--hover-bg-color);\n",
       "    box-shadow: 0 1px 2px rgba(60, 64, 67, 0.3), 0 1px 3px 1px rgba(60, 64, 67, 0.15);\n",
       "    fill: var(--button-hover-fill-color);\n",
       "  }\n",
       "\n",
       "  .colab-df-quickchart-complete:disabled,\n",
       "  .colab-df-quickchart-complete:disabled:hover {\n",
       "    background-color: var(--disabled-bg-color);\n",
       "    fill: var(--disabled-fill-color);\n",
       "    box-shadow: none;\n",
       "  }\n",
       "\n",
       "  .colab-df-spinner {\n",
       "    border: 2px solid var(--fill-color);\n",
       "    border-color: transparent;\n",
       "    border-bottom-color: var(--fill-color);\n",
       "    animation:\n",
       "      spin 1s steps(1) infinite;\n",
       "  }\n",
       "\n",
       "  @keyframes spin {\n",
       "    0% {\n",
       "      border-color: transparent;\n",
       "      border-bottom-color: var(--fill-color);\n",
       "      border-left-color: var(--fill-color);\n",
       "    }\n",
       "    20% {\n",
       "      border-color: transparent;\n",
       "      border-left-color: var(--fill-color);\n",
       "      border-top-color: var(--fill-color);\n",
       "    }\n",
       "    30% {\n",
       "      border-color: transparent;\n",
       "      border-left-color: var(--fill-color);\n",
       "      border-top-color: var(--fill-color);\n",
       "      border-right-color: var(--fill-color);\n",
       "    }\n",
       "    40% {\n",
       "      border-color: transparent;\n",
       "      border-right-color: var(--fill-color);\n",
       "      border-top-color: var(--fill-color);\n",
       "    }\n",
       "    60% {\n",
       "      border-color: transparent;\n",
       "      border-right-color: var(--fill-color);\n",
       "    }\n",
       "    80% {\n",
       "      border-color: transparent;\n",
       "      border-right-color: var(--fill-color);\n",
       "      border-bottom-color: var(--fill-color);\n",
       "    }\n",
       "    90% {\n",
       "      border-color: transparent;\n",
       "      border-bottom-color: var(--fill-color);\n",
       "    }\n",
       "  }\n",
       "</style>\n",
       "\n",
       "  <script>\n",
       "    async function quickchart(key) {\n",
       "      const quickchartButtonEl =\n",
       "        document.querySelector('#' + key + ' button');\n",
       "      quickchartButtonEl.disabled = true;  // To prevent multiple clicks.\n",
       "      quickchartButtonEl.classList.add('colab-df-spinner');\n",
       "      try {\n",
       "        const charts = await google.colab.kernel.invokeFunction(\n",
       "            'suggestCharts', [key], {});\n",
       "      } catch (error) {\n",
       "        console.error('Error during call to suggestCharts:', error);\n",
       "      }\n",
       "      quickchartButtonEl.classList.remove('colab-df-spinner');\n",
       "      quickchartButtonEl.classList.add('colab-df-quickchart-complete');\n",
       "    }\n",
       "    (() => {\n",
       "      let quickchartButtonEl =\n",
       "        document.querySelector('#df-5fc09a87-75b5-45d0-9777-63f74e01a2c5 button');\n",
       "      quickchartButtonEl.style.display =\n",
       "        google.colab.kernel.accessAllowed ? 'block' : 'none';\n",
       "    })();\n",
       "  </script>\n",
       "</div>\n",
       "\n",
       "  <div id=\"id_89d85e2a-2b42-49bc-859b-0de8c78bb531\">\n",
       "    <style>\n",
       "      .colab-df-generate {\n",
       "        background-color: #E8F0FE;\n",
       "        border: none;\n",
       "        border-radius: 50%;\n",
       "        cursor: pointer;\n",
       "        display: none;\n",
       "        fill: #1967D2;\n",
       "        height: 32px;\n",
       "        padding: 0 0 0 0;\n",
       "        width: 32px;\n",
       "      }\n",
       "\n",
       "      .colab-df-generate:hover {\n",
       "        background-color: #E2EBFA;\n",
       "        box-shadow: 0px 1px 2px rgba(60, 64, 67, 0.3), 0px 1px 3px 1px rgba(60, 64, 67, 0.15);\n",
       "        fill: #174EA6;\n",
       "      }\n",
       "\n",
       "      [theme=dark] .colab-df-generate {\n",
       "        background-color: #3B4455;\n",
       "        fill: #D2E3FC;\n",
       "      }\n",
       "\n",
       "      [theme=dark] .colab-df-generate:hover {\n",
       "        background-color: #434B5C;\n",
       "        box-shadow: 0px 1px 3px 1px rgba(0, 0, 0, 0.15);\n",
       "        filter: drop-shadow(0px 1px 2px rgba(0, 0, 0, 0.3));\n",
       "        fill: #FFFFFF;\n",
       "      }\n",
       "    </style>\n",
       "    <button class=\"colab-df-generate\" onclick=\"generateWithVariable('results')\"\n",
       "            title=\"Generate code using this dataframe.\"\n",
       "            style=\"display:none;\">\n",
       "\n",
       "  <svg xmlns=\"http://www.w3.org/2000/svg\" height=\"24px\"viewBox=\"0 0 24 24\"\n",
       "       width=\"24px\">\n",
       "    <path d=\"M7,19H8.4L18.45,9,17,7.55,7,17.6ZM5,21V16.75L18.45,3.32a2,2,0,0,1,2.83,0l1.4,1.43a1.91,1.91,0,0,1,.58,1.4,1.91,1.91,0,0,1-.58,1.4L9.25,21ZM18.45,9,17,7.55Zm-12,3A5.31,5.31,0,0,0,4.9,8.1,5.31,5.31,0,0,0,1,6.5,5.31,5.31,0,0,0,4.9,4.9,5.31,5.31,0,0,0,6.5,1,5.31,5.31,0,0,0,8.1,4.9,5.31,5.31,0,0,0,12,6.5,5.46,5.46,0,0,0,6.5,12Z\"/>\n",
       "  </svg>\n",
       "    </button>\n",
       "    <script>\n",
       "      (() => {\n",
       "      const buttonEl =\n",
       "        document.querySelector('#id_89d85e2a-2b42-49bc-859b-0de8c78bb531 button.colab-df-generate');\n",
       "      buttonEl.style.display =\n",
       "        google.colab.kernel.accessAllowed ? 'block' : 'none';\n",
       "\n",
       "      buttonEl.onclick = () => {\n",
       "        google.colab.notebook.generateWithVariable('results');\n",
       "      }\n",
       "      })();\n",
       "    </script>\n",
       "  </div>\n",
       "\n",
       "    </div>\n",
       "  </div>\n"
      ],
      "text/plain": [
       "                                    accuracy  precision    recall        f1\n",
       "Pre-Trained Token Embeddings Model  0.837515   0.837691  0.837515  0.835608\n",
       "Custom Token Embeddings             0.802827   0.800718  0.802827  0.801234"
      ]
     },
     "execution_count": 109,
     "metadata": {},
     "output_type": "execute_result"
    }
   ],
   "source": [
    "# Changing Accuracy to Same Scale as Other Metrics:\n",
    "results[\"accuracy\"] = results[\"accuracy\"] / 100\n",
    "results"
   ]
  },
  {
   "cell_type": "code",
   "execution_count": 111,
   "metadata": {
    "colab": {
     "base_uri": "https://localhost:8080/",
     "height": 765
    },
    "id": "aFLlgGZxUZlC",
    "outputId": "f9a5e540-16f7-4992-bf3b-37c7c28b3457"
   },
   "outputs": [
    {
     "data": {
      "image/png": "[encoded data removed]",
      "text/plain": [
       "<Figure size 800x600 with 1 Axes>"
      ]
     },
     "metadata": {},
     "output_type": "display_data"
    }
   ],
   "source": [
    "# Plotting and Comparing Metrics of Both Models:\n",
    "results.plot(kind= \"bar\", figsize= (8,6));"
   ]
  }
 ],
 "metadata": {
  "accelerator": "GPU",
  "colab": {
   "gpuType": "T4",
   "provenance": []
  },
  "kernelspec": {
   "display_name": "Python 3 (ipykernel)",
   "language": "python",
   "name": "python3"
  },
  "language_info": {
   "codemirror_mode": {
    "name": "ipython",
    "version": 3
   },
   "file_extension": ".py",
   "mimetype": "text/x-python",
   "name": "python",
   "nbconvert_exporter": "python",
   "pygments_lexer": "ipython3",
   "version": "3.11.4"
  }
 },
 "nbformat": 4,
 "nbformat_minor": 1
}
